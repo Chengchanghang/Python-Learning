{
 "cells": [
  {
   "cell_type": "code",
   "execution_count": null,
   "metadata": {
    "collapsed": true,
    "deletable": true,
    "editable": true
   },
   "outputs": [],
   "source": [
    "'''\n",
    "圆周率π：\n",
    "\n",
    "1、圆周率是一个无理数，没有任何一个精确地公式能够计算π值，其计算只能使用近似计算法。\n",
    "\n",
    "   国际公认计算圆周率的方法是：蒙特卡洛方法\n",
    "\n",
    "   蒙特卡洛方法（Monte Carlo）,又称随机抽样或统计试验方法。\n",
    "       当所求解的问题是某种事件出现的概率，或某随机变量的期望值时，可以通过某种‘试验’的方法求解\n",
    "\n",
    "2、蒙特卡罗计算圆周率的步骤：\n",
    "\n",
    " 1)、构造一个单位正方形，并在正方形中作四分之一圆\n",
    " 2)、在正方形中随机形成大量的点，其每个点可能在圆内也可能在圆外。\n",
    " 3)、当随机生成的点数量足够多时，所有点近似为正方形面积，圆内的所有点可近似圆的面积，\n",
    " 4)、利用圆内点数/正方形内点数即得面积比，π/4。（圆内点数量越多，则π越精确）\n",
    "'''"
   ]
  },
  {
   "cell_type": "code",
   "execution_count": null,
   "metadata": {
    "collapsed": true,
    "deletable": true,
    "editable": true
   },
   "outputs": [],
   "source": [
    "'''\n",
    "圆周率程序实现步骤：\n",
    "\n",
    "1、输入：生成点数量\n",
    "\n",
    "2、处理：对于每个生成的点，计算点到圆心的距离以判断该点在圆内还是圆外，从而统计圆内点数\n",
    "\n",
    "3、输出：π值\n",
    "'''"
   ]
  },
  {
   "cell_type": "code",
   "execution_count": 4,
   "metadata": {
    "collapsed": false,
    "deletable": true,
    "editable": true
   },
   "outputs": [
    {
     "name": "stdout",
     "output_type": "stream",
     "text": [
      "π的值是3.1419029235839844。\n",
      "程序运行时间是39.44s\n"
     ]
    }
   ],
   "source": [
    "from math import sqrt \n",
    "from random import random\n",
    "from time import clock # 使用time库计算程序运行时间\n",
    "\n",
    "darts = 2**20\n",
    "hits = 0\n",
    "clock() \n",
    "for i in range(1, darts):\n",
    "    x, y = random(), random()\n",
    "    dist = sqrt(x  **2 + y**2)  # 圆心为(0，0)，计算点到圆心的距离\n",
    "    if dist <= 1.0:\n",
    "        hits = hits + 1  # 计算落在四分之一圆内的点数\n",
    "pi = 4 * (hits/darts)\n",
    "print('π的值是%s。' % pi)\n",
    "print('程序运行时间是%-5.5ss' % clock())"
   ]
  }
 ],
 "metadata": {
  "kernelspec": {
   "display_name": "Python 3",
   "language": "python",
   "name": "python3"
  },
  "language_info": {
   "codemirror_mode": {
    "name": "ipython",
    "version": 3
   },
   "file_extension": ".py",
   "mimetype": "text/x-python",
   "name": "python",
   "nbconvert_exporter": "python",
   "pygments_lexer": "ipython3",
   "version": "3.6.0"
  }
 },
 "nbformat": 4,
 "nbformat_minor": 2
}
