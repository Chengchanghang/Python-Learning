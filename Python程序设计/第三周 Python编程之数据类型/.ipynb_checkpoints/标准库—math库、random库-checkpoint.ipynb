{
 "cells": [
  {
   "cell_type": "code",
   "execution_count": null,
   "metadata": {
    "collapsed": true
   },
   "outputs": [],
   "source": [
    "'''\n",
    "标准库—math库\n",
    "\n",
    "1、常见函数\n",
    "\n",
    " 函数              含义\n",
    " 圆周率pi          圆周率的近似值，15位小数\n",
    " 自然常数e         e的近似值，15位小数\n",
    " ceil(x)           对浮点数向上取整\n",
    " floor(x)          对浮点数向下取整\n",
    " pow(x,y)          计算x的y次幂\n",
    " log(x)            以e为底的对数，即自然对数\n",
    " log10(x)          以10为底的对数\n",
    " sqrt(x)           平方根\n",
    " exp(x)            e的x次幂\n",
    " degrees(x)        将弧度值转换为角度\n",
    " radians(x)        将角度值转换为弧度\n",
    " sin(x)            正弦函数\n",
    " cos(x)            余弦函数\n",
    " tan(x)            正切函数\n",
    " asin(x)           反正弦函数 \n",
    " acos(x)           反余弦函数\n",
    " atan(x)           反正切函数\n",
    "'''"
   ]
  },
  {
   "cell_type": "code",
   "execution_count": 3,
   "metadata": {
    "collapsed": false
   },
   "outputs": [
    {
     "data": {
      "text/plain": [
       "54"
      ]
     },
     "execution_count": 3,
     "metadata": {},
     "output_type": "execute_result"
    }
   ],
   "source": [
    "import math\n",
    "len(dir(math))\n",
    "# math库中共包含54个基本函数"
   ]
  },
  {
   "cell_type": "code",
   "execution_count": 23,
   "metadata": {
    "collapsed": false
   },
   "outputs": [
    {
     "data": {
      "text/plain": [
       "0.3046926540153975"
      ]
     },
     "execution_count": 23,
     "metadata": {},
     "output_type": "execute_result"
    }
   ],
   "source": [
    "import math\n",
    "math.pi\n",
    "math.e\n",
    "math.ceil(2.1)\n",
    "math.floor(3.6)\n",
    "math.pow(2, 3)\n",
    "math.log(4)\n",
    "math.log10(10**2)\n",
    "math.sqrt(100)\n",
    "math.degrees(0.52)\n",
    "math.radians(30)\n",
    "math.asin(0.3)"
   ]
  },
  {
   "cell_type": "code",
   "execution_count": null,
   "metadata": {
    "collapsed": true
   },
   "outputs": [],
   "source": [
    "'''\n",
    "标准库—random库\n",
    "\n",
    "1、常见函数\n",
    "\n",
    " 函数                       含义\n",
    " seed(x)                    给随机数一个种子，默认随机种子是系统时钟（随机种子设定后当再次调用函数生成随机数时保证其结果不会发生变化）\n",
    " random(x)                  生成一个[0， 1.0]之间的小数\n",
    " uniform(a,b)               生成一个a到b之间的随机小数\n",
    " randint(a,b)               生成一个a到b之间的随机整数\n",
    " randrange(a,b,c)           随机生成一个从a到b以c递增的数\n",
    " choice(list)               从列表中随机返回一个元素\n",
    " shuffle(list)              将列表中元素随机打乱\n",
    " sample(list,k)             从指定列表中随机获取k个元素\n",
    "'''\n"
   ]
  },
  {
   "cell_type": "code",
   "execution_count": 26,
   "metadata": {
    "collapsed": false
   },
   "outputs": [
    {
     "data": {
      "text/plain": [
       "61"
      ]
     },
     "execution_count": 26,
     "metadata": {},
     "output_type": "execute_result"
    }
   ],
   "source": [
    "import random\n",
    "len(dir(random))\n",
    "# random库中包含61个基本函数"
   ]
  }
 ],
 "metadata": {
  "kernelspec": {
   "display_name": "Python 3",
   "language": "python",
   "name": "python3"
  },
  "language_info": {
   "codemirror_mode": {
    "name": "ipython",
    "version": 3
   },
   "file_extension": ".py",
   "mimetype": "text/x-python",
   "name": "python",
   "nbconvert_exporter": "python",
   "pygments_lexer": "ipython3",
   "version": "3.6.0"
  }
 },
 "nbformat": 4,
 "nbformat_minor": 2
}
