{
 "cells": [
  {
   "cell_type": "code",
   "execution_count": null,
   "metadata": {
    "collapsed": true,
    "deletable": true,
    "editable": true
   },
   "outputs": [],
   "source": [
    "'''\n",
    "类型的概念：\n",
    "\n",
    "1)、类型是编程语言对数据的划分\n",
    "\n",
    "2)、Python语言的类型：\n",
    "   \n",
    "   数字类型、字符串类型、元组类型、列表类型、文件类型、字典类型\n",
    "   \n",
    "3)、type()—通过该函数可查看某个对象的数据类型\n",
    "'''"
   ]
  },
  {
   "cell_type": "code",
   "execution_count": null,
   "metadata": {
    "collapsed": true,
    "deletable": true,
    "editable": true
   },
   "outputs": [],
   "source": [
    "'''\n",
    "一、数字类型\n",
    "\n",
    "1、Python通过数字类型对其中的数字的表示和使用进行了定义和规范\n",
    "\n",
    "2、三种数字类型：\n",
    "\n",
    "1)、整数类型\n",
    "    与数学中整数概念一致，没有取值范围限制\n",
    "    整数类型可以是：常用的数字\n",
    "                    16进制数，以0x、0X开头\n",
    "                    2进制数，以0b、0B开头\n",
    "                    8进制数，以0o、0O开头\n",
    "\n",
    "2)、浮点数类型\n",
    "    带有小数点及小数的数字\n",
    "    Python中浮点数的数值范围存在限制，小数精度也存在限制，这种限制与不同计算机系统有关\n",
    "    浮点数可以使用“e”或“E”实现科学计数法（“e”、“E”为幂符号）\n",
    "\n",
    "3)、复数类型\n",
    "    与数学中复数概念一致，z = a + bj，a为实数部分，b为虚数部分，a、b都是浮点类型，虚数部分用j、J标识\n",
    "    Python中可通过real函数、imag获得实数和虚数部分，如z.real、z.imag\n",
    "    \n",
    "3、三种数据类型之间存在关联：\n",
    "\n",
    "    整数类型可以看做是小数部分为0的浮点数，浮点数可以看做是虚数部分为0的复数。\n",
    "    \n",
    "    不同数字类型之间可以进行混合运算，运算后生产结果为最宽类型（宽度顺序：复数 > 浮点数 > 整数）\n",
    "    \n",
    "    三种数据类型间也可以进行相互转换，转换函数：整数int()、浮点数float()、复数complex()\n",
    "    \n",
    "    复数不支持将其转换为浮点数或整数\n",
    "    \n",
    "4、运算符\n",
    "\n",
    "   运算符和运算函数        操作含义\n",
    "         x+y                x、y的和\n",
    "         x-y                x、y的差\n",
    "         x*y                x、y的乘积\n",
    "         x/y                x、y的商\n",
    "         x//y               不大于x、y商的最大整数\n",
    "         x%y                x、y商的余数\n",
    "         x**y               x的y次幂\n",
    "         divmod(x,y)        （x//y, x%y）\n",
    "         pow(x, y)          x的y次幂\n",
    "'''"
   ]
  },
  {
   "cell_type": "code",
   "execution_count": 17,
   "metadata": {
    "collapsed": false,
    "deletable": true,
    "editable": true
   },
   "outputs": [
    {
     "data": {
      "text/plain": [
       "sys.float_info(max=1.7976931348623157e+308, max_exp=1024, max_10_exp=308, min=2.2250738585072014e-308, min_exp=-1021, min_10_exp=-307, dig=15, mant_dig=53, epsilon=2.220446049250313e-16, radix=2, rounds=1)"
      ]
     },
     "execution_count": 17,
     "metadata": {},
     "output_type": "execute_result"
    }
   ],
   "source": [
    "# 查看本机上浮点数信息\n",
    "import sys\n",
    "sys.float_info"
   ]
  },
  {
   "cell_type": "code",
   "execution_count": null,
   "metadata": {
    "collapsed": true,
    "deletable": true,
    "editable": true
   },
   "outputs": [],
   "source": [
    "'''\n",
    "二、字符串类型\n",
    "\n",
    "1、字符串使用单引号或双引号括起来的一个或多个字符\n",
    "\n",
    "2、转义符“\\”\n",
    "   可通过在字符串中添加转义符，输出字符串中的引号或者反斜杠等符号\n",
    "   例：print('\\'大家好\\'')、print('\\\\大家好\\\\')\n",
    "   \n",
    "3、字符串为字符序列，最左端索引值为0，从左往右依次增加\n",
    "                     最右端索引值为-1，从右往左依次减少\n",
    "\n",
    "4、索引与切片\n",
    "\n",
    "   索引：即字符串中每个元素所对应的位置，可通过索引值提取指定的元素\n",
    "\n",
    "   切片：根据索引值，选取某个区间提取该区间内的元素\n",
    "\n",
    "5、字符串连接\n",
    "   \n",
    "   字符串之间可使用“+”或“*”进行连接，其中“*”连接只能是由本身字符串重复多次形成新字符串\n",
    "   \n",
    "6、字符串转换\n",
    "\n",
    "   通过str()函数可以将其他类型转换为字符串类型，可通过len()函数查看字符串长度\n",
    "   \n",
    "7、字符串操作\n",
    "\n",
    "   操作              含义\n",
    "   .upper()          字符串中字母全部大写\n",
    "   .lower()          字符串中字母全部小写\n",
    "   .capitalize()     首字母大写\n",
    "   .strip()          去掉字符串两边的空格及指定字符串\n",
    "   .split()          按指定字符分割字符串为列表\n",
    "   .isdigit()        判断是否为数字类型，若是返回True；反之返回False\n",
    "   .find()           搜索指定字符串\n",
    "   .replace()        字符串替换\n",
    "   for ... in ...    遍历字符串\n",
    "'''"
   ]
  },
  {
   "cell_type": "code",
   "execution_count": 31,
   "metadata": {
    "collapsed": false,
    "deletable": true,
    "editable": true
   },
   "outputs": [
    {
     "name": "stdout",
     "output_type": "stream",
     "text": [
      "'大家好'\n",
      "\\大家好\\\n"
     ]
    }
   ],
   "source": [
    "print('\\'大家好\\'')\n",
    "print('\\\\大家好\\\\')"
   ]
  },
  {
   "cell_type": "code",
   "execution_count": 35,
   "metadata": {
    "collapsed": false,
    "deletable": true,
    "editable": true
   },
   "outputs": [
    {
     "name": "stdout",
     "output_type": "stream",
     "text": [
      "ab ababab\n"
     ]
    }
   ],
   "source": [
    "str1 = 'a'\n",
    "str2 = 'b'\n",
    "str3 = str1 + str2\n",
    "str4 = str3 * 3\n",
    "print(str3, str4)"
   ]
  },
  {
   "cell_type": "code",
   "execution_count": 21,
   "metadata": {
    "collapsed": false,
    "deletable": true,
    "editable": true
   },
   "outputs": [
    {
     "name": "stdout",
     "output_type": "stream",
     "text": [
      "请输入月份数（1-12）：3\n",
      "3月份简写为Mar.\n"
     ]
    }
   ],
   "source": [
    "# 字符串案例—月份简写\n",
    "'''\n",
    "实现：输入一个月份名称，返回对应月份名称缩写\n",
    "'''\n",
    "months = 'JanFebMarAprMayJunJulAugSepOctNovDec'\n",
    "n = input('请输入月份数（1-12）：')\n",
    "pos = (int(n) - 1) * 3\n",
    "month = months[pos:pos+3]  \n",
    "# 观察可得，输入的月份数减去1再乘以3，即为当前月份简写的起始位置\n",
    "\n",
    "print(n+'月份简写为'+month+'.')"
   ]
  },
  {
   "cell_type": "code",
   "execution_count": 10,
   "metadata": {
    "collapsed": false,
    "deletable": true,
    "editable": true
   },
   "outputs": [
    {
     "name": "stdout",
     "output_type": "stream",
     "text": [
      "请输入星期（1-7）：1\n",
      "每周第1天的简写为Mon。\n"
     ]
    }
   ],
   "source": [
    "# 字符串案例—星期简写\n",
    "weeks = 'Mon Tues Wed Thur Fri Sat Sun'\n",
    "week = weeks.split(' ')\n",
    "week[1]\n",
    "n = input('请输入星期（1-7）：')\n",
    "print('每周第'+n+'天的简写为'+week[int(n)-1]+'。')"
   ]
  },
  {
   "cell_type": "code",
   "execution_count": null,
   "metadata": {
    "collapsed": true,
    "deletable": true,
    "editable": true
   },
   "outputs": [],
   "source": [
    "'''\n",
    "三、元组类型tuple\n",
    "\n",
    "1、元组是包含多个元素的类型，元素之间用逗号隔开\n",
    " 元组用“()”包括，但也可以不适用括号\n",
    "\n",
    "2、特点\n",
    "\n",
    "   元组可为空，也可包含一个元素，其外侧可以使用括号，也可以不使用\n",
    "   元组中元素可以为不同类型，元组也可作为另一个元组的元素，但元组作为元素时必须加括号与其他类型区分\n",
    "   元组中各个元素存在先后关系，可以通过索引访问元组中元素，索引区间访问元组部分元素\n",
    "   元组定以后不可更改（增加代码安全性），也不能删除\n",
    "   可使用“+”或“*”对元组进行运算(与字符串中类似)\n",
    "'''"
   ]
  },
  {
   "cell_type": "code",
   "execution_count": 13,
   "metadata": {
    "collapsed": false,
    "deletable": true,
    "editable": true
   },
   "outputs": [
    {
     "data": {
      "text/plain": [
       "(1, 2, 3, 1, 2, 3, 1, 2, 3)"
      ]
     },
     "execution_count": 13,
     "metadata": {},
     "output_type": "execute_result"
    }
   ],
   "source": [
    "a =1,2,3\n",
    "b= 2,3,4\n",
    "a+b\n",
    "a*3"
   ]
  },
  {
   "cell_type": "code",
   "execution_count": null,
   "metadata": {
    "collapsed": true,
    "deletable": true,
    "editable": true
   },
   "outputs": [],
   "source": [
    "'''\n",
    "四、列表类型\n",
    "\n",
    "1、列表是有序的元素集合\n",
    " 列表中元素类型可以不一样\n",
    " 可通过索引访问列表元素\n",
    " 列表由“[]”包含\n",
    " \n",
    "2、列表与元组的区别\n",
    " 列表大小没有限制可随时修改，因此一般程序中使用列表来代替元组\n",
    " \n",
    "3、列表操作符\n",
    "\n",
    " 操作符                   含义\n",
    " list + list              连接两个列表\n",
    " list * n                 将列表进行n次重复\n",
    " list[n]                  索引列表中第n个元素\n",
    " len(list)                获取列表中元素个数\n",
    " list[m:n]                获取列表中第m个到第n个之间的元素（但不包括n）\n",
    " for val in list:         对列表进行遍历\n",
    " val in list              判断val是否在列表中\n",
    " \n",
    " 方法                     含义\n",
    " list.append(x)           将元素x增加到列表的末尾           \n",
    " list.sort()              将列表中的元素排序\n",
    " list.reverse()           将列表中元素反转\n",
    " list.index(x)            返回列表中第一次出现元素x的索引值\n",
    " list.insert(i,x)         在列表中位置i处插入元素x\n",
    " list.count(x)            计算元素x在列表中的数量\n",
    " list.remove(x)           删除列表中第一次出现的元素x\n",
    " list.pop(i)              删除列表中位置为i处的元素\n",
    "\n",
    "\n",
    "'''"
   ]
  },
  {
   "cell_type": "code",
   "execution_count": 14,
   "metadata": {
    "collapsed": false
   },
   "outputs": [
    {
     "data": {
      "text/plain": [
       "[0, 1, 2, 3, 4]"
      ]
     },
     "execution_count": 14,
     "metadata": {},
     "output_type": "execute_result"
    }
   ],
   "source": [
    "# 列表操作方法例子\n",
    "l = [0,1,2,3,4]\n",
    "l.append('Python')            # 在列表末尾增加字符串Python\n",
    "l.reverse()                   # 将列表中元素反转\n",
    "l.index(3)                    # 查看元素3在列表中第一次出现的位置\n",
    "l.pop(0)                      # 删除列表中位置为0处的元素\n",
    "l.sort()                      # 对列表中元素排序（只有列表中元素均为数字类型时才可排序）\n",
    "l"
   ]
  }
 ],
 "metadata": {
  "kernelspec": {
   "display_name": "Python 3",
   "language": "python",
   "name": "python3"
  },
  "language_info": {
   "codemirror_mode": {
    "name": "ipython",
    "version": 3
   },
   "file_extension": ".py",
   "mimetype": "text/x-python",
   "name": "python",
   "nbconvert_exporter": "python",
   "pygments_lexer": "ipython3",
   "version": "3.6.0"
  }
 },
 "nbformat": 4,
 "nbformat_minor": 2
}
