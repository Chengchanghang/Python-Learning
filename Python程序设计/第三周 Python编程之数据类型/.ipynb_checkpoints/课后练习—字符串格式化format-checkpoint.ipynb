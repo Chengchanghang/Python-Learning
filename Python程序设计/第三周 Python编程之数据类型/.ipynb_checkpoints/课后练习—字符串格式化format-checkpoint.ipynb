{
 "cells": [
  {
   "cell_type": "code",
   "execution_count": null,
   "metadata": {
    "collapsed": true,
    "deletable": true,
    "editable": true
   },
   "outputs": [],
   "source": [
    "# 字符串格式化方法之一—format"
   ]
  },
  {
   "cell_type": "code",
   "execution_count": 5,
   "metadata": {
    "collapsed": false,
    "deletable": true,
    "editable": true
   },
   "outputs": [
    {
     "name": "stdout",
     "output_type": "stream",
     "text": [
      "2017-04-03: 计算机pythonCPU占用率是10%。\n",
      "python: 计算机2017-04-03CPU占用率是10%。\n"
     ]
    }
   ],
   "source": [
    "'''\n",
    "format指定槽内数字：{参数序号}\n",
    "'''\n",
    "\n",
    "# format中元素从0开始，从左到右依次增加\n",
    "\n",
    "# 不设定槽（即大括号）内的数字时，按照顺序进行匹配填充\n",
    "print('{}: 计算机{}CPU占用率是{}%。'.format('2017-04-03', 'python', 10))\n",
    "\n",
    "# 设定槽内数字后，则按照数字对应的位置进行匹配填充\n",
    "print('{1}: 计算机{0}CPU占用率是{2}%。'.format('2017-04-03', 'python', 10))"
   ]
  },
  {
   "cell_type": "code",
   "execution_count": 11,
   "metadata": {
    "collapsed": false,
    "deletable": true,
    "editable": true
   },
   "outputs": [
    {
     "name": "stdout",
     "output_type": "stream",
     "text": [
      "圆周率是3.1415926...\n",
      "圆周率{3.1415926...}是无理数\n",
      "圆周率{{{1}{2}}}是{0}\n",
      "圆周率{3.1415926...}是无理数\n"
     ]
    }
   ],
   "source": [
    "'''\n",
    "format输出大括号：{{{内容1}{内容2}}}\n",
    "'''\n",
    "\n",
    "# 未做任何改变的形式\n",
    "print('{}{}{}'.format('圆周率是', 3.1415926, '...'))\n",
    "\n",
    "# 为输出大括号，则需要采用\"{{{内容1}{内容2}}}\"\n",
    "# 最外层大括号不是槽，而是字符串\n",
    "# 第二层大括号是槽，用于填放内容1、内容2\n",
    "# 内容1、内容2的大括号分别作为输入两个内容的槽\n",
    "print('圆周率{{{1}{2}}}是{0}'.format('无理数',3.1415926, '...'))\n",
    "\n",
    "s = '圆周率{{{1}{2}}}是{0}'\n",
    "print(s)\n",
    "\n",
    "print(s.format('无理数', 3.1415926, '...'))"
   ]
  },
  {
   "cell_type": "code",
   "execution_count": 19,
   "metadata": {
    "collapsed": false,
    "deletable": true,
    "editable": true
   },
   "outputs": [
    {
     "data": {
      "text/plain": [
       "'3.14e+00,3.14E+00,3.14,314.00%'"
      ]
     },
     "execution_count": 19,
     "metadata": {},
     "output_type": "execute_result"
    }
   ],
   "source": [
    "'''\n",
    "format槽的内部样式:{<参数序号>:<格式控制标记>}\n",
    "\n",
    "    格式控制标记：用来控制参数显示时的格式，以下六个格式都是可选的\n",
    "        <填充> —用于填充单个字符，指槽设定的宽度除了参数外其他字符采用什么方式表示，默认为空格，可通过<填充>更换\n",
    "        <对齐> —<，左对齐\n",
    "                 >，右对齐\n",
    "                 ^，居中对齐\n",
    "        <宽度> —设定槽的输出宽度，若参数的长度比设定的宽度大，则使用参数的实际长度；否则，空出的位置以空格字符补充\n",
    "          ,    —数字的千位分隔符，适用于整数和字符串\n",
    "        <.精度>—浮点数小数部分的精度或字符串的最大输出长度\n",
    "        <类型> —整数类型：b(整数的二进制形式)、c(整数对应的Unicode字符)、d(整数的十进制)、o(整数的八进制)、x(整数的小写十六进制)、X(整数的大写十六进制)，\n",
    "                 浮点数类型：e(浮点数对应的小写字母e的指数形式)、E(浮点数对应的大写字母E的指数形式)、f(浮点数的标准浮点形式)、%(浮点数的百分形式)\n",
    "'''\n",
    "\n",
    "s = 'PYTHON'\n",
    "\n",
    "# 设定对齐方式\n",
    "'{0:30}'.format(s)    # 0表示对应format中第一个参数，30指设定的槽的宽度，默认为左对齐\n",
    "'{0:>30}'.format(s)   # “>”指右对齐，其他参数同上\n",
    "\n",
    "# 设定填充方式\n",
    "'{0:*^30}'.format(s)  # “*”即填充，字符串s小于设定宽度30外其他位置使用“*”代替\n",
    "                      # “^”设定居中对齐\n",
    "'{0:-^30}'.format(s)  # 将字符串小于设定宽度30外的其他位置使用“-”代替\n",
    "\n",
    "# 针对参数长度与设定宽度是否一致，确定按照什么方式填充\n",
    "'{0:3}'.format(s)     # 字符串长度为6,大于设定的宽度3，则按照最大长度(字符串）填充\n",
    "\n",
    "# 显示数字的千位分隔符\n",
    "'{0:-^20,}'.format(1234567890)  # “,”显示数字的千位分隔符\n",
    "'{0:-^20}'.format(1234567890)   # 不显示数字的千位分隔符\n",
    "'{0:-^20,}'.format(12345.67890) # 显示数字的千位分隔符\n",
    "\n",
    "# <.精度>,对于浮点数，精度表示小数部分输出的有效位数；对于字符串，精度则表示输出的最大长度\n",
    "'{0:.2f}'.format(12345.67890)   # “f”表示浮点数，“.2”表示保留两位小数\n",
    "'{0:H^20.3f}'.format(12345.67890)\n",
    "'{0:.4}'.format('PYTHON')       # 字符串则“.4”表示输出的最大长度\n",
    "\n",
    "# <类型>\n",
    "'{0:b},{0:c},{0:d},{0:o},{0:x},{0:X}'.format(425) # 对于整数类型，输出格式\n",
    "'{0:e},{0:E},{0:f},{0:%}'.format(3.14)  # 对于浮点数，输出格式\n",
    "'{0:.2e},{0:.2E},{0:.2f},{0:.2%}'.format(3.14)"
   ]
  }
 ],
 "metadata": {
  "kernelspec": {
   "display_name": "Python 3",
   "language": "python",
   "name": "python3"
  },
  "language_info": {
   "codemirror_mode": {
    "name": "ipython",
    "version": 3
   },
   "file_extension": ".py",
   "mimetype": "text/x-python",
   "name": "python",
   "nbconvert_exporter": "python",
   "pygments_lexer": "ipython3",
   "version": "3.6.0"
  }
 },
 "nbformat": 4,
 "nbformat_minor": 2
}
