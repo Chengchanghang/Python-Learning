{
 "cells": [
  {
   "cell_type": "code",
   "execution_count": 6,
   "metadata": {
    "collapsed": true
   },
   "outputs": [],
   "source": [
    "'''\n",
    "turtle库\n",
    "\n",
    "该库作图时将电脑屏幕作为坐标轴，其中原点在屏幕正中心，横为x轴，竖为y轴，小海龟初始时头朝向x轴正方向。\n",
    "'''"
   ]
  },
  {
   "cell_type": "code",
   "execution_count": null,
   "metadata": {
    "collapsed": true
   },
   "outputs": [],
   "source": [
    "# 等边三角形绘制\n",
    "import turtle\n",
    "turtle.pensize(20)\n",
    "turtle.pencolor('red')\n",
    "turtle.forward(150)\n",
    "turtle.left(120)\n",
    "turtle.forward(150)\n",
    "turtle.left(120)\n",
    "turtle.forward(150)"
   ]
  },
  {
   "cell_type": "code",
   "execution_count": 1,
   "metadata": {
    "collapsed": true
   },
   "outputs": [],
   "source": [
    "# 绘制并填充五角星\n",
    "from turtle import Turtle\n",
    "p = Turtle()\n",
    "p.speed(3)\n",
    "p.pensize(5)\n",
    "p.color('black', 'yellow')\n",
    "\n",
    "p.begin_fill()\n",
    "for i in range(5):\n",
    "    p.forward(200)\n",
    "    p.right(144)\n",
    "p.end_fill()"
   ]
  },
  {
   "cell_type": "code",
   "execution_count": 1,
   "metadata": {
    "collapsed": false
   },
   "outputs": [],
   "source": [
    "# 绘制树图\n",
    "from turtle import Turtle\n",
    "def tree(plist, l, a, f):\n",
    "    '''\n",
    "    plist是存放一组turtle对象的列表；\n",
    "    1表示分支的长度；\n",
    "    a表示两个分支的其中一个\n",
    "    f表示哪个分支被缩短\n",
    "    '''\n",
    "    if l > 5:\n",
    "        lst = []\n",
    "        for p in plist:\n",
    "            p.forward(l) # 沿当前方向画线\n",
    "            q = p.clone() # 创建并返回一个一样的画布\n",
    "            p.left(a)\n",
    "            q.right(a)\n",
    "            lst.append(p)\n",
    "            lst.append(q)\n",
    "        tree(lst, l*f, a, f)\n",
    "\n",
    "def main(x, y):\n",
    "    p = Turtle()\n",
    "    p.color('green')\n",
    "    p.pensize(5)\n",
    "#     p.setundobuffer(None)\n",
    "    p.hideturtle() # 隐藏画布\n",
    "#     p.speed(10)\n",
    "    p.getscreen().tracer(30,0)\n",
    "    p.left(90)\n",
    "    p.penup() # 提起画笔\n",
    "    p.goto(x, y) # 将画笔提起移动到一个绝对位置\n",
    "    p.pendown() # 放下画笔\n",
    "#     t = tree([p], 200, 65, 0.6375)\n",
    "    t = tree([p], 110, 65, 0.6375)\n",
    "    \n",
    "main(0, 0)"
   ]
  }
 ],
 "metadata": {
  "kernelspec": {
   "display_name": "Python 3",
   "language": "python",
   "name": "python3"
  },
  "language_info": {
   "codemirror_mode": {
    "name": "ipython",
    "version": 3
   },
   "file_extension": ".py",
   "mimetype": "text/x-python",
   "name": "python",
   "nbconvert_exporter": "python",
   "pygments_lexer": "ipython3",
   "version": "3.6.0"
  }
 },
 "nbformat": 4,
 "nbformat_minor": 2
}
