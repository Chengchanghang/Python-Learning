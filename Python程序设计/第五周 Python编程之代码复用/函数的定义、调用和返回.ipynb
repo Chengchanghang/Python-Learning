{
 "cells": [
  {
   "cell_type": "code",
   "execution_count": null,
   "metadata": {
    "collapsed": true
   },
   "outputs": [],
   "source": [
    "'''\n",
    "一、函数定义\n",
    "\n",
    "1、函数 — 完成特定功能的一个语句组，通过调用函数名来完成语句组的功能。\n",
    "\n",
    "2、函数可以反馈结果，即执行的结果通过调用函数返回\n",
    "\n",
    "3、函数包括：自定义函数   — 用户自己编写\n",
    "             \n",
    "             系统自带函数 \n",
    "                 Python内嵌函数（如abs()、eval())\n",
    "                 Python标准库中的函数（如math库中的相关函数）\n",
    "\n",
    "4、使用函数的目的：降低编程的难度，将一个问题分割成多个小问题解决\n",
    "                   代码重用，可以在不同位置使用函数执行对应的功能\n",
    "                   \n",
    "5、函数定义方式：使用def语句\n",
    "\n",
    "   基本格式：def <函数名>(<参数1>,<参数2>,...):\n",
    "                   <程序代码>\n",
    "             形式参数 — 定义函数时，函数名后面圆括号中的变量，简称形参。形参只在函数内部有效。\n",
    "             实际参数 — 调用函数时，函数名后面圆括号中的变量（还可以是常量、表达式，甚至也可以是另一个函数），简称实参。\n",
    "             程序代码中的return语句：\n",
    "                 用于结束函数调用，将结果返回给调用者，并返回到函数被调用的地方；\n",
    "                 该语句为可选项，可出现在函数的任意位置；\n",
    "                 该语句的返回值可以是一个变量或表达式，也可以是多个值或表达式（以逗号分隔）；\n",
    "                   \n",
    "   注意：定义函数时无需注明函数的返回类型，因为Python可以返回任何类型。\n",
    "   \n",
    "6、函数接口：返回值和参数。\n",
    "\n",
    "   函数通过返回值的方式传递信息；\n",
    "   函数通过参数传递信息；\n",
    "'''"
   ]
  },
  {
   "cell_type": "code",
   "execution_count": 13,
   "metadata": {
    "collapsed": false
   },
   "outputs": [
    {
     "name": "stdout",
     "output_type": "stream",
     "text": [
      "Happy birthday to you!\n",
      "Happy birthday to you!\n",
      "happy birthday, dear wzp!\n",
      "Happy birthday to you!\n",
      "\n",
      "Happy birthday to you!\n",
      "Happy birthday to you!\n",
      "happy birthday, dear ytt!\n",
      "Happy birthday to you!\n"
     ]
    }
   ],
   "source": [
    "# 打印生日歌词\n",
    "def sing(person):\n",
    "    print('Happy birthday to you!')\n",
    "    print('Happy birthday to you!')\n",
    "    print('happy birthday, dear ' + person + '!')\n",
    "    print('Happy birthday to you!')\n",
    "# sing('ytt')\n",
    "\n",
    "def main():\n",
    "    sing('wzp')\n",
    "    print() # print()用于在中间加入一个空行\n",
    "    sing('ytt')\n",
    "main()"
   ]
  },
  {
   "cell_type": "code",
   "execution_count": null,
   "metadata": {
    "collapsed": true
   },
   "outputs": [],
   "source": [
    "'''\n",
    "二、函数调用\n",
    "\n",
    "1、上例中main()中包含sing()的方式即为函数的调用。\n",
    "\n",
    "2、sing()中的参数person即为形参，而在main()中调用sing()函数时将参数赋值为wzp和ytt，此即为实参。\n",
    "'''"
   ]
  },
  {
   "cell_type": "code",
   "execution_count": null,
   "metadata": {
    "collapsed": true
   },
   "outputs": [],
   "source": [
    "# 计算两点间距离\n",
    "import math\n",
    "# 定义平方函数\n",
    "def square(x):\n",
    "    return x * x\n",
    "\n",
    "# 定义两点间距离计算的函数\n",
    "def distance(x1, y1, x2, y2):\n",
    "    dist = math.sqrt(square(x1 - x2) + square(y1 - y2))\n",
    "    return dist"
   ]
  },
  {
   "cell_type": "code",
   "execution_count": null,
   "metadata": {
    "collapsed": true
   },
   "outputs": [],
   "source": [
    "'''\n",
    "三、函数参数值\n",
    "\n",
    "下例中返回值应该是1050，但是由于addinterest()函数只接了实参的值，但是给形参赋值却不影响实参。\n",
    "'''"
   ]
  },
  {
   "cell_type": "code",
   "execution_count": 17,
   "metadata": {
    "collapsed": false
   },
   "outputs": [
    {
     "name": "stdout",
     "output_type": "stream",
     "text": [
      "1000\n"
     ]
    }
   ],
   "source": [
    "# 银行账户计算利率—账户余额计算利息\n",
    "# 调用函数addinterest中不能通过改变形参来改变实参\n",
    "\n",
    "def addinterest(balance, rate):\n",
    "    newbalance = balance * (1 + rate)\n",
    "    balance = newbalance\n",
    "\n",
    "def main():\n",
    "    amount = 1000\n",
    "    rate = 0.05\n",
    "    addinterest(amount, rate) # addinterest接受实参amount、rate的值，利用balance = newbalance为形参赋值却不能改变实参\n",
    "    print(amount)\n",
    "    \n",
    "main()"
   ]
  },
  {
   "cell_type": "code",
   "execution_count": 19,
   "metadata": {
    "collapsed": false
   },
   "outputs": [
    {
     "name": "stdout",
     "output_type": "stream",
     "text": [
      "1050.0\n"
     ]
    }
   ],
   "source": [
    "# 银行账户计算利率—改进\n",
    "# 由于无法通过调用函数改变形参来改变实参，则采取返回值形式得到计算结果\n",
    "\n",
    "def addinterest(balance, rate):\n",
    "    newbalance = balance * (1 + rate)\n",
    "    return newbalance\n",
    "\n",
    "def main():\n",
    "    amount = 1000\n",
    "    rate = 0.05\n",
    "    amount = addinterest(amount, rate)\n",
    "    print(amount)\n",
    "    \n",
    "main()"
   ]
  },
  {
   "cell_type": "code",
   "execution_count": 20,
   "metadata": {
    "collapsed": false
   },
   "outputs": [
    {
     "name": "stdout",
     "output_type": "stream",
     "text": [
      "[1050.0, 2100.0, 3150.0]\n"
     ]
    }
   ],
   "source": [
    "# 处理多个银行账户的利率\n",
    "\n",
    "def addinterest(balance, rate):\n",
    "    \n",
    "    # 计算多个值，只需遍历列表即可\n",
    "    for i in range(len(balance)):\n",
    "        \n",
    "        # 该处将计算结果又赋值给原变量\n",
    "        balance[i] = balance[i] * (1 + rate) \n",
    "        \n",
    "def main():\n",
    "    amounts = [1000, 2000, 3000]\n",
    "    rate = 0.05\n",
    "    addinterest(amounts, rate)\n",
    "    print(amounts)\n",
    "    \n",
    "main()"
   ]
  }
 ],
 "metadata": {
  "kernelspec": {
   "display_name": "Python 3",
   "language": "python",
   "name": "python3"
  },
  "language_info": {
   "codemirror_mode": {
    "name": "ipython",
    "version": 3
   },
   "file_extension": ".py",
   "mimetype": "text/x-python",
   "name": "python",
   "nbconvert_exporter": "python",
   "pygments_lexer": "ipython3",
   "version": "3.6.0"
  }
 },
 "nbformat": 4,
 "nbformat_minor": 2
}
