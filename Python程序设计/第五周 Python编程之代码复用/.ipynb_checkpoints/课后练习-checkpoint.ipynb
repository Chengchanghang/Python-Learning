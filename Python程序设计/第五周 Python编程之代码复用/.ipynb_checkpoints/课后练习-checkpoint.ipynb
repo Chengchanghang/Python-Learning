{
 "cells": [
  {
   "cell_type": "code",
   "execution_count": 1,
   "metadata": {
    "collapsed": false
   },
   "outputs": [],
   "source": [
    "# 七段数码管绘制\n",
    "from turtle import Turtle\n",
    "p = Turtle()\n",
    "p.pensize(5)\n",
    "p.pencolor('red')\n",
    "# 2\n",
    "p.penup()\n",
    "p.goto(-300, 100)\n",
    "p.pendown()\n",
    "p.forward(80)\n",
    "p.right(90)\n",
    "p.forward(80)\n",
    "p.right(90)\n",
    "p.forward(80)\n",
    "p.left(90)\n",
    "p.forward(80)\n",
    "p.left(90)\n",
    "p.forward(80)\n",
    "\n",
    "# 0\n",
    "p.penup()\n",
    "p.goto(-200, 100)\n",
    "p.pendown()\n",
    "p.forward(80)\n",
    "p.right(90)\n",
    "p.forward(160)\n",
    "p.right(90)\n",
    "p.forward(80)\n",
    "p.right(90)\n",
    "p.forward(160)\n",
    "\n",
    "# 1\n",
    "p.penup()\n",
    "p.goto(-20, 100)\n",
    "p.pendown()\n",
    "p.right(90)\n",
    "p.forward(0)\n",
    "p.right(90)\n",
    "p.forward(160)\n",
    "\n",
    "# 7\n",
    "p.penup()\n",
    "p.goto(0, 100)\n",
    "p.pendown()\n",
    "p.left(90)\n",
    "p.forward(80)\n",
    "p.right(90)\n",
    "p.forward(160)"
   ]
  },
  {
   "cell_type": "code",
   "execution_count": 1,
   "metadata": {
    "collapsed": false
   },
   "outputs": [
    {
     "name": "stdout",
     "output_type": "stream",
     "text": [
      "Help on function pencolor in module turtle:\n",
      "\n",
      "pencolor(*args)\n",
      "    Return or set the pencolor.\n",
      "    \n",
      "    Arguments:\n",
      "    Four input formats are allowed:\n",
      "      - pencolor()\n",
      "        Return the current pencolor as color specification string,\n",
      "        possibly in hex-number format (see example).\n",
      "        May be used as input to another color/pencolor/fillcolor call.\n",
      "      - pencolor(colorstring)\n",
      "        s is a Tk color specification string, such as \"red\" or \"yellow\"\n",
      "      - pencolor((r, g, b))\n",
      "        *a tuple* of r, g, and b, which represent, an RGB color,\n",
      "        and each of r, g, and b are in the range 0..colormode,\n",
      "        where colormode is either 1.0 or 255\n",
      "      - pencolor(r, g, b)\n",
      "        r, g, and b represent an RGB color, and each of r, g, and b\n",
      "        are in the range 0..colormode\n",
      "    \n",
      "    If turtleshape is a polygon, the outline of that polygon is drawn\n",
      "    with the newly set pencolor.\n",
      "    \n",
      "    Example:\n",
      "    >>> pencolor('brown')\n",
      "    >>> tup = (0.2, 0.8, 0.55)\n",
      "    >>> pencolor(tup)\n",
      "    >>> pencolor()\n",
      "    '#33cc8c'\n",
      "\n"
     ]
    }
   ],
   "source": [
    "import turtle\n",
    "help(turtle.pencolor)"
   ]
  },
  {
   "cell_type": "code",
   "execution_count": 1,
   "metadata": {
    "collapsed": true
   },
   "outputs": [],
   "source": [
    "import datetime\n",
    "from turtle import *\n",
    "fondweight = 5\n",
    "fondWidth = 50\n",
    "def main():\n",
    "    # 获取当日日期，并按照年月日格式生成\n",
    "    date = datetime.date.today().strftime(\"%Y%m%d\")\n",
    "    \n",
    "    # 设置主窗口的尺寸\n",
    "    setup(width=fondWidth * 15, height=fondWidth * 4)\n",
    "    \n",
    "    x, y = -fondWidth * 1.2 * 6, 0\n",
    "    \n",
    "    # 设定画笔粗细\n",
    "    pensize(fondweight)\n",
    "    \n",
    "    penColor = ['red', 'green', 'blue']\n",
    "    dateUnit = ['年', '月', '日']\n",
    "    digitsNum = [3, 5, 7]\n",
    "    for i in range(len(date)):\n",
    "        partOfDate = 0\n",
    "        for part in digitsNum:\n",
    "            if i > part:\n",
    "                partOfDate += 1\n",
    "        pencolor(penColor[partOfDate])\n",
    "        digit = int(date[i])\n",
    "        drawDigit(digit, x, y, fondWidth)\n",
    "        x += fondWidth * 1.4\n",
    "        if i in digitsNum:\n",
    "            pu()\n",
    "            goto(x + fondWidth / 4, 0)\n",
    "            write(dateUnit[partOfDate], font=('', 20))\n",
    "            goto(x + fondWidth, 0)\n",
    "            x = x + fondWidth\n",
    "            pd()\n",
    "def drawDigit(digit, x, y, fondWidth):\n",
    "    digits = [0, 1, 2, 3, 4, 5, 6, 7, 8, 9]\n",
    "    zero = [2, 3, 4, 5, 6, 7]\n",
    "    one = [6, 7]\n",
    "    two = [1, 2, 3, 5, 6]\n",
    "    three = [1, 2, 3, 6, 7]\n",
    "    four = [1, 4, 6, 7]\n",
    "    five = [1, 2, 3, 4, 7]\n",
    "    six = [1, 2, 3, 4, 5, 7]\n",
    "    seven = [2, 6, 7]\n",
    "    eight = [1, 2, 3, 4, 5, 6, 7]\n",
    "    nine = [1, 2, 3, 4, 6, 7]\n",
    "    position = [(x, y), (x, y + fondWidth), (x, y - fondWidth), (x, y + fondWidth),\n",
    "                (x, y), (x + fondWidth, y + fondWidth), (x + fondWidth, y)]\n",
    "    digitList = [zero, one, two, three, four, five, six, seven, eight, nine]\n",
    "    digitDict = dict(zip(digits, digitList))\n",
    "    for stroke in digitDict[digit]:\n",
    "        penup()\n",
    "        if stroke <= 3:\n",
    "            setheading(0)\n",
    "            goto(position[stroke - 1][0] + fondweight *\n",
    "                 0.6, position[stroke - 1][1])\n",
    "        if stroke > 3:\n",
    "            setheading(-90)\n",
    "            goto(position[stroke - 1][0],\n",
    "                 position[stroke - 1][1] - fondweight * 0.6)\n",
    "        pendown()\n",
    "        fd(fondWidth - fondweight * 1.2)\n",
    "main()"
   ]
  },
  {
   "cell_type": "code",
   "execution_count": 16,
   "metadata": {
    "collapsed": false
   },
   "outputs": [
    {
     "name": "stdout",
     "output_type": "stream",
     "text": [
      "Help on function setup in module turtle:\n",
      "\n",
      "setup(width=0.5, height=0.75, startx=None, starty=None)\n",
      "    Set the size and position of the main window.\n",
      "    \n",
      "    Arguments:\n",
      "    width: as integer a size in pixels, as float a fraction of the \n",
      "      Default is 50% of \n",
      "    height: as integer the height in pixels, as float a fraction of the\n",
      "       Default is 75% of \n",
      "    startx: if positive, starting position in pixels from the left\n",
      "      edge of the screen, if negative from the right edge\n",
      "      Default, startx=None is to center window horizontally.\n",
      "    starty: if positive, starting position in pixels from the top\n",
      "      edge of the screen, if negative from the bottom edge\n",
      "      Default, starty=None is to center window vertically.\n",
      "    \n",
      "    Examples:\n",
      "    >>> setup (width=200, height=200, startx=0, starty=0)\n",
      "    \n",
      "    sets window to 200x200 pixels, in upper left of screen\n",
      "    \n",
      "    >>> setup(width=.75, height=0.5, startx=None, starty=None)\n",
      "    \n",
      "    sets window to 75% of screen by 50% of screen and centers\n",
      "\n"
     ]
    }
   ],
   "source": [
    "import turtle\n",
    "help(turtle.setup)"
   ]
  },
  {
   "cell_type": "code",
   "execution_count": null,
   "metadata": {
    "collapsed": true
   },
   "outputs": [],
   "source": []
  }
 ],
 "metadata": {
  "kernelspec": {
   "display_name": "Python 3",
   "language": "python",
   "name": "python3"
  },
  "language_info": {
   "codemirror_mode": {
    "name": "ipython",
    "version": 3
   },
   "file_extension": ".py",
   "mimetype": "text/x-python",
   "name": "python",
   "nbconvert_exporter": "python",
   "pygments_lexer": "ipython3",
   "version": "3.6.0"
  }
 },
 "nbformat": 4,
 "nbformat_minor": 2
}
