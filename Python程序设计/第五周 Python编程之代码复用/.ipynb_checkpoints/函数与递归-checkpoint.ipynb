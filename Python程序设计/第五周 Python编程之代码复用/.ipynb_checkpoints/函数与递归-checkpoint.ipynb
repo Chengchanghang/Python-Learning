{
 "cells": [
  {
   "cell_type": "code",
   "execution_count": 4,
   "metadata": {
    "collapsed": false,
    "deletable": true,
    "editable": true
   },
   "outputs": [
    {
     "name": "stdout",
     "output_type": "stream",
     "text": [
      "This program plots the growth of a 10-year investment.\n",
      "Enter the initial principal: 1000\n",
      "Enter the annualized interest rate: 0.2\n",
      " 1****\n",
      " 2*****\n",
      " 3******\n",
      " 4********\n",
      " 5*********\n",
      " 6***********\n",
      " 7**************\n",
      " 8*****************\n",
      " 9********************\n",
      "10************************\n",
      " 0.0K      2.5K       5.0K      7.5K       10.0K\n"
     ]
    }
   ],
   "source": [
    "print('This program plots the growth of a 10-year investment.')\n",
    "\n",
    "# 输入本金和利率\n",
    "principal = eval(input('Enter the initial principal: '))\n",
    "apr = eval(input('Enter the annualized interest rate: '))\n",
    "\n",
    "# 建立图表，绘制每一年银行账户的增长数据\n",
    "for year in range(1, 11):\n",
    "    principal = principal * (1 + apr)\n",
    "    print('%2d' % year, end = '')\n",
    "    \n",
    "    # 计算星号数量\n",
    "    total = int(principal * 4 / 1000)\n",
    "    print('*' * total)\n",
    "print(' 0.0K      2.5K       5.0K      7.5K       10.0K')"
   ]
  },
  {
   "cell_type": "code",
   "execution_count": 5,
   "metadata": {
    "collapsed": false,
    "deletable": true,
    "editable": true
   },
   "outputs": [
    {
     "name": "stdout",
     "output_type": "stream",
     "text": [
      "Thin program plots the growth of a 10-year investment.\n",
      "Enter the initial principal: 1000\n",
      "Enter the annualized interest rate: 0.2\n",
      " 1****\n",
      " 2*****\n",
      " 3******\n",
      " 4********\n",
      " 5*********\n",
      " 6***********\n",
      " 7**************\n",
      " 8*****************\n",
      " 9********************\n",
      "10************************\n",
      " 0K         2.5K           5.0K           7.5K              10.0K\n"
     ]
    }
   ],
   "source": [
    "# 将以上例子分为多个函数，使得程序更易读\n",
    "\n",
    "# 为每一年绘制星号的增长图\n",
    "def createtable(principal, apr):\n",
    "    for year in range(1, 11):\n",
    "        principal = principal * (1 + apr)\n",
    "        print('%2d' % year, end = '')\n",
    "        total = caculatenum(principal)\n",
    "        print('*' * total)\n",
    "    print(' 0K         2.5K           5.0K           7.5K              10.0K')\n",
    "\n",
    "# 计算星号数量\n",
    "def caculatenum(principal):\n",
    "    total = int(principal * 4 / 1000)\n",
    "    return total\n",
    "\n",
    "def main():\n",
    "    print('Thin program plots the growth of a 10-year investment.')\n",
    "    # 输入本金和利率\n",
    "    principal = eval(input('Enter the initial principal: '))\n",
    "    apr = eval(input('Enter the annualized interest rate: '))\n",
    "    # 建立图表\n",
    "    createtable(principal, apr)\n",
    "    \n",
    "main()"
   ]
  },
  {
   "cell_type": "code",
   "execution_count": null,
   "metadata": {
    "collapsed": true,
    "deletable": true,
    "editable": true
   },
   "outputs": [],
   "source": [
    "'''\n",
    "上述两个例子中，第二个例子增加多个函数，使得程序更加易读。\n",
    "'''"
   ]
  },
  {
   "cell_type": "code",
   "execution_count": null,
   "metadata": {
    "collapsed": true,
    "deletable": true,
    "editable": true
   },
   "outputs": [],
   "source": [
    "'''\n",
    "递归\n",
    "\n",
    "1、递归指在函数定义中使用函数本身的方法。\n",
    "\n",
    "2、递归特征：\n",
    "   \n",
    "   有一个或多个基例是不需要再次递归的；\n",
    "   所有递归链都要以一个基例结尾。\n",
    "   \n",
    "3、注意\n",
    "\n",
    "   递归每次调用都会引起新函数的开始\n",
    "   Python中设定有最大递归调用深度（900次），超过则会提示RuntimeError错误，表示超过最大递归调用深度。\n",
    "   构造递归函数必须有基例且该基例不进行递归，否则即会造成无限递归\n",
    "'''"
   ]
  },
  {
   "cell_type": "code",
   "execution_count": 8,
   "metadata": {
    "collapsed": false,
    "deletable": true,
    "editable": true
   },
   "outputs": [
    {
     "name": "stdout",
     "output_type": "stream",
     "text": [
      "请输入要计算的值：4\n",
      "\n",
      "初始值为（0或1）：1\n",
      "\n",
      "4的阶乘为24。\n"
     ]
    }
   ],
   "source": [
    "# 阶乘计算—for循环\n",
    "n = eval(input('请输入要计算的值：'))\n",
    "num = eval(input('\\n初始值为（0或1）：'))\n",
    "if num == 0:\n",
    "    print('0的阶乘为0。')\n",
    "else:\n",
    "    for i in range(1, n + 1):\n",
    "        num = num * i\n",
    "    print('\\n{}的阶乘为{}。'.format(n, num))"
   ]
  },
  {
   "cell_type": "code",
   "execution_count": 16,
   "metadata": {
    "collapsed": false,
    "deletable": true,
    "editable": true
   },
   "outputs": [
    {
     "data": {
      "text/plain": [
       "3628800"
      ]
     },
     "execution_count": 16,
     "metadata": {},
     "output_type": "execute_result"
    }
   ],
   "source": [
    "# 阶乘计算—递归函数\n",
    "def fact(n):\n",
    "    if n == 0: # n = 0即为函数基例，函数最先检查是否满足基例，若满足则返回对应值，结束执行\n",
    "        return 1\n",
    "    else:\n",
    "        return n * fact(n - 1) # 若未满足基例n = 0，则执行n * (n-1)的阶乘\n",
    "        \n",
    "fact(10)"
   ]
  },
  {
   "cell_type": "code",
   "execution_count": 20,
   "metadata": {
    "collapsed": false
   },
   "outputs": [
    {
     "name": "stdout",
     "output_type": "stream",
     "text": [
      "gfedcba\n"
     ]
    }
   ],
   "source": [
    "# 字符串反转\n",
    "# 方法1：字符串转换为字符列表，反转列表后将其转换为字符串\n",
    "a = 'abcdefg'\n",
    "rev_a = reversed(a)\n",
    "print(a[::-1])"
   ]
  },
  {
   "cell_type": "code",
   "execution_count": 5,
   "metadata": {
    "collapsed": false
   },
   "outputs": [
    {
     "data": {
      "text/plain": [
       "'gfedcba'"
      ]
     },
     "execution_count": 5,
     "metadata": {},
     "output_type": "execute_result"
    }
   ],
   "source": [
    "# 字符串反转\n",
    "# 方法2：递归\n",
    "def reverse(s):\n",
    "    if s == '':\n",
    "        return s\n",
    "    else:\n",
    "        return reverse(s[1:]) + s[0]\n",
    "    \n",
    "reverse('abcdefg')"
   ]
  }
 ],
 "metadata": {
  "kernelspec": {
   "display_name": "Python 3",
   "language": "python",
   "name": "python3"
  },
  "language_info": {
   "codemirror_mode": {
    "name": "ipython",
    "version": 3
   },
   "file_extension": ".py",
   "mimetype": "text/x-python",
   "name": "python",
   "nbconvert_exporter": "python",
   "pygments_lexer": "ipython3",
   "version": "3.6.0"
  }
 },
 "nbformat": 4,
 "nbformat_minor": 2
}
