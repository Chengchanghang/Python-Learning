{
 "cells": [
  {
   "cell_type": "code",
   "execution_count": null,
   "metadata": {
    "collapsed": true
   },
   "outputs": [],
   "source": [
    "'''\n",
    "turtle库\n",
    "\n",
    "一、控制画笔绘制状态的函数（3个）\n",
    "\n",
    "    函数                    描述\n",
    "    pendown()               放下画笔\n",
    "    penup()                 提起画笔，与pendown()配对使用\n",
    "    pensize(width)          将画笔线条的粗细设置为指定大小\n",
    "\n",
    "二、控制画笔运动的函数（13个）\n",
    "\n",
    "    函数                    描述\n",
    "    forward(distance)       沿着当前方向前进指定距离\n",
    "    backward(distance)      沿着当前相反方向后退指定距离\n",
    "    right(angle)            向右旋转angle角度\n",
    "    left(angle)             向左旋转angle角度\n",
    "    goto(x, y)              移动到绝对坐标（x, y）处\n",
    "    setx()                  将当前x轴移动到指定位置\n",
    "    sety()                  将当前y轴移动到指定位置\n",
    "    setheading(angle)       设置当前朝向为angle角度\n",
    "    home()                  设置当前画笔位置为原点，朝向东      \n",
    "    circle(step)            绘制一个指定半径、角度以及绘制步骤step的圆\n",
    "    dot(r, color)           绘制一个指定半径r和颜色的原点\n",
    "    undo()                  撤销画笔最后一步的动作\n",
    "    speed()                 设置画笔的绘制速度，参数在0-10之间\n",
    "    \n",
    "三、控制画笔颜色和字体的函数（11个）\n",
    "\n",
    "    函数                          描述\n",
    "    color()                       设置画笔颜色\n",
    "    begin_fill()                  填充图形前，调用该方法\n",
    "    end_fill()                    填充图形结束\n",
    "    filling()                     返回填充状态，True为填充，False为未填充\n",
    "    clear()                       清空当前窗口，但不改变当前画笔的位置\n",
    "    reset()                       清空当前窗口，并重置位置等状态为默认值\n",
    "    screensize()                  设置画布的长和宽\n",
    "    hideturtle()                  隐藏画笔的turtle形状\n",
    "    showturtle()                  显示画笔的turtle形状\n",
    "    isvisible()                   如果turtle可见，则返回True\n",
    "    write(str, font = None)       输出font字体的字符串\n",
    "'''"
   ]
  }
 ],
 "metadata": {
  "kernelspec": {
   "display_name": "Python 3",
   "language": "python",
   "name": "python3"
  },
  "language_info": {
   "codemirror_mode": {
    "name": "ipython",
    "version": 3
   },
   "file_extension": ".py",
   "mimetype": "text/x-python",
   "name": "python",
   "nbconvert_exporter": "python",
   "pygments_lexer": "ipython3",
   "version": "3.6.0"
  }
 },
 "nbformat": 4,
 "nbformat_minor": 2
}
