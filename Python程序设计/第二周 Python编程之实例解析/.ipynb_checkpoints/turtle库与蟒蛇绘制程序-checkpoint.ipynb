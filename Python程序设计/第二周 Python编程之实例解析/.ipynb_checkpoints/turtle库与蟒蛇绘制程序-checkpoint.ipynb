{
 "cells": [
  {
   "cell_type": "code",
   "execution_count": 1,
   "metadata": {
    "collapsed": false,
    "deletable": true,
    "editable": true
   },
   "outputs": [],
   "source": [
    "# 案例—绘制小蟒蛇\n",
    "import turtle # turtle是Python中绘制图像的库\n",
    "\n",
    "def drawSnake(rad, angle, len, neckrad):\n",
    "    for i in range(len):\n",
    "        turtle.circle(rad, angle)        \n",
    "        turtle.circle(-rad, angle)\n",
    "    turtle.circle(rad, angle/2)\n",
    "    # circle用于画圆，该函数由三个参数\n",
    "            radius — 圆的半径，若半径为正值，则圆心在小乌龟左侧radius距离的位置；若为负值，则圆心在小乌龟右侧radius距离的位置\n",
    "            extent — 用来设定画圆的哪部分，若没有给定，则画整个圆\n",
    "            steps  — 整数，作多边形图时设定边数，若没有设置该参数，则自动计算\n",
    "    \n",
    "    turtle.fd(rad)\n",
    "    # fd函数（forward）表示小乌龟向前移动的距离，该函数有一个参数。可通过position查看小乌龟当前所处位置坐标(x, y)。\n",
    "        distance — 整形或浮点，设定距离值\n",
    "    \n",
    "    turtle.circle(neckrad+1, 180)\n",
    "    turtle.fd(rad*2/3)\n",
    "    \n",
    "def main():\n",
    "    turtle.setup(1300, 800, 0, 0)\n",
    "    # setup函数启动了一个图形窗口，该函数包括四个参数\n",
    "        width    — 图形窗口的宽度\n",
    "        height   — 图形窗口的高度\n",
    "        startx   — 若为正，则图形的起始位置在屏幕的左侧边缘；\n",
    "                    若为负，则在屏幕右侧边缘（默认）；\n",
    "                    若startx = None，则在窗口中间且为水平的。                   \n",
    "        starty   — 若为正，则图形的起始位置在屏幕的顶部边缘；\n",
    "                    若为负，则图形的起始位置在屏幕的底部边缘；\n",
    "                    若starty = None，则在窗口中间且为垂直的。\n",
    "        （电脑屏幕本身即为坐标系，其原点在左上角，横为X轴，竖为Y轴）\n",
    "    \n",
    "    pythonsize = 30\n",
    "    turtle.pensize(pythonsize)\n",
    "    # pensize函数表示线条宽度，该函数只有一个参数\n",
    "        width — 正数，用来设定线条宽度，若该参数没有给定，即使用默认宽度1，并返回当前线条宽度\n",
    "    \n",
    "    turtle.pencolor('blue')\n",
    "    # pencolor函数表示线条颜色，该函数参数有四种输入形式\n",
    "        pencolor()             —使用默认线条颜色，并返回当前线条颜色的十六进制\n",
    "        pencolor(colorstring)  —使用指定颜色字符串，例“red”、“blue”\n",
    "        pencolor((r, g, b))    —r、g、b是元组，代表RGB颜色，\n",
    "        pencolor(r, g, b)      —同上，代表RGB颜色，但不是元组\n",
    "    \n",
    "    turtle.seth(-40)\n",
    "    # seth函数（setheading）表示启动时运行的方向，该函数包含一个参数\n",
    "        to_angle —整形或浮点数，默认为90度，负值则表示相反方向\n",
    "        常用方向：标准模式（0—东、90—北、180—西、270—南），与坐标轴角度相同\n",
    "                  logo模式（0—北、90—东、180—南、270—西），相当于坐标轴0度转到90的位置\n",
    "    \n",
    "    drawSnake(40, 80, 5, pythonsize/2)\n",
    "    \n",
    "main()"
   ]
  },
  {
   "cell_type": "code",
   "execution_count": 5,
   "metadata": {
    "collapsed": false
   },
   "outputs": [
    {
     "name": "stdout",
     "output_type": "stream",
     "text": [
      "Help on function position in module turtle:\n",
      "\n",
      "position()\n",
      "    Return the turtle's current location (x,y), as a Vec2D-vector.\n",
      "    \n",
      "    Aliases: pos | position\n",
      "    \n",
      "    No arguments.\n",
      "    \n",
      "    Example:\n",
      "    >>> pos()\n",
      "    (0.00, 240.00)\n",
      "\n"
     ]
    }
   ],
   "source": [
    "# 可通过dir(module)函数查看某个模块中包含的内容，help(object)函数查看某个指定内容的帮助文档\n",
    "import turtle \n",
    "help(turtle.position)"
   ]
  },
  {
   "cell_type": "code",
   "execution_count": null,
   "metadata": {
    "collapsed": true,
    "deletable": true,
    "editable": true
   },
   "outputs": [],
   "source": [
    "'''\n",
    "def定义函数\n",
    "\n",
    "1、函数式一组代码的集合，用于表达一个功能，或者说函数表示一组代码的归属，函数名称是这段代码的名字\n",
    "\n",
    "2、def定义的函数在程序中未经调用不能直接执行，需要通过函数名调用才能够执行\n",
    "'''"
   ]
  }
 ],
 "metadata": {
  "kernelspec": {
   "display_name": "Python 3",
   "language": "python",
   "name": "python3"
  },
  "language_info": {
   "codemirror_mode": {
    "name": "ipython",
    "version": 3
   },
   "file_extension": ".py",
   "mimetype": "text/x-python",
   "name": "python",
   "nbconvert_exporter": "python",
   "pygments_lexer": "ipython3",
   "version": "3.6.0"
  }
 },
 "nbformat": 4,
 "nbformat_minor": 2
}
