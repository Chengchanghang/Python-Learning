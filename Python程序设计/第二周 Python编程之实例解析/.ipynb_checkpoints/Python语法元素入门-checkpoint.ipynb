{
 "cells": [
  {
   "cell_type": "code",
   "execution_count": null,
   "metadata": {
    "collapsed": true
   },
   "outputs": [],
   "source": [
    "'''\n",
    "本节主要内容—Python语法元素\n",
    "\n",
    "注释、输入、缩进、输出、变量、分支、常亮、循环、表达式\n",
    "'''"
   ]
  },
  {
   "cell_type": "code",
   "execution_count": null,
   "metadata": {
    "collapsed": true
   },
   "outputs": [],
   "source": [
    "# 1、缩进\n",
    "\n",
    "'''\n",
    "1个缩进 = 4个空格\n",
    "\n",
    "目的：\n",
    "\n",
    "1、用以在Python中标明代码间的层次关系\n",
    "\n",
    "2、Python中表明程序框架的唯一手段\n",
    "\n",
    "使用：\n",
    "\n",
    "1、tab键，可形成一个缩进\n",
    "\n",
    "2、空格键，只能形成一个空格\n",
    "'''"
   ]
  },
  {
   "cell_type": "code",
   "execution_count": null,
   "metadata": {
    "collapsed": true
   },
   "outputs": [],
   "source": [
    "# 2、注释\n",
    "\n",
    "'''\n",
    "特点：\n",
    "\n",
    "1、程序员在代码中加入的辅助说明信息，不能被计算机执行，也不受语法约束，可在里面写入任何内容\n",
    "\n",
    "2、一般，注释用来帮助程序员记录程序设计方法，辅助程序阅读\n",
    "\n",
    "使用：\n",
    "\n",
    "1、单行注释。在句首添加“#”\n",
    "\n",
    "2、多行注释。使用三引号将内容包含起来\n",
    "\n",
    "注意：\n",
    "\n",
    "1、表示缩进关系的空格不能改变\n",
    "\n",
    "2、空格不能将一个命名分割\n",
    "\n",
    "3、除以上两条外，程序中可任意使用空格增加代码可读性\n",
    "'''"
   ]
  },
  {
   "cell_type": "code",
   "execution_count": null,
   "metadata": {
    "collapsed": true
   },
   "outputs": [],
   "source": [
    "# 3、变量\n",
    "\n",
    "'''\n",
    "变量可看做某个对象的名称\n",
    "\n",
    "变量命名规则：\n",
    "\n",
    "1、使用大小写字母、数字和下划线的组合，但首字母只能是大小写字母或下划线，不能使用空格\n",
    "\n",
    "2、中文等非字母符号也可以作为名字\n",
    "\n",
    "3、Python对于大小写敏感，同时Python中有33个保留字，定义变量名称不可与保留字相同\n",
    "\n",
    "变量无类型，对象有类型\n",
    "\n",
    "赋值：\n",
    "\n",
    "使用“=”将某个对象赋给变量\n",
    "\n",
    "同步赋值：指同时给多个变量赋值，即先运算右侧N个表达式，然后同时将表达式结果赋值给左侧\n",
    "\n",
    "例：变量1、变量2、... = 表达式1、表达式2、...\n",
    "'''"
   ]
  },
  {
   "cell_type": "code",
   "execution_count": null,
   "metadata": {
    "collapsed": true
   },
   "outputs": [],
   "source": [
    "# 4、表达式\n",
    "\n",
    "'''\n",
    "表达式指程序中产生或计算新数据的一行代码\n",
    "\n",
    "Python语言的33个保留字或者操作符可以产生符合语法的表达式，例x = 25\n",
    "'''"
   ]
  },
  {
   "cell_type": "code",
   "execution_count": null,
   "metadata": {
    "collapsed": true
   },
   "outputs": [],
   "source": [
    "# 5、输入\n",
    "\n",
    "'''\n",
    "Python 3中输入函数为input\n",
    "Python 2中输入函数为raw_input\n",
    "\n",
    "Python中索引：\n",
    "\n",
    "从左到右：从0开始依次增加\n",
    "\n",
    "从右到左：从-1开始依次减少\n",
    "'''"
   ]
  },
  {
   "cell_type": "code",
   "execution_count": null,
   "metadata": {
    "collapsed": true
   },
   "outputs": [],
   "source": [
    "# 6、分支\n",
    "\n",
    "'''\n",
    "诸如if ... elif ... else ...等\n",
    "'''"
   ]
  },
  {
   "cell_type": "code",
   "execution_count": null,
   "metadata": {
    "collapsed": true
   },
   "outputs": [],
   "source": [
    "# 7、循环\n",
    "\n",
    "'''\n",
    "循环语句：指控制程序循环运行的语句。这类语句一般根据判断条件或者计数条件确定一段程序的运行次数\n",
    "\n",
    "for ... in ...，while循环\n",
    "\n",
    "计数循环：for i in range(数值)：\n",
    "                <表达式>\n",
    "'''"
   ]
  },
  {
   "cell_type": "code",
   "execution_count": 2,
   "metadata": {
    "collapsed": false
   },
   "outputs": [
    {
     "name": "stdout",
     "output_type": "stream",
     "text": [
      "Please enter first number：3\n",
      "Please enter second number：4\n",
      "The average number is 3.50\n"
     ]
    }
   ],
   "source": [
    "# 例：用户输入两个数，计算平均数并输出\n",
    "num1 = int(input('Please enter first number：'))\n",
    "num2 = int(input('Please enter second number：'))\n",
    "avg_num = (num1 + num2) / 2\n",
    "print('The average number is %.2f' % avg_num)"
   ]
  }
 ],
 "metadata": {
  "kernelspec": {
   "display_name": "Python 3",
   "language": "python",
   "name": "python3"
  },
  "language_info": {
   "codemirror_mode": {
    "name": "ipython",
    "version": 3
   },
   "file_extension": ".py",
   "mimetype": "text/x-python",
   "name": "python",
   "nbconvert_exporter": "python",
   "pygments_lexer": "ipython3",
   "version": "3.6.0"
  }
 },
 "nbformat": 4,
 "nbformat_minor": 2
}
