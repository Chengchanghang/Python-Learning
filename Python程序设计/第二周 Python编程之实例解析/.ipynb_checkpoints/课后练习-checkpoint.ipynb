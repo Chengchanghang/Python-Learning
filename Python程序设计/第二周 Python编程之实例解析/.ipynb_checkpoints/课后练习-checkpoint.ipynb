{
 "cells": [
  {
   "cell_type": "code",
   "execution_count": 2,
   "metadata": {
    "collapsed": false,
    "deletable": true,
    "editable": true
   },
   "outputs": [
    {
     "name": "stdout",
     "output_type": "stream",
     "text": [
      "请输入当前环境下的温度值（单位：C/c、F/f）：18c\n",
      "当前华氏温度为：64.40F\n"
     ]
    }
   ],
   "source": [
    "# 1、温度转换程序\n",
    "val = input('请输入当前环境下的温度值（单位：C/c、F/f）：')\n",
    "if val[-1] in ['C', 'c']:\n",
    "    f = 1.8 * float(val[:-1]) + 32\n",
    "    # 由于input对象为字符串类型，故使用float函数将其转换为浮点型用于计算\n",
    "    \n",
    "    print('当前华氏温度为：%.2fF' % f)\n",
    "elif val[-1] in ['F', 'f']:\n",
    "    c = (float(val[:-1]) - 32) / 1.8\n",
    "    print('当前摄氏温度为：%.2fC' % c)\n",
    "else:\n",
    "    print('您的输入有误，请重新输入！')"
   ]
  },
  {
   "cell_type": "code",
   "execution_count": 1,
   "metadata": {
    "collapsed": false,
    "deletable": true,
    "editable": true
   },
   "outputs": [
    {
     "name": "stdout",
     "output_type": "stream",
     "text": [
      "请输入当前环境下的温度值（单位：C/c、F/f）：18c\n",
      "当前华氏温度为：64.40F\n"
     ]
    }
   ],
   "source": [
    "# 2、修改的温度转换程序—用eval函数代替float函数\n",
    "val = input('请输入当前环境下的温度值（单位：C/c、F/f）：')\n",
    "if val[-1] in ['C', 'c']:\n",
    "    f = 1.8 * eval(val[:-1]) + 32\n",
    "    # eval函数作用去除引号，即可将input对象（字符串）的引号去掉转换为数值从而用于计算\n",
    "    \n",
    "    print('当前华氏温度为：%.2fF' % f)\n",
    "elif val[-1] in ['F', 'f']:\n",
    "    c = (eval(val[:-1]) - 32) / 1.8\n",
    "    print('当前摄氏温度为：%.2fC' % c)\n",
    "else:\n",
    "    print('您的输入有误，请重新输入！')"
   ]
  },
  {
   "cell_type": "code",
   "execution_count": 1,
   "metadata": {
    "collapsed": false,
    "deletable": true,
    "editable": true
   },
   "outputs": [],
   "source": [
    "# 3、小蟒蛇绘制程序\n",
    "import turtle\n",
    "\n",
    "def drawnSnake(rad, angle, len, neckrad):\n",
    "    for i in range(len): # 执行len次\n",
    "        turtle.circle(rad, angle)\n",
    "        turtle.circle(-rad, angle)\n",
    "    turtle.circle(rad, angle/2)\n",
    "    turtle.fd(rad)\n",
    "    turtle.circle(neckrad + 1, 180)\n",
    "    turtle.fd(rad*2/3)\n",
    "    \n",
    "def main():\n",
    "    turtle.setup(1300, 800, 0, 0)\n",
    "    pythonsize = 30\n",
    "    turtle.pensize(pythonsize)\n",
    "    turtle.pencolor('blue')\n",
    "    turtle.seth(-40)\n",
    "    drawnSnake(40, 80, 2, pythonsize/2)\n",
    "    \n",
    "main()"
   ]
  },
  {
   "cell_type": "code",
   "execution_count": 1,
   "metadata": {
    "collapsed": false,
    "deletable": true,
    "editable": true
   },
   "outputs": [],
   "source": [
    "# 4、彩色小蟒蛇绘制\n",
    "import turtle\n",
    "def drawnSnake(rad, angle, len, neckrad):\n",
    "    for i in range(len):\n",
    "        turtle.pencolor('yellow') # 设定每次画不同的圆使用不同颜色的笔\n",
    "        turtle.circle(rad, angle)\n",
    "        turtle.pencolor('red')\n",
    "        turtle.circle(-rad, angle)\n",
    "    turtle.circle(rad, angle/2)\n",
    "    turtle.fd(rad)\n",
    "    turtle.circle(neckrad + 1, 180)\n",
    "    turtle.fd(rad*2/3)\n",
    "    \n",
    "def main():\n",
    "    turtle.setup(1000, 1000, 0, 0)\n",
    "    pythonsize = 30\n",
    "    turtle.pensize(pythonsize)\n",
    "    turtle.seth(-40)\n",
    "    drawnSnake(20, 80, 5, pythonsize/2)\n",
    "    \n",
    "main()"
   ]
  },
  {
   "cell_type": "code",
   "execution_count": 1,
   "metadata": {
    "collapsed": false,
    "deletable": true,
    "editable": true
   },
   "outputs": [],
   "source": [
    "# 5、绘制等边三角形\n",
    "import turtle\n",
    "def drawnTria(length, angle, len):\n",
    "    for i in range(len):\n",
    "        turtle.seth(i * 120)\n",
    "        turtle.fd(length)\n",
    "\n",
    "def main():\n",
    "    turtle.setup(1000, 700, 0, 0)\n",
    "    turtle.seth(0)\n",
    "    turtle.pensize(20)\n",
    "    turtle.pencolor('red')\n",
    "    drawnTria(200, 0, 3)\n",
    "\n",
    "main()"
   ]
  }
 ],
 "metadata": {
  "kernelspec": {
   "display_name": "Python 3",
   "language": "python",
   "name": "python3"
  },
  "language_info": {
   "codemirror_mode": {
    "name": "ipython",
    "version": 3
   },
   "file_extension": ".py",
   "mimetype": "text/x-python",
   "name": "python",
   "nbconvert_exporter": "python",
   "pygments_lexer": "ipython3",
   "version": "3.6.0"
  }
 },
 "nbformat": 4,
 "nbformat_minor": 2
}
