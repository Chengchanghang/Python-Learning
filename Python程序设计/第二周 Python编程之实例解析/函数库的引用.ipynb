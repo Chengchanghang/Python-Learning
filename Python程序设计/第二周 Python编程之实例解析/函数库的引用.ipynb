{
 "cells": [
  {
   "cell_type": "code",
   "execution_count": null,
   "metadata": {
    "collapsed": true
   },
   "outputs": [],
   "source": [
    "'''\n",
    "Python对库函数引用的方式：\n",
    "\n",
    "1、在程序头部增加：import <库名>\n",
    "\n",
    "    例：import turtle\n",
    "\n",
    "   在程序中要使用库中的函数，则应写为：<库名>.<函数名>\n",
    "   \n",
    "    例：turtle.fd(20)\n",
    "   \n",
    "2、from <库名> import <函数名>，该种引用方法在使用其中函数时，应写为：<库名>.<函数名>。采用该方法在编写程序时可以编写与库中函数同名的函数\n",
    "    \n",
    "    或 \n",
    "   \n",
    "   from <库名> import *，该种引用方法在使用其中函数时，则直接写函数名即可。采用该方法在编写程序时则不可以编写与库中函数同名的函数，以保证名称的唯一性。\n",
    "'''"
   ]
  }
 ],
 "metadata": {
  "kernelspec": {
   "display_name": "Python 3",
   "language": "python",
   "name": "python3"
  },
  "language_info": {
   "codemirror_mode": {
    "name": "ipython",
    "version": 3
   },
   "file_extension": ".py",
   "mimetype": "text/x-python",
   "name": "python",
   "nbconvert_exporter": "python",
   "pygments_lexer": "ipython3",
   "version": "3.6.0"
  }
 },
 "nbformat": 4,
 "nbformat_minor": 2
}
