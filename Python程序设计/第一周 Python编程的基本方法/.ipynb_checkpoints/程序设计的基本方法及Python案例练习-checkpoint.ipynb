{
 "cells": [
  {
   "cell_type": "code",
   "execution_count": null,
   "metadata": {
    "collapsed": true,
    "deletable": true,
    "editable": true
   },
   "outputs": [],
   "source": [
    "# 程序设计的基本方法\n",
    "'''\n",
    "程序设计遵循的基本方法：IPO模式\n",
    "                        “I”—input，指程序输入\n",
    "                        “P”—process，指程序主要逻辑\n",
    "                        “O”—output，指程序的输出\n",
    "                        \n",
    "不遵循IPO模式的程序—如：死循环(死循环通过不间断运行，可用于检测CPU性能)\n",
    "while (True):\n",
    "    a =1     # 将一直输出a = 1\n",
    "    \n",
    "程序编写的步骤：\n",
    "\n",
    "分析问题—分析问题的计算部分\n",
    "确定问题—将计算部分划分为IPO三部分\n",
    "设计算法—设计计算部分的核心方法设计\n",
    "编写程序—实现整个程序的编写\n",
    "调试程序—使程序在各种情况下都能正确运行\n",
    "升级维护—使程序长期正确运行，适应需求的微小变化\n",
    "'''"
   ]
  },
  {
   "cell_type": "code",
   "execution_count": null,
   "metadata": {
    "collapsed": true,
    "deletable": true,
    "editable": true
   },
   "outputs": [],
   "source": [
    "# 实例分析\n",
    "'''\n",
    "华氏温度与摄氏温度之间的转换问题：\n",
    "\n",
    "方法一：根据两种温度的换算公式，写温度换算程序，该程序能够人为输入温度，程序将其转换后输出温度\n",
    "\n",
    "方法二：网络上有类似的温度换算程序，可通过写网络程序，将人为输入的温度发送到互联网，获得结果并输出\n",
    "\n",
    "方法三：编写程序通过GPS定位获得所处位置，通过网络获取当前位置温度信息，自动进行温度换算\n",
    "\n",
    "方法四：编写程序监听温度信息发布渠道，如：收音机、电视等，由语音识别、图像识别等方法自动获得温度信息数值，自动进行温度转换\n",
    "\n",
    "华氏温度与摄氏温度知识普及：\n",
    "摄氏温度—指一标准大气压下，结冰点为0度，沸点为100度\n",
    "华氏温度—指一标准大气压下，结冰点为32度，沸点为212度\n",
    "'''"
   ]
  },
  {
   "cell_type": "code",
   "execution_count": null,
   "metadata": {
    "collapsed": true,
    "deletable": true,
    "editable": true
   },
   "outputs": [],
   "source": [
    "# 华氏温度与摄氏温度转换步骤分析\n",
    "'''\n",
    "步骤一：分析问题的计算部分\n",
    "\n",
    "步骤二：确定功能，使用IPO方法进一步分析\n",
    "            输入：华氏或摄氏温度、温度标识\n",
    "            处理：温度转换算法\n",
    "            输出：摄氏或华氏温度、温度标识\n",
    "            F标识华氏温度，C表示摄氏温度\n",
    "            \n",
    "步骤三：设计算法，根据摄氏与华氏温度的转换公式设计算法\n",
    "\n",
    "步骤四：编写程序\n",
    "'''"
   ]
  },
  {
   "cell_type": "code",
   "execution_count": 2,
   "metadata": {
    "collapsed": false,
    "deletable": true,
    "editable": true,
    "scrolled": true
   },
   "outputs": [
    {
     "name": "stdout",
     "output_type": "stream",
     "text": [
      "请输入带有温度标识符号的温度值(例如：32 C)： 40C\n",
      "转换后的温度： 104.00F\n",
      "请输入带有温度标识符号的温度值(例如：32 C)： 100C\n",
      "转换后的温度： 212.00F\n",
      "请输入带有温度标识符号的温度值(例如：32 C)： 2\n",
      "输入不符合要求\n"
     ]
    }
   ],
   "source": [
    "for i in range(3): # 计数循环，设定将程序运行3次\n",
    "    temp = input('请输入带有温度标识符号的温度值(例如：32 C)： ')\n",
    "    if temp[-1] in ['C', 'c']:                 # 用于判断输入的内容是否有“C”、“c”\n",
    "        f = 1.8 * float(temp[0:-1]) + 32       # temp[0:-1]用于提取输入的数字，float将其转化为浮点数\n",
    "        print('转换后的温度： %.2fF' % f)      # “%”将其格式化输出,“.2f”表示返回浮点数，且保留两位小数\n",
    "    elif temp[-1] in ['F', 'f']:\n",
    "        c = (float(temp[0:-1]) - 32) / 1.8\n",
    "        print('转换后的温度： %.2fC' % c)\n",
    "    else:\n",
    "        print('输入不符合要求')"
   ]
  },
  {
   "cell_type": "code",
   "execution_count": 1,
   "metadata": {
    "collapsed": false,
    "deletable": true,
    "editable": true
   },
   "outputs": [
    {
     "name": "stdout",
     "output_type": "stream",
     "text": [
      "输入值： 100\n",
      "1\n",
      "------------------\n",
      "0\n",
      "------------------\n",
      "100\n",
      "------------------\n",
      "10\n",
      "------------------\n",
      "10\n"
     ]
    }
   ],
   "source": [
    "# 注意内容\n",
    "a = input('输入值： ')  # 以100为例\n",
    "print(a[0], a[1], a[0:], a[:-1], a[0:-1], sep = '\\n------------------\\n')\n",
    "# 该索引提取指定内容只针对输入的值，并不包括“输入值： ”"
   ]
  }
 ],
 "metadata": {
  "kernelspec": {
   "display_name": "Python 3",
   "language": "python",
   "name": "python3"
  },
  "language_info": {
   "codemirror_mode": {
    "name": "ipython",
    "version": 3
   },
   "file_extension": ".py",
   "mimetype": "text/x-python",
   "name": "python",
   "nbconvert_exporter": "python",
   "pygments_lexer": "ipython3",
   "version": "3.6.0"
  }
 },
 "nbformat": 4,
 "nbformat_minor": 2
}
