{
 "cells": [
  {
   "cell_type": "code",
   "execution_count": 1,
   "metadata": {
    "collapsed": false,
    "deletable": true,
    "editable": true
   },
   "outputs": [
    {
     "name": "stdout",
     "output_type": "stream",
     "text": [
      "请输入一个人的名字：杨婷婷\n",
      "请输入一个国家的名字：中国\n",
      "世界那么大，杨婷婷想去中国看看。\n"
     ]
    }
   ],
   "source": [
    "# 1、字符串拼接\n",
    "'''\n",
    "要求：用户输入两个字符串，将他们组合后输出\n",
    "'''\n",
    "str1 = input('请输入一个人的名字：')\n",
    "str2 = input('请输入一个国家的名字：')\n",
    "print('世界那么大，{}想去{}看看。'.format(str1, str2))"
   ]
  },
  {
   "cell_type": "code",
   "execution_count": 5,
   "metadata": {
    "collapsed": false,
    "deletable": true,
    "editable": true,
    "scrolled": false
   },
   "outputs": [
    {
     "name": "stdout",
     "output_type": "stream",
     "text": [
      "请输入正整数：3\n",
      "1到N求和的结果为： 0\n",
      "1到N求和的结果为： 1\n",
      "1到N求和的结果为： 3\n",
      "1到N求和的结果为： 6\n"
     ]
    }
   ],
   "source": [
    "# 2、整数序列求和\n",
    "'''\n",
    "要求：用户输入一个正整数N，计算从1到N（包含1和N）相加之后的结果\n",
    "'''\n",
    "num = int(input('请输入正整数：'))\n",
    "sum = 0\n",
    "for i in range(num + 1):\n",
    "    sum = sum + i \n",
    "    print('1到N求和的结果为： %d' % sum)\n",
    "#     print(i)"
   ]
  },
  {
   "cell_type": "code",
   "execution_count": 6,
   "metadata": {
    "collapsed": false,
    "deletable": true,
    "editable": true
   },
   "outputs": [
    {
     "name": "stdout",
     "output_type": "stream",
     "text": [
      "1 × 1 = 1\n",
      "2 × 1 = 22 × 2 = 4\n",
      "3 × 1 = 33 × 2 = 63 × 3 = 9\n",
      "4 × 1 = 44 × 2 = 84 × 3 = 124 × 4 = 16\n",
      "5 × 1 = 55 × 2 = 105 × 3 = 155 × 4 = 205 × 5 = 25\n",
      "6 × 1 = 66 × 2 = 126 × 3 = 186 × 4 = 246 × 5 = 306 × 6 = 36\n",
      "7 × 1 = 77 × 2 = 147 × 3 = 217 × 4 = 287 × 5 = 357 × 6 = 427 × 7 = 49\n",
      "8 × 1 = 88 × 2 = 168 × 3 = 248 × 4 = 328 × 5 = 408 × 6 = 488 × 7 = 568 × 8 = 64\n",
      "9 × 1 = 99 × 2 = 189 × 3 = 279 × 4 = 369 × 5 = 459 × 6 = 549 × 7 = 639 × 8 = 729 × 9 = 81\n",
      "10 × 1 = 1010 × 2 = 2010 × 3 = 3010 × 4 = 4010 × 5 = 5010 × 6 = 6010 × 7 = 7010 × 8 = 8010 × 9 = 9010 × 10 = 100\n"
     ]
    }
   ],
   "source": [
    "# 3、九九乘法表\n",
    "'''\n",
    "要求：输出常用的九九乘法表，格式不限\n",
    "'''\n",
    "for i in range(1,11):\n",
    "    for j in range(1, i+1):\n",
    "        print('{} × {} = {}'.format(i, j , i*j), end = '')\n",
    "    print('')\n",
    "\n",
    "# 自己编写的代码—二者的区别在于：第二个循环处相对于课程案例代码较为复杂，多写了个num列表\n",
    "# num = [1,2,3,4,5,6,7,8,9]\n",
    "# for i in range(1,11):\n",
    "#     for j in num:\n",
    "#         multi = i * j\n",
    "#         print(str(i) + ' × ' + str(j) + ' =',str(multi), end = '')\n",
    "#     print('')"
   ]
  },
  {
   "cell_type": "code",
   "execution_count": 17,
   "metadata": {
    "collapsed": false,
    "deletable": true,
    "editable": true
   },
   "outputs": [
    {
     "name": "stdout",
     "output_type": "stream",
     "text": [
      "计算结果：1 1\n",
      "计算结果：3 2\n",
      "计算结果：9 6\n"
     ]
    }
   ],
   "source": [
    "# 4、阶乘计算\n",
    "'''\n",
    "要求：计算1到10的各自阶乘的和\n",
    "'''\n",
    "sum, temp = 0,1\n",
    "for i in range(1,4):\n",
    "    temp = temp * i # 等价于temp *= i，即temp*i的值赋予temp\n",
    "    sum = temp + sum # 等价于sum += temp\n",
    "    print('计算结果：{}'.format(sum))"
   ]
  },
  {
   "cell_type": "code",
   "execution_count": 22,
   "metadata": {
    "collapsed": false,
    "deletable": true,
    "editable": true
   },
   "outputs": [
    {
     "name": "stdout",
     "output_type": "stream",
     "text": [
      "4\n",
      "10\n",
      "22\n",
      "46\n",
      "94\n"
     ]
    }
   ],
   "source": [
    "# 5、桃子总数—有疑问\n",
    "n = 1\n",
    "for i in range(5, 0, -1):\n",
    "    n = (n+1) << 1\n",
    "    print(n)"
   ]
  },
  {
   "cell_type": "code",
   "execution_count": 23,
   "metadata": {
    "collapsed": false,
    "deletable": true,
    "editable": true
   },
   "outputs": [
    {
     "name": "stdout",
     "output_type": "stream",
     "text": [
      "西红柿花椰菜\n",
      "西红柿黄瓜\n",
      "西红柿牛排\n",
      "西红柿虾仁\n",
      "花椰菜西红柿\n",
      "花椰菜黄瓜\n",
      "花椰菜牛排\n",
      "花椰菜虾仁\n",
      "黄瓜西红柿\n",
      "黄瓜花椰菜\n",
      "黄瓜牛排\n",
      "黄瓜虾仁\n",
      "牛排西红柿\n",
      "牛排花椰菜\n",
      "牛排黄瓜\n",
      "牛排虾仁\n",
      "虾仁西红柿\n",
      "虾仁花椰菜\n",
      "虾仁黄瓜\n",
      "虾仁牛排\n"
     ]
    }
   ],
   "source": [
    "# 6、健康食谱输出\n",
    "diet = ['西红柿', '花椰菜', '黄瓜', '牛排', '虾仁']\n",
    "for x in range(0, 5):\n",
    "    for y in range(0, 5):\n",
    "        if not(x == y):\n",
    "            print('{}{}'.format(diet[x], diet[y]))"
   ]
  },
  {
   "cell_type": "code",
   "execution_count": 11,
   "metadata": {
    "collapsed": false,
    "deletable": true,
    "editable": true
   },
   "outputs": [],
   "source": [
    "# 7、红五角星绘制\n",
    "from turtle import *\n",
    "fillcolor('red')\n",
    "begin_fill()\n",
    "while True:\n",
    "    forward(200)\n",
    "    right(144)\n",
    "    if abs(pos()) < 1:\n",
    "        break\n",
    "end_fill()"
   ]
  },
  {
   "cell_type": "code",
   "execution_count": 12,
   "metadata": {
    "collapsed": false,
    "deletable": true,
    "editable": true
   },
   "outputs": [],
   "source": [
    "# 8、太阳花绘制\n",
    "from turtle import *\n",
    "color('red', 'yellow')\n",
    "begin_fill()\n",
    "while True:\n",
    "    forward(200)\n",
    "    left(170)\n",
    "    if abs(pos()) < 1:\n",
    "        break\n",
    "end_fill()\n",
    "done()"
   ]
  },
  {
   "cell_type": "code",
   "execution_count": 14,
   "metadata": {
    "collapsed": false,
    "deletable": true,
    "editable": true
   },
   "outputs": [],
   "source": [
    "# 9、螺旋线绘制\n",
    "import turtle\n",
    "import time\n",
    "turtle.speed('fast')\n",
    "turtle.pensize(2)\n",
    "for x in range(100):\n",
    "    turtle.forward(2*x)\n",
    "    turtle.left(90)\n",
    "time.sleep(3)"
   ]
  },
  {
   "cell_type": "code",
   "execution_count": 1,
   "metadata": {
    "collapsed": true,
    "deletable": true,
    "editable": true
   },
   "outputs": [],
   "source": [
    "# 10、彩色螺旋线绘制\n",
    "import turtle\n",
    "import time\n",
    "turtle.pensize(2)\n",
    "turtle.bgcolor('black')\n",
    "colors = ['red', 'yellow', 'purple', 'blue']\n",
    "turtle.tracer(False)\n",
    "for x in range(400):\n",
    "    turtle.forward(2*x)\n",
    "    turtle.color(colors[x % 4])\n",
    "    turtle.left(91)\n",
    "turtle.tracer(True)"
   ]
  }
 ],
 "metadata": {
  "kernelspec": {
   "display_name": "Python 3",
   "language": "python",
   "name": "python3"
  },
  "language_info": {
   "codemirror_mode": {
    "name": "ipython",
    "version": 3
   },
   "file_extension": ".py",
   "mimetype": "text/x-python",
   "name": "python",
   "nbconvert_exporter": "python",
   "pygments_lexer": "ipython3",
   "version": "3.6.0"
  }
 },
 "nbformat": 4,
 "nbformat_minor": 2
}
