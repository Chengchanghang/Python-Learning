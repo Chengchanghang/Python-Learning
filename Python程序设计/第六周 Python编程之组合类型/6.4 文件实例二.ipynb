{
 "cells": [
  {
   "cell_type": "code",
   "execution_count": null,
   "metadata": {
    "collapsed": true
   },
   "outputs": [],
   "source": [
    "'''\n",
    "多文件读写\n",
    "\n",
    "teleaddressbook.txt电话号码簿     emailaddressbook.txt邮箱地址簿\n",
    "姓名     电话                     姓名     邮箱\n",
    "\n",
    "将以上两个文件合并为一个addressbook.txt文件\n",
    "\n",
    "addressbook.txt\n",
    "姓名  电话  邮箱\n",
    "'''"
   ]
  },
  {
   "cell_type": "code",
   "execution_count": 4,
   "metadata": {
    "collapsed": false
   },
   "outputs": [
    {
     "name": "stdout",
     "output_type": "stream",
     "text": [
      "OK!\n"
     ]
    }
   ],
   "source": [
    "# -*- coding:utf-8 -*-\n",
    "# 打开文件、读取文件\n",
    "file1 = open('teleaddressbook.txt', 'r')\n",
    "file2 = open('emailaddressbook.txt', 'r')\n",
    "\n",
    "# 通过读取第一行，跳过第一行\n",
    "file1.readline() \n",
    "file2.readline()\n",
    "\n",
    "# 此时文件中指针在第二行位置，即从第二行开始读取\n",
    "lines1 = file1.readlines()\n",
    "lines2 = file2.readlines()\n",
    "\n",
    "# 建立空列表用于存储姓名、电话、邮箱\n",
    "list1_name = []\n",
    "list1_tele = []\n",
    "list2_name = []\n",
    "list2_email = []\n",
    "\n",
    "# 获取电话簿文件中的信息\n",
    "for line in lines1:\n",
    "    \n",
    "    # 按照tab生成的“\\t”进行分割\n",
    "    elements = line.split()\n",
    "    \n",
    "    # 分别将姓名和电话放在list1_name、list1_tele中\n",
    "    list1_name.append(str(elements[0]))\n",
    "    list1_tele.append(str(elements[1]))\n",
    "\n",
    "# 获取邮箱文件中的信息\n",
    "for line in lines2:\n",
    "    elements = line.split()\n",
    "    list2_name.append(str(elements[0]))\n",
    "    list2_email.append(str(elements[1]))\n",
    "    \n",
    "# 合并处理\n",
    "# 创建临时列表，并生成表头，“\\t”表示之间用空格表示\n",
    "lines = []\n",
    "lines.append('姓名\\t       电话     \\t     邮箱\\n') \n",
    "\n",
    "# 按索引方式遍历姓名列表1\n",
    "for i in range(len(list1_name)):\n",
    "    \n",
    "    # 生成空字符串\n",
    "    s = ''\n",
    "    \n",
    "    # 判断list1_name中姓名在在list2_name中\n",
    "    if list1_name[i] in list2_name:\n",
    "        \n",
    "        # 根据list1_name中两个列表共有的姓名获取在list2_name中索引值\n",
    "        j = list2_name.index(list1_name[i]) \n",
    "        \n",
    "        # 将两个列表中共有的部分，即姓名、电话、邮箱合并为一个字符串，并用“\\t”进行分隔\n",
    "        s = '\\t'.join([list1_name[i], list1_tele[i], list2_email[j]])\n",
    "        \n",
    "        # 加入换行符\n",
    "        s += '\\n'\n",
    "    else:\n",
    "        \n",
    "        # 若list1_name中姓名在list2_name中没有，则邮箱用“-------”代替\n",
    "        s = '\\t'.join([list1_name[i], list1_tele[i], str('  -----  ')])\n",
    "        s += '\\n'\n",
    "        \n",
    "    # 并将合并的字符串添加到列表lines中\n",
    "    lines.append(s)\n",
    "    \n",
    "# 处理列表2中剩余姓名\n",
    "for i in range(len(list2_name)):\n",
    "    s = ''\n",
    "    if list2_name[i] not in list1_name:\n",
    "        s = '\\t'.join([list2_name[i], str('  -------  '), list2_email[i]])\n",
    "        s += '\\n'\n",
    "    lines.append(s)\n",
    "    \n",
    "# 将新生成的合并数据写入新的文件中\n",
    "file3 = open('addressbook.txt', 'w', encoding = 'utf-8')\n",
    "file3.writelines(lines)\n",
    "\n",
    "# 关闭打开的文件\n",
    "file1.close()\n",
    "file2.close()\n",
    "file3.close()\n",
    "\n",
    "print('OK!')"
   ]
  }
 ],
 "metadata": {
  "kernelspec": {
   "display_name": "Python 3",
   "language": "python",
   "name": "python3"
  },
  "language_info": {
   "codemirror_mode": {
    "name": "ipython",
    "version": 3
   },
   "file_extension": ".py",
   "mimetype": "text/x-python",
   "name": "python",
   "nbconvert_exporter": "python",
   "pygments_lexer": "ipython3",
   "version": "3.6.0"
  }
 },
 "nbformat": 4,
 "nbformat_minor": 2
}
