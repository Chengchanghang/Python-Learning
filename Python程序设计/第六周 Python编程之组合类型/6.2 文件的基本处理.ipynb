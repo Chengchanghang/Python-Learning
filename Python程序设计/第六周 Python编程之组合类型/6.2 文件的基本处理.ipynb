{
 "cells": [
  {
   "cell_type": "code",
   "execution_count": null,
   "metadata": {
    "collapsed": true
   },
   "outputs": [],
   "source": [
    "'''\n",
    "一、文件的基本处理\n",
    "\n",
    "    1、打开文件，即建立磁盘上文件与程序中对象相关联，通过相关的文件对象获得\n",
    "    \n",
    "       使用open()函数，基本形式：<变量> = open(<名称>, <模式>)\n",
    "       \n",
    "       名称 — 磁盘文件名，即当前文件所在目录\n",
    "       模式 — 表示打开模式\n",
    "           \n",
    "           模式       说明\n",
    "           r          只读，若文件不存在，则输出错误（故应当先建立对应文件）     \n",
    "           w          只写，若文件不存在，则自动创建文件\n",
    "           a          附加到文件末尾\n",
    "           rb         只读二进制文件，若文件不存在，则输出错误（故应当先建立对应文件）\n",
    "           wb         只写二进制文件，若文件不存在，则自动创建文件\n",
    "           ab         附件到二进制文件末尾\n",
    "           r+         读写\n",
    " \n",
    "    2、文件操作\n",
    "    \n",
    "        读取 — 将文件数据读入计算机内存\n",
    "        \n",
    "            读取函数           说明\n",
    "            （前两个函数返回值均为字符串类型，最后一个为列表类型）\n",
    "            read()             返回值为包含整个文件内容的一个字符串\n",
    "            readline()         返回值为文件下一行内容的字符串\n",
    "            readlines()        返回值为整个文件内容的列表，每项是以换行符为结尾的一行字符串\n",
    "        \n",
    "            注意：\n",
    "\n",
    "            Python中路径如：X:\\\\Users\\\\w\\\\Python学习笔记，使用时应写为：\n",
    "\n",
    "                1、原生字符串形式 — r'X:\\Users\\w\\Python学习笔记'\n",
    "                （若不加“r”，则会出现SyntaxError: (unicode error) 'unicodeescape' codec can't decode bytes in position 16-17: truncated \\uXXXX escape）\n",
    "\n",
    "                2、双反斜杠形式 — X:\\\\Users\\\\w\\\\Python学习笔记\n",
    "\n",
    "                3、单斜杠 — X:/Users/w/Python学习笔记\n",
    "\n",
    "        写入 — 从计算机内存向文件写入数据\n",
    "        \n",
    "            写入函数           说明\n",
    "            write()            把含有文本数据或二进制数据块的字符串写入文件中\n",
    "            writelines()       针对列表操作，接受一个字符串列表作为参数，将其写入文件中，并且行结束符不会被自动加入\n",
    "            \n",
    "        定位 — 定位文件读取位置\n",
    "        追加\n",
    "        计算\n",
    "        ...\n",
    "    \n",
    "    3、关闭文件，即切断文件与程序的联系，将文件缓冲区的数据写入磁盘，并释放文件缓冲区\n",
    "    \n",
    "     \n",
    "'''"
   ]
  },
  {
   "cell_type": "code",
   "execution_count": 19,
   "metadata": {
    "collapsed": false,
    "scrolled": false
   },
   "outputs": [
    {
     "name": "stdout",
     "output_type": "stream",
     "text": [
      "﻿啊\n",
      "发\n",
      "的非官方\n",
      "的非官方大哥\n",
      "dfgdb\n"
     ]
    }
   ],
   "source": [
    "# -*- coding:utf-8 -*-\n",
    "# 读取数据实例\n",
    "import os\n",
    "\n",
    "infile = open(os.getcwd() + '\\\\1.txt', 'r', encoding = 'utf-8')\n",
    "for i in range(5): # 执行五次\n",
    "    line = infile.readline()\n",
    "    print(line[:-1]) # 去掉每一行末尾的换行符\n",
    "infile.close()"
   ]
  },
  {
   "cell_type": "code",
   "execution_count": 20,
   "metadata": {
    "collapsed": false
   },
   "outputs": [
    {
     "data": {
      "text/plain": [
       "'Hello World'"
      ]
     },
     "execution_count": 20,
     "metadata": {},
     "output_type": "execute_result"
    }
   ],
   "source": [
    "# -*- coding：utf-8 -*-\n",
    "# 写入数据案例\n",
    "import os\n",
    "\n",
    "outfile =open(os.getcwd() + '\\\\1.txt', 'w')\n",
    "outfile.writelines(['Hello', ' ', 'World']) # writelines并不会自动加入行结束符，即不会换行\n",
    "outfile.close()\n",
    "infile = open(os.getcwd() + '\\\\1.txt', 'r')\n",
    "infile.read()"
   ]
  },
  {
   "cell_type": "code",
   "execution_count": null,
   "metadata": {
    "collapsed": true
   },
   "outputs": [],
   "source": [
    "'''\n",
    "二、文件遍历\n",
    "    \n",
    "    较为常见的文件处理方法，如\n",
    "        \n",
    "        拷贝文件\n",
    "        根据数据文件定义行走路径\n",
    "        将文件中一种编码转换为另一种编码  \n",
    "    \n",
    "    使用readlines()函数的缺点即对于较大的文本文件一次性读取进列表会占用大量内存\n",
    "''' \n",
    "# readlines()读取进列表进行遍历\n",
    "file = open(path, 'r')\n",
    "for line in file.readlines():\n",
    "    # 处理一行文件内容\n",
    "file.close()\n",
    "\n",
    "# 直接读取 — 简化文件遍历代码框架\n",
    "file = open(path, 'r')\n",
    "for line in file:\n",
    "    # 处理一行文件内容\n",
    "file.close()"
   ]
  },
  {
   "cell_type": "code",
   "execution_count": 3,
   "metadata": {
    "collapsed": false
   },
   "outputs": [
    {
     "name": "stdout",
     "output_type": "stream",
     "text": [
      "Enter a path of file: X:\\\\Users\\\\w\\\\Python学习笔记\\\\Python程序设计\\\\第六周 Python编程之组合类型\\\\1.txt\n",
      "Enter a path of file: X:\\\\Users\\\\w\\\\Python学习笔记\\\\Python程序设计\\\\第六周 Python编程之组合类型\\\\2.txt\n",
      "7 lines and 57 chars copied\n"
     ]
    }
   ],
   "source": [
    "# 文件拷贝实例\n",
    "\n",
    "def main():\n",
    "    # 用户输入文件名\n",
    "    f1 = input('Enter a path of file: ').strip()\n",
    "    f2 = input('Enter a path of file: ').strip()\n",
    "    \n",
    "    # 打开文件\n",
    "    # encoding保证输入和输出文件均为utf-8编码\n",
    "    infile = open(f1, 'r', encoding = 'utf-8') \n",
    "    outfile = open(f2, 'w', encoding = 'utf-8')\n",
    "    \n",
    "    # 拷贝数据\n",
    "    # 初始化拷贝的行数和字符数\n",
    "    countlines = countchars = 0\n",
    "    for line in infile:\n",
    "        \n",
    "        # 每读取一行，则将初始化拷贝行数加1\n",
    "        countlines += 1\n",
    "        \n",
    "        # 每读取一行将初始化拷贝字符数将该行字符串长度\n",
    "        countchars += len(line)\n",
    "        \n",
    "        # 将读取的这一行写入输出文件中\n",
    "        outfile.write(line)\n",
    "    \n",
    "    # 按照格式输入拷贝的行数和字符数\n",
    "    print(countlines, 'lines and', countchars, 'chars copied')\n",
    "    \n",
    "    # 关闭文件\n",
    "    infile.close()\n",
    "    outfile.close()\n",
    "    \n",
    "main()"
   ]
  }
 ],
 "metadata": {
  "celltoolbar": "Raw Cell Format",
  "kernelspec": {
   "display_name": "Python 3",
   "language": "python",
   "name": "python3"
  },
  "language_info": {
   "codemirror_mode": {
    "name": "ipython",
    "version": 3
   },
   "file_extension": ".py",
   "mimetype": "text/x-python",
   "name": "python",
   "nbconvert_exporter": "python",
   "pygments_lexer": "ipython3",
   "version": "3.6.0"
  }
 },
 "nbformat": 4,
 "nbformat_minor": 2
}
