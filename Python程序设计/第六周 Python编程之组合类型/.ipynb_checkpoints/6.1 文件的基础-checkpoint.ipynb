{
 "cells": [
  {
   "cell_type": "code",
   "execution_count": null,
   "metadata": {
    "collapsed": true
   },
   "outputs": [],
   "source": [
    "'''\n",
    "一、文件\n",
    "\n",
    "    存储在外部介质上的数据或信息集合，且是有序的的数据序列\n",
    "    \n",
    "二、文本显示\n",
    "\n",
    "    计算机将文本看作图片，在计算机中每个字符都有自己对应的编码，字符形成的文本即对应一连串编码\n",
    "    \n",
    "三、编码\n",
    "\n",
    "    信息从一种形式或格式转换为另一种形式的过程\n",
    "    \n",
    "    常用编码\n",
    "        \n",
    "        1、ASCII码标准化字符集，使用7个二进制为编码可表示128个字符，通常表示英文字母的二进制编码。\n",
    "        使用ord(<字符>)函数可查看ASCII码，chr(ASCII码)查看对应字符\n",
    "        \n",
    "        2、Unicode，为每种语言设定了统一且唯一的二进制编码，是一种跨语言、跨平台的编码格式\n",
    "        \n",
    "        3、utf-8编码，可变长度的Unicode编码\n",
    "        \n",
    "        4、GBK编码，专门针对汉字的编码\n",
    "        \n",
    "四、编码与解码\n",
    "\n",
    "    Python中字符串类型未编码，可通过：\n",
    "    \n",
    "        encode()进行编码；decode()进行解码\n",
    "        \n",
    "五、文件数据\n",
    "\n",
    "    按照组织形式的不同可分为：\n",
    "    \n",
    "        文本文件 — 以ASCII码存储的文件，即英文、数字等字符存储的，除此之外，还包括回车、换行等\n",
    "        \n",
    "            优点：方便阅读和理解\n",
    "            Python中使用“\\n”换行符表示换行，可形成多行文本\n",
    "            \n",
    "        二进制文件 — 照片、音乐、视频、计算机程序等\n",
    "        \n",
    "            优点：更加节省空间、二进制采用无格式存储其存储速度更快\n",
    "                  表示更为精确，不会造成有效位的丢失\n",
    "                  \n",
    "       注意：\n",
    "       \n",
    "           文本文件是基于字符定长的ASCII。\n",
    "           而进驻文件编码是可以变长的，灵活利用率较高\n",
    "           不同的二进制文件解码方式不同\n",
    "'''"
   ]
  },
  {
   "cell_type": "code",
   "execution_count": 5,
   "metadata": {
    "collapsed": false
   },
   "outputs": [
    {
     "name": "stdout",
     "output_type": "stream",
     "text": [
      "b'\\xe4\\xb8\\xad\\xe6\\x96\\x87' 中文\n"
     ]
    }
   ],
   "source": [
    "# 编码与解码\n",
    "s = '中文'\n",
    "en_s = s.encode('utf-8') # 编码\n",
    "en_s\n",
    "de_s = en_s.decode('utf-8') # 解码\n",
    "print(en_s,de_s)"
   ]
  }
 ],
 "metadata": {
  "kernelspec": {
   "display_name": "Python 3",
   "language": "python",
   "name": "python3"
  },
  "language_info": {
   "codemirror_mode": {
    "name": "ipython",
    "version": 3
   },
   "file_extension": ".py",
   "mimetype": "text/x-python",
   "name": "python",
   "nbconvert_exporter": "python",
   "pygments_lexer": "ipython3",
   "version": "3.6.0"
  }
 },
 "nbformat": 4,
 "nbformat_minor": 2
}
