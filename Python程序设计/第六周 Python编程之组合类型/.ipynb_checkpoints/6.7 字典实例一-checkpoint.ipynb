{
 "cells": [
  {
   "cell_type": "code",
   "execution_count": null,
   "metadata": {
    "collapsed": true
   },
   "outputs": [],
   "source": [
    "'''\n",
    "一、词频统计IPO模式\n",
    "\n",
    "    输入：从文件中读取一篇英文文章\n",
    "\n",
    "    处理：统计文件中每个单词的出现频率\n",
    "\n",
    "    输出：将最常出现的10个单词及出现次数，以图表行书输出\n",
    "\n",
    "二、统计词频的实现思路\n",
    "\n",
    "    第一步：输入英文文章\n",
    "    \n",
    "    第二步：建立用于词频计算的空字典\n",
    "    \n",
    "    第三步：对文本的每一行计算词频\n",
    "    \n",
    "    第四步：从字典中获取数据对到列表中\n",
    "    \n",
    "    第五步：对列表中的数据对交换位置，并按从大到小排序\n",
    "    \n",
    "    第六步：输出结果\n",
    "    \n",
    "    第七步：用turtle库绘制词频统计结果图表  \n",
    "'''"
   ]
  },
  {
   "cell_type": "code",
   "execution_count": null,
   "metadata": {
    "collapsed": true
   },
   "outputs": [],
   "source": []
  }
 ],
 "metadata": {
  "kernelspec": {
   "display_name": "Python 3",
   "language": "python",
   "name": "python3"
  },
  "language_info": {
   "codemirror_mode": {
    "name": "ipython",
    "version": 3
   },
   "file_extension": ".py",
   "mimetype": "text/x-python",
   "name": "python",
   "nbconvert_exporter": "python",
   "pygments_lexer": "ipython3",
   "version": "3.6.0"
  }
 },
 "nbformat": 4,
 "nbformat_minor": 2
}
