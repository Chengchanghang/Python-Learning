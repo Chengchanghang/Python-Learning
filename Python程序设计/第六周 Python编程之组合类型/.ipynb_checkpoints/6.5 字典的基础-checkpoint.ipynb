{
 "cells": [
  {
   "cell_type": "code",
   "execution_count": null,
   "metadata": {
    "collapsed": true
   },
   "outputs": [],
   "source": [
    "'''\n",
    "一、字典\n",
    "\n",
    "    针对非序列集合而提供的一种数据类型\n",
    "\n",
    "    以键值对<key>:<value>形式存储，\n",
    "    \n",
    "    字典是键值对的集合，该集合以键为索引，同一个键对应一个值\n",
    "    \n",
    "    字典对象是可变的，是一个容器类型，可以存储任意个数的Python对象，也可包括其他容器类型\n",
    "\n",
    "二、映射\n",
    "\n",
    "    通过任意键值查找集合中值信息的过程即为映射\n",
    "    \n",
    "    Python中通过字典实现映射\n",
    "    \n",
    "三、字典与序列类型的区别：\n",
    "\n",
    "    1、存取和访问的方式不同\n",
    "    2、键类型不同，序列类型只能使用数字类型的键做为索引，而字典类型则可使用任意的键作为索引\n",
    "    3、序列类型保持元素的相对关系，排列方式固定；字典中数据是无序排列的\n",
    "    4、序列类型通过内存中地址映射到值，而字典中则通过键直接映射到值\n",
    "'''"
   ]
  },
  {
   "cell_type": "code",
   "execution_count": 4,
   "metadata": {
    "collapsed": false
   },
   "outputs": [
    {
     "name": "stdout",
     "output_type": "stream",
     "text": [
      "{'china': 'bigcountry', 'korean': 'smallcountry', 'france': 'mediancountry'}\n"
     ]
    }
   ],
   "source": [
    "passwd = {'china':'bigcountry', 'korean':'smallcountry', 'france':'mediancountry'}\n",
    "print(passwd)"
   ]
  }
 ],
 "metadata": {
  "kernelspec": {
   "display_name": "Python 3",
   "language": "python",
   "name": "python3"
  },
  "language_info": {
   "codemirror_mode": {
    "name": "ipython",
    "version": 3
   },
   "file_extension": ".py",
   "mimetype": "text/x-python",
   "name": "python",
   "nbconvert_exporter": "python",
   "pygments_lexer": "ipython3",
   "version": "3.6.0"
  }
 },
 "nbformat": 4,
 "nbformat_minor": 2
}
