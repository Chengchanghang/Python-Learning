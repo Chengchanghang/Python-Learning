{
 "cells": [
  {
   "cell_type": "code",
   "execution_count": null,
   "metadata": {
    "collapsed": true
   },
   "outputs": [],
   "source": [
    "'''\n",
    "根据文件data.txt中的数据，使用turtle库动态绘制图形路径\n",
    "\n",
    "data.txt中每列数据的含义：\n",
    "\n",
    "    第一列   ：表示路径前进像素数\n",
    "    第二列   ：转动方向，0为左，1为右\n",
    "    第三列   ：表示转动角度\n",
    "    第四-六列：路径绘制颜色RGB值\n",
    "'''"
   ]
  },
  {
   "cell_type": "code",
   "execution_count": 3,
   "metadata": {
    "collapsed": false,
    "scrolled": false
   },
   "outputs": [],
   "source": [
    "# -*- coding:utf-8 -*-\n",
    "import turtle\n",
    "\n",
    "# 设置窗口信息\n",
    "turtle.title('数据驱动的动态路径绘制') # 设置窗口标题\n",
    "turtle.setup(800,600,0,0) # 设置窗口大小\n",
    "\n",
    "# 设置画笔\n",
    "pen = turtle.Turtle()\n",
    "pen.color('red')\n",
    "pen.width(5)\n",
    "pen.shape('turtle')\n",
    "pen.speed(0.8)\n",
    "\n",
    "# 读取数据文件\n",
    "result = []\n",
    "file = open('data.txt', 'r', encoding = 'utf-8')\n",
    "for line in file:\n",
    "    result.append(list(map(float, line.split(','))))\n",
    "\n",
    "for i in range(len(result)):\n",
    "    # 通过data.txt第四-六列指定画笔颜色\n",
    "    pen.color((result[i][3], result[i][4], result[i][5]))\n",
    "    \n",
    "    # 通过data.txt中第一列指定路径前进的像素数\n",
    "    pen.fd(result[i][0])\n",
    "    \n",
    "    # 通过第二列判断转动方向，\n",
    "    # 若当前方向向右，则右转144度\n",
    "    # 若当前方向向左，则左转144度\n",
    "    if result[i][1] == 1:\n",
    "        pen.rt(result[i][2])\n",
    "    else:\n",
    "        pen.lt(result[i][2])\n",
    "\n",
    "# 将画笔移到原点处\n",
    "pen.goto(0,0)"
   ]
  }
 ],
 "metadata": {
  "kernelspec": {
   "display_name": "Python 3",
   "language": "python",
   "name": "python3"
  },
  "language_info": {
   "codemirror_mode": {
    "name": "ipython",
    "version": 3
   },
   "file_extension": ".py",
   "mimetype": "text/x-python",
   "name": "python",
   "nbconvert_exporter": "python",
   "pygments_lexer": "ipython3",
   "version": "3.6.0"
  }
 },
 "nbformat": 4,
 "nbformat_minor": 2
}
