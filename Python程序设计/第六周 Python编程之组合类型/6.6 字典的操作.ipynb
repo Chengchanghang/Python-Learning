{
 "cells": [
  {
   "cell_type": "code",
   "execution_count": 1,
   "metadata": {
    "collapsed": true
   },
   "outputs": [],
   "source": [
    "# 字典的操作"
   ]
  },
  {
   "cell_type": "code",
   "execution_count": 31,
   "metadata": {
    "collapsed": false
   },
   "outputs": [
    {
     "data": {
      "text/plain": [
       "{'1': 'a', '2': 'b', '3': 'c'}"
      ]
     },
     "execution_count": 31,
     "metadata": {},
     "output_type": "execute_result"
    }
   ],
   "source": [
    "# 为字典增加一项(使用大括号创建字典)\n",
    "# dictionaryname[key] = value\n",
    "\n",
    "students = {'1':'a', '2':'b'}\n",
    "students['3'] = 'c'\n",
    "students"
   ]
  },
  {
   "cell_type": "code",
   "execution_count": 32,
   "metadata": {
    "collapsed": false
   },
   "outputs": [
    {
     "data": {
      "text/plain": [
       "'d'"
      ]
     },
     "execution_count": 32,
     "metadata": {},
     "output_type": "execute_result"
    }
   ],
   "source": [
    "# 访问字典中的值\n",
    "# dictionaryname[key]，返回键key对应的值value\n",
    "\n",
    "students['4'] = 'd'\n",
    "students['4']"
   ]
  },
  {
   "cell_type": "code",
   "execution_count": 33,
   "metadata": {
    "collapsed": false
   },
   "outputs": [],
   "source": [
    "# 删除字典中一项\n",
    "# del dictionaryname[key]，删除键key以及对应的值value\n",
    "\n",
    "students\n",
    "del students['3']"
   ]
  },
  {
   "cell_type": "code",
   "execution_count": 34,
   "metadata": {
    "collapsed": false
   },
   "outputs": [
    {
     "data": {
      "text/plain": [
       "{'1': 'a', '2': 'b', '4': 'd'}"
      ]
     },
     "execution_count": 34,
     "metadata": {},
     "output_type": "execute_result"
    }
   ],
   "source": [
    "students # 删除键3以及对应的值c"
   ]
  },
  {
   "cell_type": "code",
   "execution_count": 35,
   "metadata": {
    "collapsed": false
   },
   "outputs": [
    {
     "name": "stdout",
     "output_type": "stream",
     "text": [
      "1:a\n",
      "2:b\n",
      "4:d\n"
     ]
    }
   ],
   "source": [
    "# 字典的遍历 \n",
    "# for key in dictionaryname:\n",
    "#       print(key + ':' + str(dictionaryname[key]))\n",
    "\n",
    "for key in students:\n",
    "    print(key + ':' + students[key])"
   ]
  },
  {
   "cell_type": "code",
   "execution_count": 36,
   "metadata": {
    "collapsed": false
   },
   "outputs": [
    {
     "name": "stdout",
     "output_type": "stream",
     "text": [
      "1  2  4  \n",
      "\n",
      "a  b  d  \n",
      "\n",
      "('1', 'a')  ('2', 'b')  ('4', 'd')  \n",
      "\n",
      "1 a  2 b  4 d  "
     ]
    }
   ],
   "source": [
    "# 字典的遍历 \n",
    "# 遍历字典中的键\n",
    "# for key in dictionaryname.keys():\n",
    "#      print(key)\n",
    "\n",
    "for key in students.keys():\n",
    "    print(key, end = '  ')\n",
    "print('\\n')\n",
    "\n",
    "# 遍历字典中的值\n",
    "# for value in dictionaryname.values():\n",
    "#      print(value)\n",
    "\n",
    "for value in students.values():\n",
    "    print(value, end = '  ')\n",
    "print('\\n')\n",
    "\n",
    "# 遍历字典中的项\n",
    "# for item in dictionaryname.items():\n",
    "#     print(item)\n",
    "\n",
    "for item in students.items():\n",
    "    print(item, end = '  ')\n",
    "print('\\n')\n",
    "\n",
    "# 遍历字典中的键值对\n",
    "# for item,value in dictionaryname.items():\n",
    "#     print(item, value)\n",
    "\n",
    "for item, value in students.items():\n",
    "    print(item, value, end = '  ')"
   ]
  },
  {
   "cell_type": "code",
   "execution_count": 37,
   "metadata": {
    "collapsed": false
   },
   "outputs": [
    {
     "data": {
      "text/plain": [
       "(False, True)"
      ]
     },
     "execution_count": 37,
     "metadata": {},
     "output_type": "execute_result"
    }
   ],
   "source": [
    "# 判断某个键是否在字典中：in或not in \n",
    "'3' in students, '3' not in students"
   ]
  },
  {
   "cell_type": "code",
   "execution_count": 44,
   "metadata": {
    "collapsed": false
   },
   "outputs": [
    {
     "name": "stdout",
     "output_type": "stream",
     "text": [
      "dict_keys(['1', '2', '4'])\n",
      " ---------------- \n",
      "dict_values(['a', 'b', 'd'])\n",
      " ---------------- \n",
      "dict_items([('1', 'a'), ('2', 'b'), ('4', 'd')])\n",
      " ---------------- \n",
      "a\n"
     ]
    }
   ],
   "source": [
    "'''\n",
    "字典方法\n",
    "    \n",
    "    方法            含义\n",
    "    keys()          返回包含所有键的列表\n",
    "    values()        返回包含所有值的列表\n",
    "    items()         返回包含所有键值的列表\n",
    "    clear()         删除字典中所有项目   \n",
    "    get(key)        返回字典中key对应的值\n",
    "    pop(key)        删除并返回字典中key对应的值\n",
    "    update(dict)    将字典dict中的键值添加到另一个字典中        \n",
    "'''\n",
    "print(students.keys(), students.values(), students.items(), students.get('1'), sep = '\\n ---------------- \\n')"
   ]
  },
  {
   "cell_type": "code",
   "execution_count": 45,
   "metadata": {
    "collapsed": false
   },
   "outputs": [
    {
     "data": {
      "text/plain": [
       "'a'"
      ]
     },
     "execution_count": 45,
     "metadata": {},
     "output_type": "execute_result"
    }
   ],
   "source": [
    "# 删除字典中的某个值\n",
    "students.pop('1')"
   ]
  },
  {
   "cell_type": "code",
   "execution_count": 48,
   "metadata": {
    "collapsed": false
   },
   "outputs": [
    {
     "data": {
      "text/plain": [
       "{}"
      ]
     },
     "execution_count": 48,
     "metadata": {},
     "output_type": "execute_result"
    }
   ],
   "source": [
    "# 删除字典中所有元素\n",
    "students.clear()\n",
    "students"
   ]
  },
  {
   "cell_type": "code",
   "execution_count": 51,
   "metadata": {
    "collapsed": false
   },
   "outputs": [
    {
     "data": {
      "text/plain": [
       "{'1': 'a'}"
      ]
     },
     "execution_count": 51,
     "metadata": {},
     "output_type": "execute_result"
    }
   ],
   "source": [
    "# 更新字典\n",
    "student = {'1':'a'}\n",
    "students.update(student)\n",
    "students"
   ]
  },
  {
   "cell_type": "code",
   "execution_count": null,
   "metadata": {
    "collapsed": true
   },
   "outputs": [],
   "source": [
    "# 字典操作符：-,>,<,>=,<=,==,!=,and,or,not"
   ]
  }
 ],
 "metadata": {
  "kernelspec": {
   "display_name": "Python 3",
   "language": "python",
   "name": "python3"
  },
  "language_info": {
   "codemirror_mode": {
    "name": "ipython",
    "version": 3
   },
   "file_extension": ".py",
   "mimetype": "text/x-python",
   "name": "python",
   "nbconvert_exporter": "python",
   "pygments_lexer": "ipython3",
   "version": "3.6.0"
  }
 },
 "nbformat": 4,
 "nbformat_minor": 2
}
