{
 "cells": [
  {
   "cell_type": "code",
   "execution_count": null,
   "metadata": {
    "collapsed": true,
    "deletable": true,
    "editable": true
   },
   "outputs": [],
   "source": [
    "'''\n",
    "1、BMI计算\n",
    "\n",
    "要求：根据国内外BMI指数，能够判断某个人的身体状况，同时输出国内和国际的BMI指标建议值。\n",
    "'''"
   ]
  },
  {
   "cell_type": "code",
   "execution_count": 11,
   "metadata": {
    "collapsed": false
   },
   "outputs": [
    {
     "name": "stdout",
     "output_type": "stream",
     "text": [
      "请填写您的身高(单位：m)：1.6\n",
      "\n",
      "请填写您的体重(单位：kg)：47\n",
      "\n",
      "您的BMI指标值为18.36kg/m2\n",
      "\n",
      "Tip：国际和国内BMI指标建议值均为18.5kg/m2以下，偏瘦。\n"
     ]
    }
   ],
   "source": [
    "# BMI\n",
    "height = input('请填写您的身高(单位：m)：')\n",
    "weight = input('\\n请填写您的体重(单位：kg)：')\n",
    "C_BMI = W_BMI = eval(weight) / eval(height)**2\n",
    "print('\\n您的BMI指标值为{:.2f}kg/m2'.format(C_BMI))\n",
    "if C_BMI < 18.5 and W_BMI < 18.5:\n",
    "    print('\\nTip：国际和国内BMI指标建议值均为{}kg/m2以下，偏瘦。'.format(18.5))\n",
    "elif (C_BMI < 24 and C_BMI >= 18.5) or (W_BMI < 25 and W_BMI >= 18.5):\n",
    "    print('\\nTip：国际BMI指标建议值为{}kg/m2，国内BMI指标建议值为{}kg/m2，正常。'.format('18.5-25', '18.5-24'))\n",
    "elif (C_BMI < 28 and C_BMI >= 24) or (W_BMI < 30 and W_BMI >= 25):\n",
    "    print('\\nTip：国际BMI指标建议值为{}kg/m2，国内BMI指标建议值为{}kg/m2，偏胖。'.format('25-30', '24-28'))\n",
    "elif C_BMI >= 28 or W_BMI >= 30:\n",
    "    print('\\nTip：国际BMI指标建议值为{}kg/m2以上，国内BMI指标建议值为{}kg/m2以上，肥胖。'.format('30, 28'))"
   ]
  },
  {
   "cell_type": "code",
   "execution_count": 15,
   "metadata": {
    "collapsed": false
   },
   "outputs": [
    {
     "name": "stdout",
     "output_type": "stream",
     "text": [
      "请输入成绩：80\n",
      "D\n"
     ]
    }
   ],
   "source": [
    "'''\n",
    "判断成绩等级的分支程序中，对于每一等级的划分区间不够明确，因此只要输入的成绩大于等于60，返回值永远都是D。\n",
    "'''\n",
    "\n",
    "score = eval(input('请输入成绩：'))\n",
    "if score >= 60:\n",
    "    grade = 'D'\n",
    "    print(grade)\n",
    "elif score >= 70:\n",
    "    grade = 'C'\n",
    "    print(grade)\n",
    "elif score >= 80:\n",
    "    grade = 'B'\n",
    "    print(grade)\n",
    "elif score >= 90:\n",
    "    grade = 'A'\n",
    "    print(grade)"
   ]
  }
 ],
 "metadata": {
  "kernelspec": {
   "display_name": "Python 3",
   "language": "python",
   "name": "python3"
  },
  "language_info": {
   "codemirror_mode": {
    "name": "ipython",
    "version": 3
   },
   "file_extension": ".py",
   "mimetype": "text/x-python",
   "name": "python",
   "nbconvert_exporter": "python",
   "pygments_lexer": "ipython3",
   "version": "3.6.0"
  }
 },
 "nbformat": 4,
 "nbformat_minor": 2
}
