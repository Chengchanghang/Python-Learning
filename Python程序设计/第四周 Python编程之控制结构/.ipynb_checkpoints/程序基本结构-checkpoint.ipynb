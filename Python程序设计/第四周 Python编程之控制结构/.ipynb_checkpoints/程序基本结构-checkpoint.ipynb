{
 "cells": [
  {
   "cell_type": "code",
   "execution_count": null,
   "metadata": {
    "collapsed": true
   },
   "outputs": [],
   "source": [
    "'''\n",
    "流程图\n",
    "\n",
    "1、程序流程图\n",
    "\n",
    "    即使用规定的一系列图形、流程线和文字说明算法中的基本操作和控制流程\n",
    "    \n",
    "2、流程图基本元素：表示相应操作的框、带箭头的流程线、程序框内外必要的文字说明\n",
    "\n",
    "3、设计程序框图的步骤：\n",
    "\n",
    "    第一、用自然语言表达算法步骤；\n",
    "    第二、确定每一个算法步骤所包含的逻辑结构，并用相应的程序框图表示，得到该步骤的程序框图；\n",
    "    第三、将所有步骤的程序框图用流程线连接起来，并加上终端框得到表示整个算法的程序框图。\n",
    "    \n",
    "4、任何算法程序均可通过\n",
    "        顺序结构—即程序按照顺序执形\n",
    "        选择结构—又称分支结构，即在算法中通过对条件的判断，根据条件是否成立而选择不同流向的算法结构\n",
    "        循环结构—在一定条件下反复执行某部分代码的操作。\n",
    "   这三种基本结构组合来实现。\n",
    "\n",
    "\n",
    "'''"
   ]
  },
  {
   "cell_type": "code",
   "execution_count": null,
   "metadata": {
    "collapsed": true
   },
   "outputs": [],
   "source": [
    "'''\n",
    "分支结构\n",
    "\n",
    "一、简单分支结构\n",
    "\n",
    "1、基本形式：<表达式> <关系操作符> <表达式>\n",
    "\n",
    "    Python中的关系操作符：<、<=、==（表示判断等价关系）、>=、>、!=\n",
    "'''"
   ]
  },
  {
   "cell_type": "code",
   "execution_count": 24,
   "metadata": {
    "collapsed": false
   },
   "outputs": [
    {
     "name": "stdout",
     "output_type": "stream",
     "text": [
      "请输入二次方程的参数(a, b, c)：1,2,1\n",
      "该一元二次方程仅有一个根，x = -1.00\n"
     ]
    }
   ],
   "source": [
    "# 二次方程求解(ax^2 + bx + c = 0)\n",
    "from math import sqrt\n",
    "a, b, c = eval(input('请输入二次方程的参数(a, b, c)：'))\n",
    "delta = b*b - 4*a*c\n",
    "if a == 0:\n",
    "    x = -c / b\n",
    "    print('该方程为一元一次方程，根x = {}'.format(x))\n",
    "elif a != 0 & delta > 0:\n",
    "    x1 = (-b + sqrt(b*b - 4*a*c)) / 2*a\n",
    "    x2 = (-b - sqrt(b*b - 4*a*c)) / 2*a\n",
    "    print('该一元二次方程有两个根x1和x2，分别为{:.2f}、{:.2f}'.format(x1, x2))\n",
    "elif a!=0 & delta == 0:\n",
    "    x = -b / 2*a\n",
    "    print('该一元二次方程仅有一个根，x = {:.2f}'.format(x))\n",
    "else:\n",
    "    print('该一元二次方程无解。')"
   ]
  },
  {
   "cell_type": "code",
   "execution_count": 1,
   "metadata": {
    "collapsed": false
   },
   "outputs": [
    {
     "name": "stdout",
     "output_type": "stream",
     "text": [
      "今天的PM2.5浓度：76\n",
      "对身体有害，不宜长时间在户外活动！\n"
     ]
    }
   ],
   "source": [
    "# PM2.5预警\n",
    "PM = eval(input('今天的PM2.5浓度：'))\n",
    "if PM > 75:\n",
    "    print('对身体有害，不宜长时间在户外活动！')\n",
    "elif PM <= 75:\n",
    "    print('可适当进行户外活动！')\n",
    "else:\n",
    "    print('输入有误，请重新输入！')"
   ]
  },
  {
   "cell_type": "code",
   "execution_count": null,
   "metadata": {
    "collapsed": true
   },
   "outputs": [],
   "source": [
    "'''\n",
    "多分支\n",
    "\n",
    "可有多个简单分值结构构成，例如：在if...else...中嵌套if...else...语句，\n",
    "                                在Python中使用if...elif...else语句简化分支嵌套\n",
    "                                else语句是可选项，可省略\n",
    "'''"
   ]
  }
 ],
 "metadata": {
  "kernelspec": {
   "display_name": "Python 3",
   "language": "python",
   "name": "python3"
  },
  "language_info": {
   "codemirror_mode": {
    "name": "ipython",
    "version": 3
   },
   "file_extension": ".py",
   "mimetype": "text/x-python",
   "name": "python",
   "nbconvert_exporter": "python",
   "pygments_lexer": "ipython3",
   "version": "3.6.0"
  }
 },
 "nbformat": 4,
 "nbformat_minor": 2
}
