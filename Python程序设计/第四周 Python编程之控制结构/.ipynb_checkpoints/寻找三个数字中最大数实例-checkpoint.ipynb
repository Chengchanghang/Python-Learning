{
 "cells": [
  {
   "cell_type": "code",
   "execution_count": null,
   "metadata": {
    "collapsed": true,
    "deletable": true,
    "editable": true
   },
   "outputs": [],
   "source": [
    "'''\n",
    "实例：找出三个数字中最大者\n",
    "\n",
    "输入：三个数字\n",
    "\n",
    "处理：寻找最大数算法\n",
    "\n",
    "输出：打印最大值\n",
    "'''"
   ]
  },
  {
   "cell_type": "code",
   "execution_count": 4,
   "metadata": {
    "collapsed": false,
    "deletable": true,
    "editable": true
   },
   "outputs": [
    {
     "name": "stdout",
     "output_type": "stream",
     "text": [
      "请输入三个数（a, b, c）：1,2,3\n",
      "3\n"
     ]
    }
   ],
   "source": [
    "'''\n",
    "方法1：将每一个值与其他值比较以确定最大值(适用于少数数值比较的情形)\n",
    "'''\n",
    "a, b, c = eval(input('请输入三个数（a, b, c）：'))\n",
    "\n",
    "if a > b and a > c:\n",
    "    max = a\n",
    "    print(max)\n",
    "elif b > a and b > c:\n",
    "    max = b \n",
    "    print(max)\n",
    "else:\n",
    "    max = c\n",
    "    print(max)"
   ]
  },
  {
   "cell_type": "code",
   "execution_count": 1,
   "metadata": {
    "collapsed": false,
    "deletable": true,
    "editable": true
   },
   "outputs": [
    {
     "name": "stdout",
     "output_type": "stream",
     "text": [
      "请输入三个数（a, b, c）：1,2,3\n",
      "3\n"
     ]
    }
   ],
   "source": [
    "'''\n",
    "方法2：决策树（可避免上一种方法中的冗余比较）\n",
    "\n",
    "优点：效率高\n",
    "\n",
    "缺点：设计较为复杂\n",
    "'''\n",
    "a, b, c = eval(input('请输入三个数（a, b, c）：'))\n",
    "\n",
    "# if...else嵌套构成多个条件语句，形成多个条件判断即决策树\n",
    "if a >= b:\n",
    "    if a >= c:\n",
    "        max = a\n",
    "        print(a)\n",
    "    else:\n",
    "        max = c\n",
    "        print(c)\n",
    "else:\n",
    "    if b >= c:\n",
    "        max = b\n",
    "        print(b)\n",
    "    else:\n",
    "        max = c\n",
    "        print(c)"
   ]
  },
  {
   "cell_type": "code",
   "execution_count": 13,
   "metadata": {
    "collapsed": false,
    "deletable": true,
    "editable": true
   },
   "outputs": [
    {
     "name": "stdout",
     "output_type": "stream",
     "text": [
      "请输入三个数（a, b, c）：1,2,3\n",
      "2\n",
      "3\n",
      "1\n"
     ]
    }
   ],
   "source": [
    "'''\n",
    "方法三：顺序处理—逐个每个值，保留最大值\n",
    "'''\n",
    "a, b, c = eval(input('请输入三个数（a, b, c）：'))\n",
    "\n",
    "max = a # 创建最大值变量max为4，随后依次扫描输入的每个值与最大值关系，从而在最后输出最大值max\n",
    "if b > max:\n",
    "    max = b\n",
    "    print(max)\n",
    "if c > max:\n",
    "    max = c\n",
    "    print(max)\n",
    "print(a)"
   ]
  },
  {
   "cell_type": "code",
   "execution_count": 15,
   "metadata": {
    "collapsed": false,
    "deletable": true,
    "editable": true
   },
   "outputs": [
    {
     "name": "stdout",
     "output_type": "stream",
     "text": [
      "How many numbers are there?3\n",
      "Enter a number >> 1\n",
      "Enter a number >> 3\n",
      "The largest value is 3\n",
      "Enter a number >> 4\n",
      "The largest value is 4\n"
     ]
    }
   ],
   "source": [
    "# 寻找一组数中的最大值\n",
    "def main():\n",
    "    # 表示这组数共有几个,用于对这组数逐个判断\n",
    "    n = eval(input('How many numbers are there?'))\n",
    "    # 将第一个值赋给max\n",
    "    max = eval(input('Enter a number >> '))\n",
    "    # 连续与后面n-1个值比较\n",
    "    for i in range(n-1):\n",
    "        x = eval(input('Enter a number >> '))\n",
    "        if x > max:\n",
    "            max = x \n",
    "        print('The largest value is', max)\n",
    "\n",
    "main()"
   ]
  },
  {
   "cell_type": "code",
   "execution_count": 1,
   "metadata": {
    "collapsed": false,
    "deletable": true,
    "editable": true
   },
   "outputs": [
    {
     "name": "stdout",
     "output_type": "stream",
     "text": [
      "Please enter three numbers：1,2,3\n",
      "The largest numbers is 3\n"
     ]
    }
   ],
   "source": [
    "'''\n",
    "方法4：使用内置函数max\n",
    "'''\n",
    "def main():\n",
    "    a, b, c = eval(input('Please enter three numbers：'))\n",
    "    print('The largest numbers is', max(a, b, c))\n",
    "\n",
    "main()"
   ]
  }
 ],
 "metadata": {
  "kernelspec": {
   "display_name": "Python 3",
   "language": "python",
   "name": "python3"
  },
  "language_info": {
   "codemirror_mode": {
    "name": "ipython",
    "version": 3
   },
   "file_extension": ".py",
   "mimetype": "text/x-python",
   "name": "python",
   "nbconvert_exporter": "python",
   "pygments_lexer": "ipython3",
   "version": "3.6.0"
  }
 },
 "nbformat": 4,
 "nbformat_minor": 2
}
