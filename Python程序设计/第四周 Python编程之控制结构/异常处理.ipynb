{
 "cells": [
  {
   "cell_type": "code",
   "execution_count": null,
   "metadata": {
    "collapsed": true
   },
   "outputs": [],
   "source": [
    "'''\n",
    "异常处理\n",
    "\n",
    "1、Python中使用try...except...进行异常处理，使得程序不致于因运行错误而崩溃\n",
    "\n",
    "  基本格式：\n",
    "  try:\n",
    "      <程序代码块>\n",
    "  except <ErrorType1>:\n",
    "      <处理方法1>\n",
    "  except <ErrorType2>:\n",
    "      <处理方法2>\n",
    "  ...\n",
    "  \n",
    "2、Python中异常处理语句还可以使用else和finally关键字,这两个关键字均为可选项，但else必须在finally前面，finally必须在整个语句的最后位置。\n",
    "\n",
    "  基本格式：\n",
    "  try:\n",
    "      <程序代码>\n",
    "  except <ErrorType>:\n",
    "      <处理方法>\n",
    "  else:\n",
    "      <process_else> # 表示try语句中无异常时则执行else中语句\n",
    "  finally:\n",
    "      <process_finally> # 表示无论是否发生异常，以上程序代码都必须执行\n",
    "      \n",
    "3、try...except...语句   — 主要用于处理程序正常执行过程中出现的一些异常情况，可以捕捉任何类型的错误\n",
    "   try...finally...语句  — 主要用于无论是否发生异常情况都需要执行清理工作的情况，例：读取文件时无论是否读取成功，最后都需要关闭文件\n",
    "'''"
   ]
  },
  {
   "cell_type": "code",
   "execution_count": 3,
   "metadata": {
    "collapsed": false
   },
   "outputs": [
    {
     "name": "stdout",
     "output_type": "stream",
     "text": [
      "Enter two numbers, separated by a comma：1,0\n",
      "Division by zero!\n",
      "Executing the final clause!\n"
     ]
    }
   ],
   "source": [
    "# try...except...else...finally...语句实例\n",
    "def main():\n",
    "    try:\n",
    "        number1, number2 = eval(input('Enter two numbers, separated by a comma：'))\n",
    "        result = number1 / number2\n",
    "        \n",
    "    except ZeroDivisionError:\n",
    "        print('Division by zero!')\n",
    "    except SyntaxError:\n",
    "        print('A comma may be missing in the input!')\n",
    "    except:\n",
    "        print('Something wrong in the input!')\n",
    "    else:\n",
    "        print('No exceptions, the result is', result)\n",
    "    finally:\n",
    "        print('Executing the final clause!')\n",
    "\n",
    "main()"
   ]
  },
  {
   "cell_type": "code",
   "execution_count": 5,
   "metadata": {
    "collapsed": false
   },
   "outputs": [
    {
     "name": "stdout",
     "output_type": "stream",
     "text": [
      "This program finds the real solutions to a quadratic。\n",
      "Please enter thr coefficients(a, b, c)：1,23\n",
      "You didn't give me right number of coefficients.\n"
     ]
    }
   ],
   "source": [
    "# 二次方程求解实例\n",
    "from math import sqrt\n",
    "\n",
    "def main():\n",
    "    print('This program finds the real solutions to a quadratic。')\n",
    "    try:\n",
    "        a, b, c = eval(input('Please enter thr coefficients(a, b, c)：'))\n",
    "        delta = sqrt(b**2 - 4*a*c)\n",
    "        x1 = (-b + delta) / (2*a)\n",
    "        x2 = (-b - delta) / (2*a)\n",
    "        print('\\nThe solutions are:', x1, x2)\n",
    "        \n",
    "    # except...as...if...语句：表示当一个错误发生时，Python会遍历每个错误类型直至找打匹配的错误为止。\n",
    "    except ValueError as errors:             \n",
    "        if str(errors) == 'math domain error':\n",
    "            print('No real Roots.')\n",
    "        else:      \n",
    "            print('You didn\\'t give me right number of coefficients.')\n",
    "    except NameError:\n",
    "        print('You didn\\'t enter three numbers.')\n",
    "    except TypeError:\n",
    "        print('Your input were not all numbers.')\n",
    "    except SyntaxError:\n",
    "        print('Your input was not in the correct form. Missing comma?')\n",
    "    except:\n",
    "        print('Something went wrong, sorry!')\n",
    "\n",
    "main()"
   ]
  }
 ],
 "metadata": {
  "kernelspec": {
   "display_name": "Python 3",
   "language": "python",
   "name": "python3"
  },
  "language_info": {
   "codemirror_mode": {
    "name": "ipython",
    "version": 3
   },
   "file_extension": ".py",
   "mimetype": "text/x-python",
   "name": "python",
   "nbconvert_exporter": "python",
   "pygments_lexer": "ipython3",
   "version": "3.6.0"
  }
 },
 "nbformat": 4,
 "nbformat_minor": 2
}
