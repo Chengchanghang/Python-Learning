{
 "cells": [
  {
   "cell_type": "code",
   "execution_count": null,
   "metadata": {
    "collapsed": true,
    "deletable": true,
    "editable": true
   },
   "outputs": [],
   "source": [
    "'''\n",
    "循环结构\n",
    "\n",
    "循环结构指在一定条件下反复执行某部分代码的操作。\n",
    "'''"
   ]
  },
  {
   "cell_type": "code",
   "execution_count": null,
   "metadata": {
    "collapsed": true,
    "deletable": true,
    "editable": true
   },
   "outputs": [],
   "source": [
    "'''\n",
    "一、for循环 — 固定次数循环\n",
    "\n",
    "1、Python中可以使用for循环遍历整个序列中的每一个值。\n",
    "\n",
    "2、格式：for val in 序列:\n",
    "                <程序代码>\n",
    "\n",
    "3、for循环缺点：程序循环需要提供固定循环次数\n",
    "'''"
   ]
  },
  {
   "cell_type": "code",
   "execution_count": 23,
   "metadata": {
    "collapsed": false,
    "deletable": true,
    "editable": true
   },
   "outputs": [
    {
     "name": "stdout",
     "output_type": "stream",
     "text": [
      "How many numbers\n",
      "?3\n",
      "Enter a number >> -1\n",
      "\n",
      "The average is  -0.3333333333333333\n"
     ]
    }
   ],
   "source": [
    "# 计算输入数字的平均数\n",
    "n = eval(input('How many numbers\\n?' ))\n",
    "sum = 0\n",
    "for i in range(n):\n",
    "    x = eval(input('Enter a number >> '))\n",
    "    sum += x\n",
    "    if x <= 0:  # 用于判断输入的值小于等于0时即跳出循环\n",
    "        break\n",
    "print('\\nThe average is ', sum / n) # 该打印语句脱离for循环，否则每输入一个值打印一个平均值"
   ]
  },
  {
   "cell_type": "code",
   "execution_count": null,
   "metadata": {
    "collapsed": true,
    "deletable": true,
    "editable": true
   },
   "outputs": [],
   "source": [
    "'''\n",
    "二、while循环 — 无线循环\n",
    "\n",
    "1、格式：while <condition>： 此处condition为布尔表达式，若为真则循环；否则终止\n",
    "                <程序代码>\n",
    "                \n",
    "2、while循环中条件总是在循环顶部被判断，即在循环体执行之前，该种方式被称为前侧循环。\n",
    "\n",
    "3、如下例所示，若在循环体内部忘记累加i，则条件一直判断为真，循环体将一直执行，此即为死循环。（可使用Ctrl + C终止一个程序）\n",
    "\n",
    "4、break语句 — 用于while或for循环中当满足某个条件时，即跳出整个循环（防止死循环）\n",
    "\n",
    "5、continue语句 — 用于结束本次循环，即跳出循环体中下面未执行的语句。\n",
    "                   对于while循环，则继续求解循环条件；\n",
    "                   对于for循环，则接着遍历循环列表\n",
    "                   \n",
    "6、else语句 — else后边的表达式在没有被break打断、for循环遍历完毕或while语句不满足情况下执行\n",
    "'''"
   ]
  },
  {
   "cell_type": "code",
   "execution_count": 1,
   "metadata": {
    "collapsed": false,
    "deletable": true,
    "editable": true,
    "scrolled": false
   },
   "outputs": [
    {
     "name": "stdout",
     "output_type": "stream",
     "text": [
      "1  "
     ]
    }
   ],
   "source": [
    "# 从0 到10求和\n",
    "i = 1 \n",
    "while i <= 10:\n",
    "    print(i, end = '  ')\n",
    "    i = i + 1\n",
    "    if i % 2 == 0: # 当程序中出现第一个偶数时，即跳出循环\n",
    "        break"
   ]
  },
  {
   "cell_type": "code",
   "execution_count": 3,
   "metadata": {
    "collapsed": false,
    "deletable": true,
    "editable": true
   },
   "outputs": [
    {
     "name": "stdout",
     "output_type": "stream",
     "text": [
      "发现奇数 1\n",
      "发现偶数 2\n",
      "发现奇数 3\n",
      "发现偶数 4\n",
      "发现奇数 5\n",
      "发现偶数 6\n",
      "发现奇数 7\n",
      "发现偶数 8\n",
      "发现奇数 9\n"
     ]
    }
   ],
   "source": [
    "for num in range(1,10):\n",
    "    if num % 2 == 0:\n",
    "        print('发现偶数', num)\n",
    "        continue # continue语句当数字为偶数时即跳过下边的打印语句，继续遍历循环列表\n",
    "    print('发现奇数', num)"
   ]
  },
  {
   "cell_type": "code",
   "execution_count": 8,
   "metadata": {
    "collapsed": false
   },
   "outputs": [
    {
     "name": "stdout",
     "output_type": "stream",
     "text": [
      "2 is a prime number\n",
      "3 is a prime number\n",
      "4 equals 2 * 2\n",
      "5 is a prime number\n",
      "6 equals 2 * 3\n",
      "7 is a prime number\n",
      "8 equals 2 * 4\n",
      "9 equals 3 * 3\n"
     ]
    }
   ],
   "source": [
    "for n in range(2,10):\n",
    "    for i in range(2,n):\n",
    "        if n % i == 0:\n",
    "            print(n, 'equals', i, '*', n // i)\n",
    "            break\n",
    "    else:\n",
    "        print(n, 'is a prime number')"
   ]
  },
  {
   "cell_type": "code",
   "execution_count": null,
   "metadata": {
    "collapsed": true
   },
   "outputs": [],
   "source": []
  }
 ],
 "metadata": {
  "kernelspec": {
   "display_name": "Python 3",
   "language": "python",
   "name": "python3"
  },
  "language_info": {
   "codemirror_mode": {
    "name": "ipython",
    "version": 3
   },
   "file_extension": ".py",
   "mimetype": "text/x-python",
   "name": "python",
   "nbconvert_exporter": "python",
   "pygments_lexer": "ipython3",
   "version": "3.6.0"
  }
 },
 "nbformat": 4,
 "nbformat_minor": 2
}
