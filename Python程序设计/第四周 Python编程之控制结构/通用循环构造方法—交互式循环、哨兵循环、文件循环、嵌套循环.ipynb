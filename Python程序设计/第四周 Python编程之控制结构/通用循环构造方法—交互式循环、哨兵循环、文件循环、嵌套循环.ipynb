{
 "cells": [
  {
   "cell_type": "code",
   "execution_count": null,
   "metadata": {
    "collapsed": true,
    "deletable": true,
    "editable": true
   },
   "outputs": [],
   "source": [
    "'''\n",
    "一、交互式循环\n",
    "\n",
    "1、交互式循环是无限循环的一种。\n",
    "\n",
    "2、交互循环允许用户通过交互的方式重复程序的特定部分。\n",
    "\n",
    "    如下例中通过输入moredata，然后判断该字符串中第一个字符是否为“y”，然后不断计算平均值。\n",
    "    \n",
    "    下例的优点：用户计算平均数时无需自己计数；\n",
    "    \n",
    "    却      点：由于不断交互会产生大量的提示信息。\n",
    "    \n",
    "'''"
   ]
  },
  {
   "cell_type": "code",
   "execution_count": 1,
   "metadata": {
    "collapsed": false,
    "deletable": true,
    "editable": true
   },
   "outputs": [
    {
     "name": "stdout",
     "output_type": "stream",
     "text": [
      "Enter a number >> 2\n",
      "Do you have more numbers (yes or no)? yes\n",
      "Enter a number >> 2\n",
      "Do you have more numbers (yes or no)? n\n",
      "\n",
      "The average of the numbers is 2.0\n"
     ]
    }
   ],
   "source": [
    "# 求平均值\n",
    "def main():\n",
    "    # 设置初始值（求和sum、计数count、判断是否还要输入数字moredata）\n",
    "    sum = 0\n",
    "    count = 0\n",
    "    moredata = 'yes'\n",
    "    \n",
    "    # 判断输入的是否有更多数字的第一个字母是否为y\n",
    "    while moredata[0] == 'y':\n",
    "        \n",
    "        # 输入数字\n",
    "        x = eval(input('Enter a number >> '))\n",
    "        \n",
    "        # 进行求和和计数\n",
    "        sum += x\n",
    "        count += 1\n",
    "        \n",
    "        # 询问是否还有更多数字\n",
    "        moredata = input('Do you have more numbers (yes or no)? ')\n",
    "        \n",
    "    # 打印平均值\n",
    "    print('\\nThe average of the numbers is', sum/count)\n",
    "    \n",
    "main()"
   ]
  },
  {
   "cell_type": "code",
   "execution_count": null,
   "metadata": {
    "collapsed": true,
    "deletable": true,
    "editable": true
   },
   "outputs": [],
   "source": [
    "'''\n",
    "二、哨兵循环\n",
    "\n",
    "哨兵循环指执行循环直到遇到特定的值，循环语句才终止执行的循环结构设计方法。\n",
    "\n",
    "下例的优点：与交互式循环相比，省去了很多判断“y”的交互式语句\n",
    "\n",
    "缺      点：无法对负数计算平均值\n",
    "'''"
   ]
  },
  {
   "cell_type": "code",
   "execution_count": 4,
   "metadata": {
    "collapsed": false,
    "deletable": true,
    "editable": true
   },
   "outputs": [
    {
     "name": "stdout",
     "output_type": "stream",
     "text": [
      "Enter a number (negative to quit) >> 2\n",
      "Enter a number (negative to quit) >> -1\n",
      "\n",
      "The average of the number is 2.0\n"
     ]
    }
   ],
   "source": [
    "# 求平均值—哨兵循环1\n",
    "def main():\n",
    "    # 设定初始值\n",
    "    sum = 0\n",
    "    count = 0\n",
    "    \n",
    "    # 输入计算的数，当输入值为负数时即退出（负数即相当于哨兵）\n",
    "    x = eval(input('Enter a number (negative to quit) >> '))\n",
    "    \n",
    "    # 判断，当x大于等于0时进行循环\n",
    "    while x >= 0:\n",
    "        sum += x\n",
    "        count += 1\n",
    "        \n",
    "        # 若之前输入的x为大于等于0的数，则继续输入要计算的其他数\n",
    "        x = eval(input('Enter a number (negative to quit) >> '))\n",
    "    \n",
    "    # 打印平均值\n",
    "    print('\\nThe average of the number is', sum / count)\n",
    "    \n",
    "main()"
   ]
  },
  {
   "cell_type": "code",
   "execution_count": 6,
   "metadata": {
    "collapsed": false,
    "deletable": true,
    "editable": true
   },
   "outputs": [
    {
     "name": "stdout",
     "output_type": "stream",
     "text": [
      "Enter a number (<Enter> to quit) >> 1\n",
      "Enter a number (<Enter> to quit) >> 2\n",
      "Enter a number (<Enter> to quit) >> \n",
      "\n",
      "The average of number is 1.5\n"
     ]
    }
   ],
   "source": [
    "# 求平均值—哨兵循环2\n",
    "def main():\n",
    "    sum = 0\n",
    "    count = 0\n",
    "    \n",
    "    # 该例中将设定输入空值即终止循环，即相当于设定哨兵为空值\n",
    "    str = input('Enter a number (<Enter> to quit) >> ')\n",
    "    while str != '':\n",
    "        \n",
    "        # 将字符串转换为数字\n",
    "        x = eval(str)\n",
    "        sum += x\n",
    "        count += 1\n",
    "        str = input('Enter a number (<Enter> to quit) >> ')\n",
    "    print('\\nThe average of number is', sum / count)\n",
    "    \n",
    "main()"
   ]
  },
  {
   "cell_type": "code",
   "execution_count": null,
   "metadata": {
    "collapsed": true,
    "deletable": true,
    "editable": true
   },
   "outputs": [],
   "source": [
    "'''\n",
    "三、文件循环\n",
    "\n",
    "使用readline读取文件的每一行，将字符串转换为数字然后求平均数\n",
    "\n",
    "注意：\n",
    "\n",
    "readline函数读取到最后一行的时候返回的是换行符而不是空值 \n",
    "'''"
   ]
  },
  {
   "cell_type": "code",
   "execution_count": 30,
   "metadata": {
    "collapsed": false,
    "deletable": true,
    "editable": true
   },
   "outputs": [
    {
     "name": "stdout",
     "output_type": "stream",
     "text": [
      "The path of file >> X:\\Users\\w\\Desktop\\num.txt\n",
      "\n",
      "The average of numbers in the file is 8.0\n"
     ]
    }
   ],
   "source": [
    "# 求平均值\n",
    "def main():\n",
    "    # 设定初始值\n",
    "    sum = 0\n",
    "    count = 0\n",
    "    \n",
    "    # 输入读取的文件的位置—在桌面建立num.txt文件\n",
    "    filename = input('The path of file >> ')\n",
    "    \n",
    "    # 打开文件\n",
    "    f = open(filename, 'r')\n",
    "    \n",
    "    # 读取文件的每一行\n",
    "    x = f.readline()\n",
    "    \n",
    "    # 判断当读取到最后一行是空值则终止循环，即哨兵相当于空值\n",
    "    while x != '':\n",
    "        x = eval(x)\n",
    "        sum += x\n",
    "        count += 1\n",
    "        x = f.readline()\n",
    "    print('\\nThe average of numbers in the file is', sum / count)\n",
    "    f.close()\n",
    "    \n",
    "main()"
   ]
  },
  {
   "cell_type": "code",
   "execution_count": null,
   "metadata": {
    "collapsed": true,
    "deletable": true,
    "editable": true
   },
   "outputs": [],
   "source": [
    "'''\n",
    "四、嵌套循环\n",
    "\n",
    "1、决策和循环互相嵌套以实现复杂算法\n",
    "\n",
    "上述文件循环中文件的每行仅有一个数字，该循环中则将数字以逗号分隔方式存储在文件同一行中。\n",
    "\n",
    "\n",
    "'''"
   ]
  },
  {
   "cell_type": "code",
   "execution_count": 2,
   "metadata": {
    "collapsed": false,
    "deletable": true,
    "editable": true
   },
   "outputs": [
    {
     "name": "stdout",
     "output_type": "stream",
     "text": [
      "The path of file >> X:\\Users\\w\\Desktop\\num1.txt\n",
      "\n",
      "The average of numbers in the file is 2.5\n"
     ]
    }
   ],
   "source": [
    "# 求平均值\n",
    "def main():\n",
    "    # 设定初值\n",
    "    sum = 0 \n",
    "    count = 0\n",
    "    \n",
    "    # 输入文件位置\n",
    "    filename = input('The path of file >> ')\n",
    "    \n",
    "    # 打开文件\n",
    "    f = open(filename, 'r')\n",
    "    \n",
    "    # 按行读取\n",
    "    x = f.readline()\n",
    "    \n",
    "    # 判断当读取内容为空值终止循环，即哨兵设定为空值\n",
    "    while x != '':\n",
    "        \n",
    "        # 循环遍历每一行，并将内容按照逗号进行分割\n",
    "        for str in x.split(','):\n",
    "            sum += eval(str)\n",
    "            count += 1\n",
    "        x = f.readline()\n",
    "    print('\\nThe average of numbers in the file is', sum / count)\n",
    "    \n",
    "main()"
   ]
  }
 ],
 "metadata": {
  "kernelspec": {
   "display_name": "Python 3",
   "language": "python",
   "name": "python3"
  },
  "language_info": {
   "codemirror_mode": {
    "name": "ipython",
    "version": 3
   },
   "file_extension": ".py",
   "mimetype": "text/x-python",
   "name": "python",
   "nbconvert_exporter": "python",
   "pygments_lexer": "ipython3",
   "version": "3.6.0"
  }
 },
 "nbformat": 4,
 "nbformat_minor": 2
}
