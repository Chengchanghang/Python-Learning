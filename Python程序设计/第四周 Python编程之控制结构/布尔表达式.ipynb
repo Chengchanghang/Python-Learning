{
 "cells": [
  {
   "cell_type": "code",
   "execution_count": null,
   "metadata": {
    "collapsed": true
   },
   "outputs": [],
   "source": [
    "'''\n",
    "布尔表达式\n",
    "\n",
    "1、布尔操作符：and（且）、or（或）、not（非）\n",
    "\n",
    " and和or用于组合两个布尔表达式，并产生一个布尔结果\n",
    "     and — 表达式1 and 表达式2，只有当and两侧的表达式均为真时其布尔结果才为真；\n",
    "     or  — 表达式1 or 表达式2，or两侧的表达式有一个为真则其布尔结果为真；\n",
    "     and和or操作符都符合分配率，即\n",
    "         a or (b and c) = (a or b) and (a or c)\n",
    "         a and (b or c) = (a and b) or (a and c)\n",
    "     \n",
    " not用于返回一个布尔表达式的反面\n",
    "     not — not 表达式\n",
    "     \n",
    " 德摩根定律 — not放进布尔表达式后，and和or运算符发生变化\n",
    "     not (a and b) = (not a) or (not b)\n",
    "     not (a or b) = (not a) and (not b)\n",
    "     \n",
    "2、以上三者的优先级规则分别是：not、and、or（按照优先顺序排列）\n",
    "\n",
    "3、对于数字（整形或浮点数）的零值被认为是False，任何非零值都是True；\n",
    "   对于字符串而言，任何长度大于零的字符串均为True,反之则为False；\n",
    "   对于序列而言，任何非空序列均为True，反之则为False。\n",
    "'''"
   ]
  }
 ],
 "metadata": {
  "kernelspec": {
   "display_name": "Python 3",
   "language": "python",
   "name": "python3"
  },
  "language_info": {
   "codemirror_mode": {
    "name": "ipython",
    "version": 3
   },
   "file_extension": ".py",
   "mimetype": "text/x-python",
   "name": "python",
   "nbconvert_exporter": "python",
   "pygments_lexer": "ipython3",
   "version": "3.6.0"
  }
 },
 "nbformat": 4,
 "nbformat_minor": 2
}
