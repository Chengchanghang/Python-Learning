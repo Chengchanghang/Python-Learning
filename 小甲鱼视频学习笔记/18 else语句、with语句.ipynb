{
 "cells": [
  {
   "cell_type": "markdown",
   "metadata": {},
   "source": [
    "# else语句"
   ]
  },
  {
   "cell_type": "markdown",
   "metadata": {},
   "source": [
    "## 一、if ... else ...\n",
    "**语法**：if：  \n",
    "　　　condition1  \n",
    "　　　else：  \n",
    "　　　condition2  \n",
    "**执行过程**：当条件1condition1成立时，即只执行该条件对于的代码块；否则，执行else部分的条件2对应的代码块"
   ]
  },
  {
   "cell_type": "code",
   "execution_count": 1,
   "metadata": {
    "collapsed": false
   },
   "outputs": [
    {
     "name": "stdout",
     "output_type": "stream",
     "text": [
      "不好！\n"
     ]
    }
   ],
   "source": [
    "num = 3\n",
    "if num > 3:\n",
    "    print('好！')\n",
    "else:\n",
    "    print('不好！')"
   ]
  },
  {
   "cell_type": "markdown",
   "metadata": {},
   "source": [
    "## 二、while ... else...、for ... else ...\n",
    "**注意**：当else与while、for循环连用时，else部分的语句**只有在循环完成时才被执行**"
   ]
  },
  {
   "cell_type": "code",
   "execution_count": 9,
   "metadata": {
    "collapsed": false
   },
   "outputs": [
    {
     "name": "stdout",
     "output_type": "stream",
     "text": [
      "请输入一个数：32\n",
      "32最大约数是16\n"
     ]
    }
   ],
   "source": [
    "def showMaxFactor(num):\n",
    "    count = num // 2\n",
    "    while count > 1:\n",
    "        if num % count == 0:\n",
    "            print('%d最大约数是%d' % (num, count))\n",
    "            break # 此处跳出循环，挤不执行else部分的代码\n",
    "        count -= 1\n",
    "    else:\n",
    "        print('%d是素数！' % num)\n",
    "        \n",
    "num = int(input('请输入一个数：'))\n",
    "showMaxFactor(num)"
   ]
  },
  {
   "cell_type": "markdown",
   "metadata": {},
   "source": [
    "## 三、异常处理中的else语句\n",
    "**用法**：若try语句中无异常，则执行else部分的语句；反之，则不执行else部分的语句"
   ]
  },
  {
   "cell_type": "code",
   "execution_count": 15,
   "metadata": {
    "collapsed": false
   },
   "outputs": [
    {
     "name": "stdout",
     "output_type": "stream",
     "text": [
      "警告：程序出错！\n",
      "\n",
      "错误原因：invalid literal for int() with base 10: 'aa'\n"
     ]
    }
   ],
   "source": [
    "try:\n",
    "    int('aa')\n",
    "except ValueError as reason:\n",
    "    print('警告：程序出错！\\n\\n错误原因：%s' % reason)\n",
    "else:\n",
    "    print('无异常！')"
   ]
  },
  {
   "cell_type": "code",
   "execution_count": 16,
   "metadata": {
    "collapsed": false
   },
   "outputs": [
    {
     "name": "stdout",
     "output_type": "stream",
     "text": [
      "无异常！\n"
     ]
    }
   ],
   "source": [
    "try:\n",
    "    int('12')\n",
    "except ValueError as reason:\n",
    "    print('警告：程序出错！\\n\\n错误原因：%s' % reason)\n",
    "else:\n",
    "    print('无异常！')"
   ]
  },
  {
   "cell_type": "markdown",
   "metadata": {},
   "source": [
    "# with语句\n",
    "**作用**：with语句在文件打开操作中会在处理完成自动关闭文件，避免了之前使用close()关闭文件的繁琐"
   ]
  },
  {
   "cell_type": "code",
   "execution_count": 26,
   "metadata": {
    "collapsed": false
   },
   "outputs": [
    {
     "name": "stdout",
     "output_type": "stream",
     "text": [
      "出错了！\n",
      "\n",
      "错误原因：not readable\n"
     ]
    }
   ],
   "source": [
    "'''\n",
    "try ... except ... finally ...形式\n",
    "文件中无内容，故会出现异常：UnsupportedOperation\n",
    "'''\n",
    "try:\n",
    "    f = open('test.txt', 'w') \n",
    "    for each_line in f:\n",
    "        print(each_line)\n",
    "except OSError as reason:\n",
    "    print('出错了！\\n\\n错误原因：%s' % reason)\n",
    "finally:\n",
    "    f.close()"
   ]
  },
  {
   "cell_type": "code",
   "execution_count": 28,
   "metadata": {
    "collapsed": false
   },
   "outputs": [
    {
     "name": "stdout",
     "output_type": "stream",
     "text": [
      "出错啦！\n",
      "\n",
      "错误原因：not readable\n"
     ]
    }
   ],
   "source": [
    "'''\n",
    "with形式\n",
    "with语句省去使用f.close()关闭文件的麻烦\n",
    "'''\n",
    "try:\n",
    "    with open('test.txt', 'w') as f:\n",
    "        for each_line in f:\n",
    "            print(each_line)\n",
    "except OSError as reason:\n",
    "    print('出错啦！\\n\\n错误原因：%s' % reason)"
   ]
  }
 ],
 "metadata": {
  "kernelspec": {
   "display_name": "Python 3",
   "language": "python",
   "name": "python3"
  },
  "language_info": {
   "codemirror_mode": {
    "name": "ipython",
    "version": 3
   },
   "file_extension": ".py",
   "mimetype": "text/x-python",
   "name": "python",
   "nbconvert_exporter": "python",
   "pygments_lexer": "ipython3",
   "version": "3.6.0"
  }
 },
 "nbformat": 4,
 "nbformat_minor": 2
}
