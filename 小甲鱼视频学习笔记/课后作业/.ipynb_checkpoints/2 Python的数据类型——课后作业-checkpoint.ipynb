{
 "cells": [
  {
   "cell_type": "markdown",
   "metadata": {},
   "source": [
    "## 1、什么是BIF？"
   ]
  },
  {
   "cell_type": "markdown",
   "metadata": {},
   "source": [
    "BIF即built-in-functions，内置函数。为方便程序员快速编写脚本程序，Python提供了丰富的内置函数，如：print()、input()等。可通过使用dir($__builtins__$)查看Python的内置函数。\n",
    "\n",
    "**注意**：bifs中有“Error”和“__ __”的并非内置函数"
   ]
  },
  {
   "cell_type": "code",
   "execution_count": 30,
   "metadata": {
    "collapsed": false
   },
   "outputs": [
    {
     "name": "stdout",
     "output_type": "stream",
     "text": [
      "['abs', 'all', 'any', 'ascii', 'bin', 'bool', 'bytearray', 'bytes', 'callable', 'chr', 'classmethod', 'compile', 'complex', 'copyright', 'credits', 'delattr', 'dict', 'dir', 'divmod', 'dreload', 'enumerate', 'eval', 'exec', 'filter', 'float', 'format', 'frozenset', 'get_ipython', 'getattr', 'globals', 'hasattr', 'hash', 'help', 'hex', 'id', 'input', 'int', 'isinstance', 'issubclass', 'iter', 'len', 'license', 'list', 'locals', 'map', 'max', 'memoryview', 'min', 'next', 'object', 'oct', 'open', 'ord', 'pow', 'print', 'property', 'range', 'repr', 'reversed', 'round', 'set', 'setattr', 'slice', 'sorted', 'staticmethod', 'str', 'sum', 'super', 'tuple', 'type', 'vars', 'zip']"
     ]
    },
    {
     "data": {
      "text/plain": [
       "(None, 72)"
      ]
     },
     "execution_count": 30,
     "metadata": {},
     "output_type": "execute_result"
    }
   ],
   "source": [
    "# Python中所有内置函数\n",
    "bifs = dir(__builtins__)\n",
    "\n",
    "BIF = []\n",
    "for bif in bifs:\n",
    "    if bif.islower() == True and '__' not in bif:\n",
    "        BIF.append(bif)\n",
    "\n",
    "print(BIF, end = ''), len(BIF)"
   ]
  },
  {
   "cell_type": "markdown",
   "metadata": {},
   "source": [
    "## 2、在Python中“FishC”与“fishc”一样吗？"
   ]
  },
  {
   "cell_type": "markdown",
   "metadata": {},
   "source": [
    "不一样，因为Python对于大小写是敏感的，虽然二者同属字符串类型，但由于两个字符串中大小写并不相同，因此二者不同。"
   ]
  },
  {
   "cell_type": "markdown",
   "metadata": {},
   "source": [
    "## 3、Python中什么是最重要的？"
   ]
  },
  {
   "cell_type": "markdown",
   "metadata": {},
   "source": [
    "Python中最重要属于**“缩进”**。因为正是由于Python中缩进的存在而使得Python代码显得精简且具有层次感。"
   ]
  },
  {
   "cell_type": "markdown",
   "metadata": {},
   "source": [
    "## 4、“=”和“==”表示不同含义，若在编程误将“==”写为“=”如何解决？"
   ]
  },
  {
   "cell_type": "markdown",
   "metadata": {},
   "source": [
    "在Python代码若将“==”误写为“=”，由于Python不支持在if条件中赋值，因此会报错，程序中断。\n",
    "\n",
    "**注意**\n",
    "\n",
    "- “==”表示等价关系，常用语判断是否具有等价关系；\n",
    "- “=”表示赋值符号"
   ]
  },
  {
   "cell_type": "markdown",
   "metadata": {},
   "source": [
    "## 5、“拼接”的意思？"
   ]
  },
  {
   "cell_type": "markdown",
   "metadata": {},
   "source": [
    "在许多编程语言中可以将两个字符串“相加”在一起，如：'I' + 'love' + 'Python'即可得到'I love Python'。在Python中，该做法称为**拼接字符串**。"
   ]
  },
  {
   "cell_type": "markdown",
   "metadata": {},
   "source": [
    "### 编写程序\n",
    "要求输入用户姓名并打印“你好，姓名！”"
   ]
  },
  {
   "cell_type": "code",
   "execution_count": 34,
   "metadata": {
    "collapsed": false
   },
   "outputs": [
    {
     "name": "stdout",
     "output_type": "stream",
     "text": [
      "请输入您的姓名：卫志鹏\n",
      "你好，卫志鹏！\n",
      "你好，卫志鹏！\n"
     ]
    }
   ],
   "source": [
    "name = input('请输入您的姓名：')\n",
    "print('你好，%s！' % name) \n",
    "print('你好，' + name + '！')"
   ]
  },
  {
   "cell_type": "markdown",
   "metadata": {},
   "source": [
    "### 编写程序\n",
    "要求用户输入1-100之间的数字并判断，输入符合要求则打印“Good!”,反之打印“Bad!”"
   ]
  },
  {
   "cell_type": "code",
   "execution_count": 36,
   "metadata": {
    "collapsed": false
   },
   "outputs": [
    {
     "name": "stdout",
     "output_type": "stream",
     "text": [
      "请输入1～100之间的任意数字：111\n",
      "Bad!\n"
     ]
    }
   ],
   "source": [
    "num = int(input('请输入1～100之间的任意数字：'))\n",
    "\n",
    "if (num >= 1) and (num <= 100): # 可写为：1 <= num <= 100\n",
    "    print('Good!')\n",
    "else:\n",
    "    print('Bad!')"
   ]
  }
 ],
 "metadata": {
  "kernelspec": {
   "display_name": "Python 3",
   "language": "python",
   "name": "python3"
  },
  "language_info": {
   "codemirror_mode": {
    "name": "ipython",
    "version": 3
   },
   "file_extension": ".py",
   "mimetype": "text/x-python",
   "name": "python",
   "nbconvert_exporter": "python",
   "pygments_lexer": "ipython3",
   "version": "3.6.0"
  }
 },
 "nbformat": 4,
 "nbformat_minor": 2
}
