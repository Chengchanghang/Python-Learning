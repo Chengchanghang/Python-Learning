{
 "cells": [
  {
   "cell_type": "markdown",
   "metadata": {},
   "source": [
    "## 1、Python是什么类型的语言？"
   ]
  },
  {
   "cell_type": "markdown",
   "metadata": {},
   "source": [
    "Python属于脚本语言  \n",
    "\n",
    "**脚本语言**（Scripting language）是电脑编程语言，因此也能让开发者藉以编写出让电脑能够执行的程序。以简单方式快速完成某些复杂的事情通常是创造脚本语言的重要原则，基于该原则使得脚本语言通常比C、C++或Java之类的系统编程语言更简单容易。脚本语言也具有属于脚本语言的特性：\n",
    "\n",
    "- 语法和结构通常比较简单  \n",
    "- 学习和使用通常比较简单\n",
    "- 通常以已修改程序的“解释”作为运行方式，无需“编译”\n",
    "- 程序的开发产能由于运行性能\n",
    "\n",
    "一个脚本可以使得本来要用键盘进行交互式操作自动化，一个shell脚本主要由原本需要在命令行输入的命令组成，或在一个文本编辑器中，用户可以使用脚本来把一些常用的操作组合成一组串行。主要用来书写这种脚本的语言即为脚本语言。很多脚本语言实际上已经超过简单的用户命令串行的指令，还可以编写更复杂的程序。"
   ]
  },
  {
   "cell_type": "markdown",
   "metadata": {},
   "source": [
    "## 2、IDLE是什么？"
   ]
  },
  {
   "cell_type": "markdown",
   "metadata": {},
   "source": [
    "IDLE是一个python shell。shell意为外壳，即一个通过键入文本与程序交互的途径，如Windows中的命令行窗口。使用shell可以向操作系统下达命令，也可以使用IDLE与Python进行交互。"
   ]
  },
  {
   "cell_type": "markdown",
   "metadata": {},
   "source": [
    "## 3、print()的作用是什么？"
   ]
  },
  {
   "cell_type": "markdown",
   "metadata": {},
   "source": [
    "print()会在输出窗口中显示一些文本。"
   ]
  },
  {
   "cell_type": "markdown",
   "metadata": {},
   "source": [
    "## 4、Python中表示乘法的符号是什么？"
   ]
  },
  {
   "cell_type": "markdown",
   "metadata": {},
   "source": [
    "Python中使用星号“*”来表示乘法符号。"
   ]
  },
  {
   "cell_type": "markdown",
   "metadata": {},
   "source": [
    "## 5、为什么>>>print('I love Python' * 5)可以正常执行，但>>>print('I love Python' + 5)出错？"
   ]
  },
  {
   "cell_type": "markdown",
   "metadata": {},
   "source": [
    "在Python中不能将两个不同类型的东西相加，如数字与文本。因此第二个print会出错"
   ]
  },
  {
   "cell_type": "markdown",
   "metadata": {},
   "source": [
    "## 6、若我需要在一个字符串中嵌入双引号，正确的做法是？"
   ]
  },
  {
   "cell_type": "markdown",
   "metadata": {},
   "source": [
    "在字符串中嵌入双引号的正确做法有两种：\n",
    "\n",
    "- 使用反斜杠“\\”对双引号进行转义；\n",
    "- 使用单引号将该字符串括起来；"
   ]
  },
  {
   "cell_type": "code",
   "execution_count": 2,
   "metadata": {
    "collapsed": false
   },
   "outputs": [
    {
     "data": {
      "text/plain": [
       "('12\"', '12\"')"
      ]
     },
     "execution_count": 2,
     "metadata": {},
     "output_type": "execute_result"
    }
   ],
   "source": [
    "\"12\\\"\", '12\"'"
   ]
  },
  {
   "cell_type": "markdown",
   "metadata": {},
   "source": [
    "## 7、为什么要使用Python3？Python2存在的问题？（目前大多使用Python2）"
   ]
  },
  {
   "cell_type": "markdown",
   "metadata": {},
   "source": [
    "Python3属于Python发展的趋势，而且只要学会了Python3，无论对于Python哪个版本都无所谓。"
   ]
  }
 ],
 "metadata": {
  "kernelspec": {
   "display_name": "Python 3",
   "language": "python",
   "name": "python3"
  },
  "language_info": {
   "codemirror_mode": {
    "name": "ipython",
    "version": 3
   },
   "file_extension": ".py",
   "mimetype": "text/x-python",
   "name": "python",
   "nbconvert_exporter": "python",
   "pygments_lexer": "ipython3",
   "version": "3.6.0"
  }
 },
 "nbformat": 4,
 "nbformat_minor": 2
}
