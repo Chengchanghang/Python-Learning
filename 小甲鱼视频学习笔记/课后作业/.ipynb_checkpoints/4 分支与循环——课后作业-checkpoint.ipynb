{
 "cells": [
  {
   "cell_type": "markdown",
   "metadata": {},
   "source": [
    "## 1、以下代码打印多少次“我爱Python”\n",
    "以下代码为死循环，将会一直循环直至消耗完计算机内存为止\n",
    "\n",
    "造成死循环的原因在于：while后边的条件永远为真，因此将会无线循环。\n",
    "\n",
    "Python认为条件为假的情形：\n",
    "\n",
    "- ''—空的时候即认为条件为假；\n",
    "- False，即为假；\n",
    "- 0，由于False == 0，因此也为假"
   ]
  },
  {
   "cell_type": "code",
   "execution_count": 1,
   "metadata": {
    "collapsed": true
   },
   "outputs": [],
   "source": [
    "# while 'Python':\n",
    "#     print('我爱Python！')\n",
    "# 此为死循环，将会一直执行下去，直到消耗完计算机内存为止"
   ]
  },
  {
   "cell_type": "markdown",
   "metadata": {},
   "source": [
    "## 2、以下代码打印多少次“我爱Python”\n",
    "由于以下代码设定初始值**i**，并设定**i = i - 1**即每执行依次i减1，当i = 0时，则循环停止，因此将会打印10次"
   ]
  },
  {
   "cell_type": "code",
   "execution_count": 2,
   "metadata": {
    "collapsed": false
   },
   "outputs": [
    {
     "name": "stdout",
     "output_type": "stream",
     "text": [
      "我爱Python\n",
      "我爱Python\n",
      "我爱Python\n",
      "我爱Python\n",
      "我爱Python\n",
      "我爱Python\n",
      "我爱Python\n",
      "我爱Python\n",
      "我爱Python\n",
      "我爱Python\n"
     ]
    }
   ],
   "source": [
    "i = 10\n",
    "while i:\n",
    "    print('我爱Python')\n",
    "    i -= 1"
   ]
  },
  {
   "cell_type": "code",
   "execution_count": 4,
   "metadata": {
    "collapsed": false
   },
   "outputs": [
    {
     "name": "stdout",
     "output_type": "stream",
     "text": [
      "退出循环\n"
     ]
    }
   ],
   "source": [
    "while '':\n",
    "    print('进入循环')\n",
    "print('退出循环')"
   ]
  },
  {
   "cell_type": "code",
   "execution_count": 5,
   "metadata": {
    "collapsed": false
   },
   "outputs": [
    {
     "name": "stdout",
     "output_type": "stream",
     "text": [
      "退出循环\n"
     ]
    }
   ],
   "source": [
    "while False:\n",
    "    print('进入循环')\n",
    "print('退出循环')"
   ]
  },
  {
   "cell_type": "code",
   "execution_count": 6,
   "metadata": {
    "collapsed": false
   },
   "outputs": [
    {
     "name": "stdout",
     "output_type": "stream",
     "text": [
      "退出循环\n"
     ]
    }
   ],
   "source": [
    "while 0:\n",
    "    print('进入循环')\n",
    "print('退出循环')"
   ]
  },
  {
   "cell_type": "markdown",
   "metadata": {},
   "source": [
    "## 3、请写出与10 < cost < 50等价的表达式"
   ]
  },
  {
   "cell_type": "code",
   "execution_count": 3,
   "metadata": {
    "collapsed": false
   },
   "outputs": [
    {
     "data": {
      "text/plain": [
       "True"
      ]
     },
     "execution_count": 3,
     "metadata": {},
     "output_type": "execute_result"
    }
   ],
   "source": [
    "cost = 20\n",
    "comp1 = 10 < cost < 50\n",
    "comp2 = (cost > 10) and (cost < 50)\n",
    "comp1 == comp2"
   ]
  },
  {
   "cell_type": "markdown",
   "metadata": {},
   "source": [
    "## 4、Python3中，一行可以书写多个语句吗？"
   ]
  },
  {
   "cell_type": "code",
   "execution_count": null,
   "metadata": {
    "collapsed": true
   },
   "outputs": [],
   "source": []
  },
  {
   "cell_type": "markdown",
   "metadata": {},
   "source": [
    "## 5、Python3中，一个语句可以分成多行书写吗？"
   ]
  },
  {
   "cell_type": "code",
   "execution_count": null,
   "metadata": {
    "collapsed": true
   },
   "outputs": [],
   "source": []
  }
 ],
 "metadata": {
  "kernelspec": {
   "display_name": "Python 3",
   "language": "python",
   "name": "python3"
  },
  "language_info": {
   "codemirror_mode": {
    "name": "ipython",
    "version": 3
   },
   "file_extension": ".py",
   "mimetype": "text/x-python",
   "name": "python",
   "nbconvert_exporter": "python",
   "pygments_lexer": "ipython3",
   "version": "3.6.0"
  }
 },
 "nbformat": 4,
 "nbformat_minor": 2
}
