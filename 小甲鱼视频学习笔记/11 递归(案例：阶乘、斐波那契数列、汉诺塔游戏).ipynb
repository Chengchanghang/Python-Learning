{
 "cells": [
  {
   "cell_type": "markdown",
   "metadata": {},
   "source": [
    "# 递归——recursion\n",
    "1、递归即**函数调用自身**进行运算的一种形式  \n",
    "2、Python中设定了**递归的深度为100层**，以防止程序无限递归消耗完全部内存，但当需求大于100层时(如爬虫)，**可以手动设置递归深度**  \n",
    "3、**手动设置递归深度方法如下**：(递归深度可以为任意数字，但不建议太大)  \n",
    "　　import sys  \n",
    "　　sys.setrecursionlimit(<递归深度>)  \n",
    "4、**递归思想又称为分治思想**，即表示将复杂的问题分成小问题思考"
   ]
  },
  {
   "cell_type": "code",
   "execution_count": 21,
   "metadata": {
    "collapsed": false
   },
   "outputs": [
    {
     "data": {
      "text/plain": [
       "120"
      ]
     },
     "execution_count": 21,
     "metadata": {},
     "output_type": "execute_result"
    }
   ],
   "source": [
    "# 阶乘案例——一般函数\n",
    "def jiecheng(n):\n",
    "    result = n\n",
    "    for i in range(1, n):\n",
    "        result *= i # 即n * 1 * 2 * 3 * ... * (n - 1)\n",
    "    return result\n",
    "\n",
    "jiecheng(5)"
   ]
  },
  {
   "cell_type": "markdown",
   "metadata": {},
   "source": [
    "## 注意\n",
    "使用递归时，必须设置终止条件，否则递归函数将永不停止的执行下去。如下例中终止条件即n = 1,当n = 1时函数不在调用自身，终止递归返回结果  "
   ]
  },
  {
   "cell_type": "markdown",
   "metadata": {},
   "source": [
    "## 阶乘案例"
   ]
  },
  {
   "cell_type": "code",
   "execution_count": 31,
   "metadata": {
    "collapsed": false
   },
   "outputs": [
    {
     "name": "stdout",
     "output_type": "stream",
     "text": [
      "请输入一个正整数：5\n",
      "5的阶乘是：120\n"
     ]
    }
   ],
   "source": [
    "'''\n",
    "阶乘案例——递归\n",
    "\n",
    "（输入值为5时）\n",
    "\n",
    "首先进行判断\n",
    "当 n != 1时：\n",
    "    5 * jiecheng(4-1) 相当于 5 * 4 * 3 * 2 * 1\n",
    "    4 * jiecheng(3-1) 相当于 4 * 3 * 2 * 1\n",
    "    3 * jiecheng(2-1) 相当于 3 * 2 * 1\n",
    "    2 * jiecheng(1)   相当于 2 * 1\n",
    "此时 n == 1\n",
    "    返回 1\n",
    "    \n",
    "然后进行返回\n",
    "    5 * 4 * 3 * 2 * 1\n",
    "'''\n",
    "\n",
    "def jiecheng(n):\n",
    "    if n == 1:\n",
    "        return 1\n",
    "    else:\n",
    "        # 5 * jiecheng(4)等价于5 * 4 * jiecheng(3)不断循环，直到n=1为止不在调用自身  \n",
    "        return n * jiecheng(n - 1)   \n",
    "\n",
    "num = int(input('请输入一个正整数：'))    \n",
    "result = jiecheng(num)\n",
    "print('%d的阶乘是：%d' % (num, result))"
   ]
  },
  {
   "cell_type": "markdown",
   "metadata": {
    "collapsed": true
   },
   "source": [
    "## 斐波那契数列\n",
    "一般而言，兔子在出生两个月后，就有繁殖能力，一对兔子每个月能生出一对小兔子来。如果所有兔子都不死，那么一年以后可以繁殖多少对兔子？  \n",
    "我们不妨拿新出生的一对小兔子分析一下：  \n",
    "第一个月小兔子没有繁殖能力，所以还是一对  \n",
    "两个月后，生下一对小兔对数共有两对  \n",
    "三个月以后，老兔子又生下一对，因为小兔子还没有繁殖能力，所以一共是三对  \n",
    "...  \n",
    "依次类推即可。\n",
    "**递推公式**：f(n) = f(n - 1) + f(n - 2)  \n",
    "斐波那契数列逐渐变大，后一个值与前一个值的比例趋近于0.618，即**黄金分割**。"
   ]
  },
  {
   "cell_type": "code",
   "execution_count": 4,
   "metadata": {
    "collapsed": false
   },
   "outputs": [
    {
     "data": {
      "text/plain": [
       "6765"
      ]
     },
     "execution_count": 4,
     "metadata": {},
     "output_type": "execute_result"
    }
   ],
   "source": [
    "'''\n",
    "斐波那契数列——迭代实现\n",
    "\n",
    "n表示输入参数\n",
    "1、自定义n = 1(即n1)、n = 2(即n2)分别为n1 = n2 = 1，并将n = 3(即n3)初始化为n3 = 1\n",
    "2、当n < 1时，此时输入有误，无法计算。\n",
    "3、当(n - 2) > 0   (即前边第二个数大于零，如：n = 3,则n = 1的值应当大于0)时，令\n",
    "    n3 = n2 + n1  （如：n = 3时n3的值即为n = 1、n = 2时对应值的和）\n",
    "    n1 = n2       （如：将n = 2对应的值n2重新作为n = 1对应的值进行计算）\n",
    "    n2 = n3        (同理)\n",
    "    n -= 1         (表示循环减少一次，即相当于重置n = 1、n = 2对应的值)\n",
    "4、返回计算结果n3\n",
    "'''\n",
    "\n",
    "def add(n):\n",
    "    n1 = 1 \n",
    "    n2 = 1\n",
    "    n3 = 1\n",
    "    \n",
    "    if n < 1:\n",
    "        print('输入有误！')\n",
    "        return -1\n",
    "    \n",
    "    while (n - 2) > 0:\n",
    "        n3 = n2 + n1\n",
    "        n1 = n2\n",
    "        n2 = n3\n",
    "        n -= 1\n",
    "        \n",
    "    return n3\n",
    "\n",
    "add(20)  # 当计算数字较大时，采用简单迭代相比递归更为快速"
   ]
  },
  {
   "cell_type": "code",
   "execution_count": 1,
   "metadata": {
    "collapsed": false
   },
   "outputs": [
    {
     "data": {
      "text/plain": [
       "6765"
      ]
     },
     "execution_count": 1,
     "metadata": {},
     "output_type": "execute_result"
    }
   ],
   "source": [
    "'''\n",
    "斐波那契数列——递归\n",
    "\n",
    "判断n < 1时，输入有误\n",
    "判断n == 1、n == 2时返回1\n",
    "其余情况则所要求的值等于前一项的值与前第二项值的和\n",
    "'''\n",
    "def add(n):\n",
    "    if n < 1:\n",
    "        print('输入有误！')\n",
    "    \n",
    "    if n == 1 or n == 2:\n",
    "        return 1\n",
    "    else:\n",
    "        return add(n-1) + add(n-2)\n",
    "    \n",
    "add(20)"
   ]
  },
  {
   "cell_type": "markdown",
   "metadata": {},
   "source": [
    "## 汉诺塔游戏\n",
    "游戏说明：在一个平面上从左到右有三根针，在最左边针上从上到下有n个盘子且越往上盘子越小，要求每次只移动一个盘子且必须是小盘子在大盘子上边，最后将所有盘子移到最右边针上"
   ]
  },
  {
   "cell_type": "code",
   "execution_count": 13,
   "metadata": {
    "collapsed": false
   },
   "outputs": [
    {
     "name": "stdout",
     "output_type": "stream",
     "text": [
      "请输入汉诺塔的盘子数：3\n",
      "X --> Z\n",
      "X --> Y\n",
      "Z --> Y\n",
      "X --> Z\n",
      "Y --> X\n",
      "Y --> Z\n",
      "X --> Z\n"
     ]
    }
   ],
   "source": [
    "'''\n",
    "汉诺塔游戏\n",
    "\n",
    "n表示盘子数目\n",
    "x、y、z分别表示从左到右的三根针\n",
    "\n",
    "1、当只有一个盘子时，直接将其从针x上移动到针z上\n",
    "2、当盘子数大于1时，\n",
    "    a、首先将上边(n - 1)个盘子从针x上移动到针y上\n",
    "    b、将剩下的最下边的盘子从针x移动到针z上\n",
    "    c、将之前的移到针y上的(n - 1)个盘子移动到针z上\n",
    "'''\n",
    "def hanoi(n, x, y, z):\n",
    "    if n == 1:\n",
    "       print(x, '-->', z) \n",
    "    else:\n",
    "        hanoi(n - 1, x, z, y)# 将前n - 1个盘子从x移动到y上\n",
    "        print(x, '-->', z) # 将最底下的最后一个盘子从x移动到z上\n",
    "        hanoi(n - 1, y, x, z)# 将y上的n - 1个盘子移动到z上\n",
    "         \n",
    "n = int(input('请输入汉诺塔的盘子数：'))\n",
    "hanoi(n, 'X', 'Y', 'Z')"
   ]
  }
 ],
 "metadata": {
  "kernelspec": {
   "display_name": "Python 3",
   "language": "python",
   "name": "python3"
  },
  "language_info": {
   "codemirror_mode": {
    "name": "ipython",
    "version": 3
   },
   "file_extension": ".py",
   "mimetype": "text/x-python",
   "name": "python",
   "nbconvert_exporter": "python",
   "pygments_lexer": "ipython3",
   "version": "3.6.0"
  }
 },
 "nbformat": 4,
 "nbformat_minor": 2
}
