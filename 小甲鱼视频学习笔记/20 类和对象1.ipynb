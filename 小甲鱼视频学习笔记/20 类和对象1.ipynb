{
 "cells": [
  {
   "cell_type": "markdown",
   "metadata": {},
   "source": [
    "# 对象\n",
    "**封装**：将不同类型数据放到一个容器中（如：列表、元组、字典、集合等）、将不同代码段整合成一个函数，这**两种方式均为封装**。  \n",
    "**对象**：模拟真实事件将数据和代码封装在一起，即相当于以上两种封装方式的合一。  \n",
    "**对象构成**：对象由**属性（即定义不同特征的变量）**和**方法（即定义不同功能的函数）**构成。  \n",
    "**对象创建**：通过**类class**来创建真正的对象，其中类称为该对象的实例instance，亦称为实例对象instance object  \n",
    "**注意**：使用类创建对象目的在于能够批量生产对象（其中类相当于模具）"
   ]
  },
  {
   "cell_type": "markdown",
   "metadata": {
    "collapsed": true
   },
   "source": [
    "## 一、创建实例对象，即类的实例化\n",
    "**创建方式**：首先通过“class”创建类，调用类名即完成实例对象的创建  \n",
    "**注意**：1、在Python中类名约定以大写开头  \n",
    "　　　2、调用类时，若直接调用则并未引用，相当于在内存中创建了实例对象，但随即被Python的垃圾回收机制回收；  \n",
    "　　　3、将类名进行赋值，即对类进行了引用，并不会被清理"
   ]
  },
  {
   "cell_type": "code",
   "execution_count": 9,
   "metadata": {
    "collapsed": false
   },
   "outputs": [],
   "source": [
    "class Class_name():\n",
    "    # 属性\n",
    "    color = 'red'\n",
    "    weight = 10\n",
    "    height = 10\n",
    "    \n",
    "    # 方法\n",
    "    def func1(self):\n",
    "        print('方法1')\n",
    "        \n",
    "    def func2(self):\n",
    "        print('方法2')\n",
    "\n",
    "obj = Class_name() # 调用类名即完成实例对象的创建"
   ]
  },
  {
   "cell_type": "markdown",
   "metadata": {},
   "source": [
    "## 二、调用对象中的方法\n",
    "**调用方式**：如上所示，创建实例对象后（即obj），只需通过“实例对象.函数名”即可完成对象中方法的调用"
   ]
  },
  {
   "cell_type": "code",
   "execution_count": 11,
   "metadata": {
    "collapsed": false
   },
   "outputs": [
    {
     "name": "stdout",
     "output_type": "stream",
     "text": [
      "方法1\n",
      "方法2\n"
     ]
    },
    {
     "data": {
      "text/plain": [
       "(None, None)"
      ]
     },
     "execution_count": 11,
     "metadata": {},
     "output_type": "execute_result"
    }
   ],
   "source": [
    "obj.func1(), obj.func2()"
   ]
  },
  {
   "cell_type": "markdown",
   "metadata": {},
   "source": [
    "## 三、面向对象（OO，object oriented）的特征\n",
    "1、**封装**：对象封装了属性（即变量）和方法（即函数）成为一个独立性很强的模块，同时也是一种信息隐蔽技术使得数据更加安全  \n",
    "2、**继承**：子类自动共享父类之间数据和方法的机制  \n",
    "3、**多态**：不同对象对同一方法响应不同的行动"
   ]
  },
  {
   "cell_type": "code",
   "execution_count": 14,
   "metadata": {
    "collapsed": false
   },
   "outputs": [
    {
     "data": {
      "text/plain": [
       "[1, 3, 5, 7]"
      ]
     },
     "execution_count": 14,
     "metadata": {},
     "output_type": "execute_result"
    }
   ],
   "source": [
    "'''\n",
    "封装：\n",
    "\n",
    "如下所示列表本身即为一个对象，其中包含了多种方法用于对列表进行修改，但并未说明每种方法的具体实现原理，只需调用该方法即可\n",
    "'''\n",
    "lst = [7, 3, 5, 1]\n",
    "lst.sort() # 使用sort方法进行排序\n",
    "lst"
   ]
  },
  {
   "cell_type": "code",
   "execution_count": 25,
   "metadata": {
    "collapsed": false
   },
   "outputs": [
    {
     "name": "stdout",
     "output_type": "stream",
     "text": [
      "[1, 5, 3]\n"
     ]
    }
   ],
   "source": [
    "'''\n",
    "继承:\n",
    "\n",
    "重新定义子类，参数传入一个类名（即为父类），新定义的子类可以调用父类中的所有方法\n",
    "\n",
    "如下例中，新类Mylist继承了父类list，因此可以调用的list中的所有方法\n",
    "'''\n",
    "class Mylist(list):\n",
    "    pass\n",
    "\n",
    "lst1 = Mylist()\n",
    "lst1.append(1), lst1.append(5), lst1.append(3)\n",
    "print(lst1)"
   ]
  },
  {
   "cell_type": "code",
   "execution_count": 35,
   "metadata": {
    "collapsed": false
   },
   "outputs": [
    {
     "name": "stdout",
     "output_type": "stream",
     "text": [
      "A\n",
      "B\n"
     ]
    },
    {
     "data": {
      "text/plain": [
       "(None, None)"
      ]
     },
     "execution_count": 35,
     "metadata": {},
     "output_type": "execute_result"
    }
   ],
   "source": [
    "'''\n",
    "多态：\n",
    "\n",
    "不同对象中方法名称相同，但执行的功能却并不相同\n",
    "\n",
    "如下例中，类A、类B中均有方法func1，但该方法在两个实例对象中的功能却并相同，调用时返回不同的值\n",
    "'''\n",
    "class A:\n",
    "    def func1(self):\n",
    "        print('A')\n",
    "        \n",
    "class B:\n",
    "    def func1(self):\n",
    "        print('B')\n",
    "        \n",
    "a, b = A(), B()\n",
    "a.func1(), b.func1()"
   ]
  }
 ],
 "metadata": {
  "kernelspec": {
   "display_name": "Python 3",
   "language": "python",
   "name": "python3"
  },
  "language_info": {
   "codemirror_mode": {
    "name": "ipython",
    "version": 3
   },
   "file_extension": ".py",
   "mimetype": "text/x-python",
   "name": "python",
   "nbconvert_exporter": "python",
   "pygments_lexer": "ipython3",
   "version": "3.6.0"
  }
 },
 "nbformat": 4,
 "nbformat_minor": 2
}
