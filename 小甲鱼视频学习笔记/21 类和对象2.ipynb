{
 "cells": [
  {
   "cell_type": "markdown",
   "metadata": {},
   "source": [
    "# 类和对象——面向对象编程（OOP）"
   ]
  },
  {
   "cell_type": "markdown",
   "metadata": {},
   "source": [
    "## 一、self\n",
    "**含义**：在Python中同一个类可以生成无数个对象，这些对象中包含的属性和方法均来源于同一个类，当其中一个被调用时，对象会将自身作为第一个参数传给self用于说明哪个对象在调用方法。  \n",
    "**类比**：一个小区（相当于Python中同一个类）有多套房子（相当于该类生成的多个对象），为区别每户而设定的门牌号（相当于传递给self参数的对象名）， 通过门牌号即可获知该房屋属于哪个业主（相当于通过传入对象名即得知哪个对象在调用类中的方法）  \n",
    "**注意**：在类中参数self默写在第一个位置，来接收传入的对象名"
   ]
  },
  {
   "cell_type": "code",
   "execution_count": 7,
   "metadata": {
    "collapsed": false
   },
   "outputs": [
    {
     "name": "stdout",
     "output_type": "stream",
     "text": [
      "A踢我！\n",
      "B踢我！\n",
      "C踢我！\n"
     ]
    },
    {
     "data": {
      "text/plain": [
       "(None, None, None)"
      ]
     },
     "execution_count": 7,
     "metadata": {},
     "output_type": "execute_result"
    }
   ],
   "source": [
    "'''\n",
    "self：即对象名,类中对象通过识别传入的对象名，从而针对该对象调用的方法返回对应的值\n",
    "'''\n",
    "class Ball:\n",
    "    def setName(self, name):\n",
    "        self.name = name\n",
    "    \n",
    "    def kick(self):\n",
    "        print('%s踢我！' % self.name)\n",
    "        \n",
    "a, b, c = Ball(), Ball(), Ball()\n",
    "a.setName('A'), b.setName('B'), c.setName('C')\n",
    "a.kick(), b.kick(), c.kick()"
   ]
  },
  {
   "cell_type": "markdown",
   "metadata": {},
   "source": [
    "## 二、Python的魔法方法——“__init__(self)”\n",
    "**作用**：在实例化对象时，该方法就会在对象被创建时**自动被调用**。“$__init__(self)$”称为**构造方法**。"
   ]
  },
  {
   "cell_type": "code",
   "execution_count": 10,
   "metadata": {
    "collapsed": false
   },
   "outputs": [
    {
     "name": "stdout",
     "output_type": "stream",
     "text": [
      "A踢我！\n"
     ]
    }
   ],
   "source": [
    "class Ball:\n",
    "    def __init__(self, name):\n",
    "        self.name = name\n",
    "        \n",
    "    def kick(self):\n",
    "        print('%s踢我！' % self.name)\n",
    "        \n",
    "a = Ball('A') # 调用类即实例化对象，此时“__init__(self, name)”就会自动调用\n",
    "a.kick()"
   ]
  },
  {
   "cell_type": "markdown",
   "metadata": {},
   "source": [
    "## 三、共有和私有\n",
    "1、为实现私有变量的特征，Python内部采用**“name mangling名字改编/重整”**  \n",
    "2、**私有变量定义方式**：只需要在变量名或函数名前加上“$__变量\\函数名称$”即可，此时该变量或函数即为私有  \n",
    "3、变量、函数私有即Python的私有机制将变量和函数进行改名，改为“$对象名._类名__变量\\函数$”,可以此来访问私有变量和函数  \n",
    "4、**注意**：私有化以后再外部该变量或函数即被隐藏，只能通过内部进行访问"
   ]
  },
  {
   "cell_type": "code",
   "execution_count": 12,
   "metadata": {
    "collapsed": false
   },
   "outputs": [
    {
     "data": {
      "text/plain": [
       "'A'"
      ]
     },
     "execution_count": 12,
     "metadata": {},
     "output_type": "execute_result"
    }
   ],
   "source": [
    "class Person:\n",
    "    name = 'A' # 属性\n",
    "\n",
    "p = Person()\n",
    "p.name"
   ]
  },
  {
   "cell_type": "code",
   "execution_count": 27,
   "metadata": {
    "collapsed": false
   },
   "outputs": [
    {
     "ename": "AttributeError",
     "evalue": "'Person' object has no attribute '__name'",
     "output_type": "error",
     "traceback": [
      "\u001b[0;31m---------------------------------------------------------------------------\u001b[0m",
      "\u001b[0;31mAttributeError\u001b[0m                            Traceback (most recent call last)",
      "\u001b[0;32m<ipython-input-27-22d8959e5622>\u001b[0m in \u001b[0;36m<module>\u001b[0;34m()\u001b[0m\n\u001b[1;32m     10\u001b[0m \u001b[1;33m\u001b[0m\u001b[0m\n\u001b[1;32m     11\u001b[0m \u001b[0mp\u001b[0m \u001b[1;33m=\u001b[0m \u001b[0mPerson\u001b[0m\u001b[1;33m(\u001b[0m\u001b[1;33m)\u001b[0m\u001b[1;33m\u001b[0m\u001b[0m\n\u001b[0;32m---> 12\u001b[0;31m \u001b[0mp\u001b[0m\u001b[1;33m.\u001b[0m\u001b[0m__name\u001b[0m\u001b[1;33m\u001b[0m\u001b[0m\n\u001b[0m",
      "\u001b[0;31mAttributeError\u001b[0m: 'Person' object has no attribute '__name'"
     ]
    }
   ],
   "source": [
    "# 私有化变量、函数\n",
    "class Person:\n",
    "    __name = 'A' # 在变量前添加两个下划线即将其变为私有变量， \n",
    "    \n",
    "    def __func(self):\n",
    "        print('我私有了！')\n",
    "        \n",
    "    def getname(self):\n",
    "        return self.__name, self.__func()\n",
    "    \n",
    "p = Person()\n",
    "p.__name"
   ]
  },
  {
   "cell_type": "code",
   "execution_count": 28,
   "metadata": {
    "collapsed": false
   },
   "outputs": [
    {
     "name": "stdout",
     "output_type": "stream",
     "text": [
      "我私有了！\n"
     ]
    },
    {
     "data": {
      "text/plain": [
       "('A', None)"
      ]
     },
     "execution_count": 28,
     "metadata": {},
     "output_type": "execute_result"
    }
   ],
   "source": [
    "# 通过内部进行访问该变量、函数\n",
    "p.getname()  "
   ]
  },
  {
   "cell_type": "code",
   "execution_count": 30,
   "metadata": {
    "collapsed": false
   },
   "outputs": [
    {
     "name": "stdout",
     "output_type": "stream",
     "text": [
      "我私有了！\n"
     ]
    },
    {
     "data": {
      "text/plain": [
       "('A', None)"
      ]
     },
     "execution_count": 30,
     "metadata": {},
     "output_type": "execute_result"
    }
   ],
   "source": [
    "# Python私有机制将属性和方法名称进行修改\n",
    "p._Person__name, p._Person__func()"
   ]
  }
 ],
 "metadata": {
  "kernelspec": {
   "display_name": "Python 3",
   "language": "python",
   "name": "python3"
  },
  "language_info": {
   "codemirror_mode": {
    "name": "ipython",
    "version": 3
   },
   "file_extension": ".py",
   "mimetype": "text/x-python",
   "name": "python",
   "nbconvert_exporter": "python",
   "pygments_lexer": "ipython3",
   "version": "3.6.0"
  }
 },
 "nbformat": 4,
 "nbformat_minor": 2
}
