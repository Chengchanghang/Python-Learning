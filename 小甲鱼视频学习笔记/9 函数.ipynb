{
 "cells": [
  {
   "cell_type": "markdown",
   "metadata": {},
   "source": [
    "# 函数\n",
    "## 一、Python中创建函数使用关键字“def”\n",
    "**语法**：def function_name(val1, val2, ...):  \n",
    "　　　　　函数体(即为函数主体部分)  \n",
    "　　　　　return 结果(返回函数执行的结果，也可以使用**print打印结果**)  \n",
    "**形参和实参**：**形参**表示函数创建时设定的参数，即val1、val2、...，如下例中的name、key1、key2等；  \n",
    "　　　　　　**实参**表示函数调用时传入的实际值，如下例中的Python、1、2  \n",
    "**关键字参数**：函数调用时将传入的值赋给指定的关键字参数，此时Python使用参数就不会按照顺序，而是按照关键字参数返回结果，如下例：my_func4  \n",
    "**默认参数**：函数创建时定义了默认值的参数，默认参数值可以改变。若默认参数值不设置其他值，则为默认值，此时仅仅是在函数调用时为函树设定初值；反之设定默认值为其他值，则函数调用时使用设定的新值  \n",
    "**可变参数**：创建函数不能很清楚参数具体个数，则可以通过设定可变参数从而在函数调用时加入不同参数,**将传入的不同参数转换为元组形式，即可变参数为元组**。设定方法：在参数前加星号即可，$“*args”$，如下例：my_func6  \n",
    "**注意**：当使用可变参数时，最好将其放在所有参数的末尾。若可变参数不在末尾，则在**可变参数后边的其他参数在函数调用时必须使用关键字参数形式**，否则Python可变参数后边的参数均为可变参数。"
   ]
  },
  {
   "cell_type": "code",
   "execution_count": 96,
   "metadata": {
    "collapsed": false
   },
   "outputs": [
    {
     "name": "stdout",
     "output_type": "stream",
     "text": [
      "这是我创建的第一个函数！\n",
      "Exciting!\n"
     ]
    }
   ],
   "source": [
    "# 形参\n",
    "def my_func1():\n",
    "    print('这是我创建的第一个函数！')\n",
    "    print('Exciting!')\n",
    "\n",
    "my_func1()"
   ]
  },
  {
   "cell_type": "code",
   "execution_count": 97,
   "metadata": {
    "collapsed": false
   },
   "outputs": [
    {
     "name": "stdout",
     "output_type": "stream",
     "text": [
      "Python,love you！\n",
      "3\n"
     ]
    }
   ],
   "source": [
    "def my_func2(name, key1, key2):\n",
    "    print(name + ',love you！')\n",
    "    print(key1 + key2)\n",
    "\n",
    "my_func2('Python', 1, 2)"
   ]
  },
  {
   "cell_type": "code",
   "execution_count": 98,
   "metadata": {
    "collapsed": false
   },
   "outputs": [
    {
     "data": {
      "text/plain": [
       "3"
      ]
     },
     "execution_count": 98,
     "metadata": {},
     "output_type": "execute_result"
    }
   ],
   "source": [
    "def my_func3(num1, num2):\n",
    "    return num1 + num2\n",
    "# 实参，其中1、2即为实参\n",
    "my_func3(1, 2)"
   ]
  },
  {
   "cell_type": "code",
   "execution_count": 99,
   "metadata": {
    "collapsed": false
   },
   "outputs": [
    {
     "name": "stdout",
     "output_type": "stream",
     "text": [
      "1 + 2 = 3\n",
      "1 + 2 = 3\n"
     ]
    }
   ],
   "source": [
    "# 关键字参数\n",
    "def my_func4(num1, num2):\n",
    "    print('{} + {} = {}'.format(num1, num2, num1 + num2))\n",
    "    print(str(num1) + ' + ' + str(num2) + ' = ' + str(num1 + num2))\n",
    "    \n",
    "my_func4(num1 = 1, num2 = 2) # my_func(num2 = 2, num1 = 1)"
   ]
  },
  {
   "cell_type": "code",
   "execution_count": 100,
   "metadata": {
    "collapsed": false
   },
   "outputs": [
    {
     "name": "stdout",
     "output_type": "stream",
     "text": [
      "1 + 2 = 3\n"
     ]
    },
    {
     "ename": "TypeError",
     "evalue": "my_func1() got an unexpected keyword argument 'num1'",
     "output_type": "error",
     "traceback": [
      "\u001b[0;31m---------------------------------------------------------------------------\u001b[0m",
      "\u001b[0;31mTypeError\u001b[0m                                 Traceback (most recent call last)",
      "\u001b[0;32m<ipython-input-100-435220e86afa>\u001b[0m in \u001b[0;36m<module>\u001b[0;34m()\u001b[0m\n\u001b[1;32m      3\u001b[0m     \u001b[0mprint\u001b[0m\u001b[1;33m(\u001b[0m\u001b[1;34m'{} + {} = {}'\u001b[0m\u001b[1;33m.\u001b[0m\u001b[0mformat\u001b[0m\u001b[1;33m(\u001b[0m\u001b[0mnum1\u001b[0m\u001b[1;33m,\u001b[0m \u001b[0mnum2\u001b[0m\u001b[1;33m,\u001b[0m \u001b[0mnum1\u001b[0m \u001b[1;33m+\u001b[0m \u001b[0mnum2\u001b[0m\u001b[1;33m)\u001b[0m\u001b[1;33m)\u001b[0m\u001b[1;33m\u001b[0m\u001b[0m\n\u001b[1;32m      4\u001b[0m \u001b[1;33m\u001b[0m\u001b[0m\n\u001b[0;32m----> 5\u001b[0;31m \u001b[0mmy_func5\u001b[0m\u001b[1;33m(\u001b[0m\u001b[1;36m1\u001b[0m\u001b[1;33m)\u001b[0m\u001b[1;33m,\u001b[0m \u001b[0mmy_func1\u001b[0m\u001b[1;33m(\u001b[0m\u001b[0mnum1\u001b[0m \u001b[1;33m=\u001b[0m \u001b[1;36m1\u001b[0m\u001b[1;33m,\u001b[0m \u001b[0mnum2\u001b[0m \u001b[1;33m=\u001b[0m \u001b[1;36m3\u001b[0m\u001b[1;33m)\u001b[0m\u001b[1;33m\u001b[0m\u001b[0m\n\u001b[0m",
      "\u001b[0;31mTypeError\u001b[0m: my_func1() got an unexpected keyword argument 'num1'"
     ]
    }
   ],
   "source": [
    "# 默认参数，num2\n",
    "def my_func5(num1, num2 = 2):\n",
    "    print('{} + {} = {}'.format(num1, num2, num1 + num2))\n",
    "    \n",
    "my_func5(1), my_func1(num1 = 1, num2 = 3)"
   ]
  },
  {
   "cell_type": "code",
   "execution_count": null,
   "metadata": {
    "collapsed": false
   },
   "outputs": [],
   "source": [
    "# 可变参数\n",
    "def my_func6(*args):\n",
    "    print('参数长度是：', len(args))\n",
    "    print('第二个参数是：', args[1])\n",
    "    \n",
    "my_func6(1, '小甲鱼', 3.14, 5, 6, 7)"
   ]
  },
  {
   "cell_type": "code",
   "execution_count": null,
   "metadata": {
    "collapsed": false
   },
   "outputs": [],
   "source": [
    "def func7(*args, num1):\n",
    "    print(args[0] + num1)\n",
    "\n",
    "# 当不使用关键字参数形式时，即使传入num1对应的参数“1”，函数仍无法找到该参数\n",
    "# 因为Python默认所有参数为可变参数，因此需要使用关键字参数\n",
    "func7(1, 1) "
   ]
  },
  {
   "cell_type": "markdown",
   "metadata": {},
   "source": [
    "## 二、函数文档\n",
    "**函数文档**即表示在函数体内部作为解释作用的部分，便于别人理解函数作用并使用或修改该函数。  \n",
    "**查看方法**：使用$“.__doc__”$即可"
   ]
  },
  {
   "cell_type": "code",
   "execution_count": null,
   "metadata": {
    "collapsed": false
   },
   "outputs": [],
   "source": [
    "def my_func8(name):\n",
    "    '函数定义过程中name表示形参,函数调用时实际传入的值，如：Python，表示实参'\n",
    "    # 因为它只是一个形式，表示占据一个参数位置\n",
    "    print(name + ',love you!')\n",
    "    \n",
    "my_func8('Python')"
   ]
  },
  {
   "cell_type": "code",
   "execution_count": null,
   "metadata": {
    "collapsed": false
   },
   "outputs": [],
   "source": [
    "my_func8.__doc__"
   ]
  },
  {
   "cell_type": "code",
   "execution_count": null,
   "metadata": {
    "collapsed": false
   },
   "outputs": [],
   "source": [
    "help(my_func8)"
   ]
  },
  {
   "cell_type": "markdown",
   "metadata": {},
   "source": [
    "## 三、函数与过程\n",
    "一般而言，**函数**具有返回值；**过程**没有返回值  \n",
    "**在Python中，只有函数而没有过程**，如下例：my_func9中temp。Python中对于有结果的情形，则返回对应的结果；对于“无结果”的情形，则返回None(故Python中对于任何情形均有返回值)"
   ]
  },
  {
   "cell_type": "code",
   "execution_count": null,
   "metadata": {
    "collapsed": false
   },
   "outputs": [],
   "source": [
    "def my_func9():\n",
    "    print('hello world!')\n",
    "\n",
    "temp = my_func9()"
   ]
  },
  {
   "cell_type": "code",
   "execution_count": null,
   "metadata": {
    "collapsed": false
   },
   "outputs": [],
   "source": [
    "temp, print(temp), type(temp)"
   ]
  },
  {
   "cell_type": "markdown",
   "metadata": {},
   "source": [
    "## 四、函数变量的作用域\n",
    "**局部变量local variable**：在函数中定义的参数和变量等组成成分均为局部变量（即在创建函数时，系统通过**栈shed**分别将函数以及对应的参数和函数内的变量等组成成分**暂时储存**，当该函数及其组成成分调用完成后，系统即将该栈内的数据自动删除清空）  \n",
    "**全局变量global variable**：在函数外的变量，能够在整个代码段（即整个文件）  \n",
    "**注意**：Python中，当在函数内试图修改全局变量时，则会创建一个与全局变量同名的局部变量代替。如下例：在函数中修改全局变量old_price时，Python自动创建一个名称为old_price的局部变量代替（二者互不影响，因为局部变量old_price存储在栈内，而全局变量old_price则存储在其他位置）"
   ]
  },
  {
   "cell_type": "code",
   "execution_count": 10,
   "metadata": {
    "collapsed": false
   },
   "outputs": [
    {
     "name": "stdout",
     "output_type": "stream",
     "text": [
      "请输入原价：1000\n",
      "请输入折扣率：0.2\n",
      "修改后的old_price是：50\n",
      "打折后的价格是： 200.0\n",
      "Global variable: 1000.0、0.2、200.0\n"
     ]
    },
    {
     "ename": "NameError",
     "evalue": "name 'final_price' is not defined",
     "output_type": "error",
     "traceback": [
      "\u001b[0;31m---------------------------------------------------------------------------\u001b[0m",
      "\u001b[0;31mNameError\u001b[0m                                 Traceback (most recent call last)",
      "\u001b[0;32m<ipython-input-10-7590e639928a>\u001b[0m in \u001b[0;36m<module>\u001b[0;34m()\u001b[0m\n\u001b[1;32m     14\u001b[0m \u001b[0mprint\u001b[0m\u001b[1;33m(\u001b[0m\u001b[1;34m'打折后的价格是：'\u001b[0m\u001b[1;33m,\u001b[0m \u001b[0mnew_price\u001b[0m\u001b[1;33m)\u001b[0m\u001b[1;33m\u001b[0m\u001b[0m\n\u001b[1;32m     15\u001b[0m \u001b[0mprint\u001b[0m\u001b[1;33m(\u001b[0m\u001b[1;34m'Global variable: {}、{}、{}'\u001b[0m\u001b[1;33m.\u001b[0m\u001b[0mformat\u001b[0m\u001b[1;33m(\u001b[0m\u001b[0mold_price\u001b[0m\u001b[1;33m,\u001b[0m \u001b[0mrate\u001b[0m\u001b[1;33m,\u001b[0m \u001b[0mnew_price\u001b[0m\u001b[1;33m)\u001b[0m\u001b[1;33m)\u001b[0m\u001b[1;33m\u001b[0m\u001b[0m\n\u001b[0;32m---> 16\u001b[0;31m \u001b[0mprint\u001b[0m\u001b[1;33m(\u001b[0m\u001b[1;34m'local variable: {}'\u001b[0m\u001b[1;33m.\u001b[0m\u001b[0mformat\u001b[0m\u001b[1;33m(\u001b[0m\u001b[0mfinal_price\u001b[0m\u001b[1;33m)\u001b[0m\u001b[1;33m)\u001b[0m \u001b[1;31m# final_price为局部变量，故在此处无法打印\u001b[0m\u001b[1;33m\u001b[0m\u001b[0m\n\u001b[0m",
      "\u001b[0;31mNameError\u001b[0m: name 'final_price' is not defined"
     ]
    }
   ],
   "source": [
    "def my_func10(price, rate):\n",
    "    'price、final_price:函数体内部只能用于该函数内部执行的变量,即为局部变量'\n",
    "    final_price = price * rate\n",
    "    # print('Global variable: {}、{}、{}'.format(old_price, new_price, rate))\n",
    "    old_price = 50 # 创建了一个与全局变量old_price同名的局部变量存储在栈内\n",
    "    print('修改后的old_price是：{}'.format(old_price))\n",
    "    return final_price\n",
    "\n",
    "# old_price、rate：函数外可用于所有情形的变量，即为全局变量\n",
    "old_price = float(input('请输入原价：'))\n",
    "rate = float(input('请输入折扣率：'))\n",
    "new_price = my_func10(old_price, rate)\n",
    "\n",
    "print('打折后的价格是：', new_price)\n",
    "print('Global variable: {}、{}、{}'.format(old_price, rate, new_price))\n",
    "\n",
    "# final_price为局部变量，故在此处无法打印\n",
    "print('local variable: {}'.format(final_price)) "
   ]
  },
  {
   "cell_type": "markdown",
   "metadata": {},
   "source": [
    "## 五、global关键字\n",
    "**作用**：在函数中通过使用global关键在来对要修改的全局变量进行声明，从而避免Python使用屏蔽机制创建与全局变量同名的局部变量屏蔽全局变量，达到修改全局变量的目的。  \n",
    "**用法**：函数中使用“global 全局变量名”即可"
   ]
  },
  {
   "cell_type": "code",
   "execution_count": 15,
   "metadata": {
    "collapsed": false
   },
   "outputs": [
    {
     "name": "stdout",
     "output_type": "stream",
     "text": [
      "10\n",
      "5\n"
     ]
    },
    {
     "data": {
      "text/plain": [
       "(None, None)"
      ]
     },
     "execution_count": 15,
     "metadata": {},
     "output_type": "execute_result"
    }
   ],
   "source": [
    "count = 5 # 全局变量\n",
    "def my_func11():\n",
    "    'Python自动创建与全局变量同名的局部变量count，Python使用屏蔽机制利用此处的局部变量将全局变量count屏蔽'\n",
    "    count = 10 \n",
    "    print(count)\n",
    "\n",
    "my_func11(), print(count)"
   ]
  },
  {
   "cell_type": "code",
   "execution_count": 17,
   "metadata": {
    "collapsed": false
   },
   "outputs": [
    {
     "name": "stdout",
     "output_type": "stream",
     "text": [
      "10\n",
      "10\n"
     ]
    },
    {
     "data": {
      "text/plain": [
       "(None, None)"
      ]
     },
     "execution_count": 17,
     "metadata": {},
     "output_type": "execute_result"
    }
   ],
   "source": [
    "num = 10\n",
    "def my_func12():\n",
    "    global num # 利用global关键字来声明全局变量\n",
    "    num = 10 # 此处经过之前的声明，Python将不再创建局部变量来屏蔽全局变量，而是修改全局变量\n",
    "    print(num)\n",
    "    \n",
    "my_func12(), print(num)"
   ]
  },
  {
   "cell_type": "markdown",
   "metadata": {},
   "source": [
    "## 六、内嵌函数\n",
    "**内嵌函数**：在函数内部创建的函数称为内嵌函数（或内部函数）  \n",
    "**注意**：内嵌函数的整个作用域都在外部函数之内"
   ]
  },
  {
   "cell_type": "code",
   "execution_count": 23,
   "metadata": {
    "collapsed": false
   },
   "outputs": [
    {
     "name": "stdout",
     "output_type": "stream",
     "text": [
      "my_func13正被调用...\n",
      "my_sub_func正被调用...\n"
     ]
    },
    {
     "ename": "NameError",
     "evalue": "name 'my_sub_func' is not defined",
     "output_type": "error",
     "traceback": [
      "\u001b[0;31m---------------------------------------------------------------------------\u001b[0m",
      "\u001b[0;31mNameError\u001b[0m                                 Traceback (most recent call last)",
      "\u001b[0;32m<ipython-input-23-621cef96d0a7>\u001b[0m in \u001b[0;36m<module>\u001b[0;34m()\u001b[0m\n\u001b[1;32m      7\u001b[0m \u001b[1;33m\u001b[0m\u001b[0m\n\u001b[1;32m      8\u001b[0m \u001b[1;31m# 由于内嵌函数my_sub_func整个作用域都在外部函数内，故在全局中执行该函数提示该函数未定义\u001b[0m\u001b[1;33m\u001b[0m\u001b[1;33m\u001b[0m\u001b[0m\n\u001b[0;32m----> 9\u001b[0;31m \u001b[0mmy_func13\u001b[0m\u001b[1;33m(\u001b[0m\u001b[1;33m)\u001b[0m\u001b[1;33m,\u001b[0m \u001b[0mmy_sub_func\u001b[0m\u001b[1;33m(\u001b[0m\u001b[1;33m)\u001b[0m\u001b[1;33m\u001b[0m\u001b[0m\n\u001b[0m",
      "\u001b[0;31mNameError\u001b[0m: name 'my_sub_func' is not defined"
     ]
    }
   ],
   "source": [
    "def my_func13():\n",
    "    print('my_func13正被调用...')\n",
    "    'my_sub_func即为内嵌函数'\n",
    "    def my_sub_func():\n",
    "        print('my_sub_func正被调用...')\n",
    "    my_sub_func()\n",
    "\n",
    "# 由于内嵌函数my_sub_func整个作用域都在外部函数内，故在全局中执行该函数提示该函数未定义\n",
    "my_func13(), my_sub_func() "
   ]
  },
  {
   "cell_type": "markdown",
   "metadata": {},
   "source": [
    "## 七、闭包\n",
    "闭包（**属于函数式编程的重要语法结构之一**）：在Python中，如果在一个内部函数里对外部作用域（但不是在全局作用域）的变量的进行引用，则内部函数即被认为是闭包。"
   ]
  },
  {
   "cell_type": "code",
   "execution_count": 4,
   "metadata": {
    "collapsed": false
   },
   "outputs": [
    {
     "data": {
      "text/plain": [
       "(<function __main__.my_func14.<locals>.my_sub_func1>, function, 80, 80)"
      ]
     },
     "execution_count": 4,
     "metadata": {},
     "output_type": "execute_result"
    }
   ],
   "source": [
    "'''\n",
    "通过本例对闭包定义的解读：\n",
    "\n",
    "1、my_sub_func1()属于my_func14()的内部函数；\n",
    "2、该内部函数引用了外部作用域(即my_func14()的作用域)的变量(即my_func14的参数x)；\n",
    "\n",
    "满足以上两点，则称my_sub_func1()为闭包。\n",
    "'''\n",
    "\n",
    "def my_func14(x):\n",
    "    def my_sub_func1(y):\n",
    "        return x * y\n",
    "    return my_sub_func1\n",
    "\n",
    "temp = my_func14(8)\n",
    "temp, type(temp), temp(10), my_func14(8)(10)"
   ]
  },
  {
   "cell_type": "code",
   "execution_count": 12,
   "metadata": {
    "collapsed": false
   },
   "outputs": [
    {
     "ename": "UnboundLocalError",
     "evalue": "local variable 'x' referenced before assignment",
     "output_type": "error",
     "traceback": [
      "\u001b[0;31m---------------------------------------------------------------------------\u001b[0m",
      "\u001b[0;31mUnboundLocalError\u001b[0m                         Traceback (most recent call last)",
      "\u001b[0;32m<ipython-input-12-5381c32a3adf>\u001b[0m in \u001b[0;36m<module>\u001b[0;34m()\u001b[0m\n\u001b[1;32m     13\u001b[0m     \u001b[1;32mreturn\u001b[0m \u001b[0mmy_sub_func2\u001b[0m\u001b[1;33m(\u001b[0m\u001b[1;33m)\u001b[0m\u001b[1;33m\u001b[0m\u001b[0m\n\u001b[1;32m     14\u001b[0m \u001b[1;33m\u001b[0m\u001b[0m\n\u001b[0;32m---> 15\u001b[0;31m \u001b[0mmy_func15\u001b[0m\u001b[1;33m(\u001b[0m\u001b[1;33m)\u001b[0m\u001b[1;33m\u001b[0m\u001b[0m\n\u001b[0m",
      "\u001b[0;32m<ipython-input-12-5381c32a3adf>\u001b[0m in \u001b[0;36mmy_func15\u001b[0;34m()\u001b[0m\n\u001b[1;32m     11\u001b[0m         \u001b[0mx\u001b[0m \u001b[1;33m*=\u001b[0m \u001b[0mx\u001b[0m\u001b[1;33m\u001b[0m\u001b[0m\n\u001b[1;32m     12\u001b[0m         \u001b[1;32mreturn\u001b[0m \u001b[0mx\u001b[0m\u001b[1;33m\u001b[0m\u001b[0m\n\u001b[0;32m---> 13\u001b[0;31m     \u001b[1;32mreturn\u001b[0m \u001b[0mmy_sub_func2\u001b[0m\u001b[1;33m(\u001b[0m\u001b[1;33m)\u001b[0m\u001b[1;33m\u001b[0m\u001b[0m\n\u001b[0m\u001b[1;32m     14\u001b[0m \u001b[1;33m\u001b[0m\u001b[0m\n\u001b[1;32m     15\u001b[0m \u001b[0mmy_func15\u001b[0m\u001b[1;33m(\u001b[0m\u001b[1;33m)\u001b[0m\u001b[1;33m\u001b[0m\u001b[0m\n",
      "\u001b[0;32m<ipython-input-12-5381c32a3adf>\u001b[0m in \u001b[0;36mmy_sub_func2\u001b[0;34m()\u001b[0m\n\u001b[1;32m      9\u001b[0m     \u001b[0mx\u001b[0m \u001b[1;33m=\u001b[0m \u001b[1;36m5\u001b[0m\u001b[1;33m\u001b[0m\u001b[0m\n\u001b[1;32m     10\u001b[0m     \u001b[1;32mdef\u001b[0m \u001b[0mmy_sub_func2\u001b[0m\u001b[1;33m(\u001b[0m\u001b[1;33m)\u001b[0m\u001b[1;33m:\u001b[0m\u001b[1;33m\u001b[0m\u001b[0m\n\u001b[0;32m---> 11\u001b[0;31m         \u001b[0mx\u001b[0m \u001b[1;33m*=\u001b[0m \u001b[0mx\u001b[0m\u001b[1;33m\u001b[0m\u001b[0m\n\u001b[0m\u001b[1;32m     12\u001b[0m         \u001b[1;32mreturn\u001b[0m \u001b[0mx\u001b[0m\u001b[1;33m\u001b[0m\u001b[0m\n\u001b[1;32m     13\u001b[0m     \u001b[1;32mreturn\u001b[0m \u001b[0mmy_sub_func2\u001b[0m\u001b[1;33m(\u001b[0m\u001b[1;33m)\u001b[0m\u001b[1;33m\u001b[0m\u001b[0m\n",
      "\u001b[0;31mUnboundLocalError\u001b[0m: local variable 'x' referenced before assignment"
     ]
    }
   ],
   "source": [
    "'''\n",
    "此处出错原因：\n",
    "\n",
    "由于x是内部函数my_sub_func2外部作用域中的变量，而使用内部函数进行引用并计算平方试图修改x的值，此时即将外部作用域中的x屏蔽，故返回错误提示：在x赋值前即被引用。\n",
    "\n",
    "（类似于全局变量和局部变量，修改全局变量时即屏蔽全局变量生成一个与全局变量同名的局部变量；但在闭包中仅仅是屏蔽全局变量而并未生成同名的局部变量）\n",
    "'''\n",
    "def my_func15():\n",
    "    x = 5\n",
    "    def my_sub_func2():\n",
    "        x *= x\n",
    "        return x\n",
    "    return my_sub_func2()\n",
    "\n",
    "my_func15()"
   ]
  },
  {
   "cell_type": "code",
   "execution_count": 8,
   "metadata": {
    "collapsed": false
   },
   "outputs": [
    {
     "data": {
      "text/plain": [
       "25"
      ]
     },
     "execution_count": 8,
     "metadata": {},
     "output_type": "execute_result"
    }
   ],
   "source": [
    "'''\n",
    "以上错误的解决方法一：\n",
    "\n",
    "将内部函数要调用的外部作用域中的变量x存在在容器中（如：列表、元组等容器），由于系统中容器并不是存储在栈内，不会被屏蔽。\n",
    "''' \n",
    "def my_func15():\n",
    "    x = [5]\n",
    "    def my_sub_func2():\n",
    "        x[0] *= x[0]\n",
    "        return x[0]\n",
    "    return my_sub_func2()\n",
    "\n",
    "my_func15()"
   ]
  },
  {
   "cell_type": "markdown",
   "metadata": {},
   "source": [
    "## nonlocal关键字\n",
    "使用方法与global关键字相同，即：**nonlocal 变量名**，用来声明此处对应的变量并非局部变量。"
   ]
  },
  {
   "cell_type": "code",
   "execution_count": 10,
   "metadata": {
    "collapsed": false
   },
   "outputs": [
    {
     "data": {
      "text/plain": [
       "25"
      ]
     },
     "execution_count": 10,
     "metadata": {},
     "output_type": "execute_result"
    }
   ],
   "source": [
    "'''\n",
    "以上错误的解决方法二：\n",
    "\n",
    "\n",
    "'''\n",
    "def my_func15():\n",
    "    x = 5\n",
    "    def my_sub_func2():\n",
    "        nonlocal x\n",
    "        x *= x\n",
    "        return x\n",
    "    return my_sub_func2()\n",
    "\n",
    "my_func15()"
   ]
  }
 ],
 "metadata": {
  "kernelspec": {
   "display_name": "Python 3",
   "language": "python",
   "name": "python3"
  },
  "language_info": {
   "codemirror_mode": {
    "name": "ipython",
    "version": 3
   },
   "file_extension": ".py",
   "mimetype": "text/x-python",
   "name": "python",
   "nbconvert_exporter": "python",
   "pygments_lexer": "ipython3",
   "version": "3.6.0"
  }
 },
 "nbformat": 4,
 "nbformat_minor": 2
}
