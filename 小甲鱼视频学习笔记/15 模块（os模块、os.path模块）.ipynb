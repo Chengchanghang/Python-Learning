{
 "cells": [
  {
   "cell_type": "markdown",
   "metadata": {},
   "source": [
    "# 模块—可用代码段的打包\n",
    "#### 1、模块中包含了所有定义的函数和变量的文件，后缀名为“.py”\n",
    "#### 2、模块可以被别的程序引入，进而来使用该模块中的函数等功能"
   ]
  },
  {
   "cell_type": "code",
   "execution_count": 3,
   "metadata": {
    "collapsed": false
   },
   "outputs": [
    {
     "data": {
      "text/plain": [
       "6"
      ]
     },
     "execution_count": 3,
     "metadata": {},
     "output_type": "execute_result"
    }
   ],
   "source": [
    "# 导入随机数模块\n",
    "import random\n",
    "random.randint(1, 10) # 生成1—10之间的随机整数"
   ]
  },
  {
   "cell_type": "markdown",
   "metadata": {},
   "source": [
    "## 一、os模块——Operating System操作系统\n",
    "1、由于不同操作系统的底层实现方式不同，因此在不同操作系统上执行功能的方式不尽相同，为避免由此带来的复杂，Python通过**OS模块**可以在任意操作系统下选择合适的模块执行相应的功能  \n",
    "2、本节的工作目录修改为：D："
   ]
  },
  {
   "cell_type": "code",
   "execution_count": 6,
   "metadata": {
    "collapsed": false
   },
   "outputs": [
    {
     "name": "stdout",
     "output_type": "stream",
     "text": [
      "['DirEntry', 'F_OK', 'MutableMapping', 'O_APPEND', 'O_BINARY', 'O_CREAT', 'O_EXCL', 'O_NOINHERIT', 'O_RANDOM', 'O_RDONLY', 'O_RDWR', 'O_SEQUENTIAL', 'O_SHORT_LIVED', 'O_TEMPORARY', 'O_TEXT', 'O_TRUNC', 'O_WRONLY', 'P_DETACH', 'P_NOWAIT', 'P_NOWAITO', 'P_OVERLAY', 'P_WAIT', 'PathLike', 'R_OK', 'SEEK_CUR', 'SEEK_END', 'SEEK_SET', 'TMP_MAX', 'W_OK', 'X_OK', '_Environ', '__all__', '__builtins__', '__cached__', '__doc__', '__file__', '__loader__', '__name__', '__package__', '__spec__', '_execvpe', '_exists', '_exit', '_fspath', '_get_exports_list', '_putenv', '_unsetenv', '_wrap_close', 'abc', 'abort', 'access', 'altsep', 'chdir', 'chmod', 'close', 'closerange', 'cpu_count', 'curdir', 'defpath', 'device_encoding', 'devnull', 'dup', 'dup2', 'environ', 'errno', 'error', 'execl', 'execle', 'execlp', 'execlpe', 'execv', 'execve', 'execvp', 'execvpe', 'extsep', 'fdopen', 'fsdecode', 'fsencode', 'fspath', 'fstat', 'fsync', 'ftruncate', 'get_exec_path', 'get_handle_inheritable', 'get_inheritable', 'get_terminal_size', 'getcwd', 'getcwdb', 'getenv', 'getlogin', 'getpid', 'getppid', 'isatty', 'kill', 'linesep', 'link', 'listdir', 'lseek', 'lstat', 'makedirs', 'mkdir', 'name', 'open', 'pardir', 'path', 'pathsep', 'pipe', 'popen', 'putenv', 'read', 'readlink', 'remove', 'removedirs', 'rename', 'renames', 'replace', 'rmdir', 'scandir', 'sep', 'set_handle_inheritable', 'set_inheritable', 'spawnl', 'spawnle', 'spawnv', 'spawnve', 'st', 'startfile', 'stat', 'stat_float_times', 'stat_result', 'statvfs_result', 'strerror', 'supports_bytes_environ', 'supports_dir_fd', 'supports_effective_ids', 'supports_fd', 'supports_follow_symlinks', 'symlink', 'sys', 'system', 'terminal_size', 'times', 'times_result', 'truncate', 'umask', 'uname_result', 'unlink', 'urandom', 'utime', 'waitpid', 'walk', 'write']"
     ]
    }
   ],
   "source": [
    "# os模块内置函数\n",
    "import os\n",
    "print(dir(os), end = '')"
   ]
  },
  {
   "cell_type": "markdown",
   "metadata": {},
   "source": [
    "## 二、os模块中关于文件\\目录常用的函数使用方法"
   ]
  },
  {
   "cell_type": "markdown",
   "metadata": {},
   "source": [
    "### 1、getcwd()\n",
    "**作用**：返回当前工作目录"
   ]
  },
  {
   "cell_type": "code",
   "execution_count": 1,
   "metadata": {
    "collapsed": false
   },
   "outputs": [
    {
     "data": {
      "text/plain": [
       "'X:\\\\Users\\\\w\\\\Python学习笔记\\\\小甲鱼视频学习笔记'"
      ]
     },
     "execution_count": 1,
     "metadata": {},
     "output_type": "execute_result"
    }
   ],
   "source": [
    "import os\n",
    "os.getcwd() # 返回当前的工作目录"
   ]
  },
  {
   "cell_type": "markdown",
   "metadata": {},
   "source": [
    "### 2、chdir()\n",
    "**作用**：改变当前工作目录  \n",
    "**用法**：os.chdir(path)，path即修改后的工作目录"
   ]
  },
  {
   "cell_type": "code",
   "execution_count": 2,
   "metadata": {
    "collapsed": false
   },
   "outputs": [
    {
     "data": {
      "text/plain": [
       "(None, 'D:\\\\')"
      ]
     },
     "execution_count": 2,
     "metadata": {},
     "output_type": "execute_result"
    }
   ],
   "source": [
    "import os\n",
    "os.chdir('D:\\\\'), os.getcwd() # 将工作目录修改为D盘"
   ]
  },
  {
   "cell_type": "markdown",
   "metadata": {},
   "source": [
    "### 3、listdir()\n",
    "**作用**：列举指定目录中的文件名（“.”表示当前目录，“..”表示上一级目录）  \n",
    "**用法**：os.listdir(path = '.')"
   ]
  },
  {
   "cell_type": "code",
   "execution_count": 3,
   "metadata": {
    "collapsed": false
   },
   "outputs": [
    {
     "name": "stdout",
     "output_type": "stream",
     "text": [
      "['$RECYCLE.BIN', '2寸(国考报名尺寸).jpg', '360安全浏览器下载', 'Anaconda', 'BaiduNetdiskDownload', 'BOOT', 'bootmgr', 'BOOTNXT', 'CAJ阅读器', 'Config.Msi', 'google', 'java', 'Markdownpad', 'MongoDB', 'MySQL-5.7.18', 'notepad', 'office 2016', 'open live writer', 'pycharm', 'Python', 'QQ', 'QQ影音', 'R', 'Robomongo', 'SRS', 'sublime text', 'System Volume Information', 'Users', 'USM_TOOL', 'WEKA', 'Xmind', '学习资料', '安全软件', '导师日常', '搜狗输入法', '新建文件夹', '有道词典', '杨婷婷', '百度云', '论文', '财大VPN', '马克威']"
     ]
    }
   ],
   "source": [
    "import os \n",
    "print(os.listdir(), end = '')\n",
    "\n",
    "# '$RECYCLE.BIN'为系统回收站"
   ]
  },
  {
   "cell_type": "markdown",
   "metadata": {},
   "source": [
    "### 4、mkdir()、makedirs()\n",
    "#### 4.1 mkdir()\n",
    "**作用**：创建单层目录（即只能创建一个目录），如该目录已存在抛出异常  \n",
    "**用法**：os.mkdir(path)\n",
    "#### 4.2 makedirs()\n",
    "**作用**：递归创建多层目录，如该目录已存在则抛出异常  \n",
    "**用法**：os.makedirs(path)  \n",
    "**注意**：“E：\\\\a\\\\b”和“E：\\\\a\\\\c”不会冲突"
   ]
  },
  {
   "cell_type": "code",
   "execution_count": 5,
   "metadata": {
    "collapsed": false
   },
   "outputs": [],
   "source": [
    "import os\n",
    "os.mkdir('D:\\\\学习资料\\\\Python项目\\\\A')"
   ]
  },
  {
   "cell_type": "code",
   "execution_count": 6,
   "metadata": {
    "collapsed": false
   },
   "outputs": [
    {
     "ename": "FileExistsError",
     "evalue": "[WinError 183] 当文件已存在时，无法创建该文件。: 'D:\\\\学习资料\\\\Python项目\\\\A'",
     "output_type": "error",
     "traceback": [
      "\u001b[0;31m---------------------------------------------------------------------------\u001b[0m",
      "\u001b[0;31mFileExistsError\u001b[0m                           Traceback (most recent call last)",
      "\u001b[0;32m<ipython-input-6-996849d3ddec>\u001b[0m in \u001b[0;36m<module>\u001b[0;34m()\u001b[0m\n\u001b[1;32m      1\u001b[0m \u001b[1;31m# 文件存在时，即抛出FileExistsError错误\u001b[0m\u001b[1;33m\u001b[0m\u001b[1;33m\u001b[0m\u001b[0m\n\u001b[0;32m----> 2\u001b[0;31m \u001b[0mos\u001b[0m\u001b[1;33m.\u001b[0m\u001b[0mmkdir\u001b[0m\u001b[1;33m(\u001b[0m\u001b[1;34m'D:\\\\学习资料\\\\Python项目\\\\A'\u001b[0m\u001b[1;33m)\u001b[0m\u001b[1;33m\u001b[0m\u001b[0m\n\u001b[0m",
      "\u001b[0;31mFileExistsError\u001b[0m: [WinError 183] 当文件已存在时，无法创建该文件。: 'D:\\\\学习资料\\\\Python项目\\\\A'"
     ]
    }
   ],
   "source": [
    "# 文件存在时，即抛出FileExistsError错误\n",
    "os.mkdir('D:\\\\学习资料\\\\Python项目\\\\A')"
   ]
  },
  {
   "cell_type": "code",
   "execution_count": 7,
   "metadata": {
    "collapsed": false
   },
   "outputs": [],
   "source": [
    "os.makedirs('D:\\\\学习资料\\\\Python项目\\\\B\\\\c')"
   ]
  },
  {
   "cell_type": "markdown",
   "metadata": {},
   "source": [
    "### 5、remove(path)\n",
    "删除文件"
   ]
  },
  {
   "cell_type": "code",
   "execution_count": 22,
   "metadata": {
    "collapsed": false
   },
   "outputs": [],
   "source": [
    "# 删除D:\\\\学习资料\\\\Python项目\\\\A目录下的“练习文本.txt\"\n",
    "import os \n",
    "os.remove('D:\\\\学习资料\\\\Python项目\\\\A\\\\练习文本.txt')"
   ]
  },
  {
   "cell_type": "markdown",
   "metadata": {},
   "source": [
    "### 6、rmdir(path)、removedirs(path)\n",
    "#### 6.1 rmdir(path)\n",
    "**作用**：删除单层目录，如该目录非空或不存在都会抛出异常 \n",
    "#### 6.2 removedirs(path)\n",
    "递归删除目录，从子目录到父目录逐层尝试删除，遇到目录非空则抛出异常。**该函数删除指定目录时，该目录必须为空目录**"
   ]
  },
  {
   "cell_type": "code",
   "execution_count": 27,
   "metadata": {
    "collapsed": false
   },
   "outputs": [],
   "source": [
    "# 删除指定目录下的目录B\n",
    "import os \n",
    "os.chdir(r'D:\\学习资料\\Python项目')\n",
    "os.rmdir('B') # 只能删除一个目录，即单层目录"
   ]
  },
  {
   "cell_type": "code",
   "execution_count": 30,
   "metadata": {
    "collapsed": false
   },
   "outputs": [],
   "source": [
    "# 删除指定目录下的子目录A、c\n",
    "os.removedirs(r'A\\c') # 可删除多层目录，即嵌套目录"
   ]
  },
  {
   "cell_type": "markdown",
   "metadata": {},
   "source": [
    "### 7、rename(old, new)\n",
    "**作用**：将文件old重命名为new"
   ]
  },
  {
   "cell_type": "code",
   "execution_count": 37,
   "metadata": {
    "collapsed": false
   },
   "outputs": [],
   "source": [
    "import os\n",
    "# os.mkdir('A') # 在“D:\\学习资料\\Python项目”下创建子目录“A”\n",
    "os.rename('A', 'A_new') # 将创建的文件“A”重命名为“A_new”"
   ]
  },
  {
   "cell_type": "markdown",
   "metadata": {},
   "source": [
    "### 8、system(command)\n",
    "**作用**：运行系统的shell命令"
   ]
  },
  {
   "cell_type": "code",
   "execution_count": 43,
   "metadata": {
    "collapsed": false
   },
   "outputs": [
    {
     "data": {
      "text/plain": [
       "0"
      ]
     },
     "execution_count": 43,
     "metadata": {},
     "output_type": "execute_result"
    }
   ],
   "source": [
    "# 通过“cmd”打开命令提示符\n",
    "import os\n",
    "os.system('cmd') "
   ]
  },
  {
   "cell_type": "code",
   "execution_count": 45,
   "metadata": {
    "collapsed": false
   },
   "outputs": [
    {
     "data": {
      "text/plain": [
       "0"
      ]
     },
     "execution_count": 45,
     "metadata": {},
     "output_type": "execute_result"
    }
   ],
   "source": [
    "# 通过“calc”打开计算器\n",
    "os.system('calc')"
   ]
  },
  {
   "cell_type": "markdown",
   "metadata": {},
   "source": [
    "## 三、os模块中支持路径操作中常用的定义(支持所有平台)"
   ]
  },
  {
   "cell_type": "markdown",
   "metadata": {},
   "source": [
    "### 1、curdir、pardir\n",
    "#### 1.1 curdir\n",
    "**作用**：指代当前目录  \n",
    "**注意**：在Windows和Linux中使用**“.”**表示当前目录，\n",
    "#### 1.2 pardir\n",
    "**作用**：指代上一级目录  \n",
    "**注意**：在Windows和Linux中使用**“..”**表示上一级目录"
   ]
  },
  {
   "cell_type": "code",
   "execution_count": 47,
   "metadata": {
    "collapsed": false
   },
   "outputs": [
    {
     "data": {
      "text/plain": [
       "('.', '..')"
      ]
     },
     "execution_count": 47,
     "metadata": {},
     "output_type": "execute_result"
    }
   ],
   "source": [
    "import os\n",
    "os.curdir, os.pardir"
   ]
  },
  {
   "cell_type": "code",
   "execution_count": 61,
   "metadata": {
    "collapsed": false
   },
   "outputs": [
    {
     "name": "stdout",
     "output_type": "stream",
     "text": [
      "['A_new', 'Python爬虫项目', 'requests库.xmind', '练习文本.txt', '练习文本1.txt', '练习文本3.txt', '网络爬虫.xmind']\n",
      "===========================\n",
      "['Excel视频教程', 'office学习总结', 'Python资料', 'Python项目', 'R语言业余学习', 'R语言资料', '【www.hszy8.com】轻松驾驭统计学——数据分析必备技能（12集）', '中国地区投入产出表', '数据分析-R语言学习', '研究生课件', '结构方程模型']\n"
     ]
    }
   ],
   "source": [
    "# 返回当前目录和上一级目录中的文件,等价于os.listdir('.'),os.listdir('..')\n",
    "print(os.listdir(os.curdir), os.listdir(os.pardir), sep = '\\n===========================\\n')"
   ]
  },
  {
   "cell_type": "markdown",
   "metadata": {},
   "source": [
    "### 2、sep\n",
    "**作用**：输出操作系统特定的路径分隔符（win下为“\\\\”，Linux下为“/”）"
   ]
  },
  {
   "cell_type": "code",
   "execution_count": 63,
   "metadata": {
    "collapsed": false
   },
   "outputs": [
    {
     "data": {
      "text/plain": [
       "'\\\\'"
      ]
     },
     "execution_count": 63,
     "metadata": {},
     "output_type": "execute_result"
    }
   ],
   "source": [
    "import os\n",
    "os.sep # win下的路径分隔符"
   ]
  },
  {
   "cell_type": "markdown",
   "metadata": {},
   "source": [
    "### 3、linesep\n",
    "**作用**：当前平台使用的行终止符（win下为“\\r\\n”，Linux下为“\\n”）"
   ]
  },
  {
   "cell_type": "code",
   "execution_count": 64,
   "metadata": {
    "collapsed": false
   },
   "outputs": [
    {
     "data": {
      "text/plain": [
       "'\\r\\n'"
      ]
     },
     "execution_count": 64,
     "metadata": {},
     "output_type": "execute_result"
    }
   ],
   "source": [
    "import os\n",
    "os.linesep"
   ]
  },
  {
   "cell_type": "markdown",
   "metadata": {},
   "source": [
    "### 4、name\n",
    "**作用**：指代当前使用的操作系统（包括：Unix系统posix、Windows系统nt、苹果系统mac、os2、ce、java）"
   ]
  },
  {
   "cell_type": "code",
   "execution_count": 65,
   "metadata": {
    "collapsed": false
   },
   "outputs": [
    {
     "data": {
      "text/plain": [
       "'nt'"
      ]
     },
     "execution_count": 65,
     "metadata": {},
     "output_type": "execute_result"
    }
   ],
   "source": [
    "import os\n",
    "os.name"
   ]
  },
  {
   "cell_type": "markdown",
   "metadata": {},
   "source": [
    "## 四、os.path模块中关于路径常用的函数使用方法"
   ]
  },
  {
   "cell_type": "markdown",
   "metadata": {},
   "source": [
    "### 1、basename(path)、dirname(path)\n",
    "#### 1.1 basename(path)\n",
    "**作用**：去掉目录路径，单独返回文件名\n",
    "#### 1.2 dirname(path)\n",
    "**作用**：去掉文件名，单独返回路径"
   ]
  },
  {
   "cell_type": "code",
   "execution_count": 70,
   "metadata": {
    "collapsed": false
   },
   "outputs": [
    {
     "data": {
      "text/plain": [
       "'练习文本.txt'"
      ]
     },
     "execution_count": 70,
     "metadata": {},
     "output_type": "execute_result"
    }
   ],
   "source": [
    "import os.path\n",
    "os.path.basename(r'D:\\a\\b\\c\\练习文本.txt') # 去掉路径“D:\\a\\b\\c”，只返回文件名"
   ]
  },
  {
   "cell_type": "code",
   "execution_count": 72,
   "metadata": {
    "collapsed": false
   },
   "outputs": [
    {
     "data": {
      "text/plain": [
       "'D:\\\\a\\\\b\\\\c'"
      ]
     },
     "execution_count": 72,
     "metadata": {},
     "output_type": "execute_result"
    }
   ],
   "source": [
    "os.path.dirname(r'D:\\a\\b\\c\\练习文本.txt') # 去掉文件名，只返回路径"
   ]
  },
  {
   "cell_type": "markdown",
   "metadata": {},
   "source": [
    "### 2、join(path1[, path2[, ...]])\n",
    "**作用**：将path1、path2各部分组合成一个路径名  \n",
    "**注意**：如下例中若指定目录在某个磁盘，则只指定“C：”并不会自动添加“\\\\”，需要将其修改为“C:\\\\”"
   ]
  },
  {
   "cell_type": "code",
   "execution_count": 76,
   "metadata": {
    "collapsed": false
   },
   "outputs": [
    {
     "data": {
      "text/plain": [
       "'C:A\\\\B\\\\C'"
      ]
     },
     "execution_count": 76,
     "metadata": {},
     "output_type": "execute_result"
    }
   ],
   "source": [
    "import os.path\n",
    "os.path.join('C:', 'A', 'B', 'C')"
   ]
  },
  {
   "cell_type": "code",
   "execution_count": 77,
   "metadata": {
    "collapsed": false
   },
   "outputs": [
    {
     "data": {
      "text/plain": [
       "'C:\\\\A\\\\B\\\\C'"
      ]
     },
     "execution_count": 77,
     "metadata": {},
     "output_type": "execute_result"
    }
   ],
   "source": [
    "os.path.join('C:\\\\', 'A', 'B', 'C')"
   ]
  },
  {
   "cell_type": "markdown",
   "metadata": {},
   "source": [
    "### 3、split(path)、splitext(path)\n",
    "#### 3.1 split(path)\n",
    "**作用**：分割文件名与路径，返回（f_path, f_name）**元组**。  \n",
    "**注意**：若参数path完全使用目录无文件名，则会将最后一个目录作为文件名分离，但**不会判断文件或者目录是否存在**\n",
    "#### 3.2 splitext(path)\n",
    "**作用**：分离文件名和扩展名，返回（f_name， f_extension）**元组**"
   ]
  },
  {
   "cell_type": "code",
   "execution_count": 78,
   "metadata": {
    "collapsed": false
   },
   "outputs": [
    {
     "data": {
      "text/plain": [
       "('D:\\\\a\\\\b\\\\c', '练习文本.txt')"
      ]
     },
     "execution_count": 78,
     "metadata": {},
     "output_type": "execute_result"
    }
   ],
   "source": [
    "# 参数path包含文件名的的情形——分割为（目录，文件名）构成的元组\n",
    "import os.path\n",
    "os.path.split(r'D:\\a\\b\\c\\练习文本.txt')"
   ]
  },
  {
   "cell_type": "code",
   "execution_count": 81,
   "metadata": {
    "collapsed": false
   },
   "outputs": [
    {
     "data": {
      "text/plain": [
       "('D:\\\\a\\\\b\\\\c\\\\练习文本', '.txt')"
      ]
     },
     "execution_count": 81,
     "metadata": {},
     "output_type": "execute_result"
    }
   ],
   "source": [
    "os.path.splitext(r'D:\\a\\b\\c\\练习文本.txt')"
   ]
  },
  {
   "cell_type": "code",
   "execution_count": 80,
   "metadata": {
    "collapsed": false
   },
   "outputs": [
    {
     "data": {
      "text/plain": [
       "('D:\\\\a\\\\b', 'c')"
      ]
     },
     "execution_count": 80,
     "metadata": {},
     "output_type": "execute_result"
    }
   ],
   "source": [
    "# 参数path不包含文件名即全目录的情形——分割为（除最后一个目录的路径，最后一个目录）构成的元组\n",
    "os.path.split(r'D:\\a\\b\\c')"
   ]
  },
  {
   "cell_type": "markdown",
   "metadata": {},
   "source": [
    "### 4、getsize(file)\n",
    "**作用**：返回指定文件的尺寸，单位是字节"
   ]
  },
  {
   "cell_type": "code",
   "execution_count": 87,
   "metadata": {
    "collapsed": false
   },
   "outputs": [
    {
     "data": {
      "text/plain": [
       "22"
      ]
     },
     "execution_count": 87,
     "metadata": {},
     "output_type": "execute_result"
    }
   ],
   "source": [
    "import os.path\n",
    "os.path.getsize('练习文本1.txt')"
   ]
  },
  {
   "cell_type": "markdown",
   "metadata": {},
   "source": [
    "### 5、getatime(file)、 getctime(file)、getmtime(file)\n",
    "#### 5.1 getatime(file)\n",
    "**作用**：返回指定文件最近的访问时间（浮点型秒数，可用time模块的gmtime(）、localtime()函数换算）\n",
    "#### 5.2 getctime(file)\n",
    "**作用**：返回指定文件的创建时间（浮点型秒数，可用time模块的gmtime()和localtime()函数换算）\n",
    "#### 5.3 getmtime(file)\n",
    "**作用**：返回指定文件最新的修改时间（浮点型秒数，可用time模块的gmtime()和localtime()函数换算）"
   ]
  },
  {
   "cell_type": "code",
   "execution_count": 89,
   "metadata": {
    "collapsed": false
   },
   "outputs": [
    {
     "data": {
      "text/plain": [
       "(1494587526.5639906, 1494587526.5639906, 1494589025.4057677)"
      ]
     },
     "execution_count": 89,
     "metadata": {},
     "output_type": "execute_result"
    }
   ],
   "source": [
    "import os.path\n",
    "acess_time = os.path.getatime('练习文本.txt')\n",
    "create_time = os.path.getctime('练习文本.txt')\n",
    "make_time = os.path.getmtime('练习文本.txt')\n",
    "acess_time, create_time, make_time"
   ]
  },
  {
   "cell_type": "markdown",
   "metadata": {},
   "source": [
    "### 引申：time模块——gmtime()、localtime()\n",
    "**gmtime()**：将秒数转换为格林尼治UTC时间，即英国时间  \n",
    "**localtime()**：将秒数转换为本地时间"
   ]
  },
  {
   "cell_type": "code",
   "execution_count": 99,
   "metadata": {
    "collapsed": false
   },
   "outputs": [
    {
     "data": {
      "text/plain": [
       "(time.struct_time(tm_year=2017, tm_mon=5, tm_mday=12, tm_hour=11, tm_min=37, tm_sec=5, tm_wday=4, tm_yday=132, tm_isdst=0),\n",
       " time.struct_time(tm_year=2017, tm_mon=5, tm_mday=12, tm_hour=19, tm_min=37, tm_sec=5, tm_wday=4, tm_yday=132, tm_isdst=0))"
      ]
     },
     "execution_count": 99,
     "metadata": {},
     "output_type": "execute_result"
    }
   ],
   "source": [
    "# 返回指定时间\n",
    "import time\n",
    "time.gmtime(make_time), time.localtime(make_time)"
   ]
  },
  {
   "cell_type": "markdown",
   "metadata": {},
   "source": [
    "## 五、os.path模块中的查询函数——返回True或False"
   ]
  },
  {
   "cell_type": "markdown",
   "metadata": {},
   "source": [
    "### 1、exists(path)\n",
    "**作用**：判断指定路径（目录或文件）是否存在"
   ]
  },
  {
   "cell_type": "code",
   "execution_count": 101,
   "metadata": {
    "collapsed": false
   },
   "outputs": [
    {
     "data": {
      "text/plain": [
       "(True, False)"
      ]
     },
     "execution_count": 101,
     "metadata": {},
     "output_type": "execute_result"
    }
   ],
   "source": [
    "import os.path\n",
    "os.path.exists('练习文本.txt'), os.path.exists('练习文本0.txt')"
   ]
  },
  {
   "cell_type": "markdown",
   "metadata": {},
   "source": [
    "### 2、isabs(path)\n",
    "**作用**：判断指定路径是否为绝对路径  \n",
    "**绝对路径与相对路径**：绝对路径指路径中包含的磁盘名称的路径，如：E:\\\\A\\\\B\\\\test.txt；相对路径指路径中不含有磁盘名称，如：“A\\\\B\\\\test.txt”、“.\\\\A\\\\B\\\\test.txt”、“..\\\\A\\\\test.txt”"
   ]
  },
  {
   "cell_type": "code",
   "execution_count": 105,
   "metadata": {
    "collapsed": false
   },
   "outputs": [
    {
     "data": {
      "text/plain": [
       "(True, False, False)"
      ]
     },
     "execution_count": 105,
     "metadata": {},
     "output_type": "execute_result"
    }
   ],
   "source": [
    "import os.path\n",
    "os.path.isabs(r'D:\\A'), os.path.isabs('A\\B'), os.path.isabs('.\\A\\B')"
   ]
  },
  {
   "cell_type": "markdown",
   "metadata": {},
   "source": [
    "### 3、isdir(path)、isfile(path)、islink(path)、ismount(path)\n",
    "#### 3.1 isdir(path)\n",
    "**作用**：判断指定路径**是否存在**且为一个**目录**\n",
    "#### 3.2 isfile(path)\n",
    "**作用**：判断指定路径**是否存在**且为一个**文件**\n",
    "#### 3.3 islink(path)\n",
    "**作用**：判断指定路径**是否存在**且为一个**符号链接**，在Windows中即是否为**快捷方式**\n",
    "#### 3.4 ismount(path)\n",
    "**作用**：判断指定路径**是否存在**且为一个**挂载点**，磁盘即为挂载点"
   ]
  },
  {
   "cell_type": "code",
   "execution_count": 108,
   "metadata": {
    "collapsed": false
   },
   "outputs": [
    {
     "data": {
      "text/plain": [
       "(True, True)"
      ]
     },
     "execution_count": 108,
     "metadata": {},
     "output_type": "execute_result"
    }
   ],
   "source": [
    "import os.path\n",
    "os.path.isdir(r'D:\\学习资料\\Python项目'), os.path.isfile(r'D:\\学习资料\\Python项目\\练习文本.txt')"
   ]
  },
  {
   "cell_type": "code",
   "execution_count": 111,
   "metadata": {
    "collapsed": false
   },
   "outputs": [
    {
     "data": {
      "text/plain": [
       "True"
      ]
     },
     "execution_count": 111,
     "metadata": {},
     "output_type": "execute_result"
    }
   ],
   "source": [
    "os.path.ismount(r'D:\\\\') # 磁盘D即为挂载点"
   ]
  },
  {
   "cell_type": "markdown",
   "metadata": {},
   "source": [
    "### 4、samefile(path1, path2)\n",
    "**作用**：判断path1和path2两个路径**是否指向同一个文件**"
   ]
  },
  {
   "cell_type": "code",
   "execution_count": 117,
   "metadata": {
    "collapsed": false
   },
   "outputs": [
    {
     "data": {
      "text/plain": [
       "True"
      ]
     },
     "execution_count": 117,
     "metadata": {},
     "output_type": "execute_result"
    }
   ],
   "source": [
    "import os.path\n",
    "\n",
    "path1 = os.getcwd() + '\\练习文本.txt'\n",
    "path2 = '.\\\\练习文本.txt'\n",
    "\n",
    "os.path.samefile(path1, path2)"
   ]
  }
 ],
 "metadata": {
  "kernelspec": {
   "display_name": "Python 3",
   "language": "python",
   "name": "python3"
  },
  "language_info": {
   "codemirror_mode": {
    "name": "ipython",
    "version": 3
   },
   "file_extension": ".py",
   "mimetype": "text/x-python",
   "name": "python",
   "nbconvert_exporter": "python",
   "pygments_lexer": "ipython3",
   "version": "3.6.0"
  }
 },
 "nbformat": 4,
 "nbformat_minor": 2
}
