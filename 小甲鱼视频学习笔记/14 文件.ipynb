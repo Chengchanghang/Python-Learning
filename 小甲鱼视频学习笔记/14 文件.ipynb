{
 "cells": [
  {
   "cell_type": "markdown",
   "metadata": {},
   "source": [
    "# 文件\n",
    "完整的程序执行过程：输入—处理—输出"
   ]
  },
  {
   "cell_type": "markdown",
   "metadata": {},
   "source": [
    "## 一、打开文件\n",
    "1、使用“**open()**”函数来打开文件，通过**help(open)**查看帮助文档  \n",
    "**用法**：open(file, mode = 'r')，file表示要打开的文件；mode表示打开模式\n",
    "2、Python中有**多种打开文件的模式**，分别为："
   ]
  },
  {
   "cell_type": "markdown",
   "metadata": {},
   "source": [
    "## 二、文件对象方法\n",
    "**1、f.close()**：关闭文件  \n",
    "**2、f.read(size = -1)**：从文件中读取size个字符，当**未给定size或给定负值**的时候，**读取剩余的所有字符**，然后作为**字符串返回**    \n",
    "**3、f.readline()**：以写入模式打开，若文件存在，则在末尾追加写入  \n",
    "**4、f.write()**：将字符串写入文件，若不存在则创建文件  \n",
    "**5、f.writelines(seq)**：向文件写入字符串序列seq，seq应该是一个返回字符串的迭代对象  \n",
    "**6、f.seek(offset, from)**：在文件中移动文件指针，从from（0代表文件起始位置，1代表当前位置，2代表文件末尾）偏移offset个字节  \n",
    "**7、f.tell()**：返回当前在文件中的位置"
   ]
  },
  {
   "cell_type": "markdown",
   "metadata": {},
   "source": [
    "### 1、“r”—以只读方式打开文件（默认模式）"
   ]
  },
  {
   "cell_type": "code",
   "execution_count": 42,
   "metadata": {
    "collapsed": false
   },
   "outputs": [
    {
     "data": {
      "text/plain": [
       "'[7] 方匡南[1,2],吴见彬,朱建平[1,2],谢邦昌[1,2],.随机森林方法研究综述[J].统计与信息论坛,2011,26(3)\\n[12]NelloCristianini, JohnShawe-Taylor. 支持向量机导论[M]. 电子工业出版社, 2004.\\n[13]瓦普尼克. 统计学习理论的本质[M]. 清华大学出版社, 2000.\\n[14]张文浩, 王文剑. 一种基于关联规则的核粒度支持向量机[J]. 广西师范大学学报(自然科学版), 2009, 27(3):89-92.\\n[15]张鑫, 王文剑. 一种基于粒度的支持向量机学习策略[C]// 中国粒计算联合会议. 2008.\\n[16]段丹青, 陈松乔, 杨卫平,等. 使用粗糙集和支持向量机检测入侵[J]. 小型微型计算机系统, 2008, 29(4):627-630.\\n[18]文贵华, 向君, 丁月华. 基于商空间粒度理论的大规模SVM分类算法[J]. 计算机应用研究, 2008, 25(8):2299-2301.\\n[19]连可, 黄建国, 王厚军,等. 一种基于遗传算法的SVM决策树多分类策略研究[J]. 电子学报, 2008, 36(8):1502-1507.\\n[20]郭虎升, 王文剑. 基于神经网络的支持向量机学习方法研究[J]. 计算机工程与应用, 2009, 45(2):51-54.\\n[21]施其权, 李小明, 肖辞源. 一类新型快速模糊支持向量机[J]. 计算机技术与发展, 2010, 20(2):103-105.\\n[29]王爱平, 张功营, 刘方. EM算法研究与应用[J]. 计算机技术与发展, 2009, 19(9):108-110.\\n[30]张德喜, 黄浩. 一种适合于大数据集处理的混合EM算法[J]. 计算机应用, 2006, 26(8):1884-1887.\\n[31]陈凯, 朱钰. 机器学习及其相关算法综述[J]. 统计与信息论坛, 2007, 22(5):105-112.'"
      ]
     },
     "execution_count": 42,
     "metadata": {},
     "output_type": "execute_result"
    }
   ],
   "source": [
    "f = open(r'D:\\学习资料\\Python项目\\练习文本.txt')\n",
    "f.read()"
   ]
  },
  {
   "cell_type": "code",
   "execution_count": 43,
   "metadata": {
    "collapsed": false
   },
   "outputs": [
    {
     "data": {
      "text/plain": [
       "('', 1217)"
      ]
     },
     "execution_count": 43,
     "metadata": {},
     "output_type": "execute_result"
    }
   ],
   "source": [
    "# 此时文件指针位于文件末尾，故无法读取到任何内容\n",
    "f.read(), f.tell() # 中文字符要占两个字节"
   ]
  },
  {
   "cell_type": "code",
   "execution_count": 44,
   "metadata": {
    "collapsed": false
   },
   "outputs": [
    {
     "data": {
      "text/plain": [
       "'机森林方法研究综述[J].统计与信息论坛,2011,26(3)\\n'"
      ]
     },
     "execution_count": 44,
     "metadata": {},
     "output_type": "execute_result"
    }
   ],
   "source": [
    "f.seek(50, 0) # 文件指针从文件起始位置移动50个字节\n",
    "f.readline()"
   ]
  },
  {
   "cell_type": "code",
   "execution_count": 29,
   "metadata": {
    "collapsed": false
   },
   "outputs": [
    {
     "data": {
      "text/plain": [
       "['[7] 方匡南[1,2],吴见彬,朱建平[1,2],谢邦昌[1,2],.随机森林方法研究综述[J].统计与信息论坛,2011,26(3)\\n',\n",
       " '[12]NelloCristianini, JohnShawe-Taylor. 支持向量机导论[M]. 电子工业出版社, 2004.\\n',\n",
       " '[13]瓦普尼克. 统计学习理论的本质[M]. 清华大学出版社, 2000.\\n',\n",
       " '[14]张文浩, 王文剑. 一种基于关联规则的核粒度支持向量机[J]. 广西师范大学学报(自然科学版), 2009, 27(3):89-92.\\n',\n",
       " '[15]张鑫, 王文剑. 一种基于粒度的支持向量机学习策略[C]// 中国粒计算联合会议. 2008.\\n',\n",
       " '[16]段丹青, 陈松乔, 杨卫平,等. 使用粗糙集和支持向量机检测入侵[J]. 小型微型计算机系统, 2008, 29(4):627-630.\\n']"
      ]
     },
     "execution_count": 29,
     "metadata": {},
     "output_type": "execute_result"
    }
   ],
   "source": [
    "f.seek(0, 0)\n",
    "each_line = [line for line in f] # 列表解析式读取每一行，返回列表形式\n",
    "each_line[: 6] # 提取返回列表的前5个元素"
   ]
  },
  {
   "cell_type": "markdown",
   "metadata": {},
   "source": [
    "### 2、“w”—以写入的方式打开文件，会覆盖已存在的文件；若不存在则创建文件并写入\n",
    "向文件中写入内容时，**若执行完写入程序但未执行文件关闭程序**，则此时写入的内容仍在缓冲区并未真正写入文件（即相当于未保存），只有关闭文件后才会真正写入文件中"
   ]
  },
  {
   "cell_type": "code",
   "execution_count": 41,
   "metadata": {
    "collapsed": false
   },
   "outputs": [],
   "source": [
    "f1 = open(r'D:\\学习资料\\Python项目\\练习文本1.txt', mode = 'w')\n",
    "f1.write('文献\\n')\n",
    "f1.writelines('abcdefg\\nhigklmn')\n",
    "f1.close()"
   ]
  },
  {
   "cell_type": "markdown",
   "metadata": {},
   "source": [
    "### 3、“x”—如果文件已存在，使用该模式打开将会引发异常"
   ]
  },
  {
   "cell_type": "markdown",
   "metadata": {},
   "source": [
    "### 4、“a”—以写入模式打开，若文件存在，则在末尾追加写入"
   ]
  },
  {
   "cell_type": "markdown",
   "metadata": {},
   "source": [
    "### 5、“b”—以二进制模式打开文件"
   ]
  },
  {
   "cell_type": "markdown",
   "metadata": {},
   "source": [
    "### 6、“t”—以文本模式打开文件（默认打开模式）"
   ]
  },
  {
   "cell_type": "markdown",
   "metadata": {},
   "source": [
    "### 7、“+”—可读写模式（可添加到其他模式中与其一起使用）"
   ]
  },
  {
   "cell_type": "markdown",
   "metadata": {},
   "source": [
    "### 8、“U”—通用换行符支持"
   ]
  },
  {
   "cell_type": "markdown",
   "metadata": {},
   "source": [
    "## 案例\n",
    "**将文件（练习文本3.txt）中的数据进行分割，并按照以下规律保存：**  \n",
    "1、小甲鱼的对话单独保存为boy_*.txt的文件（去掉“小甲鱼：”）  \n",
    "2、小客服的对话单独保存为girl_*.txt的文件（去掉“小客服：”）  \n",
    "3、文件中总共有三段对话，分别保存为boy_1.txt，girl_1.txt，boy_2.txt，girl_2.txt，boy_3.txt，girl_3.txt共6个文件（提示：文件中不同的对话间已经使用“=============”分割）"
   ]
  },
  {
   "cell_type": "code",
   "execution_count": 75,
   "metadata": {
    "collapsed": false
   },
   "outputs": [],
   "source": [
    "# 第一种方法\n",
    "f2 = open(r'D:\\学习资料\\Python项目\\练习文本3.txt') # 打开文件\n",
    "\n",
    "boy = []\n",
    "girl = [] # 初始化列表\n",
    "count = 1\n",
    "\n",
    "for each_line in f2:\n",
    "    if each_line[:6] != '======':  # 判断该行是否为“========”\n",
    "        (role, line_spoken) = each_line.split('：')\n",
    "        if role == '小甲鱼':\n",
    "            boy.append(line_spoken)\n",
    "        if role == '小客服':\n",
    "            girl.append(line_spoken)\n",
    "            \n",
    "    # 当判断行内字符串为“=====”时，则进行保存        \n",
    "    else:\n",
    "        file_name_boy = 'boy_' + str(count) + '.txt'\n",
    "        file_name_girl = 'girl_' + str(count) + '.txt'\n",
    "        \n",
    "        boy_file = open(file_name_boy, 'w')\n",
    "        girl_file = open(file_name_girl, 'w')\n",
    "        \n",
    "        boy_file.writelines(boy)\n",
    "        girl_file.writelines(girl)\n",
    "        \n",
    "        boy_file.close()\n",
    "        girl_file.close()\n",
    "        \n",
    "        boy = []\n",
    "        girl = []\n",
    "        count += 1\n",
    "\n",
    "# 由于保存每段对话是根据分割符号“===============”进行判断\n",
    "# 第三段对话中没有分隔符号，故需进行单独保存\n",
    "file_name_boy = 'boy_' + str(count) + '.txt'\n",
    "file_name_girl = 'girl_' + str(count) + '.txt'\n",
    "\n",
    "boy_file = open(file_name_boy, 'w')\n",
    "girl_file = open(file_name_girl, 'w')\n",
    "\n",
    "boy_file.writelines(boy)\n",
    "girl_file.writelines(girl)\n",
    "\n",
    "boy_file.close()\n",
    "girl_file.close()\n",
    "f2.close()"
   ]
  },
  {
   "cell_type": "code",
   "execution_count": 86,
   "metadata": {
    "collapsed": false
   },
   "outputs": [],
   "source": [
    "# 第二种方法——函数\n",
    "def save_file(boy, girl, count):\n",
    "    file_name_boy = 'boy_' + str(count) + '.txt'\n",
    "    file_name_girl = 'girl_' + str(count) + '.txt'\n",
    "    \n",
    "    boy_file = open(file_name_boy, 'w')\n",
    "    girl_file = open(file_name_girl, 'w')\n",
    "    \n",
    "    boy_file.writelines(boy)\n",
    "    girl_file.writelines(girl)\n",
    "    \n",
    "    boy_file.close()\n",
    "    girl_file.close()\n",
    "    \n",
    "def split_file(file_name):    \n",
    "    f3 = open(file_name)\n",
    "\n",
    "    # 初始化列表boy、girl以及计数count\n",
    "    boy, girl = [], [] \n",
    "    count = 1\n",
    "    \n",
    "    # 读取每行内容\n",
    "    for each_line in f3:\n",
    "        \n",
    "        # 判断该行是否为“=====”\n",
    "        if each_line[:6] != '======':\n",
    "            # 将该行内容按照“：”进行分割\n",
    "            (role, line_spoken) = each_line.split('：', 1)\n",
    "            # 通过角色判断，分别添加到对应列表中\n",
    "            if role == '小甲鱼':\n",
    "                boy.append(line_spoken)\n",
    "            if role == '小客服':\n",
    "                girl.append(line_spoken)\n",
    "        # 当该行不是“====”时即对当前列表中添加到内容进行保存        \n",
    "        else:\n",
    "            save_file(boy, girl, count)\n",
    "            \n",
    "            # 保存一次以后重置列表，计数count增加1\n",
    "            boy, girl = [], []\n",
    "            count += 1\n",
    "\n",
    "    save_file(boy, girl, count)\n",
    "\n",
    "    f3.close()\n",
    "    \n",
    "split_file(r'D:\\学习资料\\Python项目\\练习文本3.txt')"
   ]
  }
 ],
 "metadata": {
  "kernelspec": {
   "display_name": "Python 3",
   "language": "python",
   "name": "python3"
  },
  "language_info": {
   "codemirror_mode": {
    "name": "ipython",
    "version": 3
   },
   "file_extension": ".py",
   "mimetype": "text/x-python",
   "name": "python",
   "nbconvert_exporter": "python",
   "pygments_lexer": "ipython3",
   "version": "3.6.0"
  }
 },
 "nbformat": 4,
 "nbformat_minor": 2
}
