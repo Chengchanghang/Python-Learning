{
 "cells": [
  {
   "cell_type": "markdown",
   "metadata": {},
   "source": [
    "# 字符串\n",
    "字符串也可以根据索引进行切片，其中**字符串的空格也属于字符串的元素**，字符串中插入指定元素的方式与向元组中插入元素的方式相同。"
   ]
  },
  {
   "cell_type": "markdown",
   "metadata": {},
   "source": [
    "## 一、查看字符串的内置函数及帮助内容"
   ]
  },
  {
   "cell_type": "code",
   "execution_count": 1,
   "metadata": {
    "collapsed": false
   },
   "outputs": [
    {
     "name": "stdout",
     "output_type": "stream",
     "text": [
      "['__add__', '__class__', '__contains__', '__delattr__', '__dir__', '__doc__', '__eq__', '__format__', '__ge__', '__getattribute__', '__getitem__', '__getnewargs__', '__gt__', '__hash__', '__init__', '__init_subclass__', '__iter__', '__le__', '__len__', '__lt__', '__mod__', '__mul__', '__ne__', '__new__', '__reduce__', '__reduce_ex__', '__repr__', '__rmod__', '__rmul__', '__setattr__', '__sizeof__', '__str__', '__subclasshook__', 'capitalize', 'casefold', 'center', 'count', 'encode', 'endswith', 'expandtabs', 'find', 'format', 'format_map', 'index', 'isalnum', 'isalpha', 'isdecimal', 'isdigit', 'isidentifier', 'islower', 'isnumeric', 'isprintable', 'isspace', 'istitle', 'isupper', 'join', 'ljust', 'lower', 'lstrip', 'maketrans', 'partition', 'replace', 'rfind', 'rindex', 'rjust', 'rpartition', 'rsplit', 'rstrip', 'split', 'splitlines', 'startswith', 'strip', 'swapcase', 'title', 'translate', 'upper', 'zfill']"
     ]
    }
   ],
   "source": [
    "print(dir(str), end = '')"
   ]
  },
  {
   "cell_type": "code",
   "execution_count": 150,
   "metadata": {
    "collapsed": false
   },
   "outputs": [
    {
     "name": "stdout",
     "output_type": "stream",
     "text": [
      "Help on built-in function capitalize:\n",
      "\n",
      "capitalize(...) method of builtins.str instance\n",
      "    S.capitalize() -> str\n",
      "    \n",
      "    Return a capitalized version of S, i.e. make the first character\n",
      "    have upper case and the rest lower case.\n",
      "\n"
     ]
    }
   ],
   "source": [
    "string = ''\n",
    "help(string.capitalize)"
   ]
  },
  {
   "cell_type": "markdown",
   "metadata": {},
   "source": [
    "## 二、字符串的内置函数"
   ]
  },
  {
   "cell_type": "markdown",
   "metadata": {},
   "source": [
    "## 1、capitalize()\n",
    "**作用**：将字符串中的首字符改为大写，其余仍为小写   \n",
    "**用法**：string.capitalize()，无参数  \n",
    "**返回值**：生成一个新的字符串，并未修改原字符串"
   ]
  },
  {
   "cell_type": "code",
   "execution_count": 2,
   "metadata": {
    "collapsed": false
   },
   "outputs": [
    {
     "data": {
      "text/plain": [
       "('abcdefg', 'Abcdefg')"
      ]
     },
     "execution_count": 2,
     "metadata": {},
     "output_type": "execute_result"
    }
   ],
   "source": [
    "string = 'abcdefg'\n",
    "string1 = string.capitalize()\n",
    "string, string1"
   ]
  },
  {
   "cell_type": "markdown",
   "metadata": {},
   "source": [
    "## 2、casefold()\n",
    "**作用**：将字符串中所有字符均改为小写  \n",
    "**用法**：string.casefold()，无参数"
   ]
  },
  {
   "cell_type": "code",
   "execution_count": 3,
   "metadata": {
    "collapsed": false
   },
   "outputs": [
    {
     "data": {
      "text/plain": [
       "'abcdfdfgdgdsds'"
      ]
     },
     "execution_count": 3,
     "metadata": {},
     "output_type": "execute_result"
    }
   ],
   "source": [
    "string = 'ABcdfdfgdgDSDS'\n",
    "string.casefold()"
   ]
  },
  {
   "cell_type": "markdown",
   "metadata": {},
   "source": [
    "## 3、center()、ljust()、rjust()\n",
    "### 3.1、center()\n",
    "**作用**：将字符串居中  \n",
    "**用法**：string.center(width[, fillchar])  \n",
    "**参数**：width用于指定宽度  \n",
    "　　　fillchar：填充字符串，若想要居中字符串长度小于指定宽度，则使用该参数指定填充空余位置的字符；反之，则不需要填充。默认使用空格填充\n",
    "### 3.2、ljust()\n",
    "**作用**：返回左对齐字符串，并利用fillchar指定填充方式填充为指定长度width的新字符串  \n",
    "**用法**：string.ljust(width[, fillchar])\n",
    "### 3.3、rjust()\n",
    "**作用**：返回右对齐字符串，并利用fillchar指定填充方式填充为指定长度width的新字符串  \n",
    "**用法**：string.rjust(width[, fillchar])\n",
    "### 注意\n",
    "当不指定fillchar时，默认以空格填充"
   ]
  },
  {
   "cell_type": "code",
   "execution_count": 4,
   "metadata": {
    "collapsed": false
   },
   "outputs": [
    {
     "data": {
      "text/plain": [
       "('--abc--', '  abc  ')"
      ]
     },
     "execution_count": 4,
     "metadata": {},
     "output_type": "execute_result"
    }
   ],
   "source": [
    "# 居中对齐\n",
    "string = 'abc'\n",
    "string.center(7, '-'), string.center(7)"
   ]
  },
  {
   "cell_type": "code",
   "execution_count": 83,
   "metadata": {
    "collapsed": false
   },
   "outputs": [
    {
     "data": {
      "text/plain": [
       "('wzp-----', 'wzp     ')"
      ]
     },
     "execution_count": 83,
     "metadata": {},
     "output_type": "execute_result"
    }
   ],
   "source": [
    "# 左对齐\n",
    "string = 'wzp'\n",
    "string.ljust(8, '-'), string.ljust(8)"
   ]
  },
  {
   "cell_type": "code",
   "execution_count": 84,
   "metadata": {
    "collapsed": false
   },
   "outputs": [
    {
     "data": {
      "text/plain": [
       "('-----wzp', '     wzp')"
      ]
     },
     "execution_count": 84,
     "metadata": {},
     "output_type": "execute_result"
    }
   ],
   "source": [
    "# 右对齐\n",
    "string = 'wzp'\n",
    "string.rjust(8, '-'), string.rjust(8)"
   ]
  },
  {
   "cell_type": "markdown",
   "metadata": {},
   "source": [
    "### 4、count()\n",
    "**作用**：查看指定子字符串在整个字符串中出现的次数  \n",
    "**用法**：string.count(sub[,start[, end]])  \n",
    "**参数**：sub表示指定的子字符串  \n",
    "　　　start、stop表示将原字符串进行切片，查看在该切片中指定子字符出现的次数"
   ]
  },
  {
   "cell_type": "code",
   "execution_count": 34,
   "metadata": {
    "collapsed": false
   },
   "outputs": [
    {
     "data": {
      "text/plain": [
       "3"
      ]
     },
     "execution_count": 34,
     "metadata": {},
     "output_type": "execute_result"
    }
   ],
   "source": [
    "string = 'abcdefabcghiabcklh'\n",
    "string.count('abc') # 查看指定子字符串“abc”在string中出现的次数\n",
    "# string.count('abc', 3) # 查看指定子字符串在string[3:]切片中出现的次数\n",
    "# string.count('abc', 3, -7) # 查看指定子字符串在string[3:-6]中出现的次数"
   ]
  },
  {
   "cell_type": "markdown",
   "metadata": {},
   "source": [
    "### 5、encode()\n",
    "**作用**：对字符串进行编码  \n",
    "**用法**：string.encode(encoding = 'utf-8', errors = 'strict')  \n",
    "**参数**：encoding用于指定字符串的编码格式，默认为“utf-8”编码  \n",
    "　　　**errors用于设置不同的错误处理方案**，默认为“strict”，当编码错误时返回错误:UnicodeEncodeError；还可以选择其他参数：ignore、replace、xmlcharrefreplace"
   ]
  },
  {
   "cell_type": "code",
   "execution_count": 6,
   "metadata": {
    "collapsed": false
   },
   "outputs": [
    {
     "data": {
      "text/plain": [
       "b'\\xe6\\x88\\x91\\xe8\\xa6\\x81\\xe5\\x90\\x83\\xe9\\xb1\\xbc'"
      ]
     },
     "execution_count": 6,
     "metadata": {},
     "output_type": "execute_result"
    }
   ],
   "source": [
    "# strict表示严格执行编码，出现错误即返回错误提示\n",
    "string = '我要吃鱼'\n",
    "string.encode(encoding = 'utf-8', errors = 'strict')"
   ]
  },
  {
   "cell_type": "code",
   "execution_count": 7,
   "metadata": {
    "collapsed": false
   },
   "outputs": [
    {
     "data": {
      "text/plain": [
       "b''"
      ]
     },
     "execution_count": 7,
     "metadata": {},
     "output_type": "execute_result"
    }
   ],
   "source": [
    "# ignore表示忽略错误提示\n",
    "string.encode(encoding = 'ASCII', errors = 'ignore')"
   ]
  },
  {
   "cell_type": "code",
   "execution_count": 8,
   "metadata": {
    "collapsed": false
   },
   "outputs": [
    {
     "data": {
      "text/plain": [
       "b'????'"
      ]
     },
     "execution_count": 8,
     "metadata": {},
     "output_type": "execute_result"
    }
   ],
   "source": [
    "# replace表示出现编码错误时，以“????”替换\n",
    "string.encode(encoding = 'ASCII', errors = 'replace')"
   ]
  },
  {
   "cell_type": "code",
   "execution_count": 9,
   "metadata": {
    "collapsed": false
   },
   "outputs": [
    {
     "data": {
      "text/plain": [
       "b'&#25105;&#35201;&#21507;&#40060;'"
      ]
     },
     "execution_count": 9,
     "metadata": {},
     "output_type": "execute_result"
    }
   ],
   "source": [
    "# xmlcharrefreplace表示出现错误时，利用XML编码格式替换\n",
    "string.encode(encoding = 'ASCII', errors = 'xmlcharrefreplace')"
   ]
  },
  {
   "cell_type": "markdown",
   "metadata": {},
   "source": [
    "## 6、endswith()、startswith()\n",
    "### 6.1、endswith()\n",
    "**作用**：检查原字符串是否以指定子字符串结束，若是则为True；反之则为False  \n",
    "**用法**：string.endswith(suffix[, start[, end]])  \n",
    "**参数**：suffix用于指定判断的子字符串  \n",
    "　　　start、stop作用与之前类似，对原字符串进行切片，查看该切片是否以指定子字符串结束\n",
    "### 6.2、startswith()\n",
    "**作用**：与endswith()用法完全一致，但该方法用于检查是否以指定字符串开头"
   ]
  },
  {
   "cell_type": "code",
   "execution_count": 134,
   "metadata": {
    "collapsed": false
   },
   "outputs": [
    {
     "data": {
      "text/plain": [
       "(True, True)"
      ]
     },
     "execution_count": 134,
     "metadata": {},
     "output_type": "execute_result"
    }
   ],
   "source": [
    "string = 'ABCdef ghi abc def abc'\n",
    "string.endswith('abc'), string.startswith('ABC')"
   ]
  },
  {
   "cell_type": "code",
   "execution_count": 135,
   "metadata": {
    "collapsed": false
   },
   "outputs": [
    {
     "data": {
      "text/plain": [
       "(True, True)"
      ]
     },
     "execution_count": 135,
     "metadata": {},
     "output_type": "execute_result"
    }
   ],
   "source": [
    "string.endswith('abc', 3, 14), string.startswith('def', 3, 14)"
   ]
  },
  {
   "cell_type": "markdown",
   "metadata": {
    "collapsed": true
   },
   "source": [
    "## 7、expandtabs()\n",
    "**作用**：将字符串中**tab(即“\\t”)**符号转换为空格  \n",
    "**用法**：string.expandtabs(tabsize = 8)  \n",
    "**参数**：tabsize表示将每个**tab(即“\\t”)**符号转换为空格，对应的空格数量，默认为8"
   ]
  },
  {
   "cell_type": "code",
   "execution_count": 26,
   "metadata": {
    "collapsed": false
   },
   "outputs": [
    {
     "data": {
      "text/plain": [
       "'ab cde f g'"
      ]
     },
     "execution_count": 26,
     "metadata": {},
     "output_type": "execute_result"
    }
   ],
   "source": [
    "string = 'ab\\tcde\\tf\\tg'\n",
    "string.expandtabs(tabsize = 1) # tabsize = 1表示每个tab转换为1个空格"
   ]
  },
  {
   "cell_type": "markdown",
   "metadata": {},
   "source": [
    "## 8、find()与rfind()、index()与rindex()\n",
    "### 8.1 find()\n",
    "**作用**：返回在原字符串中找到的指定子字符串中第一个元素在原字符串中的索引值。**若找到子字符串，则返回索引值；反之则返回-1**   \n",
    "**用法**：string.find(sub[, start[, end]])  \n",
    "**参数**：sub表示指定子字符串  \n",
    "　　　start、stop与之前类似，对原字符串进行切片，在切片中查找指定子字符串，并返回子字符串第一个元素对应的索引值  \n",
    "### rfind()\n",
    "**作用**：与find()一致，但该方法查找子字符串是从右边开始查找\n",
    "### 8.2、index()\n",
    "**作用**：与**find()**用法一致  \n",
    "**用法**：string.index(sub[, start[, end]])  \n",
    "### rindex()\n",
    "**作用**：与index()用法一致，但该方法查找子字符串是从右边开始查找\n",
    "### 8.3、index()与find()的区别\n",
    "**区别**：当指定子字符串在原字符串中时，二者用法完全一致；若指定子字符串不在原字符串中时，find()返回**-1**，而index()返回错误：ValueError，提示子字符串未找到"
   ]
  },
  {
   "cell_type": "code",
   "execution_count": 108,
   "metadata": {
    "collapsed": false
   },
   "outputs": [
    {
     "data": {
      "text/plain": [
       "(0, -1, 6)"
      ]
     },
     "execution_count": 108,
     "metadata": {},
     "output_type": "execute_result"
    }
   ],
   "source": [
    "string = 'abcdefabcghi'\n",
    "string.find('abc'), string.find('def', 6, -1), string.find('abc', 2, -3)"
   ]
  },
  {
   "cell_type": "code",
   "execution_count": 109,
   "metadata": {
    "collapsed": false
   },
   "outputs": [
    {
     "data": {
      "text/plain": [
       "(6, -1, 6)"
      ]
     },
     "execution_count": 109,
     "metadata": {},
     "output_type": "execute_result"
    }
   ],
   "source": [
    "string.rfind('abc'), string.rfind('def', 6, -1), string.rfind('abc', 2, -3)"
   ]
  },
  {
   "cell_type": "code",
   "execution_count": 110,
   "metadata": {
    "collapsed": false
   },
   "outputs": [
    {
     "ename": "ValueError",
     "evalue": "substring not found",
     "output_type": "error",
     "traceback": [
      "\u001b[0;31m---------------------------------------------------------------------------\u001b[0m",
      "\u001b[0;31mValueError\u001b[0m                                Traceback (most recent call last)",
      "\u001b[0;32m<ipython-input-110-c983288c5a10>\u001b[0m in \u001b[0;36m<module>\u001b[0;34m()\u001b[0m\n\u001b[0;32m----> 1\u001b[0;31m \u001b[0mstring\u001b[0m\u001b[1;33m.\u001b[0m\u001b[0mindex\u001b[0m\u001b[1;33m(\u001b[0m\u001b[1;34m'1'\u001b[0m\u001b[1;33m,\u001b[0m \u001b[1;36m2\u001b[0m\u001b[1;33m,\u001b[0m \u001b[1;33m-\u001b[0m\u001b[1;36m3\u001b[0m\u001b[1;33m)\u001b[0m\u001b[1;33m\u001b[0m\u001b[0m\n\u001b[0m\u001b[1;32m      2\u001b[0m \u001b[1;31m# string.index('abc')\u001b[0m\u001b[1;33m\u001b[0m\u001b[1;33m\u001b[0m\u001b[0m\n\u001b[1;32m      3\u001b[0m \u001b[1;31m# string.index('abc', 2, -3)\u001b[0m\u001b[1;33m\u001b[0m\u001b[1;33m\u001b[0m\u001b[0m\n",
      "\u001b[0;31mValueError\u001b[0m: substring not found"
     ]
    }
   ],
   "source": [
    "string.index('1', 2, -3)\n",
    "# string.index('abc')\n",
    "# string.index('abc', 2, -3)"
   ]
  },
  {
   "cell_type": "code",
   "execution_count": 111,
   "metadata": {
    "collapsed": false
   },
   "outputs": [
    {
     "data": {
      "text/plain": [
       "6"
      ]
     },
     "execution_count": 111,
     "metadata": {},
     "output_type": "execute_result"
    }
   ],
   "source": [
    "string.rindex('abc')"
   ]
  },
  {
   "cell_type": "markdown",
   "metadata": {},
   "source": [
    "## 9、isalnum()、isalpha()、isnumeric()\n",
    "### 9.1、isalnum()\n",
    "**作用**：若字符串中至少有一个字符并且都是字母、数字或者字母与数字的结合，则返回True；反之返回False（即不能包含标点等其他符号）    \n",
    "**用法**：string.isalnum()，无参数  \n",
    "### 9.2、isalpha()\n",
    "**作用**：若字符串中至少有一个字符且所有字符都是字母，则返回True；反之返回False  \n",
    "**用法**：string.isalpha()，无参数  \n",
    "### 9.2、isnumeric()\n",
    "**作用**：若字符串中只包含数字字符，则返回True；反之返回False  \n",
    "**用法**：string.isnumeric()，无参数\n",
    "### 9.3、三者关系\n",
    "isalnum()相当于isalpha()、isnumeric()的结合体"
   ]
  },
  {
   "cell_type": "code",
   "execution_count": 54,
   "metadata": {
    "collapsed": false
   },
   "outputs": [
    {
     "data": {
      "text/plain": [
       "(True, False)"
      ]
     },
     "execution_count": 54,
     "metadata": {},
     "output_type": "execute_result"
    }
   ],
   "source": [
    "string1, string2= '我123abc', 'abc,. '\n",
    "string1.isalnum(), string2.isalnum() # 字符串中包含非字母、数字的字符，即标点符号"
   ]
  },
  {
   "cell_type": "code",
   "execution_count": 58,
   "metadata": {
    "collapsed": false
   },
   "outputs": [
    {
     "data": {
      "text/plain": [
       "(False, True)"
      ]
     },
     "execution_count": 58,
     "metadata": {},
     "output_type": "execute_result"
    }
   ],
   "source": [
    "string3 = 'abc'\n",
    "string1.isalpha(), string3.isalpha()"
   ]
  },
  {
   "cell_type": "code",
   "execution_count": 59,
   "metadata": {
    "collapsed": false
   },
   "outputs": [
    {
     "data": {
      "text/plain": [
       "(False, True)"
      ]
     },
     "execution_count": 59,
     "metadata": {},
     "output_type": "execute_result"
    }
   ],
   "source": [
    "string4 = '123'\n",
    "string1.isnumeric(), string4.isnumeric()"
   ]
  },
  {
   "cell_type": "markdown",
   "metadata": {},
   "source": [
    "## 10、isdecimal()、isdigit()\n",
    "### 10.1、isdecimal()\n",
    "**作用**：若字符串中只包含**十进制数字**，则返回True；反之返回False  \n",
    "**用法**：string.isdecimal()，无参数  \n",
    "### 10.2、isdigit()\n",
    "**作用**：若字符串只包含数字，则返回True；反之返回False  \n",
    "**用法**：string.isdigit()，无参数  "
   ]
  },
  {
   "cell_type": "code",
   "execution_count": 67,
   "metadata": {
    "collapsed": false
   },
   "outputs": [
    {
     "data": {
      "text/plain": [
       "(True, True)"
      ]
     },
     "execution_count": 67,
     "metadata": {},
     "output_type": "execute_result"
    }
   ],
   "source": [
    "string1, string2 = '234', '123'\n",
    "string1.isdecimal(), string2.isdigit()"
   ]
  },
  {
   "cell_type": "markdown",
   "metadata": {},
   "source": [
    "## 11、islower()、isupper()\n",
    "### 11.1、islower()\n",
    "**作用**：若字符串中至少包含一个可区分大小写的字符且所有这些字符均为小写，则返回True；反之返回False  \n",
    "**用法**：string.islower()，无参数\n",
    "### 11.2、isupper()\n",
    "**作用**：与islower()恰好相反，若字符串中至少包含一个可区分大小写的字符且这些字符均为大写，则返回True；反之返回False  \n",
    "**用法**：string.isupper()，无参数\n",
    "### 注意：\n",
    "对于中文，以上两个函数返回值均为False"
   ]
  },
  {
   "cell_type": "code",
   "execution_count": 71,
   "metadata": {
    "collapsed": false
   },
   "outputs": [
    {
     "data": {
      "text/plain": [
       "(True, True, False, False)"
      ]
     },
     "execution_count": 71,
     "metadata": {},
     "output_type": "execute_result"
    }
   ],
   "source": [
    "string1, string2, string3 = '123abc456', '123ABC456', '123aBc456'\n",
    "string1.islower(), string2.isupper(), string3.islower(), string3.isupper()"
   ]
  },
  {
   "cell_type": "code",
   "execution_count": 72,
   "metadata": {
    "collapsed": false
   },
   "outputs": [
    {
     "data": {
      "text/plain": [
       "(False, False)"
      ]
     },
     "execution_count": 72,
     "metadata": {},
     "output_type": "execute_result"
    }
   ],
   "source": [
    "string = '我'\n",
    "string.islower(), string.isupper()"
   ]
  },
  {
   "cell_type": "markdown",
   "metadata": {},
   "source": [
    "## 12、isspace()\n",
    "**作用**：若字符串中只包含空格，则返回True；反之返回False  \n",
    "**用法**：string.isspace()，无参数"
   ]
  },
  {
   "cell_type": "code",
   "execution_count": 74,
   "metadata": {
    "collapsed": false
   },
   "outputs": [
    {
     "data": {
      "text/plain": [
       "(False, True)"
      ]
     },
     "execution_count": 74,
     "metadata": {},
     "output_type": "execute_result"
    }
   ],
   "source": [
    "string1, string2 = '  123  ', '  '\n",
    "string1.isspace(), string2.isspace()"
   ]
  },
  {
   "cell_type": "markdown",
   "metadata": {},
   "source": [
    "## 13、istitle()\n",
    "**作用**：若字符串是标题化（即所有单词均已大写开头，其余字母均为小写），则返回True；反之返回False  \n",
    "**用法**：string.istitle()，无参数"
   ]
  },
  {
   "cell_type": "code",
   "execution_count": 77,
   "metadata": {
    "collapsed": false
   },
   "outputs": [
    {
     "data": {
      "text/plain": [
       "(False, False, True)"
      ]
     },
     "execution_count": 77,
     "metadata": {},
     "output_type": "execute_result"
    }
   ],
   "source": [
    "string1, string2, string3 = 'Abc abc', 'ABC CDE', 'Abc, Cde'\n",
    "string1.istitle(), string2.istitle(), string3.istitle()"
   ]
  },
  {
   "cell_type": "markdown",
   "metadata": {},
   "source": [
    "## 14、join()\n",
    "**作用**：以字符串作为分割符，将指定符号插入到字符串所有字符之间  \n",
    "**用法**：S.join(iterable)，“S”表示指定插入字符串之间的符号，“iterable”表示可迭代对象(可理解为序列)"
   ]
  },
  {
   "cell_type": "code",
   "execution_count": 79,
   "metadata": {
    "collapsed": false
   },
   "outputs": [
    {
     "data": {
      "text/plain": [
       "'a,b,c'"
      ]
     },
     "execution_count": 79,
     "metadata": {},
     "output_type": "execute_result"
    }
   ],
   "source": [
    "string = 'abc'\n",
    "','.join(string)"
   ]
  },
  {
   "cell_type": "markdown",
   "metadata": {},
   "source": [
    "## 15、lower()、upper()\n",
    "### 15.1、lower()\n",
    "**作用**：将字符串中所有大写字母均转换为小写字母  \n",
    "**用法**：string.lower()，无参数\n",
    "### 15.2、upper()\n",
    "与lower()相反，将字符串所有小写字母均转换为大写字母"
   ]
  },
  {
   "cell_type": "code",
   "execution_count": 86,
   "metadata": {
    "collapsed": false
   },
   "outputs": [
    {
     "data": {
      "text/plain": [
       "('ABC ABC', 'abc abc')"
      ]
     },
     "execution_count": 86,
     "metadata": {},
     "output_type": "execute_result"
    }
   ],
   "source": [
    "string1, string2 = 'abc Abc', 'ABC aBC'\n",
    "string1.upper(), string2.lower()"
   ]
  },
  {
   "cell_type": "markdown",
   "metadata": {},
   "source": [
    "## 16、strip()、lstrip()、rstrip()\n",
    "### 16.1、strip()\n",
    "**作用**：去掉字符串两侧指定要删除的元素\n",
    "**用法**：string.strip([chars])\n",
    "**参数**：chars用于指定要删除的元素，可选，**若不指定该参数，则默认删除空格**\n",
    "### 16.2、lstrip()\n",
    "**作用**：删除字符串左侧指定要删除的元素\n",
    "### 16.3、rstrip()\n",
    "**作用**：删除字符串右侧指定要删除的元素"
   ]
  },
  {
   "cell_type": "code",
   "execution_count": 94,
   "metadata": {
    "collapsed": false
   },
   "outputs": [
    {
     "data": {
      "text/plain": [
       "('123345', '23345 ', ' 12334')"
      ]
     },
     "execution_count": 94,
     "metadata": {},
     "output_type": "execute_result"
    }
   ],
   "source": [
    "string = ' 123345 '\n",
    "string.strip(), string.lstrip(' 1'), string.rstrip('5 ')"
   ]
  },
  {
   "cell_type": "markdown",
   "metadata": {},
   "source": [
    "## 17、partition()、rpartition()\n",
    "**作用**：在原字符串中查找指定子字符串，若找到该子字符串，则将原字符串分为包含三个元素的元组，即(子字符串之前的部分，子字符串，子字符串之后的部分)；若未找打该子字符串，则返回元组，即(原字符串，空字符串， 空字符串)  \n",
    "**用法**：string.partition(sub)，sub表示指定的子字符串\n",
    "### 注意：\n",
    "rpartition()与partition()区别在于：前置查找子字符串时是从右边开始查找"
   ]
  },
  {
   "cell_type": "code",
   "execution_count": 112,
   "metadata": {
    "collapsed": false
   },
   "outputs": [
    {
     "data": {
      "text/plain": [
       "(('abcdef', '123', 'jklopq'), ('abcdef123jklopq', '', ''))"
      ]
     },
     "execution_count": 112,
     "metadata": {},
     "output_type": "execute_result"
    }
   ],
   "source": [
    "string = 'abcdef123jklopq'\n",
    "string.partition('123'), string.partition('234')"
   ]
  },
  {
   "cell_type": "code",
   "execution_count": 113,
   "metadata": {
    "collapsed": false
   },
   "outputs": [
    {
     "data": {
      "text/plain": [
       "('abcdef', '123', 'jklopq')"
      ]
     },
     "execution_count": 113,
     "metadata": {},
     "output_type": "execute_result"
    }
   ],
   "source": [
    "string.rpartition('123')"
   ]
  },
  {
   "cell_type": "markdown",
   "metadata": {},
   "source": [
    "## 18、repalce()\n",
    "**作用**：利用指定的新字符串来替换指定的旧字符串  \n",
    "**用法**：string.replace(old, new[, count])  \n",
    "**参数**：old表示指定的原字符串中的旧字符串  \n",
    "　　　new表示指定用于替换的新字符串  \n",
    "　　　count用于指定替换的次数，可选"
   ]
  },
  {
   "cell_type": "code",
   "execution_count": 123,
   "metadata": {
    "collapsed": false
   },
   "outputs": [
    {
     "data": {
      "text/plain": [
       "('jklabc456defjkldfgjkl', 'jklabc456defjkldfg123')"
      ]
     },
     "execution_count": 123,
     "metadata": {},
     "output_type": "execute_result"
    }
   ],
   "source": [
    "string = '123abc456def123dfg123'\n",
    "string.replace('123', 'jkl'), string.replace('123', 'jkl', 2) # 表示替换两个，即将两个“123”替换为“jkl”"
   ]
  },
  {
   "cell_type": "markdown",
   "metadata": {},
   "source": [
    "## 19、split()与rsplit()、splitlines()\n",
    "### 19.1、split()\n",
    "**作用**：按照指定分隔符号将原字符串进行切片操作     \n",
    "**用法**：string.split(sep = None, maxsplit = -1)  \n",
    "**参数**：sep用于指定分隔符号，若不指定，则默认使用空格作为分隔符号  \n",
    "　　　maxsplit用于指定按照指定字符串分隔几次  \n",
    "**返回值**：返回值为列表形式\n",
    "### rsplit()\n",
    "**作用**：与split()用法一致，但该方法分隔是从字符串右边开始\n",
    "### 19.2、splitlines()\n",
    "**作用**：按照换行符“\\n”进行分隔，返回包含各行作为元素的列表\n",
    "**用法**：string.splitlines([keywords])"
   ]
  },
  {
   "cell_type": "code",
   "execution_count": 129,
   "metadata": {
    "collapsed": false
   },
   "outputs": [
    {
     "data": {
      "text/plain": [
       "(['123', '456', '789'], ['123', '456abc789'], ['123', '456', '789'])"
      ]
     },
     "execution_count": 129,
     "metadata": {},
     "output_type": "execute_result"
    }
   ],
   "source": [
    "string = '123abc456abc789'\n",
    "string.split('abc'), string.split('abc', maxsplit = 1), string.split('abc', maxsplit = 2)"
   ]
  },
  {
   "cell_type": "code",
   "execution_count": 130,
   "metadata": {
    "collapsed": false
   },
   "outputs": [
    {
     "data": {
      "text/plain": [
       "['123', '456', '789']"
      ]
     },
     "execution_count": 130,
     "metadata": {},
     "output_type": "execute_result"
    }
   ],
   "source": [
    "string.rsplit('abc')"
   ]
  },
  {
   "cell_type": "code",
   "execution_count": 133,
   "metadata": {
    "collapsed": false
   },
   "outputs": [
    {
     "data": {
      "text/plain": [
       "['abc', 'def', '123', '456']"
      ]
     },
     "execution_count": 133,
     "metadata": {},
     "output_type": "execute_result"
    }
   ],
   "source": [
    "string = '''abc\n",
    "def\n",
    "123\n",
    "456\n",
    "'''\n",
    "string.splitlines() # 按照换行符“\\n”进行分隔"
   ]
  },
  {
   "cell_type": "markdown",
   "metadata": {},
   "source": [
    "## 20、swapcase()\n",
    "**作用**：将字符串中大写字母转换为小写，小写字母转换为大写  \n",
    "**用法**：string.swapcase()，无参数"
   ]
  },
  {
   "cell_type": "code",
   "execution_count": 137,
   "metadata": {
    "collapsed": false
   },
   "outputs": [
    {
     "data": {
      "text/plain": [
       "'abcABC'"
      ]
     },
     "execution_count": 137,
     "metadata": {},
     "output_type": "execute_result"
    }
   ],
   "source": [
    "string = 'ABCabc'\n",
    "string.swapcase()"
   ]
  },
  {
   "cell_type": "markdown",
   "metadata": {},
   "source": [
    "## 21、title()\n",
    "**作用**：将字符串中每个单词均以大写字母开头，其余为小写  \n",
    "**用法**：string.title()，无参数"
   ]
  },
  {
   "cell_type": "code",
   "execution_count": 139,
   "metadata": {
    "collapsed": false
   },
   "outputs": [
    {
     "data": {
      "text/plain": [
       "'Abc Def Ghi'"
      ]
     },
     "execution_count": 139,
     "metadata": {},
     "output_type": "execute_result"
    }
   ],
   "source": [
    "string = 'abc def ghi'\n",
    "string.title()"
   ]
  },
  {
   "cell_type": "markdown",
   "metadata": {},
   "source": [
    "## 22、translate()\n",
    "**作用**：根据table的规则（可以有str.maketrans('a', 'b')定制）转换字符串中的字符  \n",
    "**用法**：string.translate(table)"
   ]
  },
  {
   "cell_type": "code",
   "execution_count": 143,
   "metadata": {
    "collapsed": false,
    "scrolled": true
   },
   "outputs": [
    {
     "data": {
      "text/plain": [
       "('b-b-b-b-', {115: 45})"
      ]
     },
     "execution_count": 143,
     "metadata": {},
     "output_type": "execute_result"
    }
   ],
   "source": [
    "string = 'bsbsbsbs'\n",
    "string.translate(str.maketrans('s', '-')), str.maketrans('s', '-') # 定制table规则，返回字典形式，其中“115”为“s”的ASCII码，“45”为“-”的ASCII码，进行映射"
   ]
  },
  {
   "cell_type": "markdown",
   "metadata": {},
   "source": [
    "## 23、zfill()\n",
    "**作用**：返回长度为width的字符串，原字符串右对齐，前边width大于字符串长度的部分用零填充  \n",
    "**用法**：string.zfill(width)，width指定返回字符串的长度"
   ]
  },
  {
   "cell_type": "code",
   "execution_count": 149,
   "metadata": {
    "collapsed": false
   },
   "outputs": [
    {
     "data": {
      "text/plain": [
       "'00123'"
      ]
     },
     "execution_count": 149,
     "metadata": {},
     "output_type": "execute_result"
    }
   ],
   "source": [
    "string = '123'\n",
    "string.zfill(5) # width大于字符串长度的部分用零填充"
   ]
  }
 ],
 "metadata": {
  "kernelspec": {
   "display_name": "Python 3",
   "language": "python",
   "name": "python3"
  },
  "language_info": {
   "codemirror_mode": {
    "name": "ipython",
    "version": 3
   },
   "file_extension": ".py",
   "mimetype": "text/x-python",
   "name": "python",
   "nbconvert_exporter": "python",
   "pygments_lexer": "ipython3",
   "version": "3.6.0"
  }
 },
 "nbformat": 4,
 "nbformat_minor": 2
}
