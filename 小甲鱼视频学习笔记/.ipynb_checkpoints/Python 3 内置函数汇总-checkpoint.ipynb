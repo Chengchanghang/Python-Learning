{
 "cells": [
  {
   "cell_type": "markdown",
   "metadata": {},
   "source": [
    "# 内置函数集锦"
   ]
  },
  {
   "cell_type": "markdown",
   "metadata": {},
   "source": [
    "查看内置函数的方法：$dir(__builtins__)$"
   ]
  },
  {
   "cell_type": "markdown",
   "metadata": {},
   "source": [
    "## 一、print"
   ]
  },
  {
   "cell_type": "markdown",
   "metadata": {},
   "source": [
    "print():该函数为Python内置打印输出函数，可将传入的值打印输出。"
   ]
  },
  {
   "cell_type": "code",
   "execution_count": 1,
   "metadata": {
    "collapsed": false
   },
   "outputs": [
    {
     "name": "stdout",
     "output_type": "stream",
     "text": [
      "1 1.1 (1+3j) 520 "
     ]
    }
   ],
   "source": [
    "print(1, 1.1, 1 + 3j, '520', end = ' ')"
   ]
  },
  {
   "cell_type": "markdown",
   "metadata": {},
   "source": [
    "## 二、type"
   ]
  },
  {
   "cell_type": "markdown",
   "metadata": {},
   "source": [
    "type():该函数用于判断并返回传入对象的数据类型。"
   ]
  },
  {
   "cell_type": "code",
   "execution_count": 4,
   "metadata": {
    "collapsed": false
   },
   "outputs": [
    {
     "data": {
      "text/plain": [
       "(int, float, complex, str)"
      ]
     },
     "execution_count": 4,
     "metadata": {},
     "output_type": "execute_result"
    }
   ],
   "source": [
    "type(1), type(1.1), type(1 + 3j), type('520')"
   ]
  },
  {
   "cell_type": "markdown",
   "metadata": {},
   "source": [
    "## 三、isinstance()"
   ]
  },
  {
   "cell_type": "markdown",
   "metadata": {},
   "source": [
    "Python**内置函数：isinstance(object, class_or_tuple)**。\n",
    "\n",
    "该函数包含两个参数，参数意义分别为：\n",
    "\n",
    "　第一个参数表示：待判断对象  \n",
    "　第二个参数表示：指定数据类型用于判别，若属于该类型，则返回True；反之返回False。该参数可输入一个类型，也可以输入多个类型组成的元组，若为元组形式，则判断待确定对象数据类型与每个类型之间的关系，各个类型之间判断为**或**的关系。"
   ]
  },
  {
   "cell_type": "code",
   "execution_count": 5,
   "metadata": {
    "collapsed": true
   },
   "outputs": [],
   "source": [
    "string = '520'"
   ]
  },
  {
   "cell_type": "code",
   "execution_count": 6,
   "metadata": {
    "collapsed": false
   },
   "outputs": [
    {
     "data": {
      "text/plain": [
       "True"
      ]
     },
     "execution_count": 6,
     "metadata": {},
     "output_type": "execute_result"
    }
   ],
   "source": [
    "isinstance(string, str)"
   ]
  },
  {
   "cell_type": "code",
   "execution_count": 7,
   "metadata": {
    "collapsed": false
   },
   "outputs": [
    {
     "data": {
      "text/plain": [
       "True"
      ]
     },
     "execution_count": 7,
     "metadata": {},
     "output_type": "execute_result"
    }
   ],
   "source": [
    "# 等价于“isinstance(string, str) or isinstance(string, int) or isinstance(string, float)”\n",
    "isinstance(string, (str, int, float))"
   ]
  },
  {
   "cell_type": "markdown",
   "metadata": {},
   "source": [
    "## 四、range()"
   ]
  },
  {
   "cell_type": "markdown",
   "metadata": {},
   "source": [
    "**Python内置函数**：range([start, ] stop[, step = 1])，方括号包含的参数为可选参数，该函数用于生产成一个[start, stop)的序列，可通过step指定步长。\n",
    "\n",
    "参数意义：  \n",
    "start：表示起始值，默认为0，可选  \n",
    "stop：表示终止值，必须指定  \n",
    "step：表示步长，默认为1，可选"
   ]
  },
  {
   "cell_type": "code",
   "execution_count": 4,
   "metadata": {
    "collapsed": false
   },
   "outputs": [
    {
     "data": {
      "text/plain": [
       "[0, 1, 2, 3, 4, 5, 6, 7, 8]"
      ]
     },
     "execution_count": 4,
     "metadata": {},
     "output_type": "execute_result"
    }
   ],
   "source": [
    "# 生成0-8，步长为1的序列，返回值为range对象\n",
    "list(range(9))"
   ]
  },
  {
   "cell_type": "code",
   "execution_count": 6,
   "metadata": {
    "collapsed": false
   },
   "outputs": [
    {
     "data": {
      "text/plain": [
       "[1, 3, 5, 7]"
      ]
     },
     "execution_count": 6,
     "metadata": {},
     "output_type": "execute_result"
    }
   ],
   "source": [
    "# 生成1-8，步长为2的序列\n",
    "list(range(1, 9, 2))"
   ]
  },
  {
   "cell_type": "markdown",
   "metadata": {
    "collapsed": true
   },
   "source": [
    "## 五、map()——映射\n",
    "**用法**：map(function, *iterable)  \n",
    "**参数**：第一个参数为函数  \n",
    "　　　第二个参数为可迭代对象，**可以为多个可迭代对象**  \n",
    "**作用**：将第二个参数可迭代对象中的每个元素作为第一个函数的参数进行元素，其中第二个参数中的可迭代对象可以是多个，当长度最短的可迭代对象迭代完成后即停止运算"
   ]
  },
  {
   "cell_type": "code",
   "execution_count": 3,
   "metadata": {
    "collapsed": false
   },
   "outputs": [
    {
     "data": {
      "text/plain": [
       "[2, 4, 6, 8]"
      ]
     },
     "execution_count": 3,
     "metadata": {},
     "output_type": "execute_result"
    }
   ],
   "source": [
    "list(map(lambda x, y : x + y, range(10), range(2, 6)))"
   ]
  },
  {
   "cell_type": "markdown",
   "metadata": {},
   "source": [
    "## 六、filter() ——过滤器\n",
    "**用法**：fitlter(function or None, iterable)，**返回值为一个可迭代对象**（可通过help(filter)查看）  \n",
    "**参数**：若**第一个参数时一个函数**，则对第二参数可迭代对象中的每个元素作为函数的参数进行计算，将返回True的值筛选出来组成一个**列表**；  \n",
    "　　　若**第一个参数时None**，则直接对第二个参数可迭代对象中每个元素进行筛选，将返回True的值筛选出来组成一个**列表**  \n",
    "　　　第二个参数是可迭代的对象  \n",
    "**作用**：将通过函数或其他方法处理过的可迭代对象中值为True的元素过滤出来生成一个新的可迭代对象。"
   ]
  },
  {
   "cell_type": "code",
   "execution_count": 4,
   "metadata": {
    "collapsed": false
   },
   "outputs": [
    {
     "data": {
      "text/plain": [
       "[1, 3, 5, 7, 9]"
      ]
     },
     "execution_count": 4,
     "metadata": {},
     "output_type": "execute_result"
    }
   ],
   "source": [
    "def odd(x):\n",
    "    return x % 2\n",
    "\n",
    "list(filter(odd, range(10)))"
   ]
  },
  {
   "cell_type": "code",
   "execution_count": 6,
   "metadata": {
    "collapsed": false
   },
   "outputs": [
    {
     "data": {
      "text/plain": [
       "[1, True]"
      ]
     },
     "execution_count": 6,
     "metadata": {},
     "output_type": "execute_result"
    }
   ],
   "source": [
    "list(filter(None, [1, 0, True, False]))"
   ]
  },
  {
   "cell_type": "code",
   "execution_count": null,
   "metadata": {
    "collapsed": true
   },
   "outputs": [],
   "source": []
  }
 ],
 "metadata": {
  "kernelspec": {
   "display_name": "Python 3",
   "language": "python",
   "name": "python3"
  },
  "language_info": {
   "codemirror_mode": {
    "name": "ipython",
    "version": 3
   },
   "file_extension": ".py",
   "mimetype": "text/x-python",
   "name": "python",
   "nbconvert_exporter": "python",
   "pygments_lexer": "ipython3",
   "version": "3.6.0"
  }
 },
 "nbformat": 4,
 "nbformat_minor": 2
}
