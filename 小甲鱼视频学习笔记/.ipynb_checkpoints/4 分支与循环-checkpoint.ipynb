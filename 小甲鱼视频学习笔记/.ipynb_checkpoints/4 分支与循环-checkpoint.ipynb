{
 "cells": [
  {
   "cell_type": "markdown",
   "metadata": {},
   "source": [
    "# 分支与循环"
   ]
  },
  {
   "cell_type": "markdown",
   "metadata": {},
   "source": [
    "## 打飞机游戏框架（伪代码）：\n",
    "\n",
    "1、加载背景音乐  \n",
    "2、播放背景音乐（设置为单曲循环）  \n",
    "3、我方飞机出现  \n",
    "\n",
    "4、interval = 0间隔    \n",
    "5、while True：\n",
    "    if 用户是否点击关闭按钮：\n",
    "      退出程序\n",
    "    \n",
    "    interval += 1\n",
    "    \n",
    "    if interval == 50: # 在该间隔内不产生小飞机\n",
    "       interval = 0  # 初始化interval\n",
    "       小飞机出现\n",
    "    小飞机移动一个位置\n",
    "    屏幕刷新\n",
    "    \n",
    "    if 用户鼠标产生移动：\n",
    "       我方飞机中心位置 = 用户鼠标位置\n",
    "       屏幕刷新\n",
    "       \n",
    "    if 我方飞机与小飞机碰撞：\n",
    "        我方飞机挂，播放撞机音乐\n",
    "        修改我方飞机图案\n",
    "        打印‘游戏结束’\n",
    "        停止背景音乐（慢慢停止）"
   ]
  },
  {
   "cell_type": "markdown",
   "metadata": {},
   "source": [
    "## Python中有效避免“悬挂else”问题"
   ]
  },
  {
   "cell_type": "markdown",
   "metadata": {},
   "source": [
    "**悬挂else**：指多层嵌套的if ... else...判断语句中，else会根据就近原则与最近的if条件相匹配，导致条件判断语句出现问题，即为悬挂else问题。\n",
    "\n",
    "在Python中规定了严格的**缩进**来表示执行某个具体功能的代码块，从而有效避免了悬挂else问题。"
   ]
  },
  {
   "cell_type": "markdown",
   "metadata": {},
   "source": [
    "## 条件表达式（三元操作符）"
   ]
  },
  {
   "cell_type": "markdown",
   "metadata": {},
   "source": [
    "**条件表达式**：x if 条件 else y，即当条件为真时，small = x；反之，small = y"
   ]
  },
  {
   "cell_type": "code",
   "execution_count": 1,
   "metadata": {
    "collapsed": true
   },
   "outputs": [],
   "source": [
    "x, y = 4 ,5\n",
    "\n",
    "if x < y:\n",
    "    small = x\n",
    "else:\n",
    "    small = y\n",
    "    \n",
    "# 条件表达式形式为：\n",
    "small = x if x < y else y"
   ]
  },
  {
   "cell_type": "markdown",
   "metadata": {},
   "source": [
    "## 关键字assert（断言）"
   ]
  },
  {
   "cell_type": "markdown",
   "metadata": {},
   "source": [
    "**关键字assent**：当该关键字后边的条件为假时，程序自动崩溃并产生AssertionError的异常；当该关键字后边的条件为真时，则pass。\n",
    "\n",
    "**用法**：可以使用该关键字在程序中置入检查点，当需要确保程序中某个条件一定为真才能让程序正常工作的话，assert关键字就很有用了。"
   ]
  },
  {
   "cell_type": "code",
   "execution_count": 2,
   "metadata": {
    "collapsed": false
   },
   "outputs": [
    {
     "ename": "AssertionError",
     "evalue": "",
     "output_type": "error",
     "traceback": [
      "\u001b[0;31m---------------------------------------------------------------------------\u001b[0m",
      "\u001b[0;31mAssertionError\u001b[0m                            Traceback (most recent call last)",
      "\u001b[0;32m<ipython-input-2-1681f3ecb966>\u001b[0m in \u001b[0;36m<module>\u001b[0;34m()\u001b[0m\n\u001b[0;32m----> 1\u001b[0;31m \u001b[1;32massert\u001b[0m \u001b[1;36m3\u001b[0m \u001b[1;33m>\u001b[0m \u001b[1;36m4\u001b[0m\u001b[1;33m\u001b[0m\u001b[0m\n\u001b[0m",
      "\u001b[0;31mAssertionError\u001b[0m: "
     ]
    }
   ],
   "source": [
    "assert 3 > 4"
   ]
  },
  {
   "cell_type": "markdown",
   "metadata": {},
   "source": [
    "## while循环"
   ]
  },
  {
   "cell_type": "markdown",
   "metadata": {},
   "source": [
    "**循环体**：即为while循环中用于循环的部分。\n",
    "\n",
    "while 条件：\n",
    "    循环体"
   ]
  },
  {
   "cell_type": "markdown",
   "metadata": {},
   "source": [
    "## for循环"
   ]
  },
  {
   "cell_type": "markdown",
   "metadata": {},
   "source": [
    "for循环语法：\n",
    "\n",
    "for <val> in 表达式：\n",
    "    循环体\n",
    "    \n",
    "val：表示每一循环或迭代的变量\n",
    "表达式：可以为列表，也可以为元组"
   ]
  },
  {
   "cell_type": "code",
   "execution_count": 6,
   "metadata": {
    "collapsed": false
   },
   "outputs": [
    {
     "name": "stdout",
     "output_type": "stream",
     "text": [
      "y t t "
     ]
    }
   ],
   "source": [
    "favorite = 'ytt'\n",
    "\n",
    "for i in favorite:\n",
    "    print(i, end = ' ')"
   ]
  },
  {
   "cell_type": "code",
   "execution_count": 10,
   "metadata": {
    "collapsed": false
   },
   "outputs": [
    {
     "name": "stdout",
     "output_type": "stream",
     "text": [
      "ab 2\n",
      "abc 3\n",
      "abcd 4\n",
      "abcde 5\n",
      "abcdef 6\n"
     ]
    }
   ],
   "source": [
    "member = ['ab', 'abc', 'abcd', 'abcde', 'abcdef']\n",
    "\n",
    "for i in member:\n",
    "    print(i, len(i)) # 分别打印列表中每个元素及其对应的长度"
   ]
  },
  {
   "cell_type": "markdown",
   "metadata": {},
   "source": [
    "## 内置函数：range()"
   ]
  },
  {
   "cell_type": "markdown",
   "metadata": {},
   "source": [
    "**Python内置函数**：range([start, ] stop[, step = 1])，方括号包含的参数为可选参数，该函数用于生产成一个[start, stop)的序列，可通过step指定步长。\n",
    "\n",
    "参数意义：  \n",
    "start：表示起始值，可选  \n",
    "stop：表示终止值，必须指定 \n",
    "step：表示步长，默认为1，可选"
   ]
  },
  {
   "cell_type": "code",
   "execution_count": 12,
   "metadata": {
    "collapsed": false
   },
   "outputs": [
    {
     "data": {
      "text/plain": [
       "(range(0, 9), [0, 1, 2, 3, 4, 5, 6, 7, 8])"
      ]
     },
     "execution_count": 12,
     "metadata": {},
     "output_type": "execute_result"
    }
   ],
   "source": [
    "range(9), list(range(9))"
   ]
  },
  {
   "cell_type": "code",
   "execution_count": 14,
   "metadata": {
    "collapsed": false
   },
   "outputs": [
    {
     "data": {
      "text/plain": [
       "range"
      ]
     },
     "execution_count": 14,
     "metadata": {},
     "output_type": "execute_result"
    }
   ],
   "source": [
    "type(range(5)) # 返回值为range对象"
   ]
  },
  {
   "cell_type": "code",
   "execution_count": 17,
   "metadata": {
    "collapsed": false
   },
   "outputs": [
    {
     "name": "stdout",
     "output_type": "stream",
     "text": [
      "0 1 2 3 4 5 6 7 8 "
     ]
    }
   ],
   "source": [
    "# 与for循环结合使用\n",
    "for i in range(9):\n",
    "    print(i, end = ' ')"
   ]
  },
  {
   "cell_type": "markdown",
   "metadata": {},
   "source": [
    "## break与continue"
   ]
  },
  {
   "cell_type": "markdown",
   "metadata": {},
   "source": [
    "**break**：终止当前循环，即跳出循环体  \n",
    "**continue**：终止本轮循环，并开始下一轮循环，但在开始下一轮循环之前会判断循环条件，若为True则进入下一轮循环；反之则跳出循环"
   ]
  },
  {
   "cell_type": "code",
   "execution_count": 1,
   "metadata": {
    "collapsed": false,
    "scrolled": true
   },
   "outputs": [
    {
     "name": "stdout",
     "output_type": "stream",
     "text": [
      "请输入最受欢迎的一句话：r\n",
      "抱歉，错了，请重新输入（答案正确才能退出）：r\n",
      "抱歉，错了，请重新输入（答案正确才能退出）：love python\n",
      "love\n"
     ]
    }
   ],
   "source": [
    "bingo = 'love python'\n",
    "answer = input('请输入最受欢迎的一句话：')\n",
    "\n",
    "while True: # 判断循环条件，若未设置退出循环条件，则将会无限循环\n",
    "    if answer == bingo:\n",
    "        break # 跳出循环体\n",
    "    answer = input('抱歉，错了，请重新输入（答案正确才能退出）：')\n",
    "print('love')"
   ]
  },
  {
   "cell_type": "code",
   "execution_count": 2,
   "metadata": {
    "collapsed": false
   },
   "outputs": [
    {
     "name": "stdout",
     "output_type": "stream",
     "text": [
      "2 4 6 8 10 "
     ]
    }
   ],
   "source": [
    "for i in range(10):\n",
    "    if i % 2 != 0: # 判断是否为奇数\n",
    "        print(i) # 打印奇数\n",
    "        continue # 终止本轮循环，判断条件是否为Ture，若为True则开始下轮循环\n",
    "    i += 2\n",
    "    print(i, end = ' ')"
   ]
  }
 ],
 "metadata": {
  "kernelspec": {
   "display_name": "Python 3",
   "language": "python",
   "name": "python3"
  },
  "language_info": {
   "codemirror_mode": {
    "name": "ipython",
    "version": 3
   },
   "file_extension": ".py",
   "mimetype": "text/x-python",
   "name": "python",
   "nbconvert_exporter": "python",
   "pygments_lexer": "ipython3",
   "version": "3.6.0"
  }
 },
 "nbformat": 4,
 "nbformat_minor": 2
}
