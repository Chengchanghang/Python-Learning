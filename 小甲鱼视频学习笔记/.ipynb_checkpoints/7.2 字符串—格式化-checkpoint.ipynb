{
 "cells": [
  {
   "cell_type": "markdown",
   "metadata": {},
   "source": [
    "# 字符串格式化"
   ]
  },
  {
   "cell_type": "markdown",
   "metadata": {
    "collapsed": true
   },
   "source": [
    "## 字符串格式化—format()方法\n",
    "### 利用format()方法格式化字符串有两种方式：  \n",
    "**位置参数**：以数字顺序表示位置参数，format中的字符串分别对应相应的位置  \n",
    "**关键字参数**：以变量来表示关键字参数，format中必须指定每个变量对应的字符串  \n",
    "### 注意\n",
    "当位置参数和关键字参数一起使用时，**位置参数必须位于关键字参数前边**"
   ]
  },
  {
   "cell_type": "code",
   "execution_count": 3,
   "metadata": {
    "collapsed": false
   },
   "outputs": [
    {
     "data": {
      "text/plain": [
       "'I am student'"
      ]
     },
     "execution_count": 3,
     "metadata": {},
     "output_type": "execute_result"
    }
   ],
   "source": [
    "# 位置参数\n",
    "'{0} am {1}'.format('I', 'student')"
   ]
  },
  {
   "cell_type": "code",
   "execution_count": 4,
   "metadata": {
    "collapsed": false
   },
   "outputs": [
    {
     "data": {
      "text/plain": [
       "'I am student'"
      ]
     },
     "execution_count": 4,
     "metadata": {},
     "output_type": "execute_result"
    }
   ],
   "source": [
    "# 关键字参数\n",
    "'{a} am {b}'.format(a = 'I', b = 'student')"
   ]
  },
  {
   "cell_type": "code",
   "execution_count": 5,
   "metadata": {
    "collapsed": false
   },
   "outputs": [
    {
     "data": {
      "text/plain": [
       "'I am student'"
      ]
     },
     "execution_count": 5,
     "metadata": {},
     "output_type": "execute_result"
    }
   ],
   "source": [
    "# 位置参数和关键字参数一起使用\n",
    "'{0} am {a}'.format('I', a = 'student')"
   ]
  },
  {
   "cell_type": "markdown",
   "metadata": {},
   "source": [
    "## 二、字符串格式化—%"
   ]
  },
  {
   "cell_type": "markdown",
   "metadata": {},
   "source": [
    "### 1、%c—格式化字符及其ASCII码\n",
    "若后边为字符串，则返回字符串本身；若后边为ASCII码，则返回对应的字符串"
   ]
  },
  {
   "cell_type": "code",
   "execution_count": 9,
   "metadata": {
    "collapsed": false
   },
   "outputs": [
    {
     "data": {
      "text/plain": [
       "('a', 'a')"
      ]
     },
     "execution_count": 9,
     "metadata": {},
     "output_type": "execute_result"
    }
   ],
   "source": [
    "'%c' % 'a', '%c' % 97 # 97为字符“a”对应的ASCII码"
   ]
  },
  {
   "cell_type": "code",
   "execution_count": 11,
   "metadata": {
    "collapsed": false
   },
   "outputs": [
    {
     "data": {
      "text/plain": [
       "'a b c'"
      ]
     },
     "execution_count": 11,
     "metadata": {},
     "output_type": "execute_result"
    }
   ],
   "source": [
    "'%c %c %c' % (97, 98, 99) # 数字均为对应的ASCII码"
   ]
  },
  {
   "cell_type": "markdown",
   "metadata": {},
   "source": [
    "### 2、%s—格式化字符串\n",
    "将后边的字符串进行格式化输出"
   ]
  },
  {
   "cell_type": "code",
   "execution_count": 12,
   "metadata": {
    "collapsed": false
   },
   "outputs": [
    {
     "data": {
      "text/plain": [
       "'I am student'"
      ]
     },
     "execution_count": 12,
     "metadata": {},
     "output_type": "execute_result"
    }
   ],
   "source": [
    "'%s' % 'I am student'"
   ]
  },
  {
   "cell_type": "markdown",
   "metadata": {},
   "source": [
    "### 3、%d、%f、%e(%E)—格式化整数、定点数(即浮点数，可指定小数点后的精度)、利用科学计数法格式化定点数(即浮点数)\n",
    "**%f**：默认格式化时保留**6位小数**  \n",
    "**%e、%E区别**：格式化定点数的时候“%e”中“e”小写，而在“%E”中大写"
   ]
  },
  {
   "cell_type": "code",
   "execution_count": 17,
   "metadata": {
    "collapsed": false
   },
   "outputs": [
    {
     "data": {
      "text/plain": [
       "'10 + 10 = 20'"
      ]
     },
     "execution_count": 17,
     "metadata": {},
     "output_type": "execute_result"
    }
   ],
   "source": [
    "'%d + %d = %d' % (10, 10, 10 + 10)"
   ]
  },
  {
   "cell_type": "code",
   "execution_count": 46,
   "metadata": {
    "collapsed": false
   },
   "outputs": [
    {
     "data": {
      "text/plain": [
       "('20.2', '20.16', '20.158000')"
      ]
     },
     "execution_count": 46,
     "metadata": {},
     "output_type": "execute_result"
    }
   ],
   "source": [
    "'%.1f' % 20.158, '%.2f' % 20.158, '%f' % 20.158"
   ]
  },
  {
   "cell_type": "code",
   "execution_count": 49,
   "metadata": {
    "collapsed": false
   },
   "outputs": [
    {
     "data": {
      "text/plain": [
       "('3.141593e+00', '1.200000e-12', '1.200000E-06')"
      ]
     },
     "execution_count": 49,
     "metadata": {},
     "output_type": "execute_result"
    }
   ],
   "source": [
    "'%e' % 3.1415926, '%e' % 0.0000000000012, '%E' % 0.0000012"
   ]
  },
  {
   "cell_type": "markdown",
   "metadata": {},
   "source": [
    "### 4、%g、%G—根据值的大小判断使用%f或%e进行格式化处理\n",
    "默认当大于等于7位数时采取科学计数法"
   ]
  },
  {
   "cell_type": "code",
   "execution_count": 60,
   "metadata": {
    "collapsed": false
   },
   "outputs": [
    {
     "data": {
      "text/plain": [
       "('100', '1e-06', '1E+06')"
      ]
     },
     "execution_count": 60,
     "metadata": {},
     "output_type": "execute_result"
    }
   ],
   "source": [
    "'%g' % 100, '%g' % 0.000001, '%G' % 1000000"
   ]
  },
  {
   "cell_type": "markdown",
   "metadata": {},
   "source": [
    "### 5、%o、%x、%X—格式化无符号八进制数、十六进制、十六进制(大写)"
   ]
  },
  {
   "cell_type": "code",
   "execution_count": 43,
   "metadata": {
    "collapsed": false
   },
   "outputs": [
    {
     "data": {
      "text/plain": [
       "('12', 'a', 'A')"
      ]
     },
     "execution_count": 43,
     "metadata": {},
     "output_type": "execute_result"
    }
   ],
   "source": [
    "'%o' % 10, '%x' % 10, '%X' % 10"
   ]
  },
  {
   "cell_type": "markdown",
   "metadata": {},
   "source": [
    "## 三、字符串格式化—辅助命令"
   ]
  },
  {
   "cell_type": "markdown",
   "metadata": {},
   "source": [
    "### 1、m.n—m表示最小总宽度，n表示小数点后位数\n",
    "**m**：表示整个字符串总长度最小为m  \n",
    "**n**：n不指定数值时，即表示0，只取整数部分"
   ]
  },
  {
   "cell_type": "code",
   "execution_count": 68,
   "metadata": {
    "collapsed": false
   },
   "outputs": [
    {
     "data": {
      "text/plain": [
       "' 2.2'"
      ]
     },
     "execution_count": 68,
     "metadata": {},
     "output_type": "execute_result"
    }
   ],
   "source": [
    "'%4.1f' % 2.158 # 表示加上2.2字符串总长度最小为4"
   ]
  },
  {
   "cell_type": "code",
   "execution_count": 70,
   "metadata": {
    "collapsed": false
   },
   "outputs": [
    {
     "data": {
      "text/plain": [
       "('2.16', '2')"
      ]
     },
     "execution_count": 70,
     "metadata": {},
     "output_type": "execute_result"
    }
   ],
   "source": [
    "'%.2f' % 2.158, '%.f' % 2.158"
   ]
  },
  {
   "cell_type": "markdown",
   "metadata": {},
   "source": [
    "### 2、左对齐“-”、居中“^”、右对齐\n",
    "**默认为右对齐**"
   ]
  },
  {
   "cell_type": "code",
   "execution_count": 88,
   "metadata": {
    "collapsed": false
   },
   "outputs": [
    {
     "data": {
      "text/plain": [
       "'5         '"
      ]
     },
     "execution_count": 88,
     "metadata": {},
     "output_type": "execute_result"
    }
   ],
   "source": [
    "'%-10d' % 5"
   ]
  },
  {
   "cell_type": "markdown",
   "metadata": {},
   "source": [
    "### 3、“+”在正数前边显示正号"
   ]
  },
  {
   "cell_type": "code",
   "execution_count": 84,
   "metadata": {
    "collapsed": false
   },
   "outputs": [
    {
     "data": {
      "text/plain": [
       "('   +5', '-5', '-5')"
      ]
     },
     "execution_count": 84,
     "metadata": {},
     "output_type": "execute_result"
    }
   ],
   "source": [
    "'%+5d' % 5, '%d' % -5, '%+d' % -5 # 负数直接在后边的值中指定负号即可"
   ]
  },
  {
   "cell_type": "markdown",
   "metadata": {},
   "source": [
    "### 4、#—在八进制数前边显示零(\"0\")，在十六进制数前边显示('0x'或'0X')"
   ]
  },
  {
   "cell_type": "code",
   "execution_count": 86,
   "metadata": {
    "collapsed": false
   },
   "outputs": [
    {
     "data": {
      "text/plain": [
       "('0o12', '0xa')"
      ]
     },
     "execution_count": 86,
     "metadata": {},
     "output_type": "execute_result"
    }
   ],
   "source": [
    "'%#o' % 10, '%#x' % 10"
   ]
  },
  {
   "cell_type": "code",
   "execution_count": 92,
   "metadata": {
    "collapsed": false
   },
   "outputs": [
    {
     "data": {
      "text/plain": [
       "'0000000005'"
      ]
     },
     "execution_count": 92,
     "metadata": {},
     "output_type": "execute_result"
    }
   ],
   "source": [
    "'%010d' % 5 # 第一个零用于空余位置使用0来填充"
   ]
  },
  {
   "cell_type": "markdown",
   "metadata": {},
   "source": [
    "## 四、字符串转义字符—“\\”"
   ]
  },
  {
   "cell_type": "markdown",
   "metadata": {},
   "source": [
    "“\\'”：单引号；　　　　　　　　“\\\"”：双引号  \n",
    "“\\a”：发出系统响铃声；  \n",
    "“\\b”：退格符；　　　　　　　　“\\n”：换行符  \n",
    "“\\t”：横向制表符（Tab）  \n",
    "“\\v”：纵向制表符  \n",
    "“\\r”：回车符；　　　　　　　　“\\f”：换页符  \n",
    "“\\o”：八进制数代表的字符  \n",
    "“\\x”：十六进制数代表的字符  \n",
    "“\\0”：表示一个空字符  \n",
    "“\\\\”：反斜杠"
   ]
  },
  {
   "cell_type": "code",
   "execution_count": 93,
   "metadata": {
    "collapsed": false
   },
   "outputs": [
    {
     "name": "stdout",
     "output_type": "stream",
     "text": [
      "' \" \\\n"
     ]
    }
   ],
   "source": [
    "print('\\'', '\\\"', '\\\\')"
   ]
  },
  {
   "cell_type": "code",
   "execution_count": 108,
   "metadata": {
    "collapsed": false
   },
   "outputs": [
    {
     "name": "stdout",
     "output_type": "stream",
     "text": [
      "abc\bde abc\n",
      "de\n"
     ]
    }
   ],
   "source": [
    "string1, string2 = 'abc\\bde', 'abc\\nde'\n",
    "print(string1, string2)"
   ]
  }
 ],
 "metadata": {
  "kernelspec": {
   "display_name": "Python 3",
   "language": "python",
   "name": "python3"
  },
  "language_info": {
   "codemirror_mode": {
    "name": "ipython",
    "version": 3
   },
   "file_extension": ".py",
   "mimetype": "text/x-python",
   "name": "python",
   "nbconvert_exporter": "python",
   "pygments_lexer": "ipython3",
   "version": "3.6.0"
  }
 },
 "nbformat": 4,
 "nbformat_minor": 2
}
