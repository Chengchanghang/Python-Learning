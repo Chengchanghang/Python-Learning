{
 "cells": [
  {
   "cell_type": "markdown",
   "metadata": {},
   "source": [
    "# 字典(其他语言中亦称哈希值、关系数组)\n",
    "字典是中每个键值对是无序的，随意排列的，因此不能够利用**索引值**来进行索引，只能够通过指定键的形式来查找对应的值"
   ]
  },
  {
   "cell_type": "code",
   "execution_count": 4,
   "metadata": {
    "collapsed": false
   },
   "outputs": [
    {
     "name": "stdout",
     "output_type": "stream",
     "text": [
      "brand中的a在lst中对应的是: aa\n"
     ]
    }
   ],
   "source": [
    "brand = ['a', 'b', 'c', 'd']\n",
    "lst = ['aa', 'bb', 'cc', 'dd']\n",
    "\n",
    "print('brand中的a在lst中对应的是:', lst[brand.index('a')])"
   ]
  },
  {
   "cell_type": "markdown",
   "metadata": {},
   "source": [
    "## 一、创建字典\n",
    "1、使用**大括号、函数dict()、直接对字典的键进行赋值**创建字典  \n",
    "3、**字典不是序列类型，而是映射类型**  \n",
    "4、字典中每个元素都是由**键和值构成的键值对(key-value)**组成，**每一个键值对称为项(item)**\n",
    "### 注意\n",
    "1、使用dict函数创建字典时元素必须构成映射关系，因为dict函数只有一个映射参数  \n",
    "2、当直接对字典的键进行赋值时，若该键本来就存在于字典中，则会修改该键对应的值；若该键原本不存在于字典中，则会在字典中添加该键值对"
   ]
  },
  {
   "cell_type": "code",
   "execution_count": 23,
   "metadata": {
    "collapsed": false
   },
   "outputs": [
    {
     "name": "stdout",
     "output_type": "stream",
     "text": [
      "a对应的是: aa\n"
     ]
    }
   ],
   "source": [
    "dic = {'a':'aa', 'b':'bb', 'c':'cc', 'd':'dd'}\n",
    "print('a对应的是:', dic['a'])"
   ]
  },
  {
   "cell_type": "code",
   "execution_count": 27,
   "metadata": {
    "collapsed": false
   },
   "outputs": [
    {
     "data": {
      "text/plain": [
       "{}"
      ]
     },
     "execution_count": 27,
     "metadata": {},
     "output_type": "execute_result"
    }
   ],
   "source": [
    "# 创建空字典\n",
    "dic1 = {}\n",
    "dic1"
   ]
  },
  {
   "cell_type": "code",
   "execution_count": 49,
   "metadata": {
    "collapsed": false
   },
   "outputs": [
    {
     "data": {
      "text/plain": [
       "({1: 'one', 2: 'two', 3: 'three'},\n",
       " {4: 'four', 5: 'five', 6: 'six'},\n",
       " {'a': 'aaaa', 'b': 'bb', 'c': 'cc', 'd': 'dd', 'e': 'ee'})"
      ]
     },
     "execution_count": 49,
     "metadata": {},
     "output_type": "execute_result"
    }
   ],
   "source": [
    "# 使用函数dict()创建字典——构成映射关系即可，dict只有一个参数\n",
    "dic2 = dict(((1, 'one'), (2, 'two'), (3, 'three'))) # 使用元组\n",
    "dic3 = dict([[4, 'four'], [5, 'five'], [6, 'six']]) # 使用列表\n",
    "dic4 = dict(a = 'aa', b = 'bb', c = 'cc', d = 'dd') # 使用关键字参数\n",
    "dic4['a'] = 'aaaa' # 通过对键赋值创建字典，键本身存在，则改变值\n",
    "dic4['e'] = 'ee'   # 键本身不存在，则创建该键值对，并增加在字典中\n",
    "dic2, dic3, dic4 "
   ]
  },
  {
   "cell_type": "markdown",
   "metadata": {},
   "source": [
    "## 二、字典的内置函数"
   ]
  },
  {
   "cell_type": "markdown",
   "metadata": {},
   "source": [
    "### 1、fromkeys()\n",
    "**作用**：创建并返回一个新的指定键、值的字典  \n",
    "**用法**：dict.fromkeys(iterable, value = None)  \n",
    "**参数**：iterable为一个可迭代的对象，用来生成字典的键  \n",
    "　　　value为键对应的值，若不指定该参数值，则默认为None；反之则为指定值  \n",
    "**注意**\n",
    "利用该方法创建的字典，**指定键对应的值都相同**，均为value参数对应的值"
   ]
  },
  {
   "cell_type": "code",
   "execution_count": 10,
   "metadata": {
    "collapsed": false
   },
   "outputs": [
    {
     "data": {
      "text/plain": [
       "{0: None, 1: None, 2: None, 3: None, 4: None}"
      ]
     },
     "execution_count": 10,
     "metadata": {},
     "output_type": "execute_result"
    }
   ],
   "source": [
    "# 不指定参数value时则键对应的值为None\n",
    "dic5 = dict()\n",
    "dic5.fromkeys(range(5))"
   ]
  },
  {
   "cell_type": "code",
   "execution_count": 11,
   "metadata": {
    "collapsed": false
   },
   "outputs": [
    {
     "data": {
      "text/plain": [
       "{0: ['zero', 'one', 'two', 'three', 'four'],\n",
       " 1: ['zero', 'one', 'two', 'three', 'four'],\n",
       " 2: ['zero', 'one', 'two', 'three', 'four'],\n",
       " 3: ['zero', 'one', 'two', 'three', 'four'],\n",
       " 4: ['zero', 'one', 'two', 'three', 'four']}"
      ]
     },
     "execution_count": 11,
     "metadata": {},
     "output_type": "execute_result"
    }
   ],
   "source": [
    "# 无论value中有几个元素，创建的字典中不同键的值都相同\n",
    "dic6 = {}\n",
    "dic6.fromkeys(range(5), ['zero', 'one', 'two', 'three', 'four'])"
   ]
  },
  {
   "cell_type": "markdown",
   "metadata": {},
   "source": [
    "# 2、keys()、values()、items()\n",
    "### 2.1 keys()\n",
    "**作用**：返回字典中的键  \n",
    "**用法**：dict.keys()\n",
    "### 2.2 values()\n",
    "**作用**：返回字典中的值  \n",
    "**用法**：dict.values()\n",
    "### 2.3 items()\n",
    "**作用**：返回字典中每个键值对  \n",
    "**用法**：dict.items()  \n",
    "**小方法**：以上三个内置方法常与for循环连用"
   ]
  },
  {
   "cell_type": "code",
   "execution_count": 13,
   "metadata": {
    "collapsed": false
   },
   "outputs": [
    {
     "data": {
      "text/plain": [
       "(dict_keys([1, 2, 3]),\n",
       " dict_values(['one', 'two', 'three']),\n",
       " dict_items([(1, 'one'), (2, 'two'), (3, 'three')]))"
      ]
     },
     "execution_count": 13,
     "metadata": {},
     "output_type": "execute_result"
    }
   ],
   "source": [
    "dic6 = {1:'one', 2:'two', 3:'three'}\n",
    "dic6.keys(), dic6.values(), dic6.items()"
   ]
  },
  {
   "cell_type": "markdown",
   "metadata": {},
   "source": [
    "### 3、get()、setdefault()\n",
    "### 3.1 get()\n",
    "**作用**：在通过字典中的键查找对应的值时，若指定键在字典中，则返回对应的值；若指定键不在字典中则会报错(KeyError)，为避免错误可通过“.get()”方法返回None而不报错中断程序执行  \n",
    "**用法**：dict.get(k[, d])  \n",
    "**参数**：k表示指定要查找的键  \n",
    "　　　d表示当指定键不在字典中时，则返回d，默认d为None，可选\n",
    "### 3.2 setdefault()\n",
    "**作用**：通过指定的键在字典中查找该键对应的值，若该键在字典中，则返回对应的值；反之，则利用指定参数对该键进行赋值，将其添加到字典中  \n",
    "**用法**：dict.setdefault(k[, d])  \n",
    "**参数**：k表示指定在字典中查找的键  \n",
    "　　　d表示当指定键不在字典中时，则利用d对键进行赋值并添加到字典中,d默认为None，可选"
   ]
  },
  {
   "cell_type": "code",
   "execution_count": 17,
   "metadata": {
    "collapsed": false
   },
   "outputs": [
    {
     "ename": "KeyError",
     "evalue": "4",
     "output_type": "error",
     "traceback": [
      "\u001b[0;31m---------------------------------------------------------------------------\u001b[0m",
      "\u001b[0;31mKeyError\u001b[0m                                  Traceback (most recent call last)",
      "\u001b[0;32m<ipython-input-17-988987992bb3>\u001b[0m in \u001b[0;36m<module>\u001b[0;34m()\u001b[0m\n\u001b[0;32m----> 1\u001b[0;31m \u001b[0mdic6\u001b[0m\u001b[1;33m[\u001b[0m\u001b[1;36m4\u001b[0m\u001b[1;33m]\u001b[0m\u001b[1;33m\u001b[0m\u001b[0m\n\u001b[0m",
      "\u001b[0;31mKeyError\u001b[0m: 4"
     ]
    }
   ],
   "source": [
    "# 当字典中没有指定的键时，即会出现错误：KeyError\n",
    "dic6[4]"
   ]
  },
  {
   "cell_type": "code",
   "execution_count": 22,
   "metadata": {
    "collapsed": false
   },
   "outputs": [
    {
     "name": "stdout",
     "output_type": "stream",
     "text": [
      "None\n",
      "该键不在dic6字典中\n"
     ]
    },
    {
     "data": {
      "text/plain": [
       "(None, None, None)"
      ]
     },
     "execution_count": 22,
     "metadata": {},
     "output_type": "execute_result"
    }
   ],
   "source": [
    "# 对于查找字典中不存在的键报错问题——可通过get方法避免此类错误\n",
    "dic6.get(4), print(dic6.get(4)), print(dic6.get(4, '该键不在dic6字典中'))"
   ]
  },
  {
   "cell_type": "code",
   "execution_count": 75,
   "metadata": {
    "collapsed": false
   },
   "outputs": [
    {
     "data": {
      "text/plain": [
       "{1: 'one', 2: 'two', 3: 'three', 4: None, 6: 5}"
      ]
     },
     "execution_count": 75,
     "metadata": {},
     "output_type": "execute_result"
    }
   ],
   "source": [
    "# 指定键不在字典中时\n",
    "dic6.setdefault(4) # 不指定参数，则自动为该键赋值为None\n",
    "dic6.setdefault(6, 5) # 指定参数时，则将指定参数作为键对应的值\n",
    "dic6"
   ]
  },
  {
   "cell_type": "markdown",
   "metadata": {},
   "source": [
    "## 4、clear()\n",
    "**作用**：用来清空字典，得到一个空字典  \n",
    "**用法**：dict.clear()"
   ]
  },
  {
   "cell_type": "code",
   "execution_count": 27,
   "metadata": {
    "collapsed": false
   },
   "outputs": [
    {
     "data": {
      "text/plain": [
       "{0: '好', 1: '好', 2: '好'}"
      ]
     },
     "execution_count": 27,
     "metadata": {},
     "output_type": "execute_result"
    }
   ],
   "source": [
    "dic7 = {}\n",
    "dic7.fromkeys(range(3), '好')"
   ]
  },
  {
   "cell_type": "code",
   "execution_count": 30,
   "metadata": {
    "collapsed": false
   },
   "outputs": [
    {
     "data": {
      "text/plain": [
       "{}"
      ]
     },
     "execution_count": 30,
     "metadata": {},
     "output_type": "execute_result"
    }
   ],
   "source": [
    "dic7.clear()\n",
    "dic7"
   ]
  },
  {
   "cell_type": "markdown",
   "metadata": {},
   "source": [
    "## 5、copy()——浅拷贝\n",
    "**作用**：将字典进行复制  \n",
    "**用法**：dict.copy()"
   ]
  },
  {
   "cell_type": "code",
   "execution_count": 32,
   "metadata": {
    "collapsed": false
   },
   "outputs": [
    {
     "data": {
      "text/plain": [
       "({'a': 1, 'b': 2, 'c': 3}, False)"
      ]
     },
     "execution_count": 32,
     "metadata": {},
     "output_type": "execute_result"
    }
   ],
   "source": [
    "dic8 = {'a':1, 'b':2, 'c':3}\n",
    "dic9 = dic8.copy()\n",
    "dic9, id(dic8) == id(dic9)"
   ]
  },
  {
   "cell_type": "markdown",
   "metadata": {},
   "source": [
    "## 6、pop()、popitem()\n",
    "### 6.1 pop()\n",
    "**作用**：移除指定的键，并返回该键对应的值  \n",
    "**用法**：dict.pop(k[, d])  \n",
    "**参数**：k表示指定要从字典中移除的键  \n",
    "　　　d表示当指定要移除的键不在字典中时，则返回d；否则将会出现错误：KeyError\n",
    "### 6.2 popitem()\n",
    "**作用**：随机移除字典中某个键值对，并返回该键值对  \n",
    "**用法**：dict.popitem()"
   ]
  },
  {
   "cell_type": "code",
   "execution_count": 62,
   "metadata": {
    "collapsed": false
   },
   "outputs": [
    {
     "ename": "KeyError",
     "evalue": "4",
     "output_type": "error",
     "traceback": [
      "\u001b[0;31m---------------------------------------------------------------------------\u001b[0m",
      "\u001b[0;31mKeyError\u001b[0m                                  Traceback (most recent call last)",
      "\u001b[0;32m<ipython-input-62-84886e870559>\u001b[0m in \u001b[0;36m<module>\u001b[0;34m()\u001b[0m\n\u001b[1;32m      1\u001b[0m \u001b[1;31m# 指定要移除的键不在字典中时，则出现错误KeyError\u001b[0m\u001b[1;33m\u001b[0m\u001b[1;33m\u001b[0m\u001b[0m\n\u001b[1;32m      2\u001b[0m \u001b[0mdic10\u001b[0m \u001b[1;33m=\u001b[0m \u001b[1;33m{\u001b[0m\u001b[1;36m1\u001b[0m\u001b[1;33m:\u001b[0m\u001b[1;36m10\u001b[0m\u001b[1;33m,\u001b[0m \u001b[1;36m2\u001b[0m\u001b[1;33m:\u001b[0m\u001b[1;36m11\u001b[0m\u001b[1;33m,\u001b[0m \u001b[1;36m3\u001b[0m\u001b[1;33m:\u001b[0m\u001b[1;36m12\u001b[0m\u001b[1;33m}\u001b[0m\u001b[1;33m\u001b[0m\u001b[0m\n\u001b[0;32m----> 3\u001b[0;31m \u001b[0mdic10\u001b[0m\u001b[1;33m.\u001b[0m\u001b[0mpop\u001b[0m\u001b[1;33m(\u001b[0m\u001b[1;36m4\u001b[0m\u001b[1;33m)\u001b[0m\u001b[1;33m\u001b[0m\u001b[0m\n\u001b[0m",
      "\u001b[0;31mKeyError\u001b[0m: 4"
     ]
    }
   ],
   "source": [
    "# 指定要移除的键不在字典中时，则出现错误KeyError\n",
    "dic10 = {1:10, 2:11, 3:12}\n",
    "dic10.pop(4)"
   ]
  },
  {
   "cell_type": "code",
   "execution_count": 63,
   "metadata": {
    "collapsed": false
   },
   "outputs": [
    {
     "data": {
      "text/plain": [
       "(10, '该键不在字典中', {2: 11, 3: 12})"
      ]
     },
     "execution_count": 63,
     "metadata": {},
     "output_type": "execute_result"
    }
   ],
   "source": [
    "# 指定的键在字典中时，则移除该键并返回对应的值；若不在字典中，则返回指定参数\n",
    "dic10.pop(1), dic10.pop(4, '该键不在字典中'), dic10"
   ]
  },
  {
   "cell_type": "code",
   "execution_count": 64,
   "metadata": {
    "collapsed": false
   },
   "outputs": [
    {
     "data": {
      "text/plain": [
       "(3, 12)"
      ]
     },
     "execution_count": 64,
     "metadata": {},
     "output_type": "execute_result"
    }
   ],
   "source": [
    "# 移除字典中（3， 12）键值对\n",
    "dic10.popitem()"
   ]
  },
  {
   "cell_type": "code",
   "execution_count": 65,
   "metadata": {
    "collapsed": false
   },
   "outputs": [
    {
     "data": {
      "text/plain": [
       "{2: 11}"
      ]
     },
     "execution_count": 65,
     "metadata": {},
     "output_type": "execute_result"
    }
   ],
   "source": [
    "dic10"
   ]
  },
  {
   "cell_type": "markdown",
   "metadata": {},
   "source": [
    "## 7、update()\n",
    "**作用**：利用字典或映射关系来更新另外一个字典  \n",
    "**用法**：dict.update([E,]**F)  **  \n",
    "**参数**：E、F可以为字典或可迭代对象"
   ]
  },
  {
   "cell_type": "code",
   "execution_count": 81,
   "metadata": {
    "collapsed": false
   },
   "outputs": [
    {
     "data": {
      "text/plain": [
       "{1: '语文', 2: 2, 3: 3}"
      ]
     },
     "execution_count": 81,
     "metadata": {},
     "output_type": "execute_result"
    }
   ],
   "source": [
    "dic11 = {1:1, 2:2, 3:3}\n",
    "dic12 = {1:'语文'}\n",
    "dic11.update(dic12)\n",
    "dic11"
   ]
  },
  {
   "cell_type": "markdown",
   "metadata": {},
   "source": [
    "## 三、常用操作符"
   ]
  },
  {
   "cell_type": "markdown",
   "metadata": {},
   "source": [
    "### 1、成员关系操作符in、not in\n",
    "**使用成员关系操作符只能检查字典中的键是否在字典中，而不能检查值**"
   ]
  },
  {
   "cell_type": "code",
   "execution_count": 82,
   "metadata": {
    "collapsed": false
   },
   "outputs": [
    {
     "data": {
      "text/plain": [
       "(True, False)"
      ]
     },
     "execution_count": 82,
     "metadata": {},
     "output_type": "execute_result"
    }
   ],
   "source": [
    "dic13 = {'a':'aa', 'b':'bb', 'c':'cc'}\n",
    "'c' in dic13, 'b' not in dic13"
   ]
  }
 ],
 "metadata": {
  "kernelspec": {
   "display_name": "Python 3",
   "language": "python",
   "name": "python3"
  },
  "language_info": {
   "codemirror_mode": {
    "name": "ipython",
    "version": 3
   },
   "file_extension": ".py",
   "mimetype": "text/x-python",
   "name": "python",
   "nbconvert_exporter": "python",
   "pygments_lexer": "ipython3",
   "version": "3.6.0"
  }
 },
 "nbformat": 4,
 "nbformat_minor": 2
}
