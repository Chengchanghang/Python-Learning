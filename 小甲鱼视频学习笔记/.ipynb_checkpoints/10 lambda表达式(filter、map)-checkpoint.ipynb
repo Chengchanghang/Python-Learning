{
 "cells": [
  {
   "cell_type": "markdown",
   "metadata": {},
   "source": [
    "# lambda表达式\n",
    "**lambda表达式**：通过lambda关键字创建一个简洁的函数  \n",
    "**lambda函数语法**：lambda arg: 函数体(包含参数arg)  \n",
    "**当lambda函数执行完成后，系统就会自动将其清理**"
   ]
  },
  {
   "cell_type": "code",
   "execution_count": 7,
   "metadata": {
    "collapsed": false
   },
   "outputs": [
    {
     "data": {
      "text/plain": [
       "(11, 11, <function __main__.<lambda>>, <function __main__.func>)"
      ]
     },
     "execution_count": 7,
     "metadata": {},
     "output_type": "execute_result"
    }
   ],
   "source": [
    "# 单个参数情形\n",
    "def func(x):\n",
    "    return 2 * x + 1\n",
    "\n",
    "lamb_func = lambda x : 2 * x + 1 \n",
    "func(5), lamb_func(5), lamb_func, func"
   ]
  },
  {
   "cell_type": "code",
   "execution_count": 9,
   "metadata": {
    "collapsed": false
   },
   "outputs": [
    {
     "data": {
      "text/plain": [
       "3"
      ]
     },
     "execution_count": 9,
     "metadata": {},
     "output_type": "execute_result"
    }
   ],
   "source": [
    "# 两个参数情形\n",
    "lamb_func1 = lambda x, y : x + y\n",
    "lamb_func1(1, 2)"
   ]
  },
  {
   "cell_type": "markdown",
   "metadata": {},
   "source": [
    "## lambda表达式的作用\n",
    "1、Python在执行某些脚本时，通过lambda表达式可以省略定义函数的过程。  \n",
    "2、对于抽象或者在整个程序执行过程只需要调用少数次且起名困难的函数，使用lambda相对简洁且无需考虑起名问题。  \n",
    "3、简化代码可读性，使用lambda函数可省略每次阅读函数均需从函数开头def处起来查看的问题"
   ]
  },
  {
   "cell_type": "markdown",
   "metadata": {},
   "source": [
    "## filter() ——过滤器\n",
    "**用法**：fitlter(function or None, iterable)，**返回值为一个可迭代对象**（可通过help(filter)查看）  \n",
    "**参数**：若**第一个参数时一个函数**，则对第二参数可迭代对象中的每个元素作为函数的参数进行计算，将返回True的值筛选出来组成一个**列表**；  \n",
    "　　　若**第一个参数时None**，则直接对第二个参数可迭代对象中每个元素进行筛选，将返回True的值筛选出来组成一个**列表**  \n",
    "　　　第二个参数是可迭代的对象  \n",
    "**作用**：将通过函数或其他方法处理过的可迭代对象中值为True的元素过滤出来生成一个新的可迭代对象。"
   ]
  },
  {
   "cell_type": "code",
   "execution_count": 8,
   "metadata": {
    "collapsed": false
   },
   "outputs": [
    {
     "data": {
      "text/plain": [
       "[1, True]"
      ]
     },
     "execution_count": 8,
     "metadata": {},
     "output_type": "execute_result"
    }
   ],
   "source": [
    "# 将值为True的元素过滤出来\n",
    "list(filter(None, [1, 0, True, False]))"
   ]
  },
  {
   "cell_type": "code",
   "execution_count": 32,
   "metadata": {
    "collapsed": false
   },
   "outputs": [
    {
     "data": {
      "text/plain": [
       "[1, 3, 5]"
      ]
     },
     "execution_count": 32,
     "metadata": {},
     "output_type": "execute_result"
    }
   ],
   "source": [
    "# 利用filter筛选奇数——第一个参数为一个函数\n",
    "def odd(x):\n",
    "    return x % 2\n",
    "\n",
    "list(filter(odd, range(6)))"
   ]
  },
  {
   "cell_type": "code",
   "execution_count": 24,
   "metadata": {
    "collapsed": false
   },
   "outputs": [
    {
     "data": {
      "text/plain": [
       "[1, 3, 5]"
      ]
     },
     "execution_count": 24,
     "metadata": {},
     "output_type": "execute_result"
    }
   ],
   "source": [
    "# lambda表达式简化\n",
    "list(filter(lambda x : x % 2, range(6)))"
   ]
  },
  {
   "cell_type": "markdown",
   "metadata": {},
   "source": [
    "## map()——映射\n",
    "**用法**：map(function, *iterable)  \n",
    "**参数**：第一个参数为函数  \n",
    "　　　第二个参数为可迭代对象，**可以为多个可迭代对象**  \n",
    "**作用**：将第二个参数可迭代对象中的每个元素作为第一个函数的参数进行元素，其中第二个参数中的可迭代对象可以是多个，当长度最短的可迭代对象迭代完成后即停止运算"
   ]
  },
  {
   "cell_type": "code",
   "execution_count": 39,
   "metadata": {
    "collapsed": false
   },
   "outputs": [
    {
     "data": {
      "text/plain": [
       "[0, 2, 4, 6, 8]"
      ]
     },
     "execution_count": 39,
     "metadata": {},
     "output_type": "execute_result"
    }
   ],
   "source": [
    "lst1, lst2 = range(5), range(10)\n",
    "list(map(lambda x, y : x + y, lst1, lst2))"
   ]
  }
 ],
 "metadata": {
  "kernelspec": {
   "display_name": "Python 3",
   "language": "python",
   "name": "python3"
  },
  "language_info": {
   "codemirror_mode": {
    "name": "ipython",
    "version": 3
   },
   "file_extension": ".py",
   "mimetype": "text/x-python",
   "name": "python",
   "nbconvert_exporter": "python",
   "pygments_lexer": "ipython3",
   "version": "3.6.0"
  }
 },
 "nbformat": 4,
 "nbformat_minor": 2
}
