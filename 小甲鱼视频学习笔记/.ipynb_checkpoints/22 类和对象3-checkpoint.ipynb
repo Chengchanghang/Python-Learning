{
 "cells": [
  {
   "cell_type": "markdown",
   "metadata": {},
   "source": [
    "# 类和对象"
   ]
  },
  {
   "cell_type": "markdown",
   "metadata": {},
   "source": [
    "## 一、继承\n",
    "**语法**：class 类名1(类名2)：...，其中：类名1为子类，类名2为基类、父类或超类，子类用于继承父类的任何属性和方法。  \n",
    "**注意**：1、定义类时，若该类为父类，则“class 类名：”**类名后边不加括号**；若该类为子类，则“class 子类名（父类名）”**类名后边括号内为父类名**  \n",
    "　　　2、当子类中定义与父类同名的方法或属性时，则**子类的实例化对象会自动覆盖父类对应的方法或属性，但父类的实例化对象并不改变**"
   ]
  },
  {
   "cell_type": "code",
   "execution_count": 10,
   "metadata": {
    "collapsed": false
   },
   "outputs": [
    {
     "name": "stdout",
     "output_type": "stream",
     "text": [
      "正在调用父类中的方法...\n",
      "正在调用父类中的方法...\n"
     ]
    },
    {
     "data": {
      "text/plain": [
       "(None, '正在调用父类中的属性...', None, '正在调用父类中的属性...')"
      ]
     },
     "execution_count": 10,
     "metadata": {},
     "output_type": "execute_result"
    }
   ],
   "source": [
    "class Parent:\n",
    "    parent = '正在调用父类中的属性...'\n",
    "    \n",
    "    def hello(self):\n",
    "        print('正在调用父类中的方法...')\n",
    "\n",
    "class Child(Parent):\n",
    "    pass\n",
    "\n",
    "p, q = Parent(), Child() # 对象实例化\n",
    "p.hello(), p.parent, q.hello(), q.parent # 子类Child继承了父类Parent的所有方法和属性"
   ]
  },
  {
   "cell_type": "code",
   "execution_count": 14,
   "metadata": {
    "collapsed": false
   },
   "outputs": [
    {
     "name": "stdout",
     "output_type": "stream",
     "text": [
      "正在调用子类中方法...\n",
      "正在调用父类中的方法...\n"
     ]
    },
    {
     "data": {
      "text/plain": [
       "(None, '正在调用子类中的属性...', None, '正在调用父类中的属性...')"
      ]
     },
     "execution_count": 14,
     "metadata": {},
     "output_type": "execute_result"
    }
   ],
   "source": [
    "class Child(Parent):\n",
    "    parent = '正在调用子类中的属性...'\n",
    "    \n",
    "    def hello(self):\n",
    "        print('正在调用子类中方法...')\n",
    "        \n",
    "a = Child()\n",
    "a.hello(), a.parent, p.hello(), p.parent # 子类中属性、方法与父类相同时，子类实例化对象会覆盖父类中的方法和属性，但父类无变化"
   ]
  },
  {
   "cell_type": "markdown",
   "metadata": {},
   "source": [
    "## 案例"
   ]
  },
  {
   "cell_type": "code",
   "execution_count": 26,
   "metadata": {
    "collapsed": false
   },
   "outputs": [
    {
     "name": "stdout",
     "output_type": "stream",
     "text": [
      "我的位置是： 5 0\n"
     ]
    }
   ],
   "source": [
    "import random\n",
    "\n",
    "class Fish:\n",
    "    def __init__(self):\n",
    "        self.x = random.randint(0, 10)\n",
    "        self.y = random.randint(0, 10)\n",
    "    \n",
    "    def move(self):\n",
    "        self.x -= 1\n",
    "        print('我的位置是：', self.x, self.y)\n",
    "        \n",
    "class Goldfish(Fish):\n",
    "    pass\n",
    "\n",
    "class Carp(Fish):\n",
    "    pass\n",
    "\n",
    "class Salmon(Fish):\n",
    "    pass\n",
    "\n",
    "class Shark(Fish):\n",
    "    def __init__(self): # 子类与父类中中方法相同，覆盖了父类的方法\n",
    "        self.hungry = True\n",
    "        \n",
    "    def eat(self):\n",
    "        if self.hungry:\n",
    "            print('吃吃吃...')\n",
    "            self.hungry = False\n",
    "        else:\n",
    "            print('吃饱了！')\n",
    "            \n",
    "fish = Fish()\n",
    "fish.move()"
   ]
  },
  {
   "cell_type": "code",
   "execution_count": 27,
   "metadata": {
    "collapsed": false
   },
   "outputs": [
    {
     "name": "stdout",
     "output_type": "stream",
     "text": [
      "我的位置是： 4 0\n"
     ]
    }
   ],
   "source": [
    "fish.move()"
   ]
  },
  {
   "cell_type": "code",
   "execution_count": 28,
   "metadata": {
    "collapsed": false
   },
   "outputs": [
    {
     "name": "stdout",
     "output_type": "stream",
     "text": [
      "我的位置是： 2 9\n"
     ]
    }
   ],
   "source": [
    "goldfish = Goldfish()\n",
    "goldfish.move()"
   ]
  },
  {
   "cell_type": "code",
   "execution_count": 29,
   "metadata": {
    "collapsed": false
   },
   "outputs": [
    {
     "name": "stdout",
     "output_type": "stream",
     "text": [
      "我的位置是： 1 9\n"
     ]
    }
   ],
   "source": [
    "goldfish.move()"
   ]
  },
  {
   "cell_type": "code",
   "execution_count": 30,
   "metadata": {
    "collapsed": false
   },
   "outputs": [
    {
     "name": "stdout",
     "output_type": "stream",
     "text": [
      "吃吃吃...\n"
     ]
    }
   ],
   "source": [
    "shark = Shark()\n",
    "shark.eat()"
   ]
  },
  {
   "cell_type": "code",
   "execution_count": 31,
   "metadata": {
    "collapsed": false
   },
   "outputs": [
    {
     "name": "stdout",
     "output_type": "stream",
     "text": [
      "吃饱了！\n"
     ]
    }
   ],
   "source": [
    "shark.eat()"
   ]
  },
  {
   "cell_type": "code",
   "execution_count": 32,
   "metadata": {
    "collapsed": false
   },
   "outputs": [
    {
     "ename": "AttributeError",
     "evalue": "'Shark' object has no attribute 'x'",
     "output_type": "error",
     "traceback": [
      "\u001b[0;31m---------------------------------------------------------------------------\u001b[0m",
      "\u001b[0;31mAttributeError\u001b[0m                            Traceback (most recent call last)",
      "\u001b[0;32m<ipython-input-32-0e5f957a0e1a>\u001b[0m in \u001b[0;36m<module>\u001b[0;34m()\u001b[0m\n\u001b[0;32m----> 1\u001b[0;31m \u001b[0mshark\u001b[0m\u001b[1;33m.\u001b[0m\u001b[0mmove\u001b[0m\u001b[1;33m(\u001b[0m\u001b[1;33m)\u001b[0m\u001b[1;33m\u001b[0m\u001b[0m\n\u001b[0m",
      "\u001b[0;32m<ipython-input-26-8937904ccbc7>\u001b[0m in \u001b[0;36mmove\u001b[0;34m(self)\u001b[0m\n\u001b[1;32m      7\u001b[0m \u001b[1;33m\u001b[0m\u001b[0m\n\u001b[1;32m      8\u001b[0m     \u001b[1;32mdef\u001b[0m \u001b[0mmove\u001b[0m\u001b[1;33m(\u001b[0m\u001b[0mself\u001b[0m\u001b[1;33m)\u001b[0m\u001b[1;33m:\u001b[0m\u001b[1;33m\u001b[0m\u001b[0m\n\u001b[0;32m----> 9\u001b[0;31m         \u001b[0mself\u001b[0m\u001b[1;33m.\u001b[0m\u001b[0mx\u001b[0m \u001b[1;33m-=\u001b[0m \u001b[1;36m1\u001b[0m\u001b[1;33m\u001b[0m\u001b[0m\n\u001b[0m\u001b[1;32m     10\u001b[0m         \u001b[0mprint\u001b[0m\u001b[1;33m(\u001b[0m\u001b[1;34m'我的位置是：'\u001b[0m\u001b[1;33m,\u001b[0m \u001b[0mself\u001b[0m\u001b[1;33m.\u001b[0m\u001b[0mx\u001b[0m\u001b[1;33m,\u001b[0m \u001b[0mself\u001b[0m\u001b[1;33m.\u001b[0m\u001b[0my\u001b[0m\u001b[1;33m)\u001b[0m\u001b[1;33m\u001b[0m\u001b[0m\n\u001b[1;32m     11\u001b[0m \u001b[1;33m\u001b[0m\u001b[0m\n",
      "\u001b[0;31mAttributeError\u001b[0m: 'Shark' object has no attribute 'x'"
     ]
    }
   ],
   "source": [
    "shark.move()"
   ]
  },
  {
   "cell_type": "markdown",
   "metadata": {},
   "source": [
    "## 二、子类与父类定义的方法或属性相同时，避免覆盖父类中方法或属性的方式\n",
    "1、**调用未绑定的父类方法**：如下例中在Shark类中加入父类以及对应方法“$Fish.__init__(self)$”，其中此处的self表示子类实例化对象shark，即调用未绑定父类的方法，还可写为：$Fish.__init__(shark), shark.move()$，无需插入之前的语句  \n",
    "2、**使用super函数**：使用super方法可以无需指定任何基类（即父类）的名称，若要修改继承的父类仅需修改子类后边括号内父类名称即可"
   ]
  },
  {
   "cell_type": "code",
   "execution_count": 34,
   "metadata": {
    "collapsed": false
   },
   "outputs": [
    {
     "name": "stdout",
     "output_type": "stream",
     "text": [
      "我的位置是： 6 2\n"
     ]
    }
   ],
   "source": [
    "# 调用未绑定父类的方法\n",
    "import random\n",
    "\n",
    "class Fish:\n",
    "    def __init__(self):\n",
    "        self.x = random.randint(0, 10)\n",
    "        self.y = random.randint(0, 10)\n",
    "        \n",
    "    def move(self):\n",
    "        self.x -= 1\n",
    "        print('我的位置是：', self.x, self.y)\n",
    "        \n",
    "class Golffish(Fish):\n",
    "    pass\n",
    "\n",
    "class Carp(Fish):\n",
    "    pass\n",
    "\n",
    "class Salmon(Fish):\n",
    "    pass\n",
    "\n",
    "class Shark(Fish):\n",
    "    def __init__(self):\n",
    "        Fish.__init__(self) # 此处self为子类实例化对象的名称shark\n",
    "        self.hungry = True\n",
    "        \n",
    "    def eat(self):\n",
    "        if self.hungry:\n",
    "            print('吃吃吃...')\n",
    "            self.hungry = False\n",
    "        else:\n",
    "            print('吃饱了！')\n",
    "            \n",
    "fish = Fish()\n",
    "shark = Shark()\n",
    "shark.move() # 等价于Fish.__init__(shark), shark.move()"
   ]
  },
  {
   "cell_type": "code",
   "execution_count": 35,
   "metadata": {
    "collapsed": false
   },
   "outputs": [
    {
     "name": "stdout",
     "output_type": "stream",
     "text": [
      "我的位置是： 8 1\n"
     ]
    }
   ],
   "source": [
    "# 使用super方法\n",
    "import random\n",
    "\n",
    "class Fish:\n",
    "    def __init__(self):\n",
    "        self.x = random.randint(0, 10)\n",
    "        self.y = random.randint(0, 10)\n",
    "        \n",
    "    def move(self):\n",
    "        self.x -= 1\n",
    "        print('我的位置是：', self.x, self.y)\n",
    "        \n",
    "class Goldfish(Fish):\n",
    "    pass\n",
    "\n",
    "class Carp(Fish):\n",
    "    pass\n",
    "\n",
    "class Salmon(Fish):\n",
    "    pass\n",
    "\n",
    "class Shark(Fish):\n",
    "    def __init__(self):\n",
    "        super().__init__()\n",
    "        self.hungry = True\n",
    "        \n",
    "    def eat(self):\n",
    "        if self.hungry:\n",
    "            print('吃吃吃....')\n",
    "            self.hungry = False\n",
    "        else:\n",
    "            print('吃饱了！')\n",
    "            \n",
    "shark = Shark()\n",
    "shark.move()"
   ]
  },
  {
   "cell_type": "markdown",
   "metadata": {},
   "source": [
    "## 三、多重继承\n",
    "**语法**：class 子类(父类1, 父类2, 父类3, ...)： ...，在子类后边括号内将需要继承的多个父类的名称依次写入即可  \n",
    "**含义**：子类将继承多个父类的方法和属性  \n",
    "**注意**：使用多继承方法容易导致代码混乱，不是必须使用时尽量避免使用多继承方法"
   ]
  },
  {
   "cell_type": "code",
   "execution_count": 36,
   "metadata": {
    "collapsed": false
   },
   "outputs": [
    {
     "name": "stdout",
     "output_type": "stream",
     "text": [
      "我是Base1中的方法func1\n",
      "我是Base2中的方法func2\n",
      "我是Base3中的方法func3\n"
     ]
    },
    {
     "data": {
      "text/plain": [
       "(None, None, None)"
      ]
     },
     "execution_count": 36,
     "metadata": {},
     "output_type": "execute_result"
    }
   ],
   "source": [
    "class Base1:\n",
    "    def func1(self):\n",
    "        print('我是Base1中的方法func1')\n",
    "        \n",
    "class Base2:\n",
    "    def func2(self):\n",
    "        print('我是Base2中的方法func2')\n",
    "        \n",
    "class Base3:\n",
    "    def func3(self):\n",
    "        print('我是Base3中的方法func3')\n",
    "        \n",
    "class Sub_base(Base1, Base2, Base3):\n",
    "    pass\n",
    "\n",
    "sub_base = Sub_base()\n",
    "sub_base.func1(), sub_base.func2(), sub_base.func3()"
   ]
  }
 ],
 "metadata": {
  "kernelspec": {
   "display_name": "Python 3",
   "language": "python",
   "name": "python3"
  },
  "language_info": {
   "codemirror_mode": {
    "name": "ipython",
    "version": 3
   },
   "file_extension": ".py",
   "mimetype": "text/x-python",
   "name": "python",
   "nbconvert_exporter": "python",
   "pygments_lexer": "ipython3",
   "version": "3.6.0"
  }
 },
 "nbformat": 4,
 "nbformat_minor": 2
}
