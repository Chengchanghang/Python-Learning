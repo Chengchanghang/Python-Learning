{
 "cells": [
  {
   "cell_type": "markdown",
   "metadata": {},
   "source": [
    "# 序列"
   ]
  },
  {
   "cell_type": "markdown",
   "metadata": {},
   "source": [
    "## 一、列表、元组和字符串的共同点\n",
    "1、都可以通过索引得到每一个元素  \n",
    "2、默认索引均从0开始(从左到右，若从右到左看，则索引从-1开始)  \n",
    "3、可以通过切片方法得到某个范围内的元素的集合  \n",
    "4、有多个共同的操作符(重复操作符*、拼接操作符+、成员关系操作符in和not in)"
   ]
  },
  {
   "cell_type": "markdown",
   "metadata": {},
   "source": [
    "## 二、序列的常用内置方法"
   ]
  },
  {
   "cell_type": "markdown",
   "metadata": {},
   "source": [
    "### 1、list()—把一个可迭代的对象转换为列表\n",
    "若无参数，则生成空列表  \n",
    "若有参数且该参数必须是可迭代对象，则将可迭代对象转换为列表"
   ]
  },
  {
   "cell_type": "code",
   "execution_count": 4,
   "metadata": {
    "collapsed": false
   },
   "outputs": [
    {
     "data": {
      "text/plain": [
       "[]"
      ]
     },
     "execution_count": 4,
     "metadata": {},
     "output_type": "execute_result"
    }
   ],
   "source": [
    "lst = list()\n",
    "lst "
   ]
  },
  {
   "cell_type": "code",
   "execution_count": 6,
   "metadata": {
    "collapsed": false
   },
   "outputs": [
    {
     "data": {
      "text/plain": [
       "['a', 'b', 'c', 'd', 'e', 'f']"
      ]
     },
     "execution_count": 6,
     "metadata": {},
     "output_type": "execute_result"
    }
   ],
   "source": [
    "string = 'abcdef'\n",
    "list(string) # 将可迭代的字符串转换为由字符串中各个字符构成的列表"
   ]
  },
  {
   "cell_type": "code",
   "execution_count": 8,
   "metadata": {
    "collapsed": false
   },
   "outputs": [
    {
     "data": {
      "text/plain": [
       "[1, 1, 2, 3, 5, 8, 13, 21, 34]"
      ]
     },
     "execution_count": 8,
     "metadata": {},
     "output_type": "execute_result"
    }
   ],
   "source": [
    "tup = (1, 1, 2, 3, 5, 8, 13, 21, 34) # 斐波那契数列\n",
    "list(tup) # 将可迭代的元组转换为列表"
   ]
  },
  {
   "cell_type": "markdown",
   "metadata": {},
   "source": [
    "### 2、tuple()—将一个可迭代对象转换为元组\n",
    "若无参数，则生成一个空元组  \n",
    "若有参数且该参数必须是可迭代对象，则将可迭代对象转换为元组"
   ]
  },
  {
   "cell_type": "code",
   "execution_count": 10,
   "metadata": {
    "collapsed": false
   },
   "outputs": [
    {
     "data": {
      "text/plain": [
       "()"
      ]
     },
     "execution_count": 10,
     "metadata": {},
     "output_type": "execute_result"
    }
   ],
   "source": [
    "tup = tuple()\n",
    "tup"
   ]
  },
  {
   "cell_type": "code",
   "execution_count": 11,
   "metadata": {
    "collapsed": false
   },
   "outputs": [
    {
     "data": {
      "text/plain": [
       "('a', 'b', 'c', 'd', 'e')"
      ]
     },
     "execution_count": 11,
     "metadata": {},
     "output_type": "execute_result"
    }
   ],
   "source": [
    "string = 'abcde'\n",
    "tuple(string)"
   ]
  },
  {
   "cell_type": "markdown",
   "metadata": {},
   "source": [
    "### 3、str()—将指定参数转换为字符串"
   ]
  },
  {
   "cell_type": "markdown",
   "metadata": {},
   "source": [
    "### 4、len(object)—返回指定对象的长度"
   ]
  },
  {
   "cell_type": "code",
   "execution_count": 14,
   "metadata": {
    "collapsed": false
   },
   "outputs": [
    {
     "data": {
      "text/plain": [
       "(3, 3, 3)"
      ]
     },
     "execution_count": 14,
     "metadata": {},
     "output_type": "execute_result"
    }
   ],
   "source": [
    "lst = [1, 2, 3]\n",
    "string = 'abc'\n",
    "tup = 1, 2, 3\n",
    "len(lst), len(string), len(tup)"
   ]
  },
  {
   "cell_type": "markdown",
   "metadata": {},
   "source": [
    "### 5、max()、min()—返回指定序列或参数集合中的最大值、最小值\n",
    "使用max、min方法必须保证指定的序列或参数集合中的数据类型一致"
   ]
  },
  {
   "cell_type": "code",
   "execution_count": 24,
   "metadata": {
    "collapsed": false
   },
   "outputs": [
    {
     "data": {
      "text/plain": [
       "(3, 1, '5', '1', 5, 1)"
      ]
     },
     "execution_count": 24,
     "metadata": {},
     "output_type": "execute_result"
    }
   ],
   "source": [
    "lst, string, tup = [1, 2, 3], '12345', (1, 2, 5)\n",
    "max(lst), min(lst), max(string), min(string), max(tup), min(tup)"
   ]
  },
  {
   "cell_type": "code",
   "execution_count": 26,
   "metadata": {
    "collapsed": false
   },
   "outputs": [
    {
     "data": {
      "text/plain": [
       "(3, 'd')"
      ]
     },
     "execution_count": 26,
     "metadata": {},
     "output_type": "execute_result"
    }
   ],
   "source": [
    "max(1, 2, 3), max('a', 'b', 'd') # 指定参数为字符时，则根据字符对应的ASCII码进行判断"
   ]
  },
  {
   "cell_type": "markdown",
   "metadata": {},
   "source": [
    "### 6、sum(iterable[, start = 0])—返回序列iterable和可选参数start的总和\n",
    "**start**：表示对可迭代对象所求的和再加上指定的start值，即sum(iterable) + start"
   ]
  },
  {
   "cell_type": "code",
   "execution_count": 39,
   "metadata": {
    "collapsed": false
   },
   "outputs": [
    {
     "data": {
      "text/plain": [
       "(6.3999999999999995, 15)"
      ]
     },
     "execution_count": 39,
     "metadata": {},
     "output_type": "execute_result"
    }
   ],
   "source": [
    "tup, lst = (3.1, 2.3), [1, 2, 3]\n",
    "sum(tup, 1), sum(lst, 9)"
   ]
  },
  {
   "cell_type": "markdown",
   "metadata": {},
   "source": [
    "### 7、sorted()—对可迭代对象进行排序，类似于列表中的sort()方法\n",
    "sorted(iterable, key = None, reverse = False)，iterable表示可迭代对象，reverse = True时，则按从大到小排列；反之按照从小到大排列"
   ]
  },
  {
   "cell_type": "code",
   "execution_count": 43,
   "metadata": {
    "collapsed": false
   },
   "outputs": [
    {
     "data": {
      "text/plain": [
       "([1, 2, 3, 3, 4, 6], [6, 4, 3, 3, 2, 1])"
      ]
     },
     "execution_count": 43,
     "metadata": {},
     "output_type": "execute_result"
    }
   ],
   "source": [
    "lst = [1, 4, 2, 3, 6, 3]\n",
    "sorted(lst), sorted(lst, reverse = True)"
   ]
  },
  {
   "cell_type": "markdown",
   "metadata": {},
   "source": [
    "### 8、reversed()—对指定对象进行反转\n",
    "该函数的返回值为一个迭代对象"
   ]
  },
  {
   "cell_type": "code",
   "execution_count": 55,
   "metadata": {
    "collapsed": false
   },
   "outputs": [
    {
     "name": "stdout",
     "output_type": "stream",
     "text": [
      "3 2 1 \n",
      " <list_reverseiterator object at 0x000002674049E400>\n",
      "[3, 2, 1]\n"
     ]
    }
   ],
   "source": [
    "lst = [1, 2, 3]\n",
    "for i in reversed(lst): print(i, end = ' ')\n",
    "    \n",
    "print('\\n', reversed(lst)) # 返回值为迭代对象\n",
    "\n",
    "print(list(reversed(lst)))"
   ]
  },
  {
   "cell_type": "markdown",
   "metadata": {},
   "source": [
    "### 9、enumerate()—成对返回指定可迭代对象中各个元素以及所对应索引组成元组构成的可迭代对象\n",
    "enumerate(iterable[, start])，iterable表示指定的可迭代对象；start用于指定索引的起始值，若不指定则默认索引起始值为0，若指定start = i，则索引起始值为i"
   ]
  },
  {
   "cell_type": "code",
   "execution_count": 66,
   "metadata": {
    "collapsed": false
   },
   "outputs": [
    {
     "name": "stdout",
     "output_type": "stream",
     "text": [
      "[(2, 3), (3, 4), (4, 1), (5, 2), (6, 6), (7, 2)]\n",
      "索引0: 值3\n",
      "索引1: 值4\n",
      "索引2: 值1\n",
      "索引3: 值2\n",
      "索引4: 值6\n",
      "索引5: 值2\n"
     ]
    },
    {
     "data": {
      "text/plain": [
       "<enumerate at 0x267404a59d8>"
      ]
     },
     "execution_count": 66,
     "metadata": {},
     "output_type": "execute_result"
    }
   ],
   "source": [
    "lst = [3, 4, 1, 2, 6, 2]\n",
    "print(list(enumerate(lst, 2))) # 指定索引起始值为2\n",
    "\n",
    "for i, j in enumerate(lst):\n",
    "    print('索引{}: 值{}'.format(i, j)) # 默认索引起始值为0\n",
    "\n",
    "enumerate(lst, 9) # 返回值为可迭代对象"
   ]
  },
  {
   "cell_type": "markdown",
   "metadata": {},
   "source": [
    "### 10、zip()—返回由各个可迭代参数序列组成的元组\n",
    "zip(iter1[, iter2, iter3, ...])，iter表示各个指定的可迭代参数序列，返回值为一个可迭代对象  \n",
    "#### 注意\n",
    "当指定的多个可迭代参数序列长度不同时，则以最短长度的序列为标准，大于该长度的元素省略(见下例)"
   ]
  },
  {
   "cell_type": "code",
   "execution_count": 77,
   "metadata": {
    "collapsed": false
   },
   "outputs": [
    {
     "name": "stdout",
     "output_type": "stream",
     "text": [
      "<zip object at 0x00000267404A60C8>\n",
      "<zip object at 0x00000267404A60C8>\n",
      "----------------------------------\n",
      "[(1,), (2,), (3,)]\n",
      "[(1, 'a'), (2, 'b'), (3, 'c')]\n",
      "[(1, 'a', 4), (2, 'b', 5), (3, 'c', 6)]\n",
      "----------------------------------\n",
      "1属于列表，a属于字符串，4属于元组\n",
      "2属于列表，b属于字符串，5属于元组\n",
      "3属于列表，c属于字符串，6属于元组\n"
     ]
    }
   ],
   "source": [
    "lst, string, tup = [1, 2, 3], 'abcde', (4, 5, 6, 7)\n",
    "print(zip(lst)), print(zip(lst, string))\n",
    "print('----------------------------------')\n",
    "print(list(zip(lst))), print(list(zip(lst, string))), print(list(zip(lst, string, tup)))\n",
    "print('----------------------------------')\n",
    "for i, j, k in zip(lst, string, tup):\n",
    "    print('{}属于列表，{}属于字符串，{}属于元组'.format(i, j, k))"
   ]
  }
 ],
 "metadata": {
  "kernelspec": {
   "display_name": "Python 3",
   "language": "python",
   "name": "python3"
  },
  "language_info": {
   "codemirror_mode": {
    "name": "ipython",
    "version": 3
   },
   "file_extension": ".py",
   "mimetype": "text/x-python",
   "name": "python",
   "nbconvert_exporter": "python",
   "pygments_lexer": "ipython3",
   "version": "3.6.0"
  }
 },
 "nbformat": 4,
 "nbformat_minor": 2
}
