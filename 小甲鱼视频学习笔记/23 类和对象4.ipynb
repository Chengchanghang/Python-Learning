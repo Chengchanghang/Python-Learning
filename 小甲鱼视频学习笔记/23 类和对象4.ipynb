{
 "cells": [
  {
   "cell_type": "markdown",
   "metadata": {},
   "source": [
    "# 类和对象"
   ]
  },
  {
   "cell_type": "markdown",
   "metadata": {},
   "source": [
    "## 一、组合\n",
    "**含义**：将旧类的组合放到一个新类中，将旧类组合进来，只需通过将新类实例化，即可调用新类和旧类中的方法和属性  \n",
    "**适用性**：适用于**互相之间没有关系的类进行组合**（如：水池、鱼、乌龟之间无关系），**互相之间存在纵向关系的类可使用继承**"
   ]
  },
  {
   "cell_type": "code",
   "execution_count": 9,
   "metadata": {
    "collapsed": false,
    "scrolled": true
   },
   "outputs": [
    {
     "name": "stdout",
     "output_type": "stream",
     "text": [
      "水池中共有乌龟 10 只，小鱼 5 条！\n"
     ]
    }
   ],
   "source": [
    "class Turtle:\n",
    "    def __init__(self, x):\n",
    "        self.num = x\n",
    "\n",
    "class Fish:\n",
    "    def __init__(self, x):\n",
    "        self.num = x\n",
    "        \n",
    "class Pool:\n",
    "    def __init__(self, x, y):\n",
    "        self.turtle = Turtle(x) # 无需使用多继承，直接在写入前两个类的实例化对象调用对应方法即可\n",
    "        self.fish = Fish(y)\n",
    "        \n",
    "    def print_num(self):\n",
    "        print('水池中共有乌龟 %d 只，小鱼 %d 条！' % (self.turtle.num, self.fish.num))\n",
    "        \n",
    "pool = Pool(10, 5)\n",
    "pool.print_num()"
   ]
  },
  {
   "cell_type": "markdown",
   "metadata": {},
   "source": [
    "## 二、类、类对象和实例对象\n",
    "1、下例中，“C”表示类定义，“C.count”此时“C”表示类对象，“a, b, c”表示实力对象  \n",
    "2、“C”中的属性count为静态属性，类定义与类对象相互绑定并不依赖实例对象，当实例对象调用属性更改时并不影响类定义和类对象，而只是改变了自身，此时实例对象覆盖了类对象中属性  \n",
    "3、当属性名称和方法相同时，属性会将方法覆盖  \n",
    "4、**类定义规则**：a、不要试图在一个类中定义出所有能想到的特性和方法，应该用继承和组合机制来进行扩展；  \n",
    "　　　　　　　 b、用不同词性命名，如属性名用名词，方法名用动词"
   ]
  },
  {
   "cell_type": "code",
   "execution_count": 10,
   "metadata": {
    "collapsed": false
   },
   "outputs": [
    {
     "data": {
      "text/plain": [
       "(0, 0, 0)"
      ]
     },
     "execution_count": 10,
     "metadata": {},
     "output_type": "execute_result"
    }
   ],
   "source": [
    "class C: # C为类\n",
    "    count = 0\n",
    "    \n",
    "a, b, c = C(), C(), C() # 调用该类即实例化对象\n",
    "a.count, b.count, c.count"
   ]
  },
  {
   "cell_type": "code",
   "execution_count": 11,
   "metadata": {
    "collapsed": false
   },
   "outputs": [
    {
     "data": {
      "text/plain": [
       "(10, 0, 0)"
      ]
     },
     "execution_count": 11,
     "metadata": {},
     "output_type": "execute_result"
    }
   ],
   "source": [
    "a.count += 10\n",
    "a.count, b.count, c.count"
   ]
  },
  {
   "cell_type": "code",
   "execution_count": 12,
   "metadata": {
    "collapsed": false
   },
   "outputs": [
    {
     "data": {
      "text/plain": [
       "0"
      ]
     },
     "execution_count": 12,
     "metadata": {},
     "output_type": "execute_result"
    }
   ],
   "source": [
    "C.count # 类对象"
   ]
  },
  {
   "cell_type": "code",
   "execution_count": 13,
   "metadata": {
    "collapsed": false
   },
   "outputs": [
    {
     "data": {
      "text/plain": [
       "(10, 100, 100, 100)"
      ]
     },
     "execution_count": 13,
     "metadata": {},
     "output_type": "execute_result"
    }
   ],
   "source": [
    "C.count += 100\n",
    "a.count, b.count, c.count, C.count"
   ]
  },
  {
   "cell_type": "code",
   "execution_count": 14,
   "metadata": {
    "collapsed": false
   },
   "outputs": [
    {
     "name": "stdout",
     "output_type": "stream",
     "text": [
      "X\n"
     ]
    }
   ],
   "source": [
    "class C:\n",
    "    def x(self):\n",
    "        print('X')\n",
    "        \n",
    "c = C()\n",
    "c.x()"
   ]
  },
  {
   "cell_type": "code",
   "execution_count": 18,
   "metadata": {
    "collapsed": false
   },
   "outputs": [
    {
     "data": {
      "text/plain": [
       "1"
      ]
     },
     "execution_count": 18,
     "metadata": {},
     "output_type": "execute_result"
    }
   ],
   "source": [
    "# 属性名称与方法名称相同，此时属性将会覆盖方法\n",
    "c.x = 1\n",
    "c.x"
   ]
  },
  {
   "cell_type": "code",
   "execution_count": 21,
   "metadata": {
    "collapsed": false
   },
   "outputs": [
    {
     "ename": "TypeError",
     "evalue": "'int' object is not callable",
     "output_type": "error",
     "traceback": [
      "\u001b[0;31m---------------------------------------------------------------------------\u001b[0m",
      "\u001b[0;31mTypeError\u001b[0m                                 Traceback (most recent call last)",
      "\u001b[0;32m<ipython-input-21-54c1306e95b7>\u001b[0m in \u001b[0;36m<module>\u001b[0;34m()\u001b[0m\n\u001b[0;32m----> 1\u001b[0;31m \u001b[0mc\u001b[0m\u001b[1;33m.\u001b[0m\u001b[0mx\u001b[0m\u001b[1;33m(\u001b[0m\u001b[1;33m)\u001b[0m\u001b[1;33m\u001b[0m\u001b[0m\n\u001b[0m",
      "\u001b[0;31mTypeError\u001b[0m: 'int' object is not callable"
     ]
    }
   ],
   "source": [
    "c.x()"
   ]
  },
  {
   "cell_type": "markdown",
   "metadata": {},
   "source": [
    "## 三、绑定\n",
    "**绑定**：Python中严格要求方法需要有实例才能被调用，即为Python的绑定  \n",
    "**查看属性**：类属性$类名.__dict__$，实例属性$实例化对象.__dict__$  "
   ]
  },
  {
   "cell_type": "code",
   "execution_count": 5,
   "metadata": {
    "collapsed": false
   },
   "outputs": [
    {
     "data": {
      "text/plain": [
       "({},\n",
       " mappingproxy({'__dict__': <attribute '__dict__' of 'A' objects>,\n",
       "               '__doc__': None,\n",
       "               '__module__': '__main__',\n",
       "               '__weakref__': <attribute '__weakref__' of 'A' objects>,\n",
       "               'func': <function __main__.A.func>}))"
      ]
     },
     "execution_count": 5,
     "metadata": {},
     "output_type": "execute_result"
    }
   ],
   "source": [
    "class A:\n",
    "    def func():\n",
    "        print('HAHAHA')\n",
    "        \n",
    "a = A()\n",
    "# a.func() # 类中无法接受到实例化对象a，故无法调用方法\n",
    "a.__dict__, A.__dict__"
   ]
  },
  {
   "cell_type": "code",
   "execution_count": 17,
   "metadata": {
    "collapsed": false
   },
   "outputs": [
    {
     "data": {
      "text/plain": [
       "({},\n",
       " mappingproxy({'__dict__': <attribute '__dict__' of 'B' objects>,\n",
       "               '__doc__': None,\n",
       "               '__module__': '__main__',\n",
       "               '__weakref__': <attribute '__weakref__' of 'B' objects>,\n",
       "               'func': <function __main__.B.func>,\n",
       "               'func1': <function __main__.B.func1>}))"
      ]
     },
     "execution_count": 17,
     "metadata": {},
     "output_type": "execute_result"
    }
   ],
   "source": [
    "'''\n",
    "实例化对象的属性为空，因为实例化对象即参数self的值，此时未传入任何参数，故为空\n",
    "\n",
    "类对象属性包含类中一些属性，字典形式\n",
    "'''\n",
    "class B:\n",
    "    def func(self, name):\n",
    "        self.name = name\n",
    "        \n",
    "    def func1(self):\n",
    "        print(self.name)\n",
    "        \n",
    "b = B()\n",
    "b.__dict__, B.__dict__ # 实例化对象属性为空，"
   ]
  },
  {
   "cell_type": "code",
   "execution_count": 18,
   "metadata": {
    "collapsed": false
   },
   "outputs": [
    {
     "data": {
      "text/plain": [
       "({'name': 'A'},\n",
       " mappingproxy({'__dict__': <attribute '__dict__' of 'B' objects>,\n",
       "               '__doc__': None,\n",
       "               '__module__': '__main__',\n",
       "               '__weakref__': <attribute '__weakref__' of 'B' objects>,\n",
       "               'func': <function __main__.B.func>,\n",
       "               'func1': <function __main__.B.func1>}))"
      ]
     },
     "execution_count": 18,
     "metadata": {},
     "output_type": "execute_result"
    }
   ],
   "source": [
    "'''\n",
    "当传入参数时，实例化对象的属性不为空，即相当于执行：B.name = 'A'\n",
    "\n",
    "类对象的属性未发生变化，此即为绑定\n",
    "'''\n",
    "b.func('A')\n",
    "b.__dict__, B.__dict__ "
   ]
  },
  {
   "cell_type": "code",
   "execution_count": 19,
   "metadata": {
    "collapsed": false
   },
   "outputs": [
    {
     "ename": "NameError",
     "evalue": "name 'B' is not defined",
     "output_type": "error",
     "traceback": [
      "\u001b[0;31m---------------------------------------------------------------------------\u001b[0m",
      "\u001b[0;31mNameError\u001b[0m                                 Traceback (most recent call last)",
      "\u001b[0;32m<ipython-input-19-6364bf43e4fc>\u001b[0m in \u001b[0;36m<module>\u001b[0;34m()\u001b[0m\n\u001b[1;32m      1\u001b[0m \u001b[1;32mdel\u001b[0m \u001b[0mB\u001b[0m\u001b[1;33m\u001b[0m\u001b[0m\n\u001b[0;32m----> 2\u001b[0;31m \u001b[0mc\u001b[0m \u001b[1;33m=\u001b[0m \u001b[0mB\u001b[0m\u001b[1;33m(\u001b[0m\u001b[1;33m)\u001b[0m \u001b[1;31m# 由于删除了类对象，故无法找到\u001b[0m\u001b[1;33m\u001b[0m\u001b[0m\n\u001b[0m",
      "\u001b[0;31mNameError\u001b[0m: name 'B' is not defined"
     ]
    }
   ],
   "source": [
    "del B\n",
    "c = B() # 由于删除了类对象，故无法找到"
   ]
  },
  {
   "cell_type": "code",
   "execution_count": 21,
   "metadata": {
    "collapsed": false
   },
   "outputs": [
    {
     "name": "stdout",
     "output_type": "stream",
     "text": [
      "A\n"
     ]
    }
   ],
   "source": [
    "'''\n",
    "由于属性和方法是静态的，虽然类对象被删除，但属性和方法仍在内存中，因此实例化对象调用方法时仍可以执行\n",
    "'''\n",
    "b.func1() # 虽然删除了类对象，但实例化对象的属性"
   ]
  }
 ],
 "metadata": {
  "kernelspec": {
   "display_name": "Python 3",
   "language": "python",
   "name": "python3"
  }
 },
 "nbformat": 4,
 "nbformat_minor": 2
}
