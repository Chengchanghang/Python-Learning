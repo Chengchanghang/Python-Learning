{
 "cells": [
  {
   "cell_type": "markdown",
   "metadata": {},
   "source": [
    "# 图形用户界面入门：EasyGui模块\n",
    "**Gui**：Graphical User Interface  \n",
    "**EasyGui官网**：http://easygui.sourceforge.net（需翻墙）  \n",
    "**官方教学文档**：easygui-docs-0.96\\tutorial\\index.html  \n",
    "**小甲鱼翻译改编的教学文档**：http://bbs.fishc.com/thread-46069-1-1.html  \n",
    "**注意**：尽量避免在IDLE上使用EasyGui，因为该模块是运行在Tkinter上并拥有自身的事件循环，而恰好IDLE也是Tkinter写的的一个应用程序且拥有自身的事件循环，因此当当两者同时运行时有可能会发生冲突。"
   ]
  },
  {
   "cell_type": "code",
   "execution_count": 1,
   "metadata": {
    "collapsed": false
   },
   "outputs": [
    {
     "name": "stdout",
     "output_type": "stream",
     "text": [
      "['EgStore', '__all__', '__builtins__', '__cached__', '__doc__', '__file__', '__loader__', '__name__', '__package__', '__path__', '__spec__', 'abouteasygui', 'boolbox', 'boxes', 'buttonbox', 'ccbox', 'choicebox', 'codebox', 'diropenbox', 'eg_version', 'egdemo', 'egversion', 'enterbox', 'exceptionbox', 'fileopenbox', 'filesavebox', 'indexbox', 'integerbox', 'msgbox', 'multchoicebox', 'multenterbox', 'multpasswordbox', 'passwordbox', 'read_or_create_settings', 'textbox', 'ynbox']"
     ]
    }
   ],
   "source": [
    "import easygui as g\n",
    "print(dir(g), end = '')"
   ]
  }
 ],
 "metadata": {
  "kernelspec": {
   "display_name": "Python 3",
   "language": "python",
   "name": "python3"
  },
  "language_info": {
   "codemirror_mode": {
    "name": "ipython",
    "version": 3
   },
   "file_extension": ".py",
   "mimetype": "text/x-python",
   "name": "python",
   "nbconvert_exporter": "python",
   "pygments_lexer": "ipython3",
   "version": "3.6.0"
  }
 },
 "nbformat": 4,
 "nbformat_minor": 2
}
