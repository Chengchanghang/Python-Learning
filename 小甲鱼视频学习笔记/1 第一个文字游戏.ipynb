{
 "cells": [
  {
   "cell_type": "markdown",
   "metadata": {},
   "source": [
    "## 猜谜游戏"
   ]
  },
  {
   "cell_type": "code",
   "execution_count": 1,
   "metadata": {
    "collapsed": false
   },
   "outputs": [
    {
     "name": "stdout",
     "output_type": "stream",
     "text": [
      "----------------我爱Python---------------\n",
      "不妨猜一下我现在正在想的数字：1\n",
      "错误！\n",
      "游戏结束！\n"
     ]
    }
   ],
   "source": [
    "print('----------------我爱Python---------------')\n",
    "temp = input('不妨猜一下我现在正在想的数字：')\n",
    "guess = int(temp)\n",
    "\n",
    "if guess == 8:\n",
    "    print('正确！')\n",
    "else:\n",
    "    print('错误！')\n",
    "print('游戏结束！')"
   ]
  },
  {
   "cell_type": "markdown",
   "metadata": {},
   "source": [
    "## 游戏改进"
   ]
  },
  {
   "cell_type": "markdown",
   "metadata": {},
   "source": [
    "改进要求一、猜错的时候应该提示，过大还是过小。使用**条件分支**"
   ]
  },
  {
   "cell_type": "code",
   "execution_count": 4,
   "metadata": {
    "collapsed": false
   },
   "outputs": [
    {
     "name": "stdout",
     "output_type": "stream",
     "text": [
      "猜谜：9\n",
      "过大！\n",
      "游戏结束！\n"
     ]
    }
   ],
   "source": [
    "# 通过条件分支判断猜测数字是过大还是过小或者猜对了\n",
    "temp = input('猜谜：')\n",
    "guess = int(temp)\n",
    "\n",
    "if guess == 8:\n",
    "    print('正确!')\n",
    "else:\n",
    "    if guess > 8:\n",
    "        print('过大！')\n",
    "    else:\n",
    "        print('过小！')\n",
    "print('游戏结束！')"
   ]
  },
  {
   "cell_type": "markdown",
   "metadata": {},
   "source": [
    "改进要求二、每运行一次程序只能猜一次，应该提供多次猜测机会。使用**while循环**"
   ]
  },
  {
   "cell_type": "code",
   "execution_count": 1,
   "metadata": {
    "collapsed": false
   },
   "outputs": [
    {
     "name": "stdout",
     "output_type": "stream",
     "text": [
      "猜谜：3\n",
      "还有3次机会，请认真考虑！\n",
      "猜错了，请重新输入：34\n",
      "过大！\n",
      "还有2次机会，请认真考虑！\n",
      "猜错了，请重新输入：34\n",
      "过大！\n",
      "还有1次机会，请认真考虑！\n",
      "猜错了，请重新输入：34\n",
      "过大！\n",
      "游戏结束！\n"
     ]
    }
   ],
   "source": [
    "temp = input('猜谜：')\n",
    "guess = int(temp)\n",
    "\n",
    "# 设定计数值count，通过判定count是否大于零决定循环次数\n",
    "count = 3\n",
    "while guess != 8 and count > 0: \n",
    "    print('还有{}次机会，请认真考虑！'.format(count))\n",
    "    temp = input('猜错了，请重新输入：')\n",
    "    guess = int(temp)\n",
    "\n",
    "    if guess == 8:\n",
    "        print('正确！')\n",
    "    else:\n",
    "        if guess > 8:\n",
    "            print('过大！')\n",
    "        else:\n",
    "            print('过小！')\n",
    "    count -= 1\n",
    "print('游戏结束！')"
   ]
  },
  {
   "cell_type": "markdown",
   "metadata": {},
   "source": [
    "改进要求三、每次运行程序，答案应当是随机的，而不是固定的。使用Python标准库**random库**产生随机数。"
   ]
  },
  {
   "cell_type": "code",
   "execution_count": 12,
   "metadata": {
    "collapsed": false
   },
   "outputs": [
    {
     "name": "stdout",
     "output_type": "stream",
     "text": [
      "猜谜：2\n",
      "还有3次机会，请慎重考虑哦！\n",
      "猜错了，请重新输入：3\n",
      "过大！\n",
      "还有2次机会，请慎重考虑哦！\n",
      "猜错了，请重新输入：1\n",
      "猜对了！\n",
      "聪明,正确数字是1\n",
      "游戏结束！\n"
     ]
    }
   ],
   "source": [
    "import random \n",
    "\n",
    "# 生成1-10之间的随机数\n",
    "random.seed(123)\n",
    "secret = random.randint(1, 10)\n",
    "\n",
    "temp = input('猜谜：')\n",
    "guess = int(temp)\n",
    "\n",
    "# 设定\n",
    "count = 3\n",
    "\n",
    "while guess != secret and count > 0:\n",
    "    print('还有{}次机会，请慎重考虑哦！'.format(count))\n",
    "    temp = input('猜错了，请重新输入：')\n",
    "    guess = int(temp)\n",
    "    \n",
    "    if guess == secret:\n",
    "        print('猜对了！')\n",
    "    else:\n",
    "        if guess > secret:\n",
    "            print('过大！')\n",
    "        else:\n",
    "            print('过小！')\n",
    "        \n",
    "    count -= 1\n",
    "\n",
    "# 应对第一次就猜中的情形，若没有改条件语句，则首次猜对会直接打印游戏结束\n",
    "if guess == secret:\n",
    "    print('聪明,正确数字是{}'.format(secret))\n",
    "    \n",
    "print('游戏结束！')"
   ]
  }
 ],
 "metadata": {
  "kernelspec": {
   "display_name": "Python 3",
   "language": "python",
   "name": "python3"
  },
  "language_info": {
   "codemirror_mode": {
    "name": "ipython",
    "version": 3
   },
   "file_extension": ".py",
   "mimetype": "text/x-python",
   "name": "python",
   "nbconvert_exporter": "python",
   "pygments_lexer": "ipython3",
   "version": "3.6.0"
  }
 },
 "nbformat": 4,
 "nbformat_minor": 2
}
