{
 "cells": [
  {
   "cell_type": "code",
   "execution_count": 2,
   "metadata": {
    "collapsed": true,
    "deletable": true,
    "editable": true
   },
   "outputs": [],
   "source": [
    "# 第一个程序"
   ]
  },
  {
   "cell_type": "code",
   "execution_count": 3,
   "metadata": {
    "collapsed": false,
    "deletable": true,
    "editable": true
   },
   "outputs": [
    {
     "data": {
      "text/plain": [
       "300"
      ]
     },
     "execution_count": 3,
     "metadata": {},
     "output_type": "execute_result"
    }
   ],
   "source": [
    "100+200"
   ]
  },
  {
   "cell_type": "code",
   "execution_count": 5,
   "metadata": {
    "collapsed": false,
    "deletable": true,
    "editable": true
   },
   "outputs": [
    {
     "name": "stdout",
     "output_type": "stream",
     "text": [
      "hello, world!\n"
     ]
    }
   ],
   "source": [
    "# 使用单引号或双引号括起来的内容称为字符串\n",
    "print('hello, world!') # 打印函数print—内建函数"
   ]
  },
  {
   "cell_type": "code",
   "execution_count": 8,
   "metadata": {
    "collapsed": false,
    "deletable": true,
    "editable": true
   },
   "outputs": [],
   "source": [
    "# 交互式和命令行模式的区别：\n",
    "# 交互式模式中输入代码即可立即获得对应的执行结果；\n",
    "# 命令行模式中则并不会立即执行每一条代码的结果，而需要通过print打印出来获得最终结果"
   ]
  },
  {
   "cell_type": "code",
   "execution_count": 9,
   "metadata": {
    "collapsed": false,
    "deletable": true,
    "editable": true
   },
   "outputs": [
    {
     "name": "stdout",
     "output_type": "stream",
     "text": [
      "a b c\n"
     ]
    }
   ],
   "source": [
    "# print函数中也可接受多个字符串，但需要以逗号隔开\n",
    "print('a', 'b', 'c')"
   ]
  },
  {
   "cell_type": "code",
   "execution_count": 10,
   "metadata": {
    "collapsed": false,
    "deletable": true,
    "editable": true
   },
   "outputs": [
    {
     "name": "stdout",
     "output_type": "stream",
     "text": [
      "100 200\n",
      "300\n"
     ]
    }
   ],
   "source": [
    "# 对于数字则直接进行打印即可\n",
    "print(100, 200)\n",
    "print(100+200)"
   ]
  },
  {
   "cell_type": "code",
   "execution_count": 12,
   "metadata": {
    "collapsed": false,
    "deletable": true,
    "editable": true
   },
   "outputs": [
    {
     "name": "stdout",
     "output_type": "stream",
     "text": [
      "100 + 200 = 300\n"
     ]
    }
   ],
   "source": [
    "# 将字符串和数字一起打印，即为拼接\n",
    "print(\"100 + 200 =\", 100+200)"
   ]
  },
  {
   "cell_type": "code",
   "execution_count": 13,
   "metadata": {
    "collapsed": false,
    "deletable": true,
    "editable": true
   },
   "outputs": [
    {
     "name": "stdout",
     "output_type": "stream",
     "text": [
      "卫志鹏\n"
     ]
    }
   ],
   "source": [
    "# Python—输入使用input函数，可输入任意字符\n",
    "name =input()"
   ]
  },
  {
   "cell_type": "code",
   "execution_count": 16,
   "metadata": {
    "collapsed": false,
    "deletable": true,
    "editable": true
   },
   "outputs": [
    {
     "data": {
      "text/plain": [
       "'卫志鹏'"
      ]
     },
     "execution_count": 16,
     "metadata": {},
     "output_type": "execute_result"
    }
   ],
   "source": [
    "# input输入完成后即将输入的内容存储在变量name中\n",
    "# Python中变量可以为整数、浮点数，也可以为字符串\n",
    "name"
   ]
  },
  {
   "cell_type": "code",
   "execution_count": 22,
   "metadata": {
    "collapsed": false,
    "deletable": true,
    "editable": true
   },
   "outputs": [
    {
     "name": "stdout",
     "output_type": "stream",
     "text": [
      "hello, 卫志鹏 !\n"
     ]
    }
   ],
   "source": [
    "# 将输入和输出结合起来\n",
    "print('hello,',name,'!')"
   ]
  },
  {
   "cell_type": "code",
   "execution_count": 24,
   "metadata": {
    "collapsed": false,
    "deletable": true,
    "editable": true
   },
   "outputs": [
    {
     "name": "stdout",
     "output_type": "stream",
     "text": [
      "请输入姓名:杨婷婷\n",
      "hello, 杨婷婷 !\n"
     ]
    }
   ],
   "source": [
    "# 写一个完整的输入输出语句\n",
    "# 输入为input，输出output为print，一般IO即表示输入输出\n",
    "name = input('请输入姓名:')\n",
    "print('hello,', name,'!')"
   ]
  },
  {
   "cell_type": "code",
   "execution_count": 25,
   "metadata": {
    "collapsed": false,
    "deletable": true,
    "editable": true
   },
   "outputs": [
    {
     "name": "stdout",
     "output_type": "stream",
     "text": [
      "1024 * 768 = 786432\n"
     ]
    }
   ],
   "source": [
    "# 输入输出范例\n",
    "print('1024 * 768 =', 1024*768)"
   ]
  },
  {
   "cell_type": "code",
   "execution_count": 26,
   "metadata": {
    "collapsed": true,
    "deletable": true,
    "editable": true
   },
   "outputs": [],
   "source": [
    "# 一、Python基础"
   ]
  },
  {
   "cell_type": "code",
   "execution_count": 37,
   "metadata": {
    "collapsed": false,
    "deletable": true,
    "editable": true
   },
   "outputs": [
    {
     "name": "stdout",
     "output_type": "stream",
     "text": [
      "please enter a number:1\n",
      "1\n"
     ]
    }
   ],
   "source": [
    "# 范例\n",
    "# 打印整数的绝对值\n",
    "a = int(input('please enter a number:'))\n",
    "if a >= 0:\n",
    "    print(a)\n",
    "else:\n",
    "    print(-a)"
   ]
  },
  {
   "cell_type": "code",
   "execution_count": 38,
   "metadata": {
    "collapsed": true,
    "deletable": true,
    "editable": true
   },
   "outputs": [],
   "source": [
    "# 语句以冒号“：”结尾时锁进的语句即表示一个代码块\n",
    "# 缩进能够使代码显得条理化（缩进一般为四个空格）\n",
    "# Python对大小写敏感"
   ]
  },
  {
   "cell_type": "code",
   "execution_count": 39,
   "metadata": {
    "collapsed": true,
    "deletable": true,
    "editable": true
   },
   "outputs": [],
   "source": [
    "# 二、数据类型和变量"
   ]
  },
  {
   "cell_type": "code",
   "execution_count": 42,
   "metadata": {
    "collapsed": false,
    "deletable": true,
    "editable": true
   },
   "outputs": [
    {
     "data": {
      "text/plain": [
       "(1, 2, 3, -1)"
      ]
     },
     "execution_count": 42,
     "metadata": {},
     "output_type": "execute_result"
    }
   ],
   "source": [
    "# 1、整数—Python可以处理任一大小的整数\n",
    "1,2,3,-1"
   ]
  },
  {
   "cell_type": "code",
   "execution_count": 43,
   "metadata": {
    "collapsed": false,
    "deletable": true,
    "editable": true
   },
   "outputs": [
    {
     "data": {
      "text/plain": [
       "(1.23, 2.12, -1.21, 1e-20)"
      ]
     },
     "execution_count": 43,
     "metadata": {},
     "output_type": "execute_result"
    }
   ],
   "source": [
    "# 2、浮点数—即为小数，对于较大或较小的浮点苏，一般采用科学计数法线束\n",
    "1.23,2.12,-1.21,0.00000000000000000001"
   ]
  },
  {
   "cell_type": "code",
   "execution_count": 46,
   "metadata": {
    "collapsed": false,
    "deletable": true,
    "editable": true
   },
   "outputs": [
    {
     "data": {
      "text/plain": [
       "('abc', '123')"
      ]
     },
     "execution_count": 46,
     "metadata": {},
     "output_type": "execute_result"
    }
   ],
   "source": [
    "# 3、字符串—以单引号或双引号括起来的任意文本，但单引号和双引号不可以混用\n",
    "'abc', \"123\""
   ]
  },
  {
   "cell_type": "code",
   "execution_count": 47,
   "metadata": {
    "collapsed": false,
    "deletable": true,
    "editable": true
   },
   "outputs": [
    {
     "data": {
      "text/plain": [
       "\"a'bc\""
      ]
     },
     "execution_count": 47,
     "metadata": {},
     "output_type": "execute_result"
    }
   ],
   "source": [
    "# 若字符串中要包含单引号，用双引号将其括起来即可\n",
    "\"a'bc\""
   ]
  },
  {
   "cell_type": "code",
   "execution_count": 57,
   "metadata": {
    "collapsed": false,
    "deletable": true,
    "editable": true
   },
   "outputs": [
    {
     "name": "stdout",
     "output_type": "stream",
     "text": [
      "I'm \"Ok\"!\n",
      "I'm learning python!\n",
      "\\\n",
      "\\\n"
     ]
    }
   ],
   "source": [
    "# 若字符串中既要包含单引号又要包含双引号，则需要使用转义字符“\\”\n",
    "# 转义字符可用于多种情形\n",
    "#“\\n”换行符、“\\t”制表符、“\\\\”表示\\（对自身进行转义）\n",
    "print('I\\'m \\\"Ok\\\"!')\n",
    "print('I\\'m learning python!')\n",
    "print('\\\\\\n\\\\')"
   ]
  },
  {
   "cell_type": "code",
   "execution_count": 59,
   "metadata": {
    "collapsed": false,
    "deletable": true,
    "editable": true
   },
   "outputs": [
    {
     "name": "stdout",
     "output_type": "stream",
     "text": [
      "\\\t\\\n",
      "\\\n",
      "\\\n",
      "\\\\\\n\\\\\n"
     ]
    }
   ],
   "source": [
    "# python中使用“r' '”表示单引号内的字符串不转义\n",
    "print('\\\\\\t\\\\')\n",
    "print('\\\\\\n\\\\')\n",
    "print(r'\\\\\\n\\\\') # 使用r默认不转义"
   ]
  },
  {
   "cell_type": "code",
   "execution_count": 3,
   "metadata": {
    "collapsed": false,
    "deletable": true,
    "editable": true
   },
   "outputs": [
    {
     "name": "stdout",
     "output_type": "stream",
     "text": [
      "a\n",
      "b\n",
      "c\n"
     ]
    }
   ],
   "source": [
    "# 对于字符串内部有很多换行，使用“'''...'''”三引号表示多行内容\n",
    "print('''a\n",
    "b\n",
    "c''')"
   ]
  },
  {
   "cell_type": "code",
   "execution_count": 8,
   "metadata": {
    "collapsed": false,
    "deletable": true,
    "editable": true
   },
   "outputs": [
    {
     "data": {
      "text/plain": [
       "(True, False, True, False)"
      ]
     },
     "execution_count": 8,
     "metadata": {},
     "output_type": "execute_result"
    }
   ],
   "source": [
    "# 4、布尔值—True、False两种\n",
    "True,False,3 > 2,3 > 5"
   ]
  },
  {
   "cell_type": "code",
   "execution_count": 9,
   "metadata": {
    "collapsed": false,
    "deletable": true,
    "editable": true
   },
   "outputs": [
    {
     "data": {
      "text/plain": [
       "(True, False, False, True)"
      ]
     },
     "execution_count": 9,
     "metadata": {},
     "output_type": "execute_result"
    }
   ],
   "source": [
    "# 布尔值可用and、or和not运算\n",
    "# and运算全为True才是True\n",
    "True and True,True and False,False and False,5>3 and 3>1"
   ]
  },
  {
   "cell_type": "code",
   "execution_count": 12,
   "metadata": {
    "collapsed": false,
    "deletable": true,
    "editable": true
   },
   "outputs": [
    {
     "data": {
      "text/plain": [
       "(True, True, False, True)"
      ]
     },
     "execution_count": 12,
     "metadata": {},
     "output_type": "execute_result"
    }
   ],
   "source": [
    "# or运算只要有一个True即为True\n",
    "True or True,True or False,False or False,5>3 or 3>1"
   ]
  },
  {
   "cell_type": "code",
   "execution_count": 13,
   "metadata": {
    "collapsed": false,
    "deletable": true,
    "editable": true
   },
   "outputs": [
    {
     "data": {
      "text/plain": [
       "(False, True, True)"
      ]
     },
     "execution_count": 13,
     "metadata": {},
     "output_type": "execute_result"
    }
   ],
   "source": [
    "# not为非运算\n",
    "not True,not False,not 1>2"
   ]
  },
  {
   "cell_type": "code",
   "execution_count": 17,
   "metadata": {
    "collapsed": false,
    "deletable": true,
    "editable": true
   },
   "outputs": [
    {
     "name": "stdout",
     "output_type": "stream",
     "text": [
      "21\n",
      "adult\n"
     ]
    }
   ],
   "source": [
    "# 布尔值常用语判断语句中\n",
    "age = int(input())\n",
    "if age >= 18:\n",
    "    print('adult')\n",
    "else:\n",
    "    print('teenager')  "
   ]
  },
  {
   "cell_type": "code",
   "execution_count": 18,
   "metadata": {
    "collapsed": true,
    "deletable": true,
    "editable": true
   },
   "outputs": [],
   "source": [
    "# 5、空值—在Python中使用None表示(在R中使用NULL、NA)"
   ]
  },
  {
   "cell_type": "code",
   "execution_count": 23,
   "metadata": {
    "collapsed": false,
    "deletable": true,
    "editable": true
   },
   "outputs": [
    {
     "name": "stdout",
     "output_type": "stream",
     "text": [
      "123\n",
      "123\n"
     ]
    },
    {
     "data": {
      "text/plain": [
       "(None, str)"
      ]
     },
     "execution_count": 23,
     "metadata": {},
     "output_type": "execute_result"
    }
   ],
   "source": [
    "# 变量\n",
    "# 变量不仅可以是数字还可以是任意数据类型\n",
    "# 变量名必须是大小写英文、数字和下划线组合，但不能使用数字开头\n",
    "# \"=\"是赋值语句，左边是变量名，右边为所要赋的值，同一个变量可反复进行赋值且可以是不同类型的变量\n",
    "# 同变量反复赋值即变量类型不固定的语言称为动态语言；静态语言则是定义变量时必须指定变量类型\n",
    "a = 123\n",
    "print(a),type(a)\n",
    "a = \"123\"\n",
    "print(a),type(a)"
   ]
  },
  {
   "cell_type": "code",
   "execution_count": 24,
   "metadata": {
    "collapsed": true,
    "deletable": true,
    "editable": true
   },
   "outputs": [],
   "source": [
    "# 变量在内存中的表示\n",
    "# 对变量赋值时既有以下行为发生：\n",
    "# 第一、在计算机内存中创建某种类型的值\n",
    "# 在内存中创建对应得变量名，并将其指向创建好的值"
   ]
  },
  {
   "cell_type": "code",
   "execution_count": 26,
   "metadata": {
    "collapsed": false,
    "deletable": true,
    "editable": true
   },
   "outputs": [
    {
     "data": {
      "text/plain": [
       "3.1415926"
      ]
     },
     "execution_count": 26,
     "metadata": {},
     "output_type": "execute_result"
    }
   ],
   "source": [
    "# 常量—不能变的变量，在Python中通常使用大写变量名表示常量\n",
    "PI = 3.1415926\n",
    "PI"
   ]
  },
  {
   "cell_type": "code",
   "execution_count": 29,
   "metadata": {
    "collapsed": false,
    "deletable": true,
    "editable": true
   },
   "outputs": [
    {
     "name": "stdout",
     "output_type": "stream",
     "text": [
      "3.3333333333333335 3.0\n",
      "1.0 2\n",
      "1\n"
     ]
    }
   ],
   "source": [
    "# Python中的除法\n",
    "# 第一、使用“/”做除法运算其计算结果是浮点数，即使两个数恰好整除结果也是浮点数\n",
    "print(10/3, 9/3)\n",
    "# 第二、使用“//”做除法运算其计算结果是整数，即使除不尽仍是整数\n",
    "print(3.1//2, 9//4)\n",
    "# 若要进行精确运算，则需要使用“/”\n",
    "# 取余运算\n",
    "print(10 % 3)"
   ]
  },
  {
   "cell_type": "code",
   "execution_count": 33,
   "metadata": {
    "collapsed": false,
    "deletable": true,
    "editable": true
   },
   "outputs": [
    {
     "name": "stdout",
     "output_type": "stream",
     "text": [
      "123\n",
      "456.789\n",
      "Hello, world\n",
      "Hello, 'Adam'\n",
      "Hello, \"Bart\"\n",
      "Hello,\n",
      "Lisa!\n"
     ]
    }
   ],
   "source": [
    "# 练习\n",
    "n = 123\n",
    "f = 456.789\n",
    "s1 = 'Hello, world'\n",
    "s2 = 'Hello, \\'Adam\\''\n",
    "s3 = r'Hello, \"Bart\"'\n",
    "s4 = r'''Hello,\n",
    "Lisa!'''\n",
    "print(n, f, s1, s2, s3, s4, sep = \"\\n\")"
   ]
  },
  {
   "cell_type": "code",
   "execution_count": 47,
   "metadata": {
    "collapsed": false,
    "deletable": true,
    "editable": true
   },
   "outputs": [
    {
     "name": "stdout",
     "output_type": "stream",
     "text": [
      "包含中文的str\n",
      "65 25105\n",
      "\f",
      " d\n",
      "abc <class 'str'> b'abc' <class 'bytes'>\n",
      "b'abc'\n",
      "b'\\xe6\\x88\\x91'\n",
      "abc\n",
      "我\n"
     ]
    }
   ],
   "source": [
    "# 三、字符串与编码\n",
    "# ASCII编码—仅包含大小写英文字母、数字和一些符号(127个字符，由美国人编码)\n",
    "# GB2312编码—用于将中文编码进去\n",
    "# Unicode—将所有语言统一到一套编码中(由于不同语言有各自的编码，故多种语言混合的文本容易出现了乱码，为避免此类现象产生了Unicode编码)\n",
    "# 为节省空间，又产生了utf-8编码\n",
    "# 计算机通用的字符编码工作方式：\n",
    "# 计算机内存中统一使用Unicode编码，当需要保存到硬盘或需要传输的时候就转换为utf-8编码\n",
    "# 例：用记事本编辑时，从文件读取的utf-8字符被编码为Unicode字符到内存中，编辑完成保存时再把Unicode转换为utf-8保存到文件中\n",
    "# 例：浏览网页时服务器会自动将动态生成的Unicode编码转换为utf-8在传输到浏览器中\n",
    "\n",
    "# 在Python3中字符串是以Unicode编码的即Python字符串支持多种语言\n",
    "print('包含中文的str')\n",
    "\n",
    "# 对于单个字符的编码，使用ord()函数获取字符的整数表示\n",
    "print(ord('A'),ord('我'))\n",
    "\n",
    "# chr()函数把编码转换为对应的字符\n",
    "print(chr(12), chr(100))\n",
    "\n",
    "# python中字符串类型是str,在内存中以Unicode表示，而要在网络上传输或保存到磁盘，则需要把str变成以字节为单位的bytes\n",
    "# python对bytes类型数据用带“b”前缀的单引号或双引号表示\n",
    "a = 'abc'   # 字符串类型\n",
    "b = b'abc'  # 字节类型\n",
    "print(a, type(a), b, type(b))\n",
    "\n",
    "# 以Unicode表示的str字符串通过encode()编码为指定字节bytes\n",
    "print('abc'.encode('ascii'))\n",
    "print('我'.encode('utf-8'))\n",
    "# 注意：纯英文的字符串可用ASCII编码为bytes，含中文的字符串可用utf-8编码为bytes，但含中文的字符串不能用ASCII编码(中文编码超过了ASCII编码的范围)\n",
    "\n",
    "# 从网络或磁盘读取字节流是bytes类型，使用decode可将bytes转换为str\n",
    "print(b'abc'.decode('ascii'))\n",
    "print(b'\\xe6\\x88\\x91'.decode('utf-8'))\n",
    "\n",
    "# 字符串问题中经常会遇到str和bytes的转换，因此应当始终坚持使用utf-8进行转换\n",
    "\n",
    "# 当代码中包含有中文在保存代码时必须指定保存为utf-8。Python读取代码是为使其按照utf-8编码读取，通常在文件开头写\n",
    "# -*- coding: utf-8 -*-\n",
    "# 申明utf-8编码还需要将解释器的编码也设置为对应的utf-8编码才可以，否则二者不一致会报错"
   ]
  },
  {
   "cell_type": "code",
   "execution_count": 51,
   "metadata": {
    "collapsed": false,
    "deletable": true,
    "editable": true
   },
   "outputs": [
    {
     "name": "stdout",
     "output_type": "stream",
     "text": [
      "3 1\n",
      "3\n",
      "3 3\n",
      "1\n"
     ]
    }
   ],
   "source": [
    "# 计算某个字符串包含多少个字符，使用len()—计算的是字符数\n",
    "print(len('abc'), len('我'))\n",
    "print(len('abc'.encode('ascii')))\n",
    "\n",
    "# bytes类型，则计算的是字节数\n",
    "print(len(b'abc'), len(b'\\xe6\\x88\\x91'))\n",
    "print(len(b'\\xe6\\x88\\x91'.decode('utf-8')))"
   ]
  },
  {
   "cell_type": "code",
   "execution_count": 12,
   "metadata": {
    "collapsed": false,
    "deletable": true,
    "editable": true
   },
   "outputs": [
    {
     "name": "stdout",
     "output_type": "stream",
     "text": [
      "hello, world\n",
      "Hi, Michael, you have $10000000\n",
      " 3-01\n",
      "3.14\n",
      "age: 25. gender: True\n",
      "growth rate: 7%\n"
     ]
    }
   ],
   "source": [
    "# 四、格式化\n",
    "# python中格式化字符串的方法用“%”实现’\n",
    "print('hello, %s' % 'world')\n",
    "print('Hi, %s, you have $%d' % ('Michael', 10000000))\n",
    "\n",
    "# “%”—用来格式化字符串\n",
    "# “%s”—在字符串内部，表示用字符串替换\n",
    "# “%d”—在字符串内部，表示用整数替换\n",
    "# “%？”—有几个占位符，即后边有几个变量或值，只有一个则括号可以省略，如第一个只有world一个值则省略括号，第二个有两个则需要加括号\n",
    "# “%f”—在字符串内部，表示用浮点数替换\n",
    "\n",
    "# 格式化整数或浮点数还可以指定是否补0和整数与小数的位数\n",
    "print('%2d-%02d' % (3,1)) # 两个2都表示横线有两个字符，故空一格，后边0表示加个零，\n",
    "print('%.2f' % 3.1415926) # 句点表示小数点，2表示保留两位小数\n",
    "print('age: %s. gender: %s' % (25, True)) # %s可将任何数据类型转换为字符串类型\n",
    "print('growth rate: %d%%' % 7) # 若%也是字符串，此时即可通过“%%”来转义表示一个%"
   ]
  },
  {
   "cell_type": "code",
   "execution_count": 17,
   "metadata": {
    "collapsed": false,
    "deletable": true,
    "editable": true
   },
   "outputs": [
    {
     "name": "stdout",
     "output_type": "stream",
     "text": [
      "grow_rate: 18.1%\n"
     ]
    }
   ],
   "source": [
    "# 练习\n",
    "def rate(last, new):\n",
    "    grow_rate = ((new - last) / last)*100\n",
    "    print('grow_rate: %.1f' % grow_rate)\n",
    "rate(72, 85)"
   ]
  },
  {
   "cell_type": "code",
   "execution_count": 62,
   "metadata": {
    "collapsed": false,
    "deletable": true,
    "editable": true
   },
   "outputs": [
    {
     "name": "stdout",
     "output_type": "stream",
     "text": [
      "['a', 'b', 'c']\n",
      "3\n",
      "a\n",
      "c\n",
      "['a', 'b', 'c', 'd']\n",
      "['a', 'e', 'b', 'c', 'd']\n",
      "['a', 'e', 'b', 'c']\n",
      "['a', 'b', 'c']\n",
      "['a', 'f', 'c']\n",
      "['a', 'b', ['c', 'd'], 'e']\n",
      "d\n",
      "0\n",
      "('a', 'b', 'c')\n",
      "a\n",
      "1 <class 'int'> a <class 'str'>\n",
      "(1,) <class 'tuple'> ('a',) <class 'tuple'>\n",
      "('a', 'b', ['s', 't'])\n"
     ]
    }
   ],
   "source": [
    "# 列表list与元组tuple\n",
    "# 列表—一种有序的集合，可随时添加和删除元素,使用“[]”方括号包含元素\n",
    "classmates = ['a', 'b', 'c']\n",
    "print(classmates)\n",
    "print(len(classmates)) # len函数即可获取该列表中元素的个数\n",
    "\n",
    "# 列表中元素的位置可通过索引进行访问，索引从左到右由0开始，从右到左则是由-1开始\n",
    "print(classmates[0]) # 列表中最后一个元素对应的索引为元素个数-1\n",
    "print(classmates[-1])\n",
    "\n",
    "# 列表添加元素\n",
    "classmates.append('d') # 使用append添加元素只能将其添加在列表的末尾\n",
    "print(classmates)\n",
    "\n",
    "classmates.insert(1,\"e\") # insert可通过指定索引来确定插入的为值，第一个参数即为索引值，第二个为插入的元素\n",
    "print(classmates)\n",
    "\n",
    "# 列表删除元素\n",
    "classmates.pop() # pop函数中不添加任何参数则删除列表末尾的元素\n",
    "print(classmates)\n",
    "\n",
    "classmates.pop(1) # pop函数中加入指定索引值则删除对应的元素\n",
    "print(classmates)\n",
    "\n",
    "# 列表替换元素\n",
    "classmates[1] = 'f' # 列表中替换元素则直接利用索引进行赋值即可\n",
    "print(classmates)\n",
    "\n",
    "# 列表的元素可以是任意数据类型，同时也可以是另一个列表\n",
    "list = ['a', 'b', ['c', 'd'], 'e']\n",
    "print(list)\n",
    "print(list[2][1]) # 获取列表内列表中元素则只需接对应的索引即可\n",
    "\n",
    "# 若列表中没有元素即为空列表，其长度为0\n",
    "l = []\n",
    "print(len(l))\n",
    "\n",
    "# 元组—也是一种有序列表，与列表的差别在于元组一旦初始化就不能进行修改,此外元组使用括号将元素包含起来\n",
    "students = ('a', 'b', 'c')\n",
    "print(students)\n",
    "print(students[0])\n",
    "\n",
    "# 由于元组已经确定就无法改变，故代码更为安全，因此能用元组就尽量使用元组\n",
    "t = () # 空元组\n",
    "t = (1)\n",
    "t1=('a') \n",
    "print(t,type(t), t1,type(t1))\n",
    "t = (1, )\n",
    "t1 = ('a', )\n",
    "print(t, type(t), t1, type(t1)) \n",
    "# 元组定义一个元素，则不能直接写一个元素，因为小括号等同于数学公式中括号，而应当加一个逗号\n",
    "\n",
    "# 可变的元组\n",
    "tt = ('a', 'b', ['c', 'd'])\n",
    "tt[2][0] = 's'\n",
    "tt[2][1] = 't'\n",
    "print(tt)\n",
    "# 元组不变是说针对每一个元素的指向不变，上边的元组中对每个元素的指向并未发生变化，而是列表中元素发生了变化，因此要指定一个不变的元组必须是每个元素都不能发生变化"
   ]
  },
  {
   "cell_type": "code",
   "execution_count": 63,
   "metadata": {
    "collapsed": false,
    "deletable": true,
    "editable": true
   },
   "outputs": [
    {
     "name": "stdout",
     "output_type": "stream",
     "text": [
      "apple\n",
      "python\n",
      "lisa\n"
     ]
    }
   ],
   "source": [
    "# 练习\n",
    "# -*- coding:utf-8 -*-\n",
    "l = [\n",
    "    ['apple','google','microsoft'],\n",
    "    ['java','python','ruby','php'],\n",
    "    ['adam','bart','lisa']\n",
    "]\n",
    "print(l[0][0])\n",
    "print(l[1][1])\n",
    "print(l[2][2])"
   ]
  },
  {
   "cell_type": "code",
   "execution_count": 75,
   "metadata": {
    "collapsed": false,
    "deletable": true,
    "editable": true
   },
   "outputs": [
    {
     "name": "stdout",
     "output_type": "stream",
     "text": [
      "1\n",
      "你是个小女孩！\n",
      "teenager\n"
     ]
    }
   ],
   "source": [
    "# 条件判断\n",
    "age = int(input())\n",
    "if age>= 22:\n",
    "    print('你的年龄是:', str(age))\n",
    "    print('你是个女人！哈哈^_^')\n",
    "elif age <=18:\n",
    "    print('你是个小女孩！')\n",
    "else:\n",
    "    print('原来你是个女生！嘿嘿...')\n",
    "\n",
    "# else用于执行if语句判断为错误时的语句；elif等同于else if用于添加多个判断条件\n",
    "# if语句执行时遵循从上向下的方式进行判断，一旦判断为True则执行该语句，下边的语句全部忽略\n",
    "age = 20\n",
    "if age>=6:\n",
    "    print('teenager')\n",
    "elif age>=18:\n",
    "    print('adult')\n",
    "else:\n",
    "    print('kid') # 第一条语句判断为True，故下边的elif和else均忽略"
   ]
  },
  {
   "cell_type": "code",
   "execution_count": 2,
   "metadata": {
    "collapsed": false,
    "deletable": true,
    "editable": true
   },
   "outputs": [
    {
     "name": "stdout",
     "output_type": "stream",
     "text": [
      "BMI: 26.29,过重\n"
     ]
    }
   ],
   "source": [
    "# 练习\n",
    "# -*- coding:utf-8 -*-\n",
    "def BMI(height, weight):\n",
    "    bmi = weight / height**2\n",
    "    \n",
    "    if bmi < 18.5:\n",
    "        print('BMI: %.2f,%s' % (bmi,'过轻'))\n",
    "    elif bmi >= 18.5 and bmi < 25:\n",
    "        print('BMI: %.2f,%s' % (bmi,'正常'))\n",
    "    elif bmi >= 25 and bmi < 28:\n",
    "        print('BMI: %.2f,%s' % (bmi,'过重'))\n",
    "    elif bmi >= 28 and bmi < 32:\n",
    "        print('BMI: %.2f,%s' % (bmi,'肥胖'))\n",
    "    else:\n",
    "        print('BMI: %.2f,%s' % (bmi,'严重肥胖'))\n",
    "BMI(1.75, 80.5)"
   ]
  },
  {
   "cell_type": "code",
   "execution_count": null,
   "metadata": {
    "collapsed": false,
    "deletable": true,
    "editable": true
   },
   "outputs": [],
   "source": [
    "# 循环\n",
    "# Python中循环方式有两种：for...in...循环、while循环\n",
    "\n",
    "# for...in...循环—依次将in后边某个集合中每个元素带入in前边的变量然后执行相应的结果\n",
    "names = ['a', 'b', 'c']\n",
    "for name in names:\n",
    "    print(name)\n",
    "\n",
    "for num in range(1, 11):\n",
    "    print(str(num) + ' + 1 = ', num + 1)\n",
    "\n",
    "# Python3与Python2中range函数的区别\n",
    "# Python2中range返回的是一个列表，而在Python中返回的是range object\n",
    "a = range(10)\n",
    "print(a, type(a))\n",
    "b = list(range(10))\n",
    "print(b, type(b)) # 可通过使用list函数将其转换为列表\n",
    "\n",
    "# sum = 0 # 计算0-100的整数的和\n",
    "# for x in range(101):\n",
    "#     sum = sum + x\n",
    "#     print(sum)\n",
    "\n",
    "# while循环—只要条件满足，就不断循环；条件不满足就跳出循环\n",
    "# while循环还可以使用break提前退出循环\n",
    "# continue作用是提前结束本轮循环（即跳过本次循环），直接开始下一轮循环\n",
    "sum = 0\n",
    "n = 99\n",
    "while n > 0:\n",
    "    sum += n\n",
    "    n -= 2\n",
    "    print(sum, end = '')\n",
    "\n",
    "# sum = 0\n",
    "# for n in range(1, 101):\n",
    "#     if n % 2 != 0:\n",
    "#         sum += n\n",
    "#         print(sum)\n",
    "\n",
    "i = 1\n",
    "while i < 100:\n",
    "    if i > 10:\n",
    "        break\n",
    "    print(i)\n",
    "    n = n + 1\n",
    "print('end')"
   ]
  },
  {
   "cell_type": "code",
   "execution_count": null,
   "metadata": {
    "collapsed": true
   },
   "outputs": [],
   "source": []
  }
 ],
 "metadata": {
  "kernelspec": {
   "display_name": "Python 3",
   "language": "python",
   "name": "python3"
  },
  "language_info": {
   "codemirror_mode": {
    "name": "ipython",
    "version": 3
   },
   "file_extension": ".py",
   "mimetype": "text/x-python",
   "name": "python",
   "nbconvert_exporter": "python",
   "pygments_lexer": "ipython3",
   "version": "3.6.0"
  }
 },
 "nbformat": 4,
 "nbformat_minor": 2
}
