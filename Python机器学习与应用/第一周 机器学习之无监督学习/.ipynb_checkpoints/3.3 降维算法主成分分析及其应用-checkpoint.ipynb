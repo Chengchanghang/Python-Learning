{
 "cells": [
  {
   "cell_type": "markdown",
   "metadata": {},
   "source": [
    "# 主成分分析及其应用\n",
    "1、**主成分分析（Principal Component Analysis,PCA）**：常用的降维算法，通常用于高维数据的探索和可视化，还可用作数据压缩、预处理、综合评价等。该算法可以将具有相关性的高维变量合成为线性无关的低维变量，称其为主成分。主成分能够尽可能的保留原始数据的信息。  \n",
    "2、**相关概念**\n",
    "\n",
    "- **方差**：是各个样本和样本均值差的平方和的均值，用于度量一组数据的**离散程度**。\n",
    "$$S^2 = \\frac{\\sum_{i = 1}^n(x_i - \\bar{x})^2}{n - 1}$$\n",
    "\n",
    "- **协方差**：用于度量两个变量间**线性相关程度**。若两个变量协方差为0，则认为二者间线性无关。协方差矩阵是由变量的协方差值构成的矩阵（对称阵）。\n",
    "$$Cov(X, Y) = \\frac{\\sum_{i = 1}^n (X_i - \\bar{x})(Y_i - \\bar{Y})}{n - 1}$$\n",
    "\n",
    "- **特征向量**：矩阵的特征向量是**描述数据集结构的非零向量**。以下公式中：A为方阵，$\\vec{v}$为特征向量，$\\lambda$为特征值\n",
    "$$A\\vec{v} = \\lambda\\vec{v}$$\n",
    "\n",
    "3、**基本原理**：矩阵的主成分就是按照其协方差矩阵对应的特征向量，按照对应的特征值大小进行排序，最大的特征值即为第一主分，其次为第二主成分，以此类推。  \n",
    "4、**算法过程**(周志华《机器学习》)\n",
    "\n",
    "- **输入**：样本集$D = \\{x_1, x_2, ..., x_m\\}$,$x_i$表示高维数据中的各个变量\n",
    "- **过程**\n",
    " - 对所有样本进行中心化（或标准化）：$x_i \\leftarrow x_i - \\frac{1}{m}\\sum_{i = 1}^mx_i$\n",
    " - 计算样本的协方差矩阵$XX^T$\n",
    " - 对协方差矩阵$XX^T$进行特征值分解\n",
    " - 取最大的d个特征值所对应的特征向量$w_1, w_2, ..., w_d$\n",
    "- **输出**：投影矩阵$W = (w_1, w_2, ..., w_d)$"
   ]
  },
  {
   "cell_type": "markdown",
   "metadata": {},
   "source": [
    "# sklearn中主成分分析用法\n",
    "1、**sklearn.decomposition.PCA**：在sklearn库中主要通过该方法调用主成分分析方法进行降维。  \n",
    "2、**主要参数**：\n",
    "\n",
    "- **n_components**：用于指定主成分个数，即降维后数据的维度；\n",
    "- **svd_solver**：设置特征值分解的方法，默认为“auto”，其他可选包括：“full”、“arpack”、“randomized”"
   ]
  },
  {
   "cell_type": "markdown",
   "metadata": {},
   "source": [
    "# 案例：鸢尾花数据集\n",
    "**目标**：鸢尾花数据集包括：萼片长度、萼片宽度、花瓣长度、花瓣宽度共四个变量以及类别变量（三个类别）。对其进行降维实现二维平面的可视化。"
   ]
  },
  {
   "cell_type": "markdown",
   "metadata": {},
   "source": [
    "### 1、建立工程，导入相关包"
   ]
  },
  {
   "cell_type": "code",
   "execution_count": 16,
   "metadata": {
    "collapsed": true
   },
   "outputs": [],
   "source": [
    "import matplotlib.pyplot as plt\n",
    "from sklearn.decomposition import PCA # 从sklearn.decomposition模块中导入子模块PCA\n",
    "from sklearn import datasets # 从sklearn库中导入数据集子库"
   ]
  },
  {
   "cell_type": "markdown",
   "metadata": {},
   "source": [
    "### 2、加载数据并进行降维"
   ]
  },
  {
   "cell_type": "code",
   "execution_count": 17,
   "metadata": {
    "collapsed": false
   },
   "outputs": [],
   "source": [
    "# 通过设定参数return_X_y = True只返回包含变量和类别的数组\n",
    "x_iris, y_iris = datasets.load_iris(return_X_y = True)\n",
    "\n",
    "# 调用PCA方法，并设定主成分个数为2，即降维后的维度为2，特征值分解方法采用默认值\n",
    "pca = PCA(n_components = 2)\n",
    "\n",
    "# 调用PCA方法中fit_transform,利用x数据拟合模型并对x进行降维\n",
    "reduce_X = pca.fit_transform(x_iris)"
   ]
  },
  {
   "cell_type": "markdown",
   "metadata": {},
   "source": [
    "### 3、按类别对降维后数据进行保存"
   ]
  },
  {
   "cell_type": "code",
   "execution_count": 18,
   "metadata": {
    "collapsed": false
   },
   "outputs": [
    {
     "name": "stdout",
     "output_type": "stream",
     "text": [
      "y_iris[i] == 0、1、2分别对应Category为：setosa、versicolor、virginica\n"
     ]
    }
   ],
   "source": [
    "# 根据鸢尾花类别变量中的三个类别对降维结果进行区分，分别设定初始化空列表\n",
    "# “_x”表示一个主成分；“_y”表示另一个主成分\n",
    "red_x, red_y = [], []\n",
    "blue_x, blue_y = [], []\n",
    "green_x, green_y = [], []\n",
    "\n",
    "for i in range(len(reduce_X)):\n",
    "    # 判断每个样本对应类别变量属于哪个类别，则将其添加到对应列表中\n",
    "    if y_iris[i] == 0:\n",
    "        red_x.append(reduce_X[i][0])\n",
    "        red_y.append(reduce_X[i][1])\n",
    "    elif y_iris[i] == 1:\n",
    "        blue_x.append(reduce_X[i][0])\n",
    "        blue_y.append(reduce_X[i][1])\n",
    "    else:\n",
    "        green_x.append(reduce_X[i][0])\n",
    "        green_y.append(reduce_X[i][1])\n",
    "\n",
    "categories = datasets.load_iris().target_names\n",
    "print('y_iris[i] == 0、1、2分别对应Category为：{}、{}、{}'.format(categories[0], categories[1], categories[2]))"
   ]
  },
  {
   "cell_type": "markdown",
   "metadata": {},
   "source": [
    "### 4、降维后数据可视化"
   ]
  },
  {
   "cell_type": "code",
   "execution_count": 22,
   "metadata": {
    "collapsed": false
   },
   "outputs": [
    {
     "data": {
      "image/png": "[encoded data removed]",
      "text/plain": [
       "<matplotlib.figure.Figure at 0x2a7bcc9e438>"
      ]
     },
     "metadata": {},
     "output_type": "display_data"
    }
   ],
   "source": [
    "plt.scatter(red_x, red_y, color = 'red', marker = 'x')\n",
    "plt.scatter(blue_x, blue_y, color = 'blue', marker = 'D')\n",
    "plt.scatter(green_x, green_y, color = 'green', marker = '.')\n",
    "plt.xlabel('第一主成分', fontproperties = 'SimHei', fontsize = 15)\n",
    "plt.ylabel('第二主成分', fontproperties = 'SimHei', fontsize = 15)\n",
    "# 在图像中间增加一个标题\n",
    "plt.suptitle('Iris-PCA', fontsize = 20)\n",
    "# 在图形中增加图例,参数loc用于表示图例在图中的位置\n",
    "plt.legend([categories[0], categories[1], categories[2]], loc = 4)\n",
    "plt.savefig('Iris-PCA.jpg', dpi = 600)\n",
    "plt.show()"
   ]
  }
 ],
 "metadata": {
  "kernelspec": {
   "display_name": "Python 3",
   "language": "python",
   "name": "python3"
  },
  "language_info": {
   "codemirror_mode": {
    "name": "ipython",
    "version": 3
   },
   "file_extension": ".py",
   "mimetype": "text/x-python",
   "name": "python",
   "nbconvert_exporter": "python",
   "pygments_lexer": "ipython3",
   "version": "3.6.0"
  }
 },
 "nbformat": 4,
 "nbformat_minor": 2
}
