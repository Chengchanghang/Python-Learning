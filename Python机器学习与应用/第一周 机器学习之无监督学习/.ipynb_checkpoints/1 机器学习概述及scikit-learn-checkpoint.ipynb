{
 "cells": [
  {
   "cell_type": "markdown",
   "metadata": {},
   "source": [
    "# 一、机器学习的目标\n",
    "**机器学习**是实现人工智能的手段，其主要研究内容时如何利用数据或经验进行学习，改善具体算法的性能。\n",
    "\n",
    "**涉及学科**：包括概率林、统计学、算法复杂度等多门学科的交叉综合\n",
    "\n",
    "**应用**：广泛应用于网络搜索、垃圾邮件过滤、推荐系统、广告投放、信用评价、欺诈检测、股票交易和医疗诊断等应用。\n",
    "\n",
    "**分类**：监督学习（Supervised Learning）、无监督学习（Unspervised Learning）、强化学习（Reinforcement Learning，增强学习）、半监督学习（Semi-supervised Learning）、深度学习（Deep Learning）"
   ]
  },
  {
   "cell_type": "markdown",
   "metadata": {},
   "source": [
    "# 二、scikit-learn\n",
    "**特点**：\n",
    "\n",
    "- 一组简单有效的机器学习工具集\n",
    "- 依赖Python的NumPy、SciPy和matplotlib库\n",
    "- 开源且可复用\n",
    "\n",
    "**功能**\n",
    "\n",
    "- 分类，应用于异常检测、图像识别等，算法包括：KNN、SVM等\n",
    "- 聚类，应用于图像分割、群体划分等，算法包括：K-Mean、谱聚类等\n",
    "- 回归，应用于价格预测、趋势预测等，算法包括：线性回归、SVR等\n",
    "- 降维，应用于可视化，算法包括：PCA、NMF等\n"
   ]
  },
  {
   "cell_type": "markdown",
   "metadata": {},
   "source": [
    "# 相关书籍和在线课程\n",
    "- 《机器学习》，周志华\n",
    "- 《PRML》，Bishop，属于机器学习贝叶斯学派的经典书籍\n",
    "- 《Machine Learning》,吴恩达，Coursera版课程主页：http://t.cn/RJZQbV2； 斯坦福手书版：http://t.cn/RwUWKMS； 课程主页：http://cs229.stanford.edu/\n",
    "- 《CS231n》，深度学习在视觉领域的应用，课程主页：http://cs231n.stanford.edu/； 视频：http://t.cn/RqRNasR\n",
    "- 《Reinforcement Learning》，增强学习，课程主页：http://t.cn/Rw0rwtU； 视频：http://t.cn/RIAFRUt"
   ]
  }
 ],
 "metadata": {
  "kernelspec": {
   "display_name": "Python 3",
   "language": "python",
   "name": "python3"
  },
  "language_info": {
   "codemirror_mode": {
    "name": "ipython",
    "version": 3
   },
   "file_extension": ".py",
   "mimetype": "text/x-python",
   "name": "python",
   "nbconvert_exporter": "python",
   "pygments_lexer": "ipython3",
   "version": "3.6.0"
  }
 },
 "nbformat": 4,
 "nbformat_minor": 2
}
