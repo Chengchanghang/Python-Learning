{
 "cells": [
  {
   "cell_type": "markdown",
   "metadata": {},
   "source": [
    "# 聚类、降维算法通用模板"
   ]
  },
  {
   "cell_type": "markdown",
   "metadata": {},
   "source": [
    "## 1、建立工程，导入sklearn相关库\n",
    "- 该步骤主要用于将整个分析过程中所需要用到的库导入，搭建环境\n",
    "- 一般导入的库有：\n",
    " - **NumPy库**：用于将数据转换为数组形式运算，由于NumPy库是由C语言编写的，运算速度快，因此较为常用；\n",
    " - **sklearn库**：该库中包含了各种算法子库，通过导入该库从而能够将需要用到的算法库随之导入\n",
    "   - **cluster**：该包主要用于聚类，其中包含多种聚类算法\n",
    "   - **decomposition**：该包主要用于降维，其中包含了多种降维算法\n",
    " - **Pandas库**：主要用于数据处理\n",
    " - **matplotlib.pyplot**：主要用于可视化\n",
    " - **PIL.Image**：在图像处理问题中，使用该包用于对图像的像素数据进行处理"
   ]
  },
  {
   "cell_type": "markdown",
   "metadata": {},
   "source": [
    "## 2、加载数据，并进行数据预处理\n",
    "- 该步骤主要通过加载本地或者网络数据到当前环境中，用于分析，但由于原始数据往往存在各种各样的问题，同时受不同算法的条件限制，因此需要对原始数据进行处理之后才可以应用到具体算法中；\n",
    "\n",
    "- 一般使用**open**函数等方法加载数据"
   ]
  },
  {
   "cell_type": "markdown",
   "metadata": {},
   "source": [
    "## 3、调用算法，并构建算法模型\n",
    "- 该步骤主要是调用相关算法，利用处理好的数据构建算法模型\n",
    " - 以K-means为例，一般执行方法为：（伪代码，不同算法使用的函数不同，如：K-means使用的函数为fit_predict）"
   ]
  },
  {
   "cell_type": "code",
   "execution_count": 8,
   "metadata": {
    "collapsed": true
   },
   "outputs": [],
   "source": [
    "# 导入KMeans算法包\n",
    "from sklearn.cluster import KMeans\n",
    "\n",
    "# 调用KMeans算法，并通过参数n_clusters = k设定聚类中心为k个\n",
    "km = KMeans(n_clusters = k)\n",
    "\n",
    "# 使用KMeans中方法拟合数据并进行聚类，参数x即为样本数据集\n",
    "category = km.fit_predict(x)"
   ]
  },
  {
   "cell_type": "markdown",
   "metadata": {},
   "source": [
    "## 4、输出结果并对结果进行可视化\n",
    "- 该步骤主要是将算法训练的结果输出，同时将结果可视化，便于分析\n",
    "- 以K-means为例："
   ]
  },
  {
   "cell_type": "code",
   "execution_count": null,
   "metadata": {
    "collapsed": false
   },
   "outputs": [],
   "source": [
    "import matplotlib.pyplot as plt\n",
    "\n",
    "通过循环打印不同聚类中心对应的聚类结果"
   ]
  }
 ],
 "metadata": {
  "kernelspec": {
   "display_name": "Python 3",
   "language": "python",
   "name": "python3"
  },
  "language_info": {
   "codemirror_mode": {
    "name": "ipython",
    "version": 3
   },
   "file_extension": ".py",
   "mimetype": "text/x-python",
   "name": "python",
   "nbconvert_exporter": "python",
   "pygments_lexer": "ipython3",
   "version": "3.6.0"
  }
 },
 "nbformat": 4,
 "nbformat_minor": 2
}
