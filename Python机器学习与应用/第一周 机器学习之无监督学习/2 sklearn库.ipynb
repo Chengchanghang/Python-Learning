{
 "cells": [
  {
   "cell_type": "markdown",
   "metadata": {},
   "source": [
    "# 一、sklearn库（scikit-learn简称）\n",
    "**简介**：sklearn库是基于NumPy、SciPy和matplotlib库的Python第三方库。\n",
    "\n",
    "- NumPy（Numerical Python缩写）：开源的科学计算库；\n",
    "- SciPy库：基于NumPy的一个集成了多种数学算法和函数的Python模块\n",
    "- matplotlib库：基于NumPy的一套Python工具包，提供了大量数据绘图工具"
   ]
  },
  {
   "cell_type": "markdown",
   "metadata": {},
   "source": [
    "## 二、sklearn库的标准数据集\n",
    "**代表性小数据集**\n",
    "\n",
    "- 波士顿房价数据集，调用方式：load_boston()；适用算法：回归；数据规模：506行，13列\n",
    "- 鸢尾花数据集，调用方式：load_iris()；适用算法：分类；数据规模：150行，4列\n",
    "- 糖尿病数据集，调用方式：load_diabetes()；适用算法：回归；数据规模：442行，10列\n",
    "- 手写数字数据集，调用方式：load_digits()；适用算法：分类；数据规模：5620行，64列\n",
    "\n",
    "**代表性大数据集**\n",
    "\n",
    "- Olivetti脸部图像数据集，调用方式：fetch_olivetti_faces()；适用算法：降维；数据规模：400*64*64\n",
    "- 新闻分类数据集，调用方式：fetch_20newsgroups()；适用算法：分类；数据规模：--\n",
    "- 带标签的人脸数据集，调用方式：fetch_lfw_people()；适用算法：分类、降维；数据规模：--\n",
    "- 路透社新闻语料数据集，调用方式：fetch_revl()；适用算法：分类；数据规模：804414*42236\n",
    "\n",
    "**注意**：小数据集可直接使用，而大数据集要在调用时程序自动下载（一次即可）"
   ]
  },
  {
   "cell_type": "markdown",
   "metadata": {},
   "source": [
    "## 三、代表性数据集简介"
   ]
  },
  {
   "cell_type": "markdown",
   "metadata": {},
   "source": [
    "### 1、波士顿房价数据集\n",
    "波士顿房价数据集：包含506条数据，每条数据包含房屋以及房屋周围的详细信息。其中包括城镇犯罪率、一氧化氮浓度、住宅平均房间数、到中心区域的加权距离以及自住房平均房价等。因此，波士顿房价数据集能应用到回归问题上。\n",
    "\n",
    "- 数据集调用方法都在sklearn库的子库datasets中\n",
    "- load_boston(return_X_y)，参数return_X_y表示返回target（即价格）或者data（即属性、变量），默认为False，只返回data（即属性、变量）；若为True，则将二者都返回。"
   ]
  },
  {
   "cell_type": "code",
   "execution_count": 37,
   "metadata": {
    "collapsed": false
   },
   "outputs": [
    {
     "name": "stdout",
     "output_type": "stream",
     "text": [
      "(506, 13)\n"
     ]
    }
   ],
   "source": [
    "from sklearn import datasets\n",
    "boston_price = datasets.load_boston() # 获取datasets数据集中的波士顿房价数据集，只获取到数据集中的变量\n",
    "print(boston_price.data.shape) # 打印变量的维度"
   ]
  },
  {
   "cell_type": "code",
   "execution_count": 32,
   "metadata": {
    "collapsed": false
   },
   "outputs": [
    {
     "name": "stdout",
     "output_type": "stream",
     "text": [
      "(506, 13) (506,)\n"
     ]
    }
   ],
   "source": [
    "data, target = datasets.load_boston(return_X_y = True) # 返回数据集中的房屋价格以及房屋相关信息\n",
    "print(data.shape, target.shape)"
   ]
  },
  {
   "cell_type": "markdown",
   "metadata": {},
   "source": [
    "### 2、鸢尾花数据集\n",
    "鸢尾花数据集：鸢尾花的测量数据以及所属的类别。测量数据包括：萼片长度、萼片宽度、花瓣长度、花瓣宽度；所属类别包括：Iris Setosa、Iris Versicolour、Iris Virginica。该数据集属于多分类问题。\n",
    "\n",
    "- list(iris.target_names)返回类别名称，target_names表示类别名称"
   ]
  },
  {
   "cell_type": "code",
   "execution_count": 34,
   "metadata": {
    "collapsed": false
   },
   "outputs": [
    {
     "name": "stdout",
     "output_type": "stream",
     "text": [
      "(150, 4)\n"
     ]
    }
   ],
   "source": [
    "from sklearn import datasets\n",
    "iris = datasets.load_iris()\n",
    "print(iris.data.shape)"
   ]
  },
  {
   "cell_type": "code",
   "execution_count": 35,
   "metadata": {
    "collapsed": false
   },
   "outputs": [
    {
     "name": "stdout",
     "output_type": "stream",
     "text": [
      "(150, 4) (150,)\n"
     ]
    }
   ],
   "source": [
    "cates, val = datasets.load_iris(return_X_y = True)\n",
    "print(cates.shape, val.shape)"
   ]
  },
  {
   "cell_type": "code",
   "execution_count": 42,
   "metadata": {
    "collapsed": false
   },
   "outputs": [
    {
     "data": {
      "text/plain": [
       "['setosa', 'versicolor', 'virginica']"
      ]
     },
     "execution_count": 42,
     "metadata": {},
     "output_type": "execute_result"
    }
   ],
   "source": [
    "list(iris.target_names) "
   ]
  },
  {
   "cell_type": "markdown",
   "metadata": {},
   "source": [
    "### 3、手写数字数据集\n",
    "手写数字数据集：包括1979个0-9的手写数字，每个数字由8*8大小的矩阵构成，矩阵中值的范围是0-16，代表颜色的深度。\n",
    "\n",
    "- datasets.load_digits(return_X_y = False, n_class)，参数return_X_y表示数据返回的形式，同上；n_class表示返回数据的类别数，如：n_class = 5，则返回0-4的样本。"
   ]
  },
  {
   "cell_type": "code",
   "execution_count": 49,
   "metadata": {
    "collapsed": false
   },
   "outputs": [
    {
     "name": "stdout",
     "output_type": "stream",
     "text": [
      "(1797, 64) (1797,) (1797, 8, 8)\n"
     ]
    }
   ],
   "source": [
    "from sklearn import datasets\n",
    "digits = datasets.load_digits()\n",
    "print(digits.data.shape, digits.target.shape, digits.images.shape)"
   ]
  },
  {
   "cell_type": "code",
   "execution_count": 47,
   "metadata": {
    "collapsed": false
   },
   "outputs": [
    {
     "name": "stdout",
     "output_type": "stream",
     "text": [
      "(901, 64) (901,)\n"
     ]
    }
   ],
   "source": [
    "# 以data、target形式返回数据且只返回0-5的数据\n",
    "target, data = datasets.load_digits(return_X_y = True, n_class = 5) \n",
    "print(target.shape, data.shape)"
   ]
  },
  {
   "cell_type": "code",
   "execution_count": 45,
   "metadata": {
    "collapsed": false
   },
   "outputs": [
    {
     "data": {
      "text/plain": [
       "[0, 1, 2, 3, 4, 5, 6, 7, 8, 9]"
      ]
     },
     "execution_count": 45,
     "metadata": {},
     "output_type": "execute_result"
    }
   ],
   "source": [
    "list(digits.target_names) # 该数据集中为0-9的数字"
   ]
  },
  {
   "cell_type": "code",
   "execution_count": 53,
   "metadata": {
    "collapsed": false
   },
   "outputs": [
    {
     "data": {
      "image/png": "[encoded data removed]",
      "text/plain": [
       "<matplotlib.figure.Figure at 0x1db51cc9208>"
      ]
     },
     "metadata": {},
     "output_type": "display_data"
    }
   ],
   "source": [
    "import matplotlib.pyplot as plt\n",
    "\n",
    "# matshow()用于绘制由由矩阵构成的图像窗口\n",
    "plt.matshow(digits.images[1]) # 绘制数据集中1对应的矩阵图\n",
    "plt.show()"
   ]
  },
  {
   "cell_type": "markdown",
   "metadata": {},
   "source": [
    "## 四、sklearn库的基本功能\n",
    "sklearn库分为6大部分，分别用于完成分类、回归、聚类、降维、模型选择和数据预处理。\n",
    "\n",
    "**分类任务**\n",
    "\n",
    "- 最近邻算法，模块：neighbors.NearestNeighbors\n",
    "- 支持向量机，模块：svm.SVC\n",
    "- 朴素贝叶斯，模块：naive_bayes.GaussianNB\n",
    "- 决策树，模块：tree.DecisionTreeClassifier\n",
    "- 集成方法，模块：ensemble.BaggingClassifier\n",
    "- 神经网络，模块：neural_network.MLPClassifier\n",
    "\n",
    "**回归任务**\n",
    "\n",
    "- 岭回归，模块：linear_model.Ridge\n",
    "- Lasso回归，模块：linear_model.Lasso\n",
    "- 弹性网络，模块：linear_model.ElasticNet\n",
    "- 最小角回归，模块：linear_model.Lars\n",
    "- 贝叶斯回归，模块：linear_model.BayesianRidge\n",
    "- 逻辑回归，模块：linear_model.LogisticRegression\n",
    "- 多项式回归，模块：preprocessing.PolynomialFeatures\n",
    "\n",
    "**聚类任务**\n",
    "\n",
    "- K-mean，模块：cluster.KMeans\n",
    "- AP聚类，模块：cluster.AffinityPropagation\n",
    "- 均值漂移，模块：cluster.MeanShift\n",
    "- 层次聚类，模块：cluster.AgglomerativeClustering\n",
    "- DBSCAN，模块：cluster.DBSCAN\n",
    "- BIRCH，模块：cluster.Birch\n",
    "- 谱聚类，模块：cluster.SpectralClustering\n",
    "\n",
    "**降维任务**\n",
    "\n",
    "- 主成分分析，模块：decomposition.PCA\n",
    "- 截断SVD和LSA，模块：decomposition.TruncatedSVD\n",
    "- 字典学习，模块：decomposition.SparseCoder\n",
    "- 因子分析，模块：decomposition.FactorAnalysis\n",
    "- 独立成分分析，模块：decomposition.FastICA\n",
    "- 非负矩阵分解，模块：decomposition.NMF\n",
    "- LDA，模块：decomposition.LatentDirichletAllocation"
   ]
  }
 ],
 "metadata": {
  "kernelspec": {
   "display_name": "Python 3",
   "language": "python",
   "name": "python3"
  },
  "language_info": {
   "codemirror_mode": {
    "name": "ipython",
    "version": 3
   },
   "file_extension": ".py",
   "mimetype": "text/x-python",
   "name": "python",
   "nbconvert_exporter": "python",
   "pygments_lexer": "ipython3",
   "version": "3.6.0"
  }
 },
 "nbformat": 4,
 "nbformat_minor": 2
}
