{
 "cells": [
  {
   "cell_type": "markdown",
   "metadata": {},
   "source": [
    "# K-means算法及其应用\n",
    "**基本原理**：以k为参数，将n个对象分为k个簇，使得簇内具有较高相似度，而簇间相似度较低。  \n",
    "**主要处理过程**\n",
    "\n",
    "- 随机选择k个点作为初始聚类中心；\n",
    "- 对于剩余点，根据与聚类中心的距离，将其归入最近的簇；\n",
    "- 对每个簇，计算所有点的均值作为新的聚类中心；\n",
    "- 重复1、2步直至聚类中心不再发生变化为止。\n",
    "\n",
    "**拓展与改进**\n",
    "\n",
    "- 计算两条数据相似性时，sklearn的K-means默认采用欧氏距离，该方法中并无用于设定其他距离方法进行聚类的参数，因此只能够采用欧氏距离进行聚类；\n",
    "- 可通过更改K-means的源代码来使用其他距离进行聚类，**更改方法**：在Python库安装目录下找到sklearn文件夹 — cluster文件夹 — k_means.py文件中“_labels_inertia_precompute_dense”函数中“pairwise_distances_argmin_min”参数“metric”更改即可，默认为“eculidean”欧式距离，若改为“cosine”则为夹角余弦。"
   ]
  },
  {
   "cell_type": "markdown",
   "metadata": {},
   "source": [
    "# 案例：31省市家庭居民消费调查\n",
    "**数据介绍**：1999年31省市城镇居民家庭人均全年消费性支出的八个主要变量数据：食品、衣着、家庭设备用品及服务、医疗保健、交通和通讯、娱乐教育文化服务、居住及杂项商品与服务，以此对31省份进行聚类。  \n",
    "**目的**：了解1999年各个省份的消费水平在国内的情况。  \n",
    "**步骤**："
   ]
  },
  {
   "cell_type": "code",
   "execution_count": 18,
   "metadata": {
    "collapsed": false
   },
   "outputs": [
    {
     "data": {
      "text/plain": [
       "'D:\\\\学习资料\\\\Python项目\\\\案例数据'"
      ]
     },
     "execution_count": 18,
     "metadata": {},
     "output_type": "execute_result"
    }
   ],
   "source": [
    "import os\n",
    "import pandas as pd\n",
    "file_path = os.chdir('D:\\学习资料\\Python项目\\案例数据')\n",
    "os.getcwd()"
   ]
  },
  {
   "cell_type": "markdown",
   "metadata": {},
   "source": [
    "### 1、建立工程，导入sklearn相关包（NumPy、KMeans）"
   ]
  },
  {
   "cell_type": "code",
   "execution_count": 11,
   "metadata": {
    "collapsed": true
   },
   "outputs": [],
   "source": [
    "import numpy as np\n",
    "from sklearn.cluster import KMeans"
   ]
  },
  {
   "cell_type": "markdown",
   "metadata": {},
   "source": [
    "### 2、加载数据，创建K-means算法实例，并进行训练，获得标签\n",
    "**KMeans方法参数**\n",
    "\n",
    "- **n_clusters**：用于指定聚类中心的个数；\n",
    "- **init**：初始聚类中心的初始化方法；\n",
    "- **max_iter**：最大迭代次数，即K-means方法中重新计算聚类中心的次数\n",
    "- **注意**：一般调用K-means方法只需给出n_cluster即可，init默认是K-means++，max_iter默认为300。\n",
    "\n",
    "**fit_predict()**\n",
    "\n",
    "- 该方法用于计算簇中心，并为每个样本预测对应的索引标签\n",
    "\n",
    "**下例中主要变量意义**\n",
    "\n",
    "- **data**：表示加载的数据\n",
    "- **label**：表示聚类后各数据所属的标签"
   ]
  },
  {
   "cell_type": "code",
   "execution_count": 81,
   "metadata": {
    "collapsed": false
   },
   "outputs": [
    {
     "name": "stdout",
     "output_type": "stream",
     "text": [
      "Expenses: 3827.87\n",
      "['河北', '山西', '内蒙古', '辽宁', '吉林', '黑龙江', '安徽', '江西', '山东', '河南', '湖北', '贵州', '陕西', '甘肃', '青海', '宁夏', '新疆']\n",
      "Expenses: 5113.54\n",
      "['天津', '江苏', '浙江', '福建', '湖南', '广西', '海南', '重庆', '四川', '云南', '西藏']\n",
      "Expenses: 7754.66\n",
      "['北京', '上海', '广东']\n"
     ]
    }
   ],
   "source": [
    "# 读取数据的函数\n",
    "def loaddata(file):\n",
    "    # 利用open函数打开文件\n",
    "    file = open('31省市居民家庭消费水平-city.txt', 'r+')\n",
    "    \n",
    "    # 利用readlines读取整个文件\n",
    "    lines = file.readlines()\n",
    "    \n",
    "    # 设置存储数据和城市名称的空列表\n",
    "    data, city_name = [], []\n",
    "    for line in lines:\n",
    "        \n",
    "        # 将每一行按照逗号进行分割\n",
    "        items = line.split(',')\n",
    "        \n",
    "        # 将分割后每一行中索引为0的元素添加到城市名称列表中，将其余元素添加到数据列表中\n",
    "        data.append(items[1:])\n",
    "        city_name.append(items[0])\n",
    "    return data, city_name\n",
    "\n",
    "# 读取数据\n",
    "data, city_name = loaddata('31省市居民家庭消费水平-city.txt')\n",
    "\n",
    "# 调用KMeans方法，设定聚类中心为3，其余参数均为默认值\n",
    "km = KMeans(n_clusters = 3)\n",
    "\n",
    "# 调用fit_predict方法计算类中心，并未样本预测对应的标签（该例中分为3类，即标签为：0、1、2）\n",
    "label = km.fit_predict(data)\n",
    "\n",
    "# 将每一类中各个样本与类中心的距离加总\n",
    "expenses = np.sum(km.cluster_centers_, axis = 1)\n",
    "\n",
    "# 设定空列表，用于存放每一类对应城市的名称\n",
    "city_cluster = [[], [], []]\n",
    "for i in range(len(city_name)):\n",
    "    \n",
    "    # 将city_name中城市名称与由fit_predict函数为每个样本预测的标签相匹配\n",
    "    city_cluster[label[i]].append(city_name[i])\n",
    "\n",
    "for i in range(len(city_cluster)):\n",
    "    \n",
    "    # 打印每一类中各样本与类中心距离之和\n",
    "    print('Expenses: %.2f' % expenses[i])\n",
    "    \n",
    "    # 打印每一类中的城市名称\n",
    "    print(city_cluster[i])"
   ]
  },
  {
   "cell_type": "markdown",
   "metadata": {},
   "source": [
    "### 3、输出标签，查看结果"
   ]
  }
 ],
 "metadata": {
  "kernelspec": {
   "display_name": "Python 3",
   "language": "python",
   "name": "python3"
  },
  "language_info": {
   "codemirror_mode": {
    "name": "ipython",
    "version": 3
   },
   "file_extension": ".py",
   "mimetype": "text/x-python",
   "name": "python",
   "nbconvert_exporter": "python",
   "pygments_lexer": "ipython3",
   "version": "3.6.0"
  }
 },
 "nbformat": 4,
 "nbformat_minor": 2
}
