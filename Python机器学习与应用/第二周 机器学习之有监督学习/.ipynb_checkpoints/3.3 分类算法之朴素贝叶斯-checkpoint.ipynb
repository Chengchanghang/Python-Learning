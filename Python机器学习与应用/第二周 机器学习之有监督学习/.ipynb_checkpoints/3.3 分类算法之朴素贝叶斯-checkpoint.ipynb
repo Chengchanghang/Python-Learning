{
 "cells": [
  {
   "cell_type": "markdown",
   "metadata": {},
   "source": [
    "# 分类算法之朴素贝叶斯\n",
    "1、**基本原理**\n",
    "\n",
    "- 朴素贝叶斯分类器是一个以贝叶斯定理为基础的多分类的分类器。该分类器属于典型的生成学习算法，由训练数据学习联合概率分布，并求得后验概率分布。**在小规模数据上表现很好，适合进行多分类任务。**\n",
    "\n",
    "$$贝叶斯定理:p(A|B) = \\frac{p(B|A) \\cdot p(A)}{p(B)}$$\n",
    "\n",
    "- 对于给定数据，首先基于特征的条件独立性检验，学习输入输出的联合概率分布，然后基于此对给定的输入x，利用贝叶斯定理求出后验概率最大的输出y。\n",
    "\n",
    "- 基本步骤为：\n",
    " - 设$X = {a_{1},a_{2},...,a_{n}}$为一个待分类项，每个a为x的一个特征属性\n",
    " - 类别集合$Y = {y_{1},y_{2},...,y_{n}}$\n",
    " - 分别计算$p(y_{1}|x), p(y_{2}|x),..., p(y_{n}|x)$\n",
    " - 若$p(y_{k}|x) = max\\{p(y_{1}|x), p(y_{2}|x),..., p(y_{n}|x)\\}$，则$x \\in y_{k}$\n",
    " \n",
    "2、**sklearn库与朴素贝叶斯**\n",
    "\n",
    "- **navie_bayes.GaussianNB**：高斯朴素贝叶斯\n",
    "- **naive_bayes.GaussianNB**：针对多项式模型的朴素贝叶斯分类器\n",
    "- **naive_bayes.GaussianNB**：针对多元伯努利模型的朴素贝叶斯分类器\n",
    "- **三者区别**：假设某一特征的所有属于某个类别的观测值符合特定分布，如：分类问题的特征包括人的身高，身高符合高斯分布，即该问题适用于高斯朴素贝叶斯\n",
    "\n",
    "3、**sklearn.naive_bayes.GaussianNB主要参数**\n",
    "\n",
    "- **priors**：给定各个类别的先验概率。若不指定，则按训练数据的实际情况进行统计；若给定先验概率，则在训练过程中不可进行更改。\n",
    "\n",
    "4、****"
   ]
  },
  {
   "cell_type": "markdown",
   "metadata": {},
   "source": [
    "### 1、导入相关模块"
   ]
  },
  {
   "cell_type": "code",
   "execution_count": 8,
   "metadata": {
    "collapsed": false
   },
   "outputs": [],
   "source": [
    "import numpy as np\n",
    "from sklearn.naive_bayes import GaussianNB"
   ]
  },
  {
   "cell_type": "markdown",
   "metadata": {},
   "source": [
    "### 2、加载数据集"
   ]
  },
  {
   "cell_type": "code",
   "execution_count": 9,
   "metadata": {
    "collapsed": false
   },
   "outputs": [],
   "source": [
    "x = np.array([[-1, -1], [-2, -1], [-3, -2], [1, 1], [2, 1], [3, 2]])\n",
    "y = np.array([1, 1, 1, 2, 2, 2])"
   ]
  },
  {
   "cell_type": "markdown",
   "metadata": {},
   "source": [
    "### 3、调用朴素贝叶斯算法，设定默认参数"
   ]
  },
  {
   "cell_type": "code",
   "execution_count": 14,
   "metadata": {
    "collapsed": false
   },
   "outputs": [
    {
     "name": "stdout",
     "output_type": "stream",
     "text": [
      "[1 2]\n"
     ]
    }
   ],
   "source": [
    "baye = GaussianNB(priors = None)\n",
    "\n",
    "baye.fit(x, y)\n",
    "print(baye.predict([[-0.8, -1], [4, 5]]))"
   ]
  }
 ],
 "metadata": {
  "kernelspec": {
   "display_name": "Python 3",
   "language": "python",
   "name": "python3"
  },
  "language_info": {
   "codemirror_mode": {
    "name": "ipython",
    "version": 3
   },
   "file_extension": ".py",
   "mimetype": "text/x-python",
   "name": "python",
   "nbconvert_exporter": "python",
   "pygments_lexer": "ipython3",
   "version": "3.6.0"
  }
 },
 "nbformat": 4,
 "nbformat_minor": 2
}
