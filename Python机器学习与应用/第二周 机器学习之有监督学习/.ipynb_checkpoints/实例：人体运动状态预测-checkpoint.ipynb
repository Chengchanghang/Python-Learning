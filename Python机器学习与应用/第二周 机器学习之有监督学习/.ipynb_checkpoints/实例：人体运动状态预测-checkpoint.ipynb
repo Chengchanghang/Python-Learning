{
 "cells": [
  {
   "cell_type": "markdown",
   "metadata": {},
   "source": [
    "# 实例：人体运动状态预测\n",
    "1、**背景介绍**\n",
    "\n",
    "- 可穿戴设备流行，从而可以获取到人体各项数据，包括生理数据\n",
    "- 当采集到大量数据后，即可通过数据进行分析和建模，利用各项特征的数值进行用户状态的判断，根据用户所处的状态霆给用户更精确、便利的服务。\n",
    "\n",
    "2、**数据介绍**\n",
    "\n",
    "- 收集A、B、C、D、E五位用户可穿戴设备的数据，每个用户的数据集包含一个特征文件（a.feature）和一个标签文件（a.label）\n",
    "\n",
    "- 特征文件中每一行对应一个时刻的所有数值，标签文件中每行记录了和特征文件中对于时刻的标记过的用户姿态，两个文件行数一致，相同行之间互相对应。\n",
    "\n",
    "- 特征文件数据介绍：\n",
    " - 第一列：时间戳\n",
    " - 第二列：心率数据\n",
    " - 第3-15列：传感器1的数据\n",
    "   - 第三列：温度数据，反映当前活动的剧烈程度，静止状态体温趋于36.5度上下；当温度高于37度时，可能是短时间的剧烈运动，如：跑步、骑行\n",
    "   - 4-6列：一型三轴加速度；7-9列：二型三轴加速度。通过使用这两个型号的加速度传感器，利用互相印证方式保证数据完整性和准确性。通过加速度传感器对应三个数值，可以知道空间中x、y、z三个轴上对应的加速度，而空间上的加速度和用户的姿态有密切关系，如：用户向上跳起，z轴的加速度会激增。\n",
    "   - 10-12列：三轴陀螺仪，该仪器为角运动检测常用仪器，可以判断用户佩戴传感器时的身体角度是水平、倾斜或垂直，也是推断用户姿态的重要指标。\n",
    "   - 13-15列：三轴磁场，可用于检验用户周围的磁场强度和数值大小，从而了解用户所处环境，如：在一个办公场所，用户座位附近磁场大体上固定，当磁场发生变化时即可推断用户所处位置和场景发生了变化。\n",
    "   \n",
    "- 标签文件数据介绍\n",
    " - 每一行代表与特征文件中对应行的用户姿态类别，0-24共25种身体姿态，如：无活动姿态、坐姿、跑态等，该文件作为训练集的目标变量，可进行特征的监督学习。\n",
    " \n",
    "3、**算法流程**\n",
    "\n",
    "- 从特征文件和标签文件中将所有数据加载到内存中，由于存在缺失值，故需要进行数据预处理\n",
    "- 根据具体算法创建对应的分类器，并使用训练数据进行训练\n",
    "- 利用测试集预测，通过使用真实值和预测值对比，计算模型整体准确率和召回率，评测模型效果"
   ]
  },
  {
   "cell_type": "markdown",
   "metadata": {},
   "source": [
    "### 1、导入相关模块"
   ]
  },
  {
   "cell_type": "code",
   "execution_count": 10,
   "metadata": {
    "collapsed": true
   },
   "outputs": [],
   "source": [
    "# 数组结构，进行高效计算\n",
    "import numpy as np\n",
    "# 数据分析库\n",
    "import pandas as pd\n",
    "# 路径模块\n",
    "import os\n",
    "\n",
    "# 数据预处理模块，用于缺失值的插补\n",
    "from sklearn.preprocessing import Imputer\n",
    "# 将数组或矩阵随机分割为训练集和测试集\n",
    "from sklearn.model_selection import train_test_split\n",
    "# 生成展示分类结果的文本报告\n",
    "from sklearn.metrics import classification_report\n",
    "\n",
    "# 分别导入K近邻、决策树、高斯朴素贝叶斯算法\n",
    "from sklearn.neighbors import KNeighborsClassifier\n",
    "from sklearn.tree import DecisionTreeClassifier\n",
    "from sklearn.naive_bayes import GaussianNB"
   ]
  },
  {
   "cell_type": "markdown",
   "metadata": {},
   "source": [
    "### 2、导入数据\n",
    "- 分别导入特征数据和标签数据"
   ]
  },
  {
   "cell_type": "code",
   "execution_count": 13,
   "metadata": {
    "collapsed": false
   },
   "outputs": [],
   "source": [
    "# 数据导入函数，参数feature_path、label_path分别为特征文件列表和标签文件列表\n",
    "def loadData(features_path, label_path):\n",
    "   \n",
    "    # 定义特征数组变量，列数量和特征维度一致为41\n",
    "    feature = np.ndarray(shape = (0, 41))\n",
    "    # 定义标签数组变量，列数量与标签维度一致为1\n",
    "    label = np.ndarray(shape = (0, 1))\n",
    "\n",
    "    # 处理特征文件\n",
    "    for file in feature_path:\n",
    "        # 使用逗号分隔符读取特征数据，设置缺失值为“？”,文件不包含表头\n",
    "        df = pd.read_table(file, delimiter=',', na_values='?', header=None)\n",
    "        # 使用平均值填补缺失值，strategy = 'mean'用于指定平均值插补缺失值\n",
    "        imp = Imputer(missing_values='NaN', strategy='mean', axis=0)\n",
    "        # 用于训练预处理器\n",
    "        imp.fit(df)\n",
    "        # 用于生成预处理结果\n",
    "        df = imp.transform(df)\n",
    "        # 将新读入的数据合并到特征集合中\n",
    "        feature = np.concatenate((feature, df))\n",
    "    \n",
    "    # 处理标签文件\n",
    "    for file in label_path:\n",
    "        # 读取标签数据，文件中不含表头\n",
    "        df = pd.read_table(file, header = None)\n",
    "        # 将读入数据合并到标签集合中\n",
    "        label = np.concatenate((label, df))\n",
    "    # 将标签归整为一维向量\n",
    "    label = np.ravel(label)\n",
    "    \n",
    "    return feature, label"
   ]
  },
  {
   "cell_type": "markdown",
   "metadata": {},
   "source": [
    "### 3、数据准备 \n",
    "**注意**：\n",
    "\n",
    "- 在Windows中使用Pandas库读取数据时，应当按照以下方式进行读取，否则会出现异常：OSError:Initializing from file failed\n",
    " - 首先导入**os模块**\n",
    " - 初始化路径，即将当前路径赋值：pwd = os.getcwd()\n",
    " - 将路径切换到要读取的文件路径下：file_path = os.chdir(r'目标路径')\n",
    " - 利用Pandas模块读取文件：df = pd.read_csv(file)\n",
    " - 返回初始路径：os.chdir(pwd)"
   ]
  },
  {
   "cell_type": "code",
   "execution_count": 15,
   "metadata": {
    "collapsed": false,
    "scrolled": true
   },
   "outputs": [
    {
     "name": "stdout",
     "output_type": "stream",
     "text": [
      "1741640 1366857\n"
     ]
    }
   ],
   "source": [
    "# 设置数据路径\n",
    "pwd = os.getcwd()\n",
    "file_path = os.chdir(r'D:\\学习资料\\学习笔记\\Python项目\\案例数据')\n",
    "\n",
    "feature_path = ['A.feature', 'B.feature', 'C.feature', 'D.feature', 'E.feature']\n",
    "label_path = ['A.label', 'B.label', 'C.label', 'D.label', 'E.label']\n",
    "\n",
    "# 将前4个数据作为训练集读入\n",
    "x_train, y_train = loadData(featurePaths[:4],labelPaths[:4])\n",
    "# 将最后一个数据作为测试集读入\n",
    "# x_test, y_test = loadData(feature_path[4:], label_path[4:])\n",
    "\n",
    "# # 使用全量数据作为训练集，借助train_test_split函数将训练集打乱\n",
    "# x_train, x_, y_train, y_ = train_test_split(x_train, y_train, test_size = 0.0)\n",
    "print(len(x_train), len(y_train))\n",
    "os.chdir(pwd)"
   ]
  },
  {
   "cell_type": "markdown",
   "metadata": {},
   "source": [
    "### 4、调用算法，构建模型"
   ]
  },
  {
   "cell_type": "code",
   "execution_count": null,
   "metadata": {
    "collapsed": false
   },
   "outputs": [],
   "source": [
    "# 创建K近邻分类器，并利用测试集进行预测\n",
    "print('Start training KNN')\n",
    "knn = KNeighborsClassifier().fit(x_train, y_train)\n",
    "print('Training done!')\n",
    "knn_pre = knn.predict(x_test)\n",
    "print('Prediction done!')"
   ]
  },
  {
   "cell_type": "code",
   "execution_count": null,
   "metadata": {
    "collapsed": true
   },
   "outputs": [],
   "source": []
  },
  {
   "cell_type": "code",
   "execution_count": 12,
   "metadata": {
    "collapsed": false
   },
   "outputs": [
    {
     "name": "stdout",
     "output_type": "stream",
     "text": [
      "1366857 1366857\n"
     ]
    }
   ],
   "source": [
    "import os\n",
    "import pandas as pd\n",
    "import numpy as np  \n",
    " \n",
    "from sklearn.preprocessing import Imputer\n",
    "from sklearn.cross_validation import train_test_split \n",
    "from sklearn.metrics import classification_report\n",
    "   \n",
    "from sklearn.neighbors import KNeighborsClassifier\n",
    "from sklearn.tree import DecisionTreeClassifier\n",
    "from sklearn.naive_bayes import GaussianNB\n",
    " \n",
    "def load_datasets(feature_paths, label_paths):\n",
    "    \n",
    "    feature = np.ndarray(shape=(0,41))\n",
    "    \n",
    "    label = np.ndarray(shape=(0,1))\n",
    "    \n",
    "    for file in feature_paths:\n",
    "        df = pd.read_table(file, delimiter=',', na_values='?', header=None)\n",
    "        imp = Imputer(missing_values='NaN', strategy='mean', axis=0)\n",
    "        imp.fit(df)\n",
    "        df = imp.transform(df)\n",
    "        feature = np.concatenate((feature, df))\n",
    "     \n",
    "    for file in label_paths:\n",
    "        df = pd.read_table(file, header=None)\n",
    "        label = np.concatenate((label, df))\n",
    "         \n",
    "    label = np.ravel(label)\n",
    "    return feature, label\n",
    "\n",
    "pwd = os.getcwd()\n",
    "file_path = os.chdir(r'D:\\学习资料\\学习笔记\\Python项目\\案例数据')\n",
    "\n",
    "''' 数据路径 '''\n",
    "featurePaths = ['A.feature','B.feature','C.feature','D.feature','E.feature']\n",
    "labelPaths = ['A.label','B.label','C.label','D.label','E.label']\n",
    "''' 读入数据  '''\n",
    "x_train,y_train = load_datasets(featurePaths[:4],labelPaths[:4])\n",
    "# x_test,y_test = load_datasets(featurePaths[4:],labelPaths[4:])\n",
    "# x_train, x_, y_train, y_ = train_test_split(x_train, y_train, test_size = 0.0)\n",
    "\n",
    "print(len(x_train), len(y_train))\n",
    "\n",
    "os.chdir(pwd)"
   ]
  },
  {
   "cell_type": "code",
   "execution_count": null,
   "metadata": {
    "collapsed": true
   },
   "outputs": [],
   "source": []
  }
 ],
 "metadata": {
  "kernelspec": {
   "display_name": "Python 3",
   "language": "python",
   "name": "python3"
  },
  "language_info": {
   "codemirror_mode": {
    "name": "ipython",
    "version": 3
   },
   "file_extension": ".py",
   "mimetype": "text/x-python",
   "name": "python",
   "nbconvert_exporter": "python",
   "pygments_lexer": "ipython3",
   "version": "3.6.0"
  }
 },
 "nbformat": 4,
 "nbformat_minor": 2
}
