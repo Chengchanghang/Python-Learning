{
 "cells": [
  {
   "cell_type": "markdown",
   "metadata": {},
   "source": [
    "# 分类模型之K近邻（KNN）\n",
    "1、**基本原理**\n",
    "\n",
    "- 通过计算待分类数据点与已知数据集中的所有数据点间的距离，选取距离最小的前K个点，根据“少数服从多数”的原则，将这个数据点划分到出现次数最多的那个类别。\n",
    "\n",
    "2、**sklearn库与K近邻**\n",
    "\n",
    "- 在sklearn库中，使用sklearn.neighbors.KNeighborsClassifier创建一个K近邻分类器，主要参数有：\n",
    " - **n_neighbors**：用于指定分类器中K的大小，默认值为5；\n",
    " - **weights**：设置选中的K个点对分类结果影响的权重，默认值为平均权重“uniform”，可以选择“distance”代表越近的点权重越高，也可以传入自己编写的以距离为参数的权重计算函数。\n",
    " - **algorithm**：设置用于计算临近点的方法，因为当数据量很大的情况下计算当前点和所有点的距离再选出最近的K个点，计算量较大且费时，所以选项中有ball_tree、kd_tree和brute，分别表示不同的寻找近邻的优化算法，默认值为auto，根据训练数据自动选择\n",
    " \n",
    "3、**实践经验**\n",
    "\n",
    "- 实际使用中，使用所有训练数据构成特征X和标签Y，使用fit()函数进行训练。在正式分类时，通过一次性构造测试集或者一个一个输入样本的方式，得到样本对应的分类结果。\n",
    "\n",
    "- **关于K的取值**：\n",
    " - 若较大，则相当于使用较大邻域中的训练实例进行预测，可以减小估计误差，但是由于选取的邻域较大包含部分距离较远的样本，从而影响了预测结果导致预测错误；\n",
    " - 若较小，则相当于使用较小的邻域进行预测，若计算的相邻点恰好为噪声点，就会导致过拟合；\n",
    " - 一般情况下，**K值的选取倾向于较小值**，并使用**交叉验证法选取最优K值**"
   ]
  },
  {
   "cell_type": "markdown",
   "metadata": {},
   "source": [
    "# 实例演示"
   ]
  },
  {
   "cell_type": "markdown",
   "metadata": {},
   "source": [
    "### 1、创建一组数据X及对应的标签y"
   ]
  },
  {
   "cell_type": "code",
   "execution_count": 1,
   "metadata": {
    "collapsed": true
   },
   "outputs": [],
   "source": [
    "x = [[0], [1], [2], [3]]\n",
    "y = [0, 0, 1, 1]"
   ]
  },
  {
   "cell_type": "markdown",
   "metadata": {},
   "source": [
    "### 2、使用import导入K近邻分类器"
   ]
  },
  {
   "cell_type": "code",
   "execution_count": 3,
   "metadata": {
    "collapsed": false
   },
   "outputs": [],
   "source": [
    "from sklearn.neighbors import KNeighborsClassifier"
   ]
  },
  {
   "cell_type": "markdown",
   "metadata": {},
   "source": [
    "### 3、调用K近邻算法，并设定相关参数构建分类器"
   ]
  },
  {
   "cell_type": "code",
   "execution_count": 9,
   "metadata": {
    "collapsed": false
   },
   "outputs": [
    {
     "name": "stdout",
     "output_type": "stream",
     "text": [
      "KNeighborsClassifier(algorithm='auto', leaf_size=30, metric='minkowski',\n",
      "           metric_params=None, n_jobs=1, n_neighbors=3, p=2,\n",
      "           weights='uniform')\n",
      "KNeighborsClassifier(algorithm='auto', leaf_size=30, metric='minkowski',\n",
      "           metric_params=None, n_jobs=1, n_neighbors=3, p=2,\n",
      "           weights='uniform')\n"
     ]
    }
   ],
   "source": [
    "neigh = KNeighborsClassifier(n_neighbors = 3)\n",
    "\n",
    "neigh_class = neigh.fit(x, y)\n",
    "print(neigh_class)"
   ]
  },
  {
   "cell_type": "markdown",
   "metadata": {},
   "source": [
    "### 4、利用训练好的模型对未知数据进行分类"
   ]
  },
  {
   "cell_type": "code",
   "execution_count": 29,
   "metadata": {
    "collapsed": false
   },
   "outputs": [
    {
     "name": "stdout",
     "output_type": "stream",
     "text": [
      "[0]\n",
      "[1]\n",
      "[2]\n",
      "[3]\n",
      "[4]\n",
      "[5]\n",
      "[6]\n",
      "[7]\n",
      "[8]\n",
      "[9]\n"
     ]
    }
   ],
   "source": [
    "import numpy as np\n",
    "\n",
    "a = np.arange(10).reshape((10, -1))\n",
    "\n",
    "for i in a:\n",
    "    print(i)\n",
    "#     print('{} belong to Label {}。'.format(i, neigh_class.predict(i)))\n"
   ]
  },
  {
   "cell_type": "code",
   "execution_count": null,
   "metadata": {
    "collapsed": true
   },
   "outputs": [],
   "source": []
  }
 ],
 "metadata": {
  "kernelspec": {
   "display_name": "Python 3",
   "language": "python",
   "name": "python3"
  },
  "language_info": {
   "codemirror_mode": {
    "name": "ipython",
    "version": 3
   },
   "file_extension": ".py",
   "mimetype": "text/x-python",
   "name": "python",
   "nbconvert_exporter": "python",
   "pygments_lexer": "ipython3",
   "version": "3.6.0"
  }
 },
 "nbformat": 4,
 "nbformat_minor": 2
}
