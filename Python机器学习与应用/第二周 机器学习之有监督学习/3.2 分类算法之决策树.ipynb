{
 "cells": [
  {
   "cell_type": "markdown",
   "metadata": {},
   "source": [
    "# 分类算法之决策树\n",
    "1、**基本原理**\n",
    "\n",
    "- 决策树为一种树形结构的分类器，通过顺序询问分类点的属性决定分类点的最终类别。一般根据特征的信息增益或其他指标，构建一棵决策树。在分类时，只需要按照决策树中的结点依次进行判断，即可得到样本所属类别。\n",
    "\n",
    "2、**sklearn库与决策树**\n",
    "\n",
    "- 在sklearn库中，使用sklearn.tree.DecisionTreeClassifier创建一个决策树用于分类，**主要参数**有：\n",
    " - **criterion**：用于作为选择属性的准则，默认为“gini”，表示基尼系数；也可以使用“entropy”代表信息增益；\n",
    " - **max_features**：表示在决策树结点进行分裂时，从多少个特征中选择最优特征。可以设定int、float、auto、sqrt、log2、none，默认为none，即max_features = n_features,使用所有特征个数。\n",
    " \n",
    "3、**实质**\n",
    "\n",
    "- 决策树本质上是寻找一种对特征空间上的划分，旨在构建一个训练数据拟合好且复杂度小的决策树。\n",
    "- 实际使用中，需要根据数据情况，调整DecisionTreeClassifier类中传入的参数，如：选择合适的criterion，设置随机变量等"
   ]
  },
  {
   "cell_type": "markdown",
   "metadata": {},
   "source": [
    "### 1、导入相关库"
   ]
  },
  {
   "cell_type": "code",
   "execution_count": 29,
   "metadata": {
    "collapsed": false
   },
   "outputs": [],
   "source": [
    "# 加载数据集，该例中使用鸢尾花数据集\n",
    "from sklearn import datasets \n",
    "# 导入决策树算法模块\n",
    "from sklearn.tree import DecisionTreeClassifier\n",
    "# 导入交叉验证模块（cross_val_score:用于计算交叉验证值的函数）\n",
    "from sklearn.model_selection import cross_val_score\n",
    "# 导入可视化模块\n",
    "import matplotlib.pyplot as plt\n",
    "# 导入数组模块\n",
    "import numpy as np"
   ]
  },
  {
   "cell_type": "markdown",
   "metadata": {},
   "source": [
    "### 2、加载数据集"
   ]
  },
  {
   "cell_type": "code",
   "execution_count": 5,
   "metadata": {
    "collapsed": false
   },
   "outputs": [],
   "source": [
    "x_iris, y_iris = datasets.load_iris(return_X_y = True)"
   ]
  },
  {
   "cell_type": "markdown",
   "metadata": {},
   "source": [
    "### 3、调用决策树算法，设定默认参数"
   ]
  },
  {
   "cell_type": "code",
   "execution_count": 23,
   "metadata": {
    "collapsed": false
   },
   "outputs": [
    {
     "name": "stdout",
     "output_type": "stream",
     "text": [
      "DecisionTreeClassifier(class_weight=None, criterion='gini', max_depth=None,\n",
      "            max_features=None, max_leaf_nodes=None,\n",
      "            min_impurity_split=1e-07, min_samples_leaf=1,\n",
      "            min_samples_split=2, min_weight_fraction_leaf=0.0,\n",
      "            presort=False, random_state=None, splitter='best')\n"
     ]
    }
   ],
   "source": [
    "tree = DecisionTreeClassifier()\n",
    "print(tree)"
   ]
  },
  {
   "cell_type": "markdown",
   "metadata": {},
   "source": [
    "### 4、调用交叉验证对数据集进行划分（训练集、测试集）"
   ]
  },
  {
   "cell_type": "code",
   "execution_count": 15,
   "metadata": {
    "collapsed": false
   },
   "outputs": [
    {
     "data": {
      "text/plain": [
       "array([ 1.        ,  0.93333333,  1.        ,  0.93333333,  0.93333333,\n",
       "        0.86666667,  0.93333333,  0.93333333,  1.        ,  1.        ])"
      ]
     },
     "execution_count": 15,
     "metadata": {},
     "output_type": "execute_result"
    }
   ],
   "source": [
    "# cv = 10即为10折交叉验证\n",
    "cross_val_score(tree, x_iris, y_iris, cv = 10)"
   ]
  },
  {
   "cell_type": "code",
   "execution_count": 42,
   "metadata": {
    "collapsed": false
   },
   "outputs": [
    {
     "data": {
      "text/plain": [
       "array([0])"
      ]
     },
     "execution_count": 42,
     "metadata": {},
     "output_type": "execute_result"
    }
   ],
   "source": [
    "# 利用fit(x_train, y_train)拟合数据构建模型\n",
    "tree.fit(x_iris, y_iris)\n",
    "\n",
    "# 使用predict(x_test)进行预测\n",
    "tree.predict(np.arange(4).reshape((1, -1)))"
   ]
  }
 ],
 "metadata": {
  "kernelspec": {
   "display_name": "Python 3",
   "language": "python",
   "name": "python3"
  },
  "language_info": {
   "codemirror_mode": {
    "name": "ipython",
    "version": 3
   },
   "file_extension": ".py",
   "mimetype": "text/x-python",
   "name": "python",
   "nbconvert_exporter": "python",
   "pygments_lexer": "ipython3",
   "version": "3.6.0"
  }
 },
 "nbformat": 4,
 "nbformat_minor": 2
}
