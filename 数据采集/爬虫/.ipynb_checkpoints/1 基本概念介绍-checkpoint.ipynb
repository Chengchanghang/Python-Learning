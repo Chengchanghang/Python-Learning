{
 "cells": [
  {
   "cell_type": "markdown",
   "metadata": {},
   "source": [
    "# 一、HTTP简介\n",
    "- HTTP：HyperText Transfer Protocol，超文本传输协议\n",
    "- URI：Uniform Resource Identifier\n",
    "- URL：Uniform Resource Locator\n",
    "- URI与URL的区别：URI强调的是资源；URL强调的是资源的位置（即链接）\n",
    "- 常用的请求类型：\n",
    " - OPTIONS：返回服务器针对特定资源所支持的http请求方法；\n",
    " - HEAD：向服务器所要与get请求相一致的响应，但响应体并不会返回；\n",
    " - GET：向特定资源发出请求；\n",
    " - PUT：向指定资源位置上传其最新内容；\n",
    " - POST：向指定资源位置提交数据进行处理请求；\n",
    " - DELETE：请求服务器删除指定URI所标识的资源；\n",
    " - PATCH：用来将局部修改应用于某一资源。\n",
    "- HTTP常见状态码：\n",
    " - 200/OK：请求成功；\n",
    " - 201/Created：请求已被实现且一个新资源已根据请求被建立，URI跟随Location头信息返回（如：上传文件时较为常见，表示上传成功）；\n",
    " - 202/Accepted：服务器已接受请求，但尚未处理；\n",
    " - 400/Bad Request：请求无法被服务器理解；\n",
    " - 401/Unauthorized：当前请求需要用户验证（即用户名、密码错误）；\n",
    " - 403/Forbidden：服务器已理解请求，但拒绝执行；\n",
    " - 404/Not Found"
   ]
  },
  {
   "cell_type": "markdown",
   "metadata": {},
   "source": [
    "# 二、HTML、XML和JSON\n",
    "- [HTML](http://www.w3school.com.cn/html/index.asp)(Hypertext Markup Language)\n",
    " - HTML不是编程语言，而是一种标记语言，即HTML使用标记标签来描述网页；\n",
    " - 标签和元素\n",
    " - DOM文档模型\n",
    "- [XML](http://www.w3school.com.cn/xml/index.asp)（eXtensible Markup Language）\n",
    " - 树结构\n",
    "![](http://www.w3school.com.cn/i/ct_nodetree1.gif)\n",
    "\n",
    "- [JSON](http://www.w3school.com.cn/json/index.asp)（JavaScript Object Notation）\n",
    " - 语法类似XML，但是更小、更快、更容易解析，对JavaScript特别友好"
   ]
  },
  {
   "cell_type": "markdown",
   "metadata": {},
   "source": [
    "# 三、数据库\n",
    "- MySQL与SQLite\n",
    " - 都是基于SQL的数据库\n",
    " - SQLite相较MySQL轻便好用，但是在大数据情况下效率变差，适合于单机小程序\n",
    " - MySQL常用命令：\n",
    "   - show databases：显示当前服务器上的数据库\n",
    "   - create databases：创建一个新数据库\n",
    "   - use dbname：使用指定的数据库\n",
    "   - show tables：显示当前数据库的所有表\n",
    "   - desc tbname：显示表结构\n",
    "- MongoDB\n",
    " - 属于NoSQL数据库"
   ]
  },
  {
   "cell_type": "markdown",
   "metadata": {},
   "source": [
    "# 四、爬虫框架介绍\n",
    "- 爬虫工作流程：\n",
    " - 将种子URL放入对列；\n",
    " - 从对列中获取URL，抓取内容；\n",
    " - 解析抓取内容，将需要进一步抓取的URL放入工作队列，存储解析后的内容\n",
    "- 抓取策略\n",
    " - 深度优先：例某个页面有多个专题，每个专题下又有多个子专题，则抓取过程中依次将每个专题以及对应的子专题全部抓取完，再开始下一个专题，依次进行；\n",
    " - 广度优先：\n",
    " - PageRank：根据网页质量进行排序，即转化为深度优先进行抓取\n",
    " - 大站优先策略\n",
    "- 抓取内容去重方法\n",
    " - Hash去重（在大型商业应用中，不采用Hash去重）\n",
    " - bloom过滤器（在大型商业应用中使用），该过滤器非常节省内存，即针对网页计算Hash值（如：0001101110），当抓取新网页后将其计算为Hash值与之前的进行比对，若不存在（较大概率说明之前抓取的内容中没有该内容），则保存；反之，则不保存。\n",
    "- 爬虫质量标准\n",
    " - 分布式（可极大提高效率）\n",
    " - 可伸缩性\n",
    " - 性能和有效性\n",
    " - 质量（垃圾数据尽可能少）\n",
    " - 新鲜性\n",
    " - 更新\n",
    " - 可扩展性\n",
    " - MapReduce\n",
    " - 布隆过滤器"
   ]
  },
  {
   "cell_type": "markdown",
   "metadata": {},
   "source": [
    "# 五、Robots规范与原则\n",
    "- Robots规范\n",
    " - Robots协议：又称为爬虫协议、机器人协议等，全称为“网络爬虫排除标准”（Robots Exclusion Protocol），网站通过Robots协议告知搜索引擎哪些页面可以爬取，哪些页面不可以爬取。\n",
    " - Robots的本质：网站和搜索引擎爬虫的沟通方式，用来指导搜索引擎更好的抓取网站内容，而不是作为搜索引擎间互相限制和不正当竞争的工具。"
   ]
  }
 ],
 "metadata": {
  "kernelspec": {
   "display_name": "Python 3",
   "language": "python",
   "name": "python3"
  },
  "language_info": {
   "codemirror_mode": {
    "name": "ipython",
    "version": 3
   },
   "file_extension": ".py",
   "mimetype": "text/x-python",
   "name": "python",
   "nbconvert_exporter": "python",
   "pygments_lexer": "ipython3",
   "version": "3.6.0"
  }
 },
 "nbformat": 4,
 "nbformat_minor": 2
}
