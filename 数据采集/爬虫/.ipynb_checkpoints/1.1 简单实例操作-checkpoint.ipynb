{
 "cells": [
  {
   "cell_type": "markdown",
   "metadata": {},
   "source": [
    "# 实例一：邮政编码查询网站\n",
    "- 网址：http://www.ip138.com/post/\n",
    "- 目标：获取各省份的链接编号"
   ]
  },
  {
   "cell_type": "markdown",
   "metadata": {},
   "source": [
    "## 补充：\n",
    "- xml库：xml为一种固定分层数据格式，利用树结构表示的最自然的一种方式。该库包含两个模块，分别表示不同的目的\n",
    " - ElementTree：该子模块将整个XML文件表示为一个树结构；\n",
    " - Element：表示这个树结构中一个单个节点"
   ]
  },
  {
   "cell_type": "code",
   "execution_count": 1,
   "metadata": {
    "collapsed": false
   },
   "outputs": [],
   "source": [
    "import requests\n",
    "import xml.etree.ElementTree as ET\n",
    "from xml.parsers.expat import ParserCreate"
   ]
  },
  {
   "cell_type": "code",
   "execution_count": 17,
   "metadata": {
    "collapsed": false
   },
   "outputs": [
    {
     "name": "stdout",
     "output_type": "stream",
     "text": [
      "Help on built-in function Parse:\n",
      "\n",
      "Parse(data, isfinal=False, /) method of pyexpat.xmlparser instance\n",
      "    Parse XML data.\n",
      "    \n",
      "    `isfinal' should be true at end of input.\n",
      "\n"
     ]
    }
   ],
   "source": [
    "parser = ParserCreate()\n",
    "help(parser.Parse)"
   ]
  },
  {
   "cell_type": "code",
   "execution_count": 46,
   "metadata": {
    "collapsed": false
   },
   "outputs": [
    {
     "data": {
      "text/plain": [
       "[('新疆', '/83/'),\n",
       " ('西藏', '/85/'),\n",
       " ('青海', '/81/'),\n",
       " ('甘肃', '/73/'),\n",
       " ('四川', '/61/'),\n",
       " ('云南', '/65/'),\n",
       " ('宁夏', '/75/'),\n",
       " ('内蒙古', '/01/'),\n",
       " ('黑龙江', '/15/'),\n",
       " ('吉林', '/13/'),\n",
       " ('辽宁', '/11/'),\n",
       " ('河北', '/50/'),\n",
       " ('北京', '/10/'),\n",
       " ('天津', '/30/'),\n",
       " ('陕西', '/71/'),\n",
       " ('山西', '/03/'),\n",
       " ('山东', '/25/'),\n",
       " ('河南', '/45/'),\n",
       " ('重庆', '/40/'),\n",
       " ('湖北', '/43/'),\n",
       " ('安徽', '/23/'),\n",
       " ('江苏', '/21/'),\n",
       " ('上海', '/20/'),\n",
       " ('贵州', '/55/'),\n",
       " ('广西', '/53/'),\n",
       " ('湖南', '/41/'),\n",
       " ('江西', '/33/'),\n",
       " ('浙江', '/31/'),\n",
       " ('福建', '/35/'),\n",
       " ('广东', '/51/'),\n",
       " ('海南', '/57/'),\n",
       " ('台湾', '/taiwang/'),\n",
       " ('澳门', '/aomen/'),\n",
       " ('香港', '/xianggang/')]"
      ]
     },
     "execution_count": 46,
     "metadata": {},
     "output_type": "execute_result"
    }
   ],
   "source": [
    "class DefaultSaxHandler(object):\n",
    "    def __init__(self, provinces):\n",
    "        self.provinces = provinces\n",
    "    \n",
    "    # 处理起始标签内容\n",
    "    def start_element(self, name, attrs):\n",
    "        # 判断标签名称是否为“map”\n",
    "        if name != 'map':\n",
    "            # 若标签名称不是“map”，则获取标签“title”和“href”的内容\n",
    "            name = attrs['title']\n",
    "            number = attrs['href']\n",
    "            self.provinces.append((name, number))\n",
    "    \n",
    "    # 处理结尾标签内容\n",
    "    def end_element(self, name):\n",
    "        pass\n",
    "    \n",
    "    # 处理字符串\n",
    "    def char_data(self, text):\n",
    "        pass\n",
    " \n",
    "def get_province_entry(url):\n",
    "    # 由于该网站的编码为gb2312，若为Unicode则对其解码（也可使用content.encoding = content.apparent_encoding）\n",
    "    content = requests.get(url).content.decode('gb2312') \n",
    "\n",
    "    # 确定要查找字符串的开始位置，并用切片获取内容\n",
    "    start = content.find('<map name=\\\"map_86\\\" id=\\\"map_86\\\">')\n",
    "    \n",
    "    # 确定要查找字符串的结束位置，并用切片获取内容\n",
    "    end = content.find('</map>')\n",
    "    \n",
    "    # 返回起始位置—结束位置对应的内容，end+len('</map>')将标签“</map>”添加到末尾\n",
    "    content = content[start:end + len('</map>')].strip()\n",
    "    #print(content)\n",
    "    \n",
    "    province = []\n",
    "    \n",
    "    # 生成Sax解析器\n",
    "    handle = DefaultSaxHandler(province)\n",
    "    \n",
    "    # 初始化分析器\n",
    "    parser = ParserCreate()\n",
    "    \n",
    "    # 分别处理起始内容、结束内容、字符串内容\n",
    "    parser.StartElementHandler = handle.start_element\n",
    "    parser.EndElementHandler = handle.end_element\n",
    "    parser.CharacterDataHandler = handle.char_data\n",
    "    \n",
    "    # 解析数据\n",
    "    parser.Parse(content)\n",
    "    return province\n",
    "   \n",
    "get_province_entry('http://www.ip138.com/post')"
   ]
  },
  {
   "cell_type": "markdown",
   "metadata": {
    "collapsed": true
   },
   "source": [
    "# 实例二：股票数据抓取\n",
    "- 新浪股票数据接口：http://hq.sinajs.cn/list=sh600001"
   ]
  },
  {
   "cell_type": "code",
   "execution_count": 33,
   "metadata": {
    "collapsed": true
   },
   "outputs": [],
   "source": [
    "import requests\n",
    "import threading"
   ]
  },
  {
   "cell_type": "code",
   "execution_count": 47,
   "metadata": {
    "collapsed": false
   },
   "outputs": [
    {
     "name": "stdout",
     "output_type": "stream",
     "text": [
      "var hq_str_sh600001=\"\";\n",
      "var hq_str_sh600002=\"\";\n",
      "\n",
      "var hq_str_sh600004=\"白云机场,16.670,16.750,16.820,17.050,16.670,16.820,16.830,20900116,352790872.000,4000,16.820,10987,16.810,16900,16.800,42000,16.790,42176,16.780,55200,16.830,24500,16.840,100231,16.850,39705,16.860,117805,16.870,2017-06-02,15:00:00,00\";\n",
      "var hq_str_sh600003=\"\";\n",
      "\n",
      "\n",
      "\n",
      "var hq_str_sh600005=\"武钢股份,0.000,0.000,0.000,0.000,0.000,0.000,0.000,0,0.000,0,0.000,0,0.000,0,0.000,0,0.000,0,0.000,0,0.000,0,0.000,0,0.000,0,0.000,0,0.000,2017-06-02,09:14:42,00\";\n",
      "\n"
     ]
    }
   ],
   "source": [
    "# 发起请求，获取每个股票的页面内容\n",
    "def display_info(code):\n",
    "    url = 'http://hq.sinajs.cn/list=' + code\n",
    "    wb_data = requests.get(url).text\n",
    "    print(wb_data)\n",
    "    \n",
    "def single_thread(codes):\n",
    "    for code in codes:\n",
    "        code = code.strip()\n",
    "        display_info(code)\n",
    "\n",
    "def multi_thread(tasks):\n",
    "    # 用列表解析式生成线程（注意：codes后边的“,”）\n",
    "    thread = [threading.Thread(target = single_thread, args = (codes, )) for codes in tasks]\n",
    "    \n",
    "    # 启动线程\n",
    "    for t in thread:\n",
    "        t.start()\n",
    "    \n",
    "    # 等待线程结束\n",
    "    for t in thread:\n",
    "        t.join()\n",
    "\n",
    "if __name__ == '__main__':\n",
    "    codes = ['sh600001', 'sh600002', 'sh600003', 'sh600004', 'sh600005']\n",
    "    \n",
    "    # 计算每个线程的工作量\n",
    "    thread_len = int(len(codes) / 4)\n",
    "    t1 = codes[0 : thread_len]\n",
    "    t2 = codes[thread_len : thread_len * 2]\n",
    "    t3 = codes[thread_len * 2 : thread_len * 3]\n",
    "    t4 = codes[thread_len * 3 : ]\n",
    "    \n",
    "    # 多线程启动\n",
    "    multi_thread([t1, t2, t3, t4])"
   ]
  }
 ],
 "metadata": {
  "kernelspec": {
   "display_name": "Python 3",
   "language": "python",
   "name": "python3"
  }
 },
 "nbformat": 4,
 "nbformat_minor": 2
}
