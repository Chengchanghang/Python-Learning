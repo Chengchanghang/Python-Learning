{
 "cells": [
  {
   "cell_type": "markdown",
   "metadata": {},
   "source": [
    "# Python编程入门"
   ]
  },
  {
   "cell_type": "markdown",
   "metadata": {},
   "source": [
    "## 一、代码格式\n",
    "- **强制缩进**：Python开发者通过让违反缩进规则的程序则无法通过编译，进而来强制程序员养成良好变成习惯，同时利用缩进表示语句块的开始和结束，增加缩进表示语句块的开始，减少缩进表示语句块的结束\n",
    "- Python中约定必须使用**4个空格**来表示每一级的缩进"
   ]
  },
  {
   "cell_type": "markdown",
   "metadata": {},
   "source": [
    "## 二、基本语法"
   ]
  },
  {
   "cell_type": "markdown",
   "metadata": {},
   "source": [
    "- Python是一种弱类型语言，即在Python中声明某个对象时无需声明该对象的类型"
   ]
  },
  {
   "cell_type": "code",
   "execution_count": 2,
   "metadata": {
    "collapsed": false
   },
   "outputs": [
    {
     "name": "stdout",
     "output_type": "stream",
     "text": [
      "1234\n",
      "1234\n"
     ]
    }
   ],
   "source": [
    "a = 1234\n",
    "print(a)\n",
    "a = '1234'\n",
    "print(a)"
   ]
  },
  {
   "cell_type": "markdown",
   "metadata": {},
   "source": [
    "- Python的所有变量必须先赋值再使用。若未事先对变量进行赋值，则使用时会出现异常：NameError: name 变量名 is not define."
   ]
  },
  {
   "cell_type": "code",
   "execution_count": 4,
   "metadata": {
    "collapsed": false
   },
   "outputs": [
    {
     "name": "stdout",
     "output_type": "stream",
     "text": [
      "name 'b' is not defined\n"
     ]
    }
   ],
   "source": [
    "try:\n",
    "    print(b)\n",
    "except Exception as e:\n",
    "    print(e)"
   ]
  },
  {
   "cell_type": "markdown",
   "metadata": {},
   "source": [
    "- 小心引用。Python通过引用来传递变量，因此在引用时需小心。"
   ]
  },
  {
   "cell_type": "code",
   "execution_count": 6,
   "metadata": {
    "collapsed": false
   },
   "outputs": [
    {
     "name": "stdout",
     "output_type": "stream",
     "text": [
      "[2, 2, 3, 4]\n"
     ]
    }
   ],
   "source": [
    "a = [1, 2, 3, 4]\n",
    "def func(a):\n",
    "    a[0] = 2\n",
    "\n",
    "func(a)\n",
    "print(a)"
   ]
  },
  {
   "cell_type": "markdown",
   "metadata": {},
   "source": [
    "- Python 2和Python 3的常见差异\n",
    " - Python 2中的循环中常见xrange，用于解决效率问题；在Python 3中使用range；\n",
    " - Python 2中print后无需加括号；在Python 3中则为print()\n",
    " - Python 2中数据类型不统一；在Python 3中统一了数据类型，默认为utf-8，取消了Unicode和long长整数。"
   ]
  },
  {
   "cell_type": "markdown",
   "metadata": {},
   "source": [
    "## 三、Python常见关键字\n",
    "- **常量**：\n",
    " - True、False\n",
    " - None（在逻辑判断中，None等价于False；在判断容器为空时，即为None）\n",
    "-  **对象和容器**：\n",
    " - class（用于声明一个对象）\n",
    " - import（导入模块）\n",
    " - from（从package中导入子模块，常与import连用）\n",
    " - del（从容器中删除对象）\n",
    "- **逻辑操作**：and（与）、or（或）、not（非）\n",
    "- **函数**：def（定义函数）、return（返回函数执行的结果）\n",
    "- **判断与循环控制**：\n",
    " - if、elif、else（判断语句）\n",
    " - is、in（成员关系符）\n",
    " - assert（断言关键字）\n",
    " - for、while、continue、break（循环语句）\n",
    "- **异常**：\n",
    " - raise（引发一个异常）\n",
    " - try ... except ... finally（当try中语句块有异常时，则执行except中的语句块，finally中的语句块也一并执行）\n",
    " - with ... as（常见于文件打开中，该语句无需执行f.close()，会自动关闭文件）\n",
    "- **作用域**：global（用于声明某个变量为全局变量）、nonlocal\n",
    "- **匿名函数和协程**：\n",
    " - yield：生成器\n",
    " - lambda：简化函数"
   ]
  },
  {
   "cell_type": "code",
   "execution_count": 10,
   "metadata": {
    "collapsed": false
   },
   "outputs": [
    {
     "name": "stdout",
     "output_type": "stream",
     "text": [
      "name 'b' is not defined\n",
      "OK!\n"
     ]
    }
   ],
   "source": [
    "try:\n",
    "    print(b)\n",
    "except Exception as e:\n",
    "    print(e)\n",
    "finally:\n",
    "    print('OK!')"
   ]
  },
  {
   "cell_type": "markdown",
   "metadata": {},
   "source": [
    "## 四、循环控制\n",
    "- if、while、elif等后边必须加“：”\n",
    "- Python中没有do-while循环，只有while-do循环，即任何循环都不能先执行一遍再判断条件，只能是先判断条件再执行过程\n",
    "- Python中没有switch，则只能通过if ... else进行判断\n",
    "- Python中break中断当前整个循环过程；continue结束的是本次迭代进入下一个\n",
    "- Python中for循环只作用于容器"
   ]
  },
  {
   "cell_type": "code",
   "execution_count": 11,
   "metadata": {
    "collapsed": false
   },
   "outputs": [
    {
     "name": "stdout",
     "output_type": "stream",
     "text": [
      "B\n"
     ]
    }
   ],
   "source": [
    "score = 80\n",
    "if score > 90:\n",
    "    print('A')\n",
    "elif score > 70 and score <= 90:\n",
    "    print('B')\n",
    "elif score > 60 and score <= 70:\n",
    "    print('C')\n",
    "else:\n",
    "    print('D')"
   ]
  },
  {
   "cell_type": "code",
   "execution_count": 13,
   "metadata": {
    "collapsed": false
   },
   "outputs": [
    {
     "name": "stdout",
     "output_type": "stream",
     "text": [
      "5050\n"
     ]
    }
   ],
   "source": [
    "i, sum = 1, 0\n",
    "while i <= 100:\n",
    "    sum += i\n",
    "    i += 1\n",
    "print(sum)"
   ]
  },
  {
   "cell_type": "code",
   "execution_count": null,
   "metadata": {
    "collapsed": false
   },
   "outputs": [],
   "source": [
    "i, j = 0, 0\n",
    "while i < 3:\n",
    "    while j <= 3:\n",
    "        if j == 2:\n",
    "#             break\n",
    "            continue\n",
    "        print(i, j)\n",
    "        j += 1\n",
    "    i += 1"
   ]
  },
  {
   "cell_type": "markdown",
   "metadata": {},
   "source": [
    "## 五、函数\n",
    "- def定义函数\n",
    "- 参数：形参（函数体中指定的参数名）、实参（传入函数的变量）、默认参数（函数体中指定数值的参数）、关键字参数（通过赋值形式定义的参数，如：arg1 = None）\n",
    "- 函数也是对象\n",
    "- 函数式编程：map、reduce、lambda"
   ]
  },
  {
   "cell_type": "code",
   "execution_count": 23,
   "metadata": {
    "collapsed": false
   },
   "outputs": [
    {
     "name": "stdout",
     "output_type": "stream",
     "text": [
      "hello, world！\n"
     ]
    }
   ],
   "source": [
    "def saying(who = 'world'):\n",
    "    print('hello, %s！' % who)\n",
    "\n",
    "saying()"
   ]
  },
  {
   "cell_type": "code",
   "execution_count": null,
   "metadata": {
    "collapsed": false
   },
   "outputs": [],
   "source": []
  },
  {
   "cell_type": "code",
   "execution_count": null,
   "metadata": {
    "collapsed": true
   },
   "outputs": [],
   "source": []
  }
 ],
 "metadata": {
  "kernelspec": {
   "display_name": "Python 3",
   "language": "python",
   "name": "python3"
  },
  "language_info": {
   "codemirror_mode": {
    "name": "ipython",
    "version": 3
   },
   "file_extension": ".py",
   "mimetype": "text/x-python",
   "name": "python",
   "nbconvert_exporter": "python",
   "pygments_lexer": "ipython3",
   "version": "3.6.0"
  }
 },
 "nbformat": 4,
 "nbformat_minor": 2
}
