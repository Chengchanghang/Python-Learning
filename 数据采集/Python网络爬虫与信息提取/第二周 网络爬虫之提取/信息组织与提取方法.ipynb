{
 "cells": [
  {
   "cell_type": "code",
   "execution_count": null,
   "metadata": {
    "collapsed": true,
    "deletable": true,
    "editable": true
   },
   "outputs": [],
   "source": [
    "# 信息标记的三种形式\n",
    "'''\n",
    "信息标记，即对获取的信息进行“命名”，例如：戴尔，可将其标记为电脑\n",
    "\n",
    "作用：\n",
    "标记后的信息可形成信息组织结构，增加信息的维度\n",
    "标记后的信息可用于通信、存储或展示\n",
    "标记的结构与信息一样具有重要价值\n",
    "标记后的信息有利于程序理解和应用\n",
    "\n",
    "以下以HTML为例进行信息标记的讲解：\n",
    "HTML—hyper text markup language，超文本标记语言\n",
    "HTML是WWW（world wide web）的信息组织方式\n",
    "HTML能够将声音、图像、视频等超文本信息嵌入到文本中\n",
    "HTML可以通过预定义的标签将不同类型的信息组织起来\n",
    "\n",
    "信息标记的种类：\n",
    "XML—extensible markup language,扩展标记语言(与HTML很接近的语言)\n",
    "JSON—javascript object notation,javasript语言面向对象的表达方式，\n",
    "    键值对形式，无论键或值都需要加双引号，若值是数字，则直接写数字即可，\n",
    "    其中值有多个时，可使用方括号以逗号隔开的形式“[,]”\n",
    "    键值对还可以嵌套使用，即将键值对放在其他键值对里边，采用大括号以逗号隔开的形式“{,}”\n",
    "YAML—采用无类型键值对，无论键或值都没有双引号，而是通过缩进表示所属关系\n",
    "    以“-”表示并列关系，当某个键对应多个值时即可每个值前加该符号\n",
    "    以“|”表示整块数据，当某个键对应的值较多时采用该符号进行标记\n",
    "    以“#”表示注释\n",
    "    \n",
    "三种信息标记形式的比较：\n",
    "XML—最早的通用信息标记语言，可扩展性好，但繁琐，在Internet信息交互和表达主要采用该形式\n",
    "JSON—信息有类型，适合程序处理(js)，较XML简洁，应用于移动应用云端和节点的信息通信，无注释\n",
    "YAML—信息无类型，文本信息比例最高，可读性较好，应用于各类系统的配置文件，有注释易读\n",
    "'''"
   ]
  },
  {
   "cell_type": "code",
   "execution_count": null,
   "metadata": {
    "collapsed": true,
    "deletable": true,
    "editable": true
   },
   "outputs": [],
   "source": [
    "# XML实例\n",
    "<person>\n",
    "    <firstname>Zhipeng</firstname>\n",
    "    <lastname>Wei</lastname>\n",
    "    <address>\n",
    "        <streetAddr>小店区坞城路696号</streetAddr>\n",
    "        <city>太原市</city>\n",
    "        <zipcode>033306</zipcode>\n",
    "    </address>\n",
    "    <prof>aaaa</prof><prof>bbbb</prof>\n",
    "</person>"
   ]
  },
  {
   "cell_type": "code",
   "execution_count": null,
   "metadata": {
    "collapsed": true,
    "deletable": true,
    "editable": true
   },
   "outputs": [],
   "source": [
    "# JSON实例\n",
    "{\n",
    "    \"firstname\": \"Zhipeng\",\n",
    "    \"lastname\" : \"Wei\"    ,\n",
    "    \"address\"  : {\n",
    "                    \"streetAddr\": \"小店区坞城路696号\",\n",
    "                    \"city\"      : \"太原市\"           ,\n",
    "                    \"zipcode\"   : \"033306\"           ,\n",
    "                    },\n",
    "    \"prof\"     : [\"aaaa\", \"bbbb\"]\n",
    "}"
   ]
  },
  {
   "cell_type": "code",
   "execution_count": null,
   "metadata": {
    "collapsed": true,
    "deletable": true,
    "editable": true
   },
   "outputs": [],
   "source": [
    "# YAML实例\n",
    "firstname : Zhipeng\n",
    "lastname  : Wei\n",
    "address   : \n",
    "    streetAddr : 小店区坞城路696号\n",
    "    city       : 太原市\n",
    "    zipcode    : 033306\n",
    "prof      :\n",
    "- aaaa\n",
    "- bbbb"
   ]
  },
  {
   "cell_type": "code",
   "execution_count": null,
   "metadata": {
    "collapsed": true,
    "deletable": true,
    "editable": true
   },
   "outputs": [],
   "source": [
    "# 信息提取的一般方法\n",
    "'''\n",
    "提取方法：\n",
    "方法一：完整解析信息的标记形式，再提取关键信息。\n",
    "    需要标记解析器将需要的信息提取出来，例：bs4库的标签树遍历\n",
    "    优点：信息解析准确\n",
    "    缺点：提取过程缓慢，速度慢，而且需要对信息的整体结构有所把握\n",
    "方法二：无视标记形式，直接搜索获取关键信息\n",
    "   只需要使用查找函数查找对应信息即可\n",
    "   优点：提取过程简单，速度快\n",
    "   缺点：提取结果准确性欠缺\n",
    "融合方法：结合方法一与方法二的提取策略来提取关键信息\n",
    "    需要标记解析器，并使用查找函数进行查找\n",
    "'''"
   ]
  },
  {
   "cell_type": "code",
   "execution_count": null,
   "metadata": {
    "collapsed": true,
    "deletable": true,
    "editable": true
   },
   "outputs": [],
   "source": [
    "# 小试牛刀\n",
    "'''\n",
    "提取HTML中所有url链接\n",
    "\n",
    "思路：1、搜索所有a标签\n",
    "      2、解析a标签格式，提取href后的链接内容\n",
    "'''"
   ]
  },
  {
   "cell_type": "code",
   "execution_count": 2,
   "metadata": {
    "collapsed": false,
    "deletable": true,
    "editable": true
   },
   "outputs": [
    {
     "name": "stdout",
     "output_type": "stream",
     "text": [
      "http://www.icourse163.org/course/BIT-268001\n",
      "http://www.icourse163.org/course/BIT-1001870001\n"
     ]
    }
   ],
   "source": [
    "import requests\n",
    "from bs4 import BeautifulSoup\n",
    "url = 'http://python123.io/ws/demo.html'\n",
    "r = requests.get(url)\n",
    "soup = BeautifulSoup(r.text, 'html.parser')\n",
    "for link in soup.find_all('a'):\n",
    "    print(link.get('href'))"
   ]
  },
  {
   "cell_type": "code",
   "execution_count": null,
   "metadata": {
    "collapsed": true,
    "deletable": true,
    "editable": true
   },
   "outputs": [],
   "source": [
    "# 基于bs4库的HTML内容查找方法\n",
    "'''\n",
    "BeautifulSoup提供的方法：\n",
    ".find_all(name, attrs, recursive, string, **kwargs)—返回值是列表的形式，存储查找的结果\n",
    "          name     : 对标签名称的检索字符串。查看一个标签则只需要输入对应标签名即可；\n",
    "                                             查看多个标签则以列表形式写入多个标签名作为name参数值\n",
    "                                             若name = True，则输出所有标签信息\n",
    "          attrs    : 对标签属性值的检索字符串，可标注属性检索，即检索某个属性中是否包含了某些字符串\n",
    "          recursive: 布尔值，从根节点查看是否对子孙全部搜索，默认为True\n",
    "          string   : 对标签中字符串区域进行检索的字符串\n",
    "          **kwargs :\n",
    "\n",
    "扩展方法：以下方法的参数均与.find_all()的参数相同\n",
    ".find()—搜索且只返回一个结果，字符串类型\n",
    ".find_parents()—在先辈节点中搜索，返回列表类型\n",
    ".find_parent()—在先辈节点中返回一个结果，字符串类型\n",
    ".find_next_siblings()—在后续平行节点中搜索，返回列表类型\n",
    ".find_next_sibling()—在后续平行节点中返回一个结果，字符串类型\n",
    ".find_previous_siblings()—在前续平行节点中搜索，返回列表类型\n",
    ".find_previous_sibling()—在前续平行节点中返回一个结果，字符串类型\n",
    "'''"
   ]
  },
  {
   "cell_type": "code",
   "execution_count": 32,
   "metadata": {
    "collapsed": false,
    "deletable": true,
    "editable": true
   },
   "outputs": [
    {
     "data": {
      "text/plain": [
       "[<a class=\"py1\" href=\"http://www.icourse163.org/course/BIT-268001\" id=\"link1\">Basic Python</a>,\n",
       " <a class=\"py2\" href=\"http://www.icourse163.org/course/BIT-1001870001\" id=\"link2\">Advanced Python</a>]"
      ]
     },
     "execution_count": 32,
     "metadata": {},
     "output_type": "execute_result"
    }
   ],
   "source": [
    "# 小试牛刀\n",
    "import requests\n",
    "from bs4 import BeautifulSoup\n",
    "import re                                   # 正则表达式库\n",
    "\n",
    "url = 'http://python123.io/ws/demo.html'\n",
    "r = requests.get(url)\n",
    "soup = BeautifulSoup(r.text, 'html.parser')\n",
    "soup.find_all('a')                          # 检索a标签—返回包含所有a标签的列表\n",
    "soup.find_all(['a', 'b'])                   # 查看多个标签内容\n",
    "\n",
    "# for i in soup.find_all(True):             # 若标签名称为True，则输出所有标签名称信息\n",
    "#     print(i.name)\n",
    "    \n",
    "# for i in soup.find_all(re.compile('b')):\n",
    "#     print(i.name)                          # 通过正则表达式打印所有以“b”开头的标签\n",
    "\n",
    "soup.find_all('p', 'course')                 # 查找p标签中属性为course的内容\n",
    "soup.find_all(id = 'link1')                  # 查找id属性为link1的内容\n",
    "soup.find_all(id = 'link')                   # 查找id属性为link的内容\n",
    "soup.find_all(id = re.compile('link'))       # 利用正则表达式查找以link开头的所有字符串\n",
    "soup.find_all('a', recursive = False)        # 设置为False即表示从soup根节点开始查找包含a标签的子节点\n",
    "soup.find_all(string = 'Basic Python')       # 检索soup中包含该字符串的内容\n",
    "soup.find_all(string = re.compile('Python')) # 通过正则表达式查找包含Python的所有字符串\n",
    "soup('a')                                    # 该方法等价于soup.find_all('a)"
   ]
  }
 ],
 "metadata": {
  "kernelspec": {
   "display_name": "Python 3",
   "language": "python",
   "name": "python3"
  },
  "language_info": {
   "codemirror_mode": {
    "name": "ipython",
    "version": 3
   },
   "file_extension": ".py",
   "mimetype": "text/x-python",
   "name": "python",
   "nbconvert_exporter": "python",
   "pygments_lexer": "ipython3",
   "version": "3.6.0"
  }
 },
 "nbformat": 4,
 "nbformat_minor": 2
}
