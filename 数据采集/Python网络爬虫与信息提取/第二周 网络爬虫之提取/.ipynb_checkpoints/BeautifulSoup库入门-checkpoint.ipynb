{
 "cells": [
  {
   "cell_type": "code",
   "execution_count": 4,
   "metadata": {
    "collapsed": false,
    "deletable": true,
    "editable": true
   },
   "outputs": [],
   "source": [
    "# BeautifulSoup库\n",
    "# 官方网站：http://www.crummy.com/software/BeautifulSoup/\n",
    "# windows安装方法：命令行—pip3 install BeautifulSoup(此为python 3安装方法，Python则是pip，不是pip3)\n",
    "# 作用：该库是解析、遍历、维护“标签树”的功能库\n",
    "'''\n",
    "基本格式：\n",
    "from bs4 import BeautifulSoup # 从bs4库中导入BeautifulSoup类\n",
    "soup = BeautifulSoup(arg1, arg2)\n",
    "    arg1—表示需要解析的内容\n",
    "    arg2—表示使用的解析器\n",
    "\n",
    "基本用法：\n",
    "from bs4 import BeautifulSoup\n",
    "soup = BeautifulSoup('<html>data</html>', 'lxml') # 直接解析标签类html/xml文档\n",
    "soup1 = BeautifulSoup(open(path), 'lxml')         # 使用open函数打开指定路径下的标签类html/xml文件进行解析\n",
    "\n",
    "主要解析器：\n",
    "bs4的HTML解析器—arg2即为html.parser—需要安装bs4库\n",
    "lxml的HTML解析器—arg2即为lxml—pip3 install lxml\n",
    "lxml的XML解析器—arg2即为xml—pip3 install lxml\n",
    "html5lib的解析器—arg2即为html5lib—pip install html5lib\n",
    "\n",
    "BeautifulSoup类的基本元素：\n",
    "Tag—标签，最基本的信息组织单元，分别用<>和</>表明开头和结尾\n",
    "Name—标签的名字，格式为<tag>.name，例:<p>...</p>的名字为“p”\n",
    "Attributes—标签的属性，字典形式组织，格式：<tag>.attrs\n",
    "NavigableString—标签内非属性字符串，<>...</>中的字符串，格式：<tag>.string\n",
    "Comment—标签内字符串的注释部分，一种特殊的Comment类型\n",
    "'''"
   ]
  },
  {
   "cell_type": "code",
   "execution_count": 2,
   "metadata": {
    "collapsed": false,
    "deletable": true,
    "editable": true,
    "scrolled": true
   },
   "outputs": [
    {
     "name": "stdout",
     "output_type": "stream",
     "text": [
      "<title>This is a python demo page</title>\n",
      "-------------------------------\n",
      "a\n",
      "-------------------------------\n",
      "p\n",
      "-------------------------------\n",
      "body\n",
      "-------------------------------\n",
      "{'href': 'http://www.icourse163.org/course/BIT-268001', 'class': ['py1'], 'id': 'link1'}\n",
      "-------------------------------\n",
      "['py1']\n",
      "-------------------------------\n",
      "<p class=\"title\"><b>The demo python introduces several python courses.</b></p>\n",
      "-------------------------------\n",
      "The demo python introduces several python courses.\n",
      "-------------------------------\n",
      "This is a comment\n",
      "-------------------------------\n",
      "This is not a comment\n"
     ]
    }
   ],
   "source": [
    "# 小试牛刀1：BeautifulSoup基本方法练习\n",
    "import requests\n",
    "from bs4 import BeautifulSoup\n",
    "\n",
    "url = 'http://python123.io/ws/demo.html'\n",
    "r = requests.get(url)\n",
    "r.status_code\n",
    "soup = BeautifulSoup(r.text, 'lxml')\n",
    "# soup.title                                   # 显示title标签的内容\n",
    "# soup.a                                       # 当存在多个同样的标签时，该方法只能获得第一个，如a标签\n",
    "\n",
    "# 查看标签名字—使用name即可\n",
    "# soup.a.name                                  # 查看“a”标签的名字—获得的标签名字是字符串类型\n",
    "# soup.a.parent.name                           # 查看“a”标签父亲即上一层标签的名字\n",
    "# soup.a.parent.parent.name                    # 同理，更上一层标签的名字\n",
    "\n",
    "# 查看标签属性—使用attrs即可\n",
    "# soup.a.attrs                                   # 查看标签属性，其返回值是字典的形式\n",
    "# soup.a.attrs['class']                          # 查看对应标签中某个属性的值\n",
    "\n",
    "# 查看标签的NavigableString类型—使用string即可\n",
    "# soup.p.string\n",
    "\n",
    "# 查看标签的Comment(注释)类型—使用string即可\n",
    "newsoup = BeautifulSoup('<b><!--This is a comment--></b><p>This is not a comment</p>', 'lxml')\n",
    "# newsoup.b.string\n",
    "# newsoup.p.string\n",
    "\n",
    "# 标签b是注释Comment，标签p时字符串NavigableString\n",
    "# 二者都通过使用string查看具体内容，返回值类型完全一致，因此实践中遇到这两类必须仔细查看源代码中二者的类型\n",
    "\n",
    "print(soup.title, soup.a.name, soup.a.parent.name, soup.a.parent.parent.name, \n",
    "      soup.a.attrs, soup.a.attrs['class'],\n",
    "      soup.p, soup.p.string,\n",
    "      newsoup.b.string, newsoup.p.string,\n",
    "      sep = '\\n-------------------------------\\n')\n",
    "# print(soup.prettify()) # 通过prettify函数可以将HTML文档按照一定的格式打印出来"
   ]
  },
  {
   "cell_type": "code",
   "execution_count": null,
   "metadata": {
    "collapsed": true,
    "deletable": true,
    "editable": true
   },
   "outputs": [],
   "source": [
    "# 基于bs4库的HTML内容遍历方法\n",
    "# HTML代码是由各种不同的标签添加了不同的属性，并加入文本信息构成，基本格式可以看作是“标签树”的形式\n",
    "# html遍历的方式：下行遍历、上行遍历和平行遍历\n",
    "\n",
    "'''\n",
    "下行遍历:\n",
    ".contents—可获取子节点的列表，将<tag>所有儿子节点存入列表\n",
    ".children—子节点的迭代类型，与.contents类似，用于循环遍历儿子节点\n",
    ".descendants—子孙节点的迭代类型，包含所有子孙节点，用于循环遍历\n",
    "(前两者只获取某个节点下一层的节点信息，二第三个则是获得该节点以下的所有节点信息)\n",
    "\n",
    "上行遍历：\n",
    ".parent—节点的父亲标签\n",
    ".parents—节点先辈标签的迭代类型，用于循环遍历先辈节点\n",
    "\n",
    "平行遍历：所有的平行遍历必须是发生在同一个父亲节点下\n",
    ".next_sibling—返回按照HTML文本顺序的下一个文本节点标签\n",
    ".previous_sibling—返回按照HTML文本顺序的上一个平行节点标签\n",
    ".next_siblings—迭代类型，返回按照HTML文本顺序的后续所有平行节点标签\n",
    ".previous_siblings—迭代类型，返回按照HTML文本顺序的前续所有平行节点标签\n",
    "'''"
   ]
  },
  {
   "cell_type": "code",
   "execution_count": 53,
   "metadata": {
    "collapsed": false
   },
   "outputs": [
    {
     "name": "stdout",
     "output_type": "stream",
     "text": [
      " and \n",
      "<a class=\"py2\" href=\"http://www.icourse163.org/course/BIT-1001870001\" id=\"link2\">Advanced Python</a>\n",
      ".\n",
      "Python is a wonderful general-purpose programming language. You can learn Python from novice to professional by tracking the following courses:\r\n",
      "\n"
     ]
    }
   ],
   "source": [
    "# 小试牛刀：bs4库遍历HTML方法练习(续前节)\n",
    "\n",
    "# 下行遍历\n",
    "soup.head                     # 查看head标签\n",
    "soup.head.contents            # 查看head标签的儿子节点—返回列表\n",
    "\n",
    "soup.body                     # body标签\n",
    "soup.body.contents            # body标签的儿子节点—儿子节点并不只是标签，还包括回车等\n",
    "len(soup.body.contents)       # 查看body下儿子节点的个数\n",
    "soup.body.contents[1]         # 通过列表索引的方式查看某个儿子节点的信息\n",
    "\n",
    "for i in soup.body.children:  # 通过.children遍历儿子节点\n",
    "    pass                      # 可通过print(i)打印\n",
    "\n",
    "for i in soup.body.descendants:\n",
    "    pass                      # 可通过print(i.name)打印子孙节点的标签名\n",
    "    \n",
    "# 上行遍历\n",
    "soup.title.parent             # title的父亲节点\n",
    "# for i in soup.title.parents:  # 通过.parents遍历title的父辈节点\n",
    "#     print(i.name)\n",
    "# print(soup.parent)            # soup的父亲节点并不存在\n",
    "\n",
    "# 平行遍历\n",
    "soup.a.next_sibling.next_sibling          # 查看标签a后续节点\n",
    "soup.a.previous_sibling.previous_sibling  # 查看标签a前续节点\n",
    "\n",
    "for i in soup.a.next_siblings:            # 遍历标签a后续节点\n",
    "    print(i)\n",
    "for i in soup.a.previous_siblings:        # 遍历标签a前续节点\n",
    "    print(i)"
   ]
  },
  {
   "cell_type": "code",
   "execution_count": 46,
   "metadata": {
    "collapsed": false
   },
   "outputs": [
    {
     "name": "stdout",
     "output_type": "stream",
     "text": [
      "p\n",
      "body\n",
      "html\n",
      "[document]\n"
     ]
    }
   ],
   "source": [
    "# 上行遍历的全代码\n",
    "for parent in soup.a.parents:\n",
    "    if parent == None:        # 上行遍历会遍历到soup，由于其不存在就无法打印\n",
    "        print(parent)\n",
    "    else:\n",
    "        print(parent.name)"
   ]
  },
  {
   "cell_type": "code",
   "execution_count": 60,
   "metadata": {
    "collapsed": false
   },
   "outputs": [
    {
     "name": "stdout",
     "output_type": "stream",
     "text": [
      "<a class=\"py1\" href=\"http://www.icourse163.org/course/BIT-268001\" id=\"link1\">\n",
      " Basic Python\n",
      "</a>\n",
      "\n"
     ]
    },
    {
     "data": {
      "text/plain": [
       "'中文'"
      ]
     },
     "execution_count": 60,
     "metadata": {},
     "output_type": "execute_result"
    }
   ],
   "source": [
    "# 基于bs4库的HTML格式化和编码\n",
    "\n",
    "# 格式化\n",
    "# print(soup.prettify()) # prettify函数主要是向HTML文件或标签添加换行符\n",
    "print(soup.a.prettify()) # prettify函数不仅可以对整个HTML文档进行格式化，同时也可以对任一个标签格式化\n",
    "\n",
    "# 编码\n",
    "# 使用bs4库将读取的HTML文件或字符串都转换为utf-8编码(Python3中默认编码为utf-8)\n",
    "soup = BeautifulSoup('<p>中文</p>', 'lxml')\n",
    "soup.p.string            # 由于Python3默认编码方式与bs4对读取文件的编码方式均为utf-8，故字符串可以正常显示"
   ]
  }
 ],
 "metadata": {
  "kernelspec": {
   "display_name": "Python 3",
   "language": "python",
   "name": "python3"
  },
  "language_info": {
   "codemirror_mode": {
    "name": "ipython",
    "version": 3
   },
   "file_extension": ".py",
   "mimetype": "text/x-python",
   "name": "python",
   "nbconvert_exporter": "python",
   "pygments_lexer": "ipython3",
   "version": "3.6.0"
  }
 },
 "nbformat": 4,
 "nbformat_minor": 2
}
