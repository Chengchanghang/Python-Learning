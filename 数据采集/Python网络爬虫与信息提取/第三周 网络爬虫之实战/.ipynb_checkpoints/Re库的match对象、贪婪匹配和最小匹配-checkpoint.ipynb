{
 "cells": [
  {
   "cell_type": "code",
   "execution_count": 4,
   "metadata": {
    "collapsed": true
   },
   "outputs": [],
   "source": [
    "# re库的match对象—一次匹配的结果\n",
    "'''\n",
    "match对象的属性：\n",
    ".string  —match结果所对应的待匹配的文本\n",
    ".re      —匹配时使用的pattern对象（正则表达式）\n",
    ".pos     —正则表达式搜索文本的开始位置\n",
    ".endpos  —正则表达式搜索文本的结束位置\n",
    "\n",
    "match对象的方法：\n",
    ".group(0) —获得匹配后的字符串\n",
    ".start()  —匹配字符串在原始字符串的开始位置\n",
    ".end()    —匹配字符串在原始字符串的结束位置\n",
    ".span()   —返回元组类型（.start()、.end()）\n",
    "'''"
   ]
  },
  {
   "cell_type": "code",
   "execution_count": 7,
   "metadata": {
    "collapsed": false,
    "scrolled": true
   },
   "outputs": [
    {
     "name": "stdout",
     "output_type": "stream",
     "text": [
      "100081\n"
     ]
    },
    {
     "data": {
      "text/plain": [
       "_sre.SRE_Match"
      ]
     },
     "execution_count": 7,
     "metadata": {},
     "output_type": "execute_result"
    }
   ],
   "source": [
    "import re\n",
    "match = re.search('[0-9]\\d{5}', 'BIT100081')\n",
    "if match:\n",
    "    print(match.group(0))\n",
    "type(match)"
   ]
  },
  {
   "cell_type": "code",
   "execution_count": 15,
   "metadata": {
    "collapsed": false
   },
   "outputs": [
    {
     "name": "stdout",
     "output_type": "stream",
     "text": [
      "BIT100081 TSU100084\n",
      "------------\n",
      "re.compile('[0-9]\\\\d{5}')\n",
      "------------\n",
      "0\n",
      "------------\n",
      "19\n"
     ]
    }
   ],
   "source": [
    "import re\n",
    "m = re.search('[0-9]\\d{5}', 'BIT100081 TSU100084')\n",
    "print(m.string, m.re, m.pos, m.endpos, sep = '\\n------------\\n')\n",
    "# 输出待匹配字符串、匹配的正则表达式、搜索的开始位置和结束位置"
   ]
  },
  {
   "cell_type": "code",
   "execution_count": 18,
   "metadata": {
    "collapsed": false
   },
   "outputs": [
    {
     "name": "stdout",
     "output_type": "stream",
     "text": [
      "100081\n",
      "----------\n",
      "3\n",
      "----------\n",
      "9\n",
      "----------\n",
      "(3, 9)\n"
     ]
    }
   ],
   "source": [
    "print(m.group(0), m.start(), m.end(), m.span(), sep = '\\n----------\\n')\n",
    "# search函数只会返回匹配到的第一个字符串，要想获得所有匹配结果须使用finditer进行循环"
   ]
  },
  {
   "cell_type": "code",
   "execution_count": 19,
   "metadata": {
    "collapsed": false,
    "scrolled": false
   },
   "outputs": [
    {
     "data": {
      "text/plain": [
       "'PYANBNCNDN'"
      ]
     },
     "execution_count": 19,
     "metadata": {},
     "output_type": "execute_result"
    }
   ],
   "source": [
    "'''\n",
    "贪婪匹配：re库默认匹配方法，即输出匹配最长的子串\n",
    "          若不加其他条件，则以下实例中只返回最长的字符串\n",
    "          （下边实例的匹配结果包含：'PYAN','PYANBN','PYANBNCN','PYANBNCNDN'）\n",
    "'''\n",
    "import re \n",
    "match = re.search('PY.*N', 'PYANBNCNDN')\n",
    "match.group(0)"
   ]
  },
  {
   "cell_type": "code",
   "execution_count": 20,
   "metadata": {
    "collapsed": false
   },
   "outputs": [
    {
     "data": {
      "text/plain": [
       "'PYAN'"
      ]
     },
     "execution_count": 20,
     "metadata": {},
     "output_type": "execute_result"
    }
   ],
   "source": [
    "'''\n",
    "最小匹配:只需在最长匹配的正则表达式进行变换，即在“N”前加“?”\n",
    "\n",
    "最小匹配操作符（需对原始操作符进行变换）：\n",
    "*?      —前一个字符0次或无限次扩展，最小匹配\n",
    "+?      —前一个字符1次或无限次扩展，最小匹配\n",
    "??      —前一个字符0次或1次扩展，最小匹配\n",
    "{m,n}?  —扩展前一个字符m至n次（含n次），最小匹配\n",
    "\n",
    "当有操作符进行长度匹配时，均可在该操作符后添加“?”获得最小匹配\n",
    "'''\n",
    "import re \n",
    "match = re.search('PY.*?N', 'PYANBNCNDN')\n",
    "match.group(0)"
   ]
  }
 ],
 "metadata": {
  "kernelspec": {
   "display_name": "Python 3",
   "language": "python",
   "name": "python3"
  },
  "language_info": {
   "codemirror_mode": {
    "name": "ipython",
    "version": 3
   },
   "file_extension": ".py",
   "mimetype": "text/x-python",
   "name": "python",
   "nbconvert_exporter": "python",
   "pygments_lexer": "ipython3",
   "version": "3.6.0"
  }
 },
 "nbformat": 4,
 "nbformat_minor": 2
}
