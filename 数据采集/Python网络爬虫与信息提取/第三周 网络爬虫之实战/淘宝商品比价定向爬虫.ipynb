{
 "cells": [
  {
   "cell_type": "code",
   "execution_count": null,
   "metadata": {
    "collapsed": true,
    "deletable": true,
    "editable": true
   },
   "outputs": [],
   "source": [
    "'''\n",
    "淘宝商品比价定向爬虫实例介绍介绍:\n",
    "\n",
    "该案例主要抓取淘宝页面书包相关商品信息，只抓取前两页\n",
    "\n",
    "库：requests、re\n",
    "\n",
    "网页：https://s.taobao.com/search?q=书包\n",
    "\n",
    "淘宝页面均采用js渲染的ajax加载，通过正则表达式进行匹配可完成使用BeautifulSoup库不能准确进行定位的问题。\n",
    "'''\n"
   ]
  }
 ],
 "metadata": {
  "kernelspec": {
   "display_name": "Python 3",
   "language": "python",
   "name": "python3"
  },
  "language_info": {
   "codemirror_mode": {
    "name": "ipython",
    "version": 3
   },
   "file_extension": ".py",
   "mimetype": "text/x-python",
   "name": "python",
   "nbconvert_exporter": "python",
   "pygments_lexer": "ipython3",
   "version": "3.6.0"
  }
 },
 "nbformat": 4,
 "nbformat_minor": 2
}
