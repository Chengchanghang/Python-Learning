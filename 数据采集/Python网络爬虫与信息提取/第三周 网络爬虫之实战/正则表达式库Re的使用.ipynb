{
 "cells": [
  {
   "cell_type": "code",
   "execution_count": null,
   "metadata": {
    "collapsed": true,
    "deletable": true,
    "editable": true
   },
   "outputs": [],
   "source": [
    "# re库—正则表达式库\n",
    "'''\n",
    "re库是Python的标准库（即安装Python自带的库），该库主要用于字符串匹配\n",
    "\n",
    "调用方法：import re\n",
    "\n",
    "re库正则表达式表示类型：raw string类型（原生字符串类型），表示为r'text'\n",
    "    例：大陆邮政编码 r'[1-9]\\d{5}'\n",
    "        国内电话号码 r'\\d{3}-\\d{8}|\\d{4}-\\d{7}'\n",
    "    (原生字符串与字符串的区别：原生字符串只需在字符串前加“r”即可)\n",
    "    (原生字符串是指不包含转义符的字符串)\n",
    "                        string类型，但更为繁琐\n",
    "    例：若使用正则表达式表示类型为string时，以上两个例子均需使用双斜杠\n",
    "    \n",
    "注意：当正则表达式中包含转义符“\\”时，使用raw string较为简洁。\n",
    "'''"
   ]
  },
  {
   "cell_type": "code",
   "execution_count": 5,
   "metadata": {
    "collapsed": false,
    "deletable": true,
    "editable": true
   },
   "outputs": [
    {
     "name": "stdout",
     "output_type": "stream",
     "text": [
      "100081\n"
     ]
    }
   ],
   "source": [
    "# re库主要功能函数\n",
    "'''\n",
    "re.search(pattern, string, flags = 0)   \n",
    "    —在一个字符串中搜索匹配正则表达式的第一个位置，返回match对象\n",
    "    —参数意义：\n",
    "        pattern:正则表达式的字符串或原生字符串表示\n",
    "        string :待匹配字符串\n",
    "        flags  :正则表达式使用时的控制标记\n",
    "            re.I(即re.IGONORECASE):忽略正则表达式大小写，例：[A-Z]不仅能够匹配大写，也能够匹配小写字符\n",
    "            re.M(即re.MULTILINE)  :正则表达式中的“^”操作符能够将给定字符串的每行当做匹配开始\n",
    "            re.S(即re.DOTALL)     :正则表达式中的“.”操作符能够匹配所有字符，默认匹配除换行符外所有字符\n",
    "'''\n",
    "import re \n",
    "match = re.search('[1-9]\\d{5}', 'BIT 100081')\n",
    "if match:\n",
    "    print(match.group(0))"
   ]
  },
  {
   "cell_type": "code",
   "execution_count": 13,
   "metadata": {
    "collapsed": false,
    "deletable": true,
    "editable": true
   },
   "outputs": [
    {
     "name": "stdout",
     "output_type": "stream",
     "text": [
      "100081\n"
     ]
    }
   ],
   "source": [
    "'''\n",
    "re.match(pattern, string, flags = 0)    \n",
    "    —从一个字符串的开始位置起匹配正则表达式，返回match对象\n",
    "    —参数意义：\n",
    "        三个参数与re.search中的参数意义相同\n",
    "'''\n",
    "import re\n",
    "match = re.match('[0-9]\\d{5}', 'BIT 100081')\n",
    "if match:\n",
    "    print(match.group(0)) # 由于match函数是从待匹配字符串的起始位置开始匹配正则表达式，上边的字符串起始位置并非邮政编码，故返回空值\n",
    "    \n",
    "match1 = re.match('[0-9]\\d{5}', '100081 BIT')\n",
    "if match1:\n",
    "    print(match1.group(0)) # 此时，待匹配字符串起始位置是邮政编码，故匹配成功"
   ]
  },
  {
   "cell_type": "code",
   "execution_count": 15,
   "metadata": {
    "collapsed": false,
    "deletable": true,
    "editable": true
   },
   "outputs": [
    {
     "name": "stdout",
     "output_type": "stream",
     "text": [
      "['100081', '100084']\n"
     ]
    }
   ],
   "source": [
    "'''\n",
    "re.findall(pattern, string, flags = 0)  \n",
    "    —搜索字符串，以列表类型返回全部能匹配的子串\n",
    "    —参数意义：\n",
    "        三个参数与以上的意义均相同\n",
    "'''\n",
    "import re\n",
    "ls = re.findall('[0-9]\\d{5}', 'BIT100081 TSU100084')\n",
    "print(ls)  # 将字符串中所有匹配到的内容全部以列表形式打印出来"
   ]
  },
  {
   "cell_type": "code",
   "execution_count": 18,
   "metadata": {
    "collapsed": false,
    "deletable": true,
    "editable": true
   },
   "outputs": [
    {
     "name": "stdout",
     "output_type": "stream",
     "text": [
      "['BIT', ' TSU', '']\n",
      "['BIT', ' TSU100084']\n"
     ]
    }
   ],
   "source": [
    "'''\n",
    "re.split(pattern, string, maxsplit = 0, flags = 0)    \n",
    "    —将一个字符串按照正则表达式匹配结果进行分割，返回列表类型\n",
    "    —参数意义：\n",
    "        maxsplit:最大分割数，可设定将字符串分割为几部分进行匹配，超过最大分割数的部分作为最后一个元素输出\n",
    "        其余三个参数同上\n",
    "'''\n",
    "import re\n",
    "print(re.split('[0-9]\\d{5}', 'BIT100081 TSU100084')) # 将匹配的部分去掉，剩余部分放到列表中返回\n",
    "print(re.split('[0-9]\\d{5}', 'BIT100081 TSU100084', maxsplit = 1))\n",
    "# 最大分割数为1，正则表达式只匹配字符串第一个位置，故第二个整体输出"
   ]
  },
  {
   "cell_type": "code",
   "execution_count": 22,
   "metadata": {
    "collapsed": false,
    "deletable": true,
    "editable": true
   },
   "outputs": [
    {
     "name": "stdout",
     "output_type": "stream",
     "text": [
      "100081\n",
      "100084\n"
     ]
    }
   ],
   "source": [
    "'''\n",
    "re.finditer(pattern, string, flags = 0) \n",
    "    —搜索字符串，返回一个匹配结果的迭代类型，每个迭代元素是match对象，可通过循环对每一个匹配进行操作\n",
    "    —参数意义：\n",
    "        三个参数同上\n",
    "'''\n",
    "import re \n",
    "for m in re.finditer('[0-9]\\d{5}', 'BIT100081 TSU100084'):\n",
    "    if m:\n",
    "        print(m.group(0))"
   ]
  },
  {
   "cell_type": "code",
   "execution_count": 23,
   "metadata": {
    "collapsed": false,
    "deletable": true,
    "editable": true
   },
   "outputs": [
    {
     "data": {
      "text/plain": [
       "'BITzipcode TSUzipcode'"
      ]
     },
     "execution_count": 23,
     "metadata": {},
     "output_type": "execute_result"
    }
   ],
   "source": [
    "'''\n",
    "re.sub(pattern, repl, string, count = 0, flags = 0)      \n",
    "    —在一个字符串中替换所有匹配正则表达式的子串，返回替换后的字符串\n",
    "    —参数意义：\n",
    "        repl:用来替换匹配到的字符串的新字符串\n",
    "        count:匹配的最大替换次数\n",
    "'''\n",
    "import re \n",
    "re.sub('[0-9]\\d{5}', 'zipcode', 'BIT100081 TSU100084')"
   ]
  },
  {
   "cell_type": "code",
   "execution_count": null,
   "metadata": {
    "collapsed": true,
    "deletable": true,
    "editable": true
   },
   "outputs": [],
   "source": [
    "# re库的另一种等价用法\n",
    "'''\n",
    "一种用法：如上，调用不同函数，可以看做是函数式用法—一次性操作\n",
    "\n",
    "另一种用法：面向对象的用法—编译后的多次操作\n",
    "    第一步：使用re.compile将正则表达式类型编译为正则表达式类型\n",
    "    pat = re.compile('[0-9]\\d{5}')\n",
    "    \n",
    "    第二步：使用编译后的结果pat直接调用以上re库的函数\n",
    "    rst = pat.search('BIT 100081')\n",
    " \n",
    "原生字符串并非正则表达式，仅为一种表示而以\n",
    "re.compile(pattern, flags = 0)\n",
    "只有通过re.compile编译后才是正则表达式字符串，此时即可使用对应的方法（上边列举的方法）\n",
    "'''"
   ]
  },
  {
   "cell_type": "code",
   "execution_count": 26,
   "metadata": {
    "collapsed": false,
    "deletable": true,
    "editable": true
   },
   "outputs": [
    {
     "data": {
      "text/plain": [
       "'100081'"
      ]
     },
     "execution_count": 26,
     "metadata": {},
     "output_type": "execute_result"
    }
   ],
   "source": [
    "pat = re.compile('[0-9]\\d{5}')\n",
    "rst = pat.search('BIT 100081') # 此时再调用上边列举的函数则不需要pattern参数，只需传入字符串参数即可\n",
    "if rst:\n",
    "    print(rst.group(0))"
   ]
  }
 ],
 "metadata": {
  "kernelspec": {
   "display_name": "Python 3",
   "language": "python",
   "name": "python3"
  },
  "language_info": {
   "codemirror_mode": {
    "name": "ipython",
    "version": 3
   },
   "file_extension": ".py",
   "mimetype": "text/x-python",
   "name": "python",
   "nbconvert_exporter": "python",
   "pygments_lexer": "ipython3",
   "version": "3.6.0"
  }
 },
 "nbformat": 4,
 "nbformat_minor": 2
}
