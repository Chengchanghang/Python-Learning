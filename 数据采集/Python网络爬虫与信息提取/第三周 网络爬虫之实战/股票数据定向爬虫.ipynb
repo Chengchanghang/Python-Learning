{
 "cells": [
  {
   "cell_type": "code",
   "execution_count": null,
   "metadata": {
    "collapsed": true
   },
   "outputs": [],
   "source": [
    "'''\n",
    "股票数据定向爬虫\n",
    "\n",
    "功能描述：\n",
    "\n",
    "目标—获取上交所和深交所所有股票的名称和交易信息\n",
    "\n",
    "输出—保存到文件中\n",
    "\n",
    "库：requests、bs4、re\n",
    "\n",
    "网页—新浪股票：http://finance.sina.com.cn/stock/\n",
    "      百度股票：https://gupiao.baidu.com/stock/\n",
    "      \n",
    "候选数据网站的选择\n",
    "\n",
    "选择原则—股票信息静态存在于HTML页面中，非js代码生成且没有robots协议限制\n",
    "\n",
    "程序结构设计：\n",
    "\n",
    "1、从东方财富网获取股票列表\n",
    "2、根据股票列表逐个到百度股票获取个股信息\n",
    "3、将结果存储到文件中\n",
    "'''"
   ]
  }
 ],
 "metadata": {
  "kernelspec": {
   "display_name": "Python 3",
   "language": "python",
   "name": "python3"
  },
  "language_info": {
   "codemirror_mode": {
    "name": "ipython",
    "version": 3
   },
   "file_extension": ".py",
   "mimetype": "text/x-python",
   "name": "python",
   "nbconvert_exporter": "python",
   "pygments_lexer": "ipython3",
   "version": "3.6.0"
  }
 },
 "nbformat": 4,
 "nbformat_minor": 2
}
