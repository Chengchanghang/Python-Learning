{
 "cells": [
  {
   "cell_type": "code",
   "execution_count": null,
   "metadata": {
    "collapsed": true,
    "deletable": true,
    "editable": true
   },
   "outputs": [],
   "source": [
    "# 正则表达式—regular expression\n",
    "\n",
    "'''\n",
    "1、相关概念：\n",
    "\n",
    "正则表达式：通用的字符串表达框架\n",
    "            简洁表达一组字符串的表达式\n",
    "            针对字符串表达“简洁”和“特征”思想的工具\n",
    "\n",
    "正则表达式的优势：简洁(具有一行胜千言的功效)—适用于表达较长字符串或查找某些特定字符串\n",
    "\n",
    "正则表达式构成：字符与操作符构成\n",
    "\n",
    "作用：表达文本类型的特征\n",
    "      同时查找或替换一组字符串\n",
    "      匹配字符串部分或全部区域（当前正则字符串主要适用于字符串匹配中）\n",
    "      \n",
    "正则表达式的使用：编译—即将符合正则表达式语法的字符串转换成正则表达式特征\n",
    "'''"
   ]
  },
  {
   "cell_type": "code",
   "execution_count": null,
   "metadata": {
    "collapsed": true,
    "deletable": true,
    "editable": true
   },
   "outputs": [],
   "source": [
    "'''\n",
    "2、正则表达式语法\n",
    "\n",
    "正则表达式常用操作符：\n",
    "  “.”    —表示任何单个字符，可用来表示字符表上所有出现的一个字符\n",
    "  “[]”   —字符集，对单个字符给出取值范围                          —例：[abc]表示a、b、c，[a-z]表示a到z的单个字符\n",
    "  “[^ ]” —非字符集，对单个字符给出排除范围                        —例：[^abc]表示非a或b或c的单个字符\n",
    "  “*”    —表示该符号之前的一个字符0次或无限次扩展                 —例：abc*表示ab、abc、abcc、abccc、...\n",
    "  “+”    —表示该符号之前的一个字符1次或无限次扩展                 —例：abc+表示abc、abcc、abccc、...\n",
    "  “?”    —表示该符号之前的一个字符0次或1次扩展                    —例：abc?表示ab、abc\n",
    "  “|”    —表示左右表达式任意一个，即“或”                        —例：abc|def表示abc或def\n",
    "  “{m}”  —表示扩展大括号之前一个字符m次                           —例：ab{2}c表示abbc\n",
    "  “{m,n}”—表示扩展大括号之前一个字符m至n次（含n）                 —例：ab{1,2}c表示abc、abbc\n",
    "  “^”    —匹配字符串开头                                          —例：^abc表示abc且abc在一个字符串的开头\n",
    "  “$”    —匹配字符串结尾                                          —例：abc$表示abc且abc在一个字符串的结尾\n",
    "  “()”   —分组标记，内部只能使用“|”操作符                       —例：(abc)表示abc,(abc|def)表示abc、def\n",
    "  “\\d”   —表示数字，等价于“[0-9]”\n",
    "  “\\w”   —单词字符，等价于“[A-Za-z0-9_]”\n",
    "'''"
   ]
  },
  {
   "cell_type": "code",
   "execution_count": null,
   "metadata": {
    "collapsed": true,
    "deletable": true,
    "editable": true
   },
   "outputs": [],
   "source": [
    "# 案例\n",
    "'''\n",
    "正则表达式                                             对应字符串\n",
    "P(Y|YT|YTH|YTHO)?N                                     'PN','PYN','PYTN','PYTHN','PYTHON'\n",
    "PYTHON+                                                'PYTHON','PYTHONN','PYTONNN',...\n",
    "PY[TH]ON                                               'PYTON','PYHON'\n",
    "PY[^TH]?ON                                             'PYON','PYaON','PYbON',...(不包含TH以外的所有字符串)\n",
    "PY{:3}N                                                'PN','PYN','PYYN','PYYYN',等同于PY{0，3}N\n",
    "\n",
    "^[A-Za-z]+$                                            由26个字母组成的字符串\n",
    "^[A-Za-z0-9]+$                                         由26个字母和数字组成的字符串\n",
    "\n",
    "^-?\\d+$                                                整数形式字符串\n",
    "^[0-9]*[1-9][0-9]*$                                    正整数形式的字符串\n",
    "[1-9]\\d{5}                                             中国境内邮政编码，6位\n",
    "[\\u4e00-\\u9fa5]                                        匹配中文字符\n",
    "\\d{3}-\\d{8}|\\d{4}-\\d{7}                                国内电话号码，010-68913536\n",
    "'''"
   ]
  },
  {
   "cell_type": "code",
   "execution_count": null,
   "metadata": {
    "collapsed": true,
    "deletable": true,
    "editable": true
   },
   "outputs": [],
   "source": [
    "# 匹配IP地址正则表达式\n",
    "'''\n",
    "IP地址字符串形式的正则表达式（IP地址分为4段，每段0-255）\n",
    "\n",
    "最简单的表示方法：\\d+.\\d+.\\d+.\\d+（不考虑每段的取值范围或空间）\n",
    "                  \\d{1,3}.\\d{1,3}.\\d{1,3}.\\d{1,3} \n",
    "                  精确写法：0-99可写为[1-9]?\\d\n",
    "                            100-199可写为1\\d{2}\n",
    "                            200-249可写为2[0-4]\\d\n",
    "                            250-255可写为25[0-5]\n",
    "                            (([1-9]?\\d|1\\d{2}|2[0-4]\\d|25[0-5]).){3}([1-9]?\\d|1\\d{2}|2[0-4]\\d|25[0-5])\n",
    "'''"
   ]
  }
 ],
 "metadata": {
  "kernelspec": {
   "display_name": "Python 3",
   "language": "python",
   "name": "python3"
  },
  "language_info": {
   "codemirror_mode": {
    "name": "ipython",
    "version": 3
   },
   "file_extension": ".py",
   "mimetype": "text/x-python",
   "name": "python",
   "nbconvert_exporter": "python",
   "pygments_lexer": "ipython3",
   "version": "3.6.0"
  }
 },
 "nbformat": 4,
 "nbformat_minor": 2
}
