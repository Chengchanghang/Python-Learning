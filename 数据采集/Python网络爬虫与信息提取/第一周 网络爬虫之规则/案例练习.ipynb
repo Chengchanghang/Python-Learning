{
 "cells": [
  {
   "cell_type": "code",
   "execution_count": 12,
   "metadata": {
    "collapsed": false,
    "deletable": true,
    "editable": true
   },
   "outputs": [
    {
     "data": {
      "text/plain": [
       "'<!DOCTYPE HTML>\\n<html lang=\"zh-CN\">\\n<head>\\n    <meta http-equiv=\"Content-Type\" content=\"text/html; charset=gbk\" />\\n    <title>【华为荣耀8】荣耀8 4GB+64GB 全网通4G手机 魅海蓝【行情 报价 价格 评测】-京东</title>\\n    <meta name=\"keywords\" content=\"HUAWEI荣耀8,华为荣耀8,华为荣耀8报价,HUAWEI荣耀8报价\"/>\\n    <meta name=\"description\" content=\"【华为荣耀8】京东JD.COM提供华为荣耀8正品行货，全国价格最低，并包括HUAWEI荣耀8网购指南，以及华为荣耀8图片、荣耀8参数、荣耀8评论、荣耀8心得、荣耀8技巧等信息，网购华为荣耀8上京东,放心又轻松\" />\\n    <meta name=\"format-detection\" content=\"telephone=no\">\\n    <meta http-equiv=\"mobile-agent\" content=\"format=xhtml; url=//item.m.jd.com/product/2967929.html\">\\n    <meta http-equiv=\"mobile-agent\" content=\"format=html5; url=//item.m.jd.com/product/2967929.html\">\\n    <meta http-equiv=\"X-UA-Compatible\" content=\"IE=Edge\">\\n    <link rel=\"canonical\" href=\"//item.jd.com/2967929.html\"/>\\n        <link rel=\"dns-prefetch\" href=\"//misc.360buyimg.com\"/>\\n    <link rel=\"dns-prefetch\" href=\"//static.360buyimg.com\"/>\\n    <link rel=\"dns-prefetch\" href=\"//img10.360buyimg.com\"/>\\n    <link rel=\"dns-prefetch\" hr'"
      ]
     },
     "execution_count": 12,
     "metadata": {},
     "output_type": "execute_result"
    }
   ],
   "source": [
    "# 案例1—京东商品页面的爬取\n",
    "import requests\n",
    "r = requests.get('http://item.jd.com/2967929.html')\n",
    "r.status_code # 返回状态码，判断页面是否请求成功\n",
    "r.encoding    # 对应页面的编码方式\n",
    "r.text[:1000]"
   ]
  },
  {
   "cell_type": "code",
   "execution_count": 11,
   "metadata": {
    "collapsed": false,
    "deletable": true,
    "editable": true,
    "scrolled": true
   },
   "outputs": [
    {
     "name": "stdout",
     "output_type": "stream",
     "text": [
      "<!DOCTYPE HTML>\n",
      "<html lang=\"zh-CN\">\n",
      "<head>\n",
      "    <meta http-equiv=\"Content-Type\" content=\"text/html; charset=gbk\" />\n",
      "    <title>【华为荣耀8】荣耀8 4GB+64GB 全网通4G手机 魅海蓝【行情 报价 价格 评测】-京东</title>\n",
      "    <meta name=\"keywords\" content=\"HUAWEI荣耀8,华为荣耀8,华为荣耀8报价,HUAWEI荣耀8报价\"/>\n",
      "    <meta name=\"description\" content=\"【华为荣耀8】京东JD.COM提供华为荣耀8正品行货，全国价格最低，并包括HUAWEI荣耀8网购指南，以及华为荣耀8图片、荣耀8参数、荣耀8评论、荣耀8心得、荣耀8技巧等信息，网购华为荣耀8上京东,放心又轻松\" />\n",
      "    <meta name=\"format-detection\" content=\"telephone=no\">\n",
      "    <meta http-equiv=\"mobile-agent\" content=\"format=xhtml; url=//item.m.jd.com/product/2967929.html\">\n",
      "    <meta http-equiv=\"mobile-agent\" content=\"format=html5; url=//item.m.jd.com/product/2967929.html\">\n",
      "    <meta http-equiv=\"X-UA-Compatible\" content=\"IE=Edge\">\n",
      "    <link rel=\"canonical\" href=\"//item.jd.com/2967929.html\"/>\n",
      "        <link rel=\"dns-prefetch\" href=\"//misc.360buyimg.com\"/>\n",
      "    <link rel=\"dns-prefetch\" href=\"//static.360buyimg.com\"/>\n",
      "    <link rel=\"dns-prefetch\" href=\"//img10.360buyimg.com\"/>\n",
      "    <link rel=\"dns-prefetch\" hr\n"
     ]
    }
   ],
   "source": [
    "# 全代码框架\n",
    "import requests\n",
    "url = 'http://item.jd.com/2967929.html'\n",
    "try:\n",
    "    r = requests.get(url)\n",
    "    r.raise_for_status() # 返回若为200，则正常；反之，则会出现异常\n",
    "    r.encoding = r.apparent_encoding\n",
    "    print(r.text[:1000]) # 方括号用来限制输出的内容量\n",
    "except:\n",
    "    print('爬取失败')"
   ]
  },
  {
   "cell_type": "code",
   "execution_count": 4,
   "metadata": {
    "collapsed": false,
    "deletable": true,
    "editable": true
   },
   "outputs": [
    {
     "data": {
      "text/plain": [
       "'<!doctype html><html class=\"a-no-js\" data-19ax5a9jf=\"dingo\">\\n    <head>\\n<script type=\"text/javascript\">var ue_t0=ue_t0||+new Date();</script>\\n<script type=\"text/javascript\">\\nvar ue_hob=+new Date();\\nvar ue_id=\\'BQN1Y25NAR71MP5C0X7N\\',\\nue_csm = window,\\nue_err_chan = \\'jserr-rw\\',\\nue = {};\\n(function(d){var e=d.ue=d.ue||{},f=Date.now||function(){return+new Date};e.d=function(b){return f()-(b?0:d.ue_t0)};e.stub=function(b,a){if(!b[a]){var c=[];b[a]=function(){c.push([c.slice.call(arguments),e.d(),d.ue_id])};b[a].replay=function(b){for(var a;a=c.shift();)b(a[0],a[1],a[2])};b[a].isStub=1}};e.exec=function(b,a){return function(){if(1==window.ueinit)try{return b.apply(this,arguments)}catch(c){ueLogError(c,{attribution:a||\"undefined\",logLevel:\"WARN\"})}}}})(ue_csm);\\n\\nue.stub(ue,\"log\");ue.stub(ue,\"onunload\");ue.stub(ue,\"onflush\");\\n\\n(function(c,d){function e(f,b){if(!(a.ec>a.mxe)&&f){a.ec++;a.t'"
      ]
     },
     "execution_count": 4,
     "metadata": {},
     "output_type": "execute_result"
    }
   ],
   "source": [
    "# 案例2—亚马逊商品页面的爬取\n",
    "import requests\n",
    "url = 'https://www.amazon.cn/gp/product/B01M8L5Z3Y'\n",
    "headers = {\n",
    "    'User-Agent':'Mozilla/5.0 (Windows NT 10.0; WOW64) AppleWebKit/537.36 (KHTML, like Gecko) Chrome/45.0.2454.101 Safari/537.36'\n",
    "} # 设定headers头部信息，将其伪装成浏览器进行访问\n",
    "r = requests.get(url, headers = headers)\n",
    "r.status_code   # 其状态码返回值是503，出现异常\n",
    "r.encoding      # 编码返回值为ISO-8859-1\n",
    "# r.encoding = r.apparent_encoding # 设定其编码方式\n",
    "r.text[:1000].strip()\n",
    "# r.request.headers # 用于查看request请求亚马逊发送的headers头部信息的具体内容。根据返回的内容可得User-Agent:python-requests/2.13.0，表明本次访问亚马逊是由Pythonrequests库的爬虫程序执行的\n",
    "\n",
    "'''\n",
    "亚马逊网站具有一定的反爬机制，通过来源审查判断User-Agent进行识别\n",
    "'''"
   ]
  },
  {
   "cell_type": "code",
   "execution_count": 8,
   "metadata": {
    "collapsed": false,
    "deletable": true,
    "editable": true
   },
   "outputs": [
    {
     "name": "stdout",
     "output_type": "stream",
     "text": [
      "er.push(f);b=b||{};var c=f.logLevel||b.logLevel;c&&c!=k||a.ecf++;b.pageURL=\"\"+(d.location?d.location.href:\"\");b.logLevel=c;b.attribution=f.attribution||b.attribution;a.erl.push({ex:f,info:b})}}function h(a,b,d,e,g){c.ueLogError({m:a,f:b,l:d,c:\"\"+e,err:g,fromOnError:1,args:arguments},g?{attribution:g.attribution,logLevel:g.logLevel}:void 0);return!1}var k=\"FATAL\",a={ec:0,ecf:0,pec:0,ts:0,erl:[],ter:[],mxe:50,startTimer:function(){a.ts++;\n",
      "setInterval(function(){c.ue&&a.pec<a.ec&&c.uex(\"at\");a.pec=a.ec},1E4)}};h.skipTrace=1;e.skipTrace=1;e.isStub=1;c.ueLogError=e;c.ue_err=a;d.onerror=h})(ue_csm,window);\n",
      "\n",
      "var ue_url='/gp/product/B01M8L5Z3Y/uedata/unsticky/452-5916043-8983929/Detail/ntpoffrw',\n",
      "ue_sid='452-5916043-8983929',\n",
      "ue_mid='AAHKV2X7AFYLW',\n",
      "ue_sn='www.amazon.cn',\n",
      "ue_furl='fls-cn.amazon.cn',\n",
      "ue_surl='//unagi-cn.amazon.com/1/events/com.amazon.csm.nexusclient.prod',\n",
      "ue_navtiming=1,\n",
      "ue_fcsn=1,\n",
      "ue_isrw=true,\n",
      "ue_fpf='//fls-cn.amazon.cn/1/batch/1/OP/AAHKV2X7AFYLW:452-5916043-8983929:WNYEMSG7\n"
     ]
    }
   ],
   "source": [
    "# 全代码框架\n",
    "import requests\n",
    "\n",
    "url = 'https://www.amazon.cn/gp/product/B01M8L5Z3Y'\n",
    "headers = {\n",
    "    'User-Agent':'Mozilla/5.0 (Windows NT 10.0; WOW64) AppleWebKit/537.36 (KHTML, like Gecko) Chrome/45.0.2454.101 Safari/537.36'\n",
    "}\n",
    "try:\n",
    "    r = requests.get(url, headers = headers)\n",
    "    r.raise_for_status()\n",
    "    r.encoding = r.apparent_encoding\n",
    "    print(r.text[1000:2000].strip())\n",
    "except:\n",
    "    print('爬取失败')"
   ]
  },
  {
   "cell_type": "code",
   "execution_count": 27,
   "metadata": {
    "collapsed": false,
    "deletable": true,
    "editable": true
   },
   "outputs": [
    {
     "name": "stdout",
     "output_type": "stream",
     "text": [
      "200 200\n",
      "http://www.baidu.com/s?wd=python https://www.so.com/s?q=python\n",
      "278998 225131\n"
     ]
    }
   ],
   "source": [
    "# 案例3—百度/360搜索关键词提交\n",
    "# 百度关键词接口：http://www.baidu.com/s?wd=keyword\n",
    "# 360关键词接口：http://www.so.com/s?q=keyword\n",
    "\n",
    "import requests\n",
    "kv = {'wd':'python'}\n",
    "kv1 = {'q':'python'}\n",
    "r = requests.get('http://www.baidu.com/s', params = kv) # 参数params修改了url链接，将其修改为：http://www.baidu.com/s?wd=python\n",
    "r1 = requests.get('http://www.so.com/s', params = kv1) # 参数params作用同上\n",
    "print(r.status_code, r1.status_code)\n",
    "print(r.url, r1.url)\n",
    "print(len(r.text), len(r1.text))\n",
    "\n",
    "\n",
    "\n",
    "# 全代码框架\n",
    "# import requests\n",
    "# keyword = 'python'\n",
    "# try:    # 百度搜索\n",
    "#     r = requests.get('http://www.baidu.com/s', params = keyword)\n",
    "#     r.raise_for_status()\n",
    "#     r.encoding = r.apparent_encoding\n",
    "#     print(r.text[:1000].strip())\n",
    "# except:\n",
    "#     print('爬取失败')\n",
    "\n",
    "# import requests\n",
    "# keyword = 'python'\n",
    "# try:    # 360搜索\n",
    "#     r = requests.get('http://www.so.com/s', params = keyword)\n",
    "#     r.raise_for_status()\n",
    "#     r.encoding = r.apparent_encoding\n",
    "#     print(r.text[:1000].strip())\n",
    "# except:\n",
    "#     print('爬取失败')"
   ]
  },
  {
   "cell_type": "code",
   "execution_count": 35,
   "metadata": {
    "collapsed": false,
    "deletable": true,
    "editable": true
   },
   "outputs": [
    {
     "data": {
      "text/plain": [
       "<function BufferedWriter.close>"
      ]
     },
     "execution_count": 35,
     "metadata": {},
     "output_type": "execute_result"
    }
   ],
   "source": [
    "# 案例4—网络图片的爬取和存储\n",
    "# 网络图片的格式：http://www.example.com/picture.jpg(前边为某网站网址，后边为图片名)\n",
    "# http://image.nationalgeographic.com.cn/2017/0211/20170211061910157.jpg\n",
    "import requests\n",
    "path = 'D://abc.jpg' # 设置图片保存路径及名称，直接在D盘根目录下\n",
    "url = 'http://image.nationalgeographic.com.cn/2017/0211/20170211061910157.jpg'\n",
    "r = requests.get(url)\n",
    "r.status_code\n",
    "with open(path,'wb') as f:\n",
    "    f.write(r.content)  # write函数将获取的内容写入指定路径中并保存为指定名称\n",
    "f.close"
   ]
  },
  {
   "cell_type": "code",
   "execution_count": 38,
   "metadata": {
    "collapsed": false,
    "deletable": true,
    "editable": true
   },
   "outputs": [
    {
     "name": "stdout",
     "output_type": "stream",
     "text": [
      "图片已存在!\n"
     ]
    }
   ],
   "source": [
    "# 全代码框架\n",
    "import requests\n",
    "import os\n",
    "url = 'http://image.nationalgeographic.com.cn/2017/0211/20170211061910157.jpg'\n",
    "root = 'D://pics//'\n",
    "path = root + url.split('/')[-1] # 将图片保存路径设置为：D://pics//图片名称.jpg\n",
    "try:\n",
    "    if not os.path.exists(root):\n",
    "        os.mkdir(root)\n",
    "    if not os.path.exists(path):\n",
    "        r = requests.get(url)\n",
    "        with open(path, 'wb') as f:\n",
    "            f.write(r.content)\n",
    "            f.close\n",
    "            print('图片保存成功!')\n",
    "    else:\n",
    "        print('图片已存在!')\n",
    "except:\n",
    "    print('图片抓取失败!')"
   ]
  },
  {
   "cell_type": "code",
   "execution_count": 44,
   "metadata": {
    "collapsed": false,
    "deletable": true,
    "editable": true
   },
   "outputs": [
    {
     "data": {
      "text/plain": [
       "'\"submit\" value=\"查询\" class=\"form-btn\" />\\r\\n\\t\\t\\t\\t\\t</form>\\r\\n\\t\\t\\t\\t</div>\\r\\n\\t\\t\\t\\t<div class=\"query-hd\">ip138.com IP查询(搜索IP地址的地理位置)</div>\\r\\n\\t\\t\\t\\t<h1 class=\"query\">您查询的IP：202.97.139.28</h1><p class=\"result\">本站主数据：山西省太原市  联通</p><p class=\"result\">参考数据一：山西省太原市 联通</p>\\r\\n\\r\\n\\t\\t\\t</div>\\r\\n\\t\\t</div>\\r\\n\\r\\n\\t\\t<div class=\"footer\">\\r\\n\\t\\t\\t<a href=\"http://www.miitbeian.gov.cn/\" rel=\"nofollow\" target=\"_blank\">沪ICP备10013467号-1</a>\\r\\n\\t\\t</div>\\r\\n\\t</div>\\r\\n\\r\\n\\t<script type=\"text/javascript\" src=\"/script/common.js\"></script></body>\\r\\n</html>\\r\\n'"
      ]
     },
     "execution_count": 44,
     "metadata": {},
     "output_type": "execute_result"
    }
   ],
   "source": [
    "# 案例5—IP地址归属地的自动查询\n",
    "# 网站：http://www.ip138.com/\n",
    "# IP搜索接口：http://m.ip138.com/ip.asp?ip=IP地址\n",
    "import requests\n",
    "url = 'http://m.ip138.com/ip.asp?ip='\n",
    "r = requests.get(url + '202.97.139.28')\n",
    "r.status_code\n",
    "r.content\n",
    "'''\n",
    "r.content与r.text的区别\n",
    "前者返回的是bytes型即二进制型的数据；\n",
    "后者返回的是Unicode型的数据\n",
    "'''\n",
    "r.text[-500:]"
   ]
  },
  {
   "cell_type": "code",
   "execution_count": 45,
   "metadata": {
    "collapsed": false,
    "deletable": true,
    "editable": true
   },
   "outputs": [
    {
     "name": "stdout",
     "output_type": "stream",
     "text": [
      "value=\"查询\" class=\"form-btn\" />\r\n",
      "\t\t\t\t\t</form>\r\n",
      "\t\t\t\t</div>\r\n",
      "\t\t\t\t<div class=\"query-hd\">ip138.com IP查询(搜索IP地址的地理位置)</div>\r\n",
      "\t\t\t\t<h1 class=\"query\">您查询的IP：202.204.80.112</h1><p class=\"result\">本站主数据：北京市海淀区 北京理工大学 教育网</p><p class=\"result\">参考数据一：北京市 北京理工大学</p>\r\n",
      "\r\n",
      "\t\t\t</div>\r\n",
      "\t\t</div>\r\n",
      "\r\n",
      "\t\t<div class=\"footer\">\r\n",
      "\t\t\t<a href=\"http://www.miitbeian.gov.cn/\" rel=\"nofollow\" target=\"_blank\">沪ICP备10013467号-1</a>\r\n",
      "\t\t</div>\r\n",
      "\t</div>\r\n",
      "\r\n",
      "\t<script type=\"text/javascript\" src=\"/script/common.js\"></script></body>\r\n",
      "</html>\r\n",
      "\n"
     ]
    }
   ],
   "source": [
    "# 全代码框架\n",
    "import requests\n",
    "url = \"http://m.ip138.com/ip.asp?ip=\"\n",
    "try:\n",
    "    r = requests.get(url + '202.204.80.112')\n",
    "    r.raise_for_status()\n",
    "    r.encoding = r.apparent_encoding\n",
    "    print(r.text[-500:])\n",
    "except:\n",
    "    print('抓取失败')"
   ]
  },
  {
   "cell_type": "code",
   "execution_count": null,
   "metadata": {
    "collapsed": true,
    "deletable": true,
    "editable": true
   },
   "outputs": [],
   "source": [
    "'''\n",
    "本节实战小结：\n",
    "爬虫过程中可能遇到诸多的异常，而出现的异常根据错误类型一一对应即可进行解决\n",
    "主要应当注意：编码问题(统一编码方式为utf-8；\n",
    "              使用encoding函数)、针对反爬采取措施\n",
    "\n",
    "主要收获：\n",
    "1、面对反爬应当通过设置headers头部信息来伪装成浏览器访问\n",
    "2、保存爬取内容的方式，主要了解了open函数\n",
    "3、了解爬虫基本框架：try:...except:...（该语句可以避免一些错误）\n",
    "'''"
   ]
  }
 ],
 "metadata": {
  "kernelspec": {
   "display_name": "Python 3",
   "language": "python",
   "name": "python3"
  },
  "language_info": {
   "codemirror_mode": {
    "name": "ipython",
    "version": 3
   },
   "file_extension": ".py",
   "mimetype": "text/x-python",
   "name": "python",
   "nbconvert_exporter": "python",
   "pygments_lexer": "ipython3",
   "version": "3.6.0"
  }
 },
 "nbformat": 4,
 "nbformat_minor": 2
}
