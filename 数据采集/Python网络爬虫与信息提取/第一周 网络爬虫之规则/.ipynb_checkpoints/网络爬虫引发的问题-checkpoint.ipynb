{
 "cells": [
  {
   "cell_type": "code",
   "execution_count": 1,
   "metadata": {
    "collapsed": true,
    "deletable": true,
    "editable": true
   },
   "outputs": [],
   "source": [
    "# 按照网络爬虫的尺寸分类\n",
    "# 1、爬取网页或玩转网页—小规模，数据量小，对爬取速度不敏感，即可使用requests库\n",
    "# 2、爬取网站或系列网站—中规模，数据量大，对爬取速度敏感，即需使用scrapy库\n",
    "# 3、爬取全网—大规模，一般为搜索引擎，爬取速度很关键，只能够定制开发并无第三方库支持"
   ]
  },
  {
   "cell_type": "code",
   "execution_count": 2,
   "metadata": {
    "collapsed": true,
    "deletable": true,
    "editable": true
   },
   "outputs": [],
   "source": [
    "# 爬虫引发的问题\n",
    "# 1、“骚扰”—造成web服务器性能过度消耗\n",
    "# 2、法律风险—侵犯某些网站的专有信息\n",
    "# 3、造成隐私泄露"
   ]
  },
  {
   "cell_type": "code",
   "execution_count": 1,
   "metadata": {
    "collapsed": false,
    "deletable": true,
    "editable": true
   },
   "outputs": [
    {
     "name": "stdout",
     "output_type": "stream",
     "text": [
      "User-agent: * \n",
      "Disallow: /?* \n",
      "Disallow: /pop/*.html \n",
      "Disallow: /pinpai/*.html?* \n",
      "User-agent: EtaoSpider \n",
      "Disallow: / \n",
      "User-agent: HuihuiSpider \n",
      "Disallow: / \n",
      "User-agent: GwdangSpider \n",
      "Disallow: / \n",
      "User-agent: WochachaSpider \n",
      "Disallow: /\n",
      "\n"
     ]
    }
   ],
   "source": [
    "# 爬虫的限制\n",
    "# 1、来源审查：判断User-Agent进行限制，通过检查来访http协议头的User-Agent域，只响应浏览器或友好爬虫的访问\n",
    "# 2、发布公告：Robots协议，通过告知所有爬虫网站的爬取策略，要求爬虫遵守\n",
    "'''\n",
    "Robots协议—Robot Exclusion Standard网络爬虫排除标准\n",
    "作用：网站告知爬虫哪些内容可以爬取，哪些不可以\n",
    "形式：在网站根目录下的robots.txt\n",
    "'''\n",
    "import requests\n",
    "r = requests.get('http://www.jd.com/robots.txt') # 此为京东对应的Robots协议\n",
    "print(r.text)\n",
    "'''\n",
    "Robots协议的基本语法：\n",
    "User-Agent: * # 表明哪些爬虫\n",
    "Disallow: /   # 表示不允许爬取得内容\n",
    "“#”表示注释，“*”表示所有内容，“/”表示根目录\n",
    "\n",
    "Robots协议的遵守方式：\n",
    "网络爬虫：任何爬虫都应当自动或人工识别robots.txt，再进行爬取(该协议可以不遵守，但可能面临法律风险)\n",
    "'''"
   ]
  },
  {
   "cell_type": "code",
   "execution_count": null,
   "metadata": {
    "collapsed": true,
    "deletable": true,
    "editable": true
   },
   "outputs": [],
   "source": []
  }
 ],
 "metadata": {
  "kernelspec": {
   "display_name": "Python 3",
   "language": "python",
   "name": "python3"
  },
  "language_info": {
   "codemirror_mode": {
    "name": "ipython",
    "version": 3
   },
   "file_extension": ".py",
   "mimetype": "text/x-python",
   "name": "python",
   "nbconvert_exporter": "python",
   "pygments_lexer": "ipython3",
   "version": "3.6.0"
  }
 },
 "nbformat": 4,
 "nbformat_minor": 2
}
