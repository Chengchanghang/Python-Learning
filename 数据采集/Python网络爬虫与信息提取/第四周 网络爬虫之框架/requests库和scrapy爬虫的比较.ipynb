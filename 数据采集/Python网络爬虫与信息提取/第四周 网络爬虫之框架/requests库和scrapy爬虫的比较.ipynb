{
 "cells": [
  {
   "cell_type": "code",
   "execution_count": null,
   "metadata": {
    "collapsed": true
   },
   "outputs": [],
   "source": [
    "'''\n",
    "requests库和scrapy爬虫的比较\n",
    "\n",
    "相同点：\n",
    "1、两者都可以进行页面请求和爬取，属于Python爬虫的两个重要技术路线\n",
    "2、两者可用性都好，资料文档丰富，较易入门\n",
    "3、两者都没有处理JS、提交表单、应对验证码等功能（若处理此类情形则需扩展其他库）\n",
    "\n",
    "不同点：\n",
    "1、requests库是页面级爬虫，适合对少数页面的爬取；而scrapy则是网站级爬虫，适合批量爬取网页\n",
    "2、requests库是功能库，由多个函数构成；而scrapy则是框架\n",
    "3、requests库并发性考虑不足，性能较差；而scrapy则基于异步结构设计开发性较好，性能较高\n",
    "4、requests库重点在于页面下载；而scrapy则重点在于爬虫结构\n",
    "5、requests库定制灵活；而scrapy则对于一般情况定制灵活，深度爬虫定制困难\n",
    "6、requests库易上手；而scrapy则入门较难\n",
    "'''"
   ]
  }
 ],
 "metadata": {
  "kernelspec": {
   "display_name": "Python 3",
   "language": "python",
   "name": "python3"
  },
  "language_info": {
   "codemirror_mode": {
    "name": "ipython",
    "version": 3
   },
   "file_extension": ".py",
   "mimetype": "text/x-python",
   "name": "python",
   "nbconvert_exporter": "python",
   "pygments_lexer": "ipython3",
   "version": "3.6.0"
  }
 },
 "nbformat": 4,
 "nbformat_minor": 2
}
