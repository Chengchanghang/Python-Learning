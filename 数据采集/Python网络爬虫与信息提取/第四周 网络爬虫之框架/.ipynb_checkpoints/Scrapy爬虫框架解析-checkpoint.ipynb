{
 "cells": [
  {
   "cell_type": "code",
   "execution_count": null,
   "metadata": {
    "collapsed": true
   },
   "outputs": [],
   "source": [
    "'''\n",
    "ENGINE模块：该模块不需要用户编写、修改\n",
    "            控制所有模块之间的数据流\n",
    "            根据条件触发事件\n",
    "\n",
    "DOWNLOADER模块：该模块不需要用户编写、修改（由于功能单一，目前已很完善）\n",
    "                根据请求下载网页，即获取请求并向网络中提交请求，并获得返回的相关内容\n",
    "\n",
    "SCHEDULER模块：对所有请求进行调度和管理的模块（由于调度方法和功能相对固定，故用户也无需进行编写、修改）\n",
    "\n",
    "以上三个模块可形成流程：用户发送请求由SCHEDULER模块调度，通过ENGINE模块到达DOWNLOADER模块\n",
    "\n",
    "若用户希望队请求进行配置和定义，则在以上流程中加入中间件\n",
    "\n",
    "1)、Downloader Middleware（用户可编写配置，但用户若不改变请求或响应时则无需对其进行修改）\n",
    "    目的：实施ENGINE模块、SCHEDULER模块和DOWNLOADER模块间的数据流进行用户可配置的控制\n",
    "    功能：修改、丢弃、新增请求或响应\n",
    "    位置：ENGINE模块和DOWNLOADER模块之间\n",
    "    \n",
    "SPIDERS模块：核心单元，需要用户编写配置\n",
    "             解析DOWNLOADER模块返回的响应Reponse\n",
    "             产生爬取项（scraped item）\n",
    "             产生额外的爬取请求request\n",
    "            （简而言之，该模块向整个框架提供初始的访问链接，并对每次获取的内容进行解析，产生新的爬取请求，同时从内容中获取相关的数据）\n",
    "\n",
    "2)、Spider Middleware（用户可编写配置）\n",
    "    目的：对Spider产生的请求和爬取项的再处理\n",
    "    功能：修改、丢弃、新增请求或爬取项\n",
    "    位置：SPIDERS模块和ENGINE模块之间\n",
    "\n",
    "ITEM PIPLINES模块：需要用户编写配置\n",
    "                   以流水线方式处理SPIDERS模块产生的爬取项\n",
    "                   由一组操作顺序组成，类似流水线，每个操作是一个Item Pipline类型\n",
    "                   可能操作包括：清理、检验和查重爬取项中的HTML数据、将数据存储到数据库中\n",
    "\n",
    "除去SPIDERS模块和ITEM PIPLINES模块需用户配置外，两个中间件也可进行配置来操作数据流\n",
    "'''"
   ]
  }
 ],
 "metadata": {
  "kernelspec": {
   "display_name": "Python 3",
   "language": "python",
   "name": "python3"
  },
  "language_info": {
   "codemirror_mode": {
    "name": "ipython",
    "version": 3
   },
   "file_extension": ".py",
   "mimetype": "text/x-python",
   "name": "python",
   "nbconvert_exporter": "python",
   "pygments_lexer": "ipython3",
   "version": "3.6.0"
  }
 },
 "nbformat": 4,
 "nbformat_minor": 2
}
