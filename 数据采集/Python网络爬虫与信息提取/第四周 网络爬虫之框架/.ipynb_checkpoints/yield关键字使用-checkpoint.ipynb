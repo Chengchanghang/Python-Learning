{
 "cells": [
  {
   "cell_type": "code",
   "execution_count": null,
   "metadata": {
    "collapsed": true
   },
   "outputs": [],
   "source": [
    "'''\n",
    "yield关键字（Python3中共有33个关键字）\n",
    "\n",
    "生成器：不断产生值的函数\n",
    "\n",
    "        包含yield语句的函数即为一个生成器\n",
    "        \n",
    "        生成器—每次运行时产生一个值（yield语句）,之后该函数被冻结，\n",
    "                直到该函数被唤醒后再产生一个值，被唤醒后所使用的的局部变量的值与之前一致\n",
    "                即唤醒后继续从被冻结的位置开始执行。\n",
    "                \n",
    "'''"
   ]
  },
  {
   "cell_type": "code",
   "execution_count": 3,
   "metadata": {
    "collapsed": false
   },
   "outputs": [
    {
     "name": "stdout",
     "output_type": "stream",
     "text": [
      "0  1  4  9  16  "
     ]
    }
   ],
   "source": [
    "# 生成器写法\n",
    "def gen(n):\n",
    "    for i in range(n):\n",
    "        yield i**2\n",
    "\n",
    "for i in gen(5):\n",
    "    print(i, ' ', end = '')"
   ]
  },
  {
   "cell_type": "code",
   "execution_count": 4,
   "metadata": {
    "collapsed": false
   },
   "outputs": [
    {
     "name": "stdout",
     "output_type": "stream",
     "text": [
      "0  1  4  9  16  "
     ]
    }
   ],
   "source": [
    "# 普通写法\n",
    "def square(n):\n",
    "    ls = [i ** 2 for i in range(n)]\n",
    "    return ls\n",
    "\n",
    "for i in square(5):\n",
    "    print(i, ' ', end = '')"
   ]
  },
  {
   "cell_type": "code",
   "execution_count": 9,
   "metadata": {
    "collapsed": false
   },
   "outputs": [
    {
     "name": "stdout",
     "output_type": "stream",
     "text": [
      "0  1  4  9  16  "
     ]
    }
   ],
   "source": [
    "for i in range(5):\n",
    "    print(i**2, ' ', end = '')"
   ]
  },
  {
   "cell_type": "code",
   "execution_count": null,
   "metadata": {
    "collapsed": true
   },
   "outputs": [],
   "source": [
    "'''\n",
    "yield生成器与普通写法的区别：\n",
    "\n",
    "生成器相比一次列出所有内容的优势：\n",
    "\n",
    "1、更节省存储空间。普通方法是将生成的值存储然后在返回，而yield则是每次运行只返回一个值\n",
    "2、响应更快速\n",
    "3、使用更灵活\n",
    "'''"
   ]
  }
 ],
 "metadata": {
  "kernelspec": {
   "display_name": "Python 3",
   "language": "python",
   "name": "python3"
  },
  "language_info": {
   "codemirror_mode": {
    "name": "ipython",
    "version": 3
   },
   "file_extension": ".py",
   "mimetype": "text/x-python",
   "name": "python",
   "nbconvert_exporter": "python",
   "pygments_lexer": "ipython3",
   "version": "3.6.0"
  }
 },
 "nbformat": 4,
 "nbformat_minor": 2
}
