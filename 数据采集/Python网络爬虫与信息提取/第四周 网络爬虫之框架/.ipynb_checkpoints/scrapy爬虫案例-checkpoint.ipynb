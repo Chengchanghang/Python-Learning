{
 "cells": [
  {
   "cell_type": "code",
   "execution_count": null,
   "metadata": {
    "collapsed": true,
    "deletable": true,
    "editable": true
   },
   "outputs": [],
   "source": [
    "'''\n",
    "Scrapy爬虫的产生步骤:\n",
    "\n",
    "1、在指定目录建立一个Scrapy爬虫工程。首先在命令行切换到指定目录，\n",
    "   如：cd D:\\学习资料\\Python项目\\Python爬虫项目\\Scrapy爬虫案例 \n",
    "       scrapy startproject python123demo\n",
    "       \n",
    "此时即在该目录下生成python123demo文件，依次对生成的每个文件进行介绍\n",
    "   \n",
    "1）、python123demo：外层目录，即工程名称\n",
    "    1）、scrapy.cfg   ：部署scrapy爬虫的配置文件，此处部署指将爬虫放在服务器上，并在服务器上配置好相关的接口，若仅在本机使用，则无需配置。\n",
    "    2）、python123demo：scrapy框架对应的所有文件所在目录。\n",
    "        1）、__int__.py    ：初始化脚本，用户无需编写\n",
    "        2）、items.py      ：Items代码模板（需要继承scrapy提供的item类），一般情况无需用户编写\n",
    "        3）、middlewares.py：Middlewares代码模板（继承类）\n",
    "        4）、piplines.py   ：Piplines代码模块（继承类）\n",
    "        5）、settings.py   ：scrapy爬虫的配置文件，若需优化爬虫功能，则需对其进行修改\n",
    "        6）、spiders       ：spiders代码模板目录（继承类），存放python123demo工程下建立的爬虫\n",
    "            1）、__int__.py ：初始文件，无需修改\n",
    "            2）、__pycache__：缓存目录，无需修改\n",
    "\n",
    "2、在工程中产生一个scrapy爬虫\n",
    "   如：cd python123demo  # 切换到创建的python123demo爬虫工程下\n",
    "       scrapy genspider demo python123.io # 在spider中生成名称为demo.py的爬虫\n",
    "\n",
    "对demo.py的内容进行分析\n",
    "\n",
    "DemoSpider      —面向对象编写的类（它的名称可以是任意的），但是该类必须是继承scrapy.Spider类的子类\n",
    "name            —当前爬虫名称为demo\n",
    "allowed_domains —开始时用户提交给命令行的域名，即只能爬取该域名以下的相关链接\n",
    "start_urls      —以列表形式包含的一个或多个url即为scrapy框架要爬取得初始页面\n",
    "def parse       —解析页面的空的函数包含在DemoSpider类中。该函数用于处理响应，解析从网络中爬取内容形成字典，并从爬取内容中发现新的url爬取请求\n",
    "\n",
    "3、配置产生的spider爬虫\n",
    "\n",
    "即修改demo.py内容，使其能够按照要求访问要访问的链接，并对相关链接内容进行爬取\n",
    "\n",
    "4、运行爬虫，获取网页\n",
    "\n",
    "在命令行输入：scrapy crawl demo\n",
    "'''"
   ]
  }
 ],
 "metadata": {
  "kernelspec": {
   "display_name": "Python 3",
   "language": "python",
   "name": "python3"
  },
  "language_info": {
   "codemirror_mode": {
    "name": "ipython",
    "version": 3
   },
   "file_extension": ".py",
   "mimetype": "text/x-python",
   "name": "python",
   "nbconvert_exporter": "python",
   "pygments_lexer": "ipython3",
   "version": "3.6.0"
  }
 },
 "nbformat": 4,
 "nbformat_minor": 2
}
