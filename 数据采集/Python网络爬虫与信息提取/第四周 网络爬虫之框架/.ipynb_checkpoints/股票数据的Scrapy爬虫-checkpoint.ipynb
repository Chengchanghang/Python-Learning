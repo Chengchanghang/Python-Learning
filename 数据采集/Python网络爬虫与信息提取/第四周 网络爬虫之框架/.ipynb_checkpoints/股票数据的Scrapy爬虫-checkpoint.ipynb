{
 "cells": [
  {
   "cell_type": "code",
   "execution_count": null,
   "metadata": {
    "collapsed": true,
    "deletable": true,
    "editable": true
   },
   "outputs": [],
   "source": [
    "'''\n",
    "Scrapy爬虫—股票数据\n",
    "\n",
    "功能描述：\n",
    "\n",
    "1、技术路线：scrapy\n",
    "\n",
    "2、目    标：获取上交所和深交所所有股票的名称和交易信息\n",
    "\n",
    "3、股票列表：东方财富网（http://quote.eastmoney.com/stocklist.html）\n",
    "\n",
    "4、股票信息：百度股票（http://gupiao.baidu.com/stock/）\n",
    "             个股信息（http://gupiao.baidu.com/stock/sz002439.html）\n",
    "'''"
   ]
  },
  {
   "cell_type": "code",
   "execution_count": null,
   "metadata": {
    "collapsed": true
   },
   "outputs": [],
   "source": [
    "'''\n",
    "代码优化：\n",
    "\n",
    "目    的：进一步加快Scrapy爬虫的爬取速度\n",
    "\n",
    "优化方法：通过Scrapy框架提供的参数进行优化\n",
    "\n",
    "性能参数：相关的性能配置参数都在settings.py文件中\n",
    "\n",
    "          1、CONCURRENT_REQUESTS —Downloader最大并发请求下载数量，默认32\n",
    "              即Downloader模块最多可以同时访问并下载32个链接的相关内容\n",
    "          2、CONCURRENT_ITEMS    —Item Pipline最大并发ITEM处理数量，默认100\n",
    "          3、CONCURRENT_REQUESTS_FOR_DOMAIN:\n",
    "              每个目标域名最大并发请求数量，默认8\n",
    "          4、CONCURRENT_REQUESTS_PER_IP:\n",
    "              每个目标IP最大并发请求数量，默认0，非0有效\n",
    "\n",
    "最后两个参数不能同时发挥作用，最多只能有一个参数发挥作用                            \n",
    "'''"
   ]
  }
 ],
 "metadata": {
  "kernelspec": {
   "display_name": "Python 3",
   "language": "python",
   "name": "python3"
  },
  "language_info": {
   "codemirror_mode": {
    "name": "ipython",
    "version": 3
   },
   "file_extension": ".py",
   "mimetype": "text/x-python",
   "name": "python",
   "nbconvert_exporter": "python",
   "pygments_lexer": "ipython3",
   "version": "3.6.0"
  }
 },
 "nbformat": 4,
 "nbformat_minor": 2
}
