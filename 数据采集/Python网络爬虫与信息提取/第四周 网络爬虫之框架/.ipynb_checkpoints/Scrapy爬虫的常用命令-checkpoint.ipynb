{
 "cells": [
  {
   "cell_type": "code",
   "execution_count": null,
   "metadata": {
    "collapsed": true
   },
   "outputs": [],
   "source": [
    "'''\n",
    "1、Scrapy命令行\n",
    "\n",
    "Scrapy是为持续运行设计的专业爬虫框架，提供可操作的Scrapy命令行\n",
    "\n",
    "通过命令行输入scrapy -h即可查看scrapy命令行。\n",
    "\n",
    "2、Scrapy命令行格式：\n",
    "\n",
    "scrapy <command> [options] [args]\n",
    "\n",
    "Scrapy命令在command位置体现。\n",
    "\n",
    "3、常用命令\n",
    "\n",
    "命令           说明                 格式\n",
    "startproject   创建一个新工程       scrapy startproject <name> [dir]\n",
    "genspider      创建一个爬虫         scrapy genspider [options] <name> <domain>\n",
    "settings       获取爬虫配置信息     scrapy settings [options]\n",
    "crawl          运行一个爬虫         scrapy crawl <spider>\n",
    "list           列出工程中所有爬虫   scrapy list\n",
    "shell          启动url调试命令行    scrapy shell [url] \n",
    "\n",
    "注意：工程中可以包括多个爬虫，每个爬虫都相当于SPIDERS模块\n",
    "\n",
    "常用命令：startproject、genspider、crawl\n",
    "'''"
   ]
  }
 ],
 "metadata": {
  "kernelspec": {
   "display_name": "Python 3",
   "language": "python",
   "name": "python3"
  },
  "language_info": {
   "codemirror_mode": {
    "name": "ipython",
    "version": 3
   },
   "file_extension": ".py",
   "mimetype": "text/x-python",
   "name": "python",
   "nbconvert_exporter": "python",
   "pygments_lexer": "ipython3",
   "version": "3.6.0"
  }
 },
 "nbformat": 4,
 "nbformat_minor": 2
}
