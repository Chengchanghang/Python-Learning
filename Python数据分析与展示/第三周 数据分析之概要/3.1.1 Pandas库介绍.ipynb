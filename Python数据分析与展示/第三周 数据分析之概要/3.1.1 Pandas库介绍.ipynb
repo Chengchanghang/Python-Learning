{
 "cells": [
  {
   "cell_type": "code",
   "execution_count": null,
   "metadata": {
    "collapsed": true
   },
   "outputs": [],
   "source": [
    "'''\n",
    "Pandas库\n",
    "\n",
    "    1、Pandas是Python的第三方库，提供高性能易用数据类型和分析工具。（官网：http://pandas.pydata.org）\n",
    "    \n",
    "    2、引用方法：import pandas as pd\n",
    "    \n",
    "    3、Pandas基于NumPy实现，常与NumPy和Matplotlib一同使用。\n",
    "    \n",
    "    4、Pandas库中主要的数据类型：Series(相当于一维数据类型)、DataFrame(相当于二维及更高维数据类型)\n",
    "    \n",
    "       基于以上数据类型的各类操作：基本操作、运算操作、提取数据特征操作和挖掘关联关系操作\n",
    "       \n",
    "    5、NumPy库与Pandas库对比\n",
    "    \n",
    "       NumPy                            \n",
    "       提供基础数据类型(ndarray)        \n",
    "       关注数据的结构表达(即数据之间构成的维度，维度：数据间关系)\n",
    "       \n",
    "       Pandas\n",
    "       扩展的数据类型(基于ndarray的Series、DataFrame)\n",
    "       关注数据的应用表达(即使用数据时如何更好的使用，应用：数据与索引间关系)\n",
    "       \n",
    "'''"
   ]
  },
  {
   "cell_type": "code",
   "execution_count": 2,
   "metadata": {
    "collapsed": false
   },
   "outputs": [
    {
     "data": {
      "text/plain": [
       "0    10\n",
       "1     9\n",
       "2     8\n",
       "3     7\n",
       "4     6\n",
       "5     5\n",
       "6     4\n",
       "7     3\n",
       "8     2\n",
       "9     1\n",
       "dtype: int32"
      ]
     },
     "execution_count": 2,
     "metadata": {},
     "output_type": "execute_result"
    }
   ],
   "source": [
    "import pandas as pd\n",
    "\n",
    "df = pd.Series(range(10, 0, -1)) # Series方法生成Pandas类型，自动增加索引\n",
    "df # 左侧为索引值，右侧为生成的数据，dtype表明数据类型为int32"
   ]
  },
  {
   "cell_type": "code",
   "execution_count": 3,
   "metadata": {
    "collapsed": false
   },
   "outputs": [
    {
     "data": {
      "text/plain": [
       "0    10\n",
       "1    19\n",
       "2    27\n",
       "3    34\n",
       "4    40\n",
       "5    45\n",
       "6    49\n",
       "7    52\n",
       "8    54\n",
       "9    55\n",
       "dtype: int32"
      ]
     },
     "execution_count": 3,
     "metadata": {},
     "output_type": "execute_result"
    }
   ],
   "source": [
    "# cumsum()函数用于求解前N项·累加值\n",
    "\n",
    "df.cumsum()"
   ]
  }
 ],
 "metadata": {
  "kernelspec": {
   "display_name": "Python 3",
   "language": "python",
   "name": "python3"
  },
  "language_info": {
   "codemirror_mode": {
    "name": "ipython",
    "version": 3
   },
   "file_extension": ".py",
   "mimetype": "text/x-python",
   "name": "python",
   "nbconvert_exporter": "python",
   "pygments_lexer": "ipython3",
   "version": "3.6.0"
  }
 },
 "nbformat": 4,
 "nbformat_minor": 2
}
