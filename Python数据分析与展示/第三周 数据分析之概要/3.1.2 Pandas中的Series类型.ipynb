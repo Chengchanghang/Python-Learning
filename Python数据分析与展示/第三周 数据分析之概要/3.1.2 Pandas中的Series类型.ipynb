{
 "cells": [
  {
   "cell_type": "code",
   "execution_count": null,
   "metadata": {
    "collapsed": true
   },
   "outputs": [],
   "source": [
    "'''\n",
    "Series类型\n",
    "\n",
    "   1、Series类型是由一组数据及与之相关的数据索引组成。(索引与数据之间一一对应)\n",
    "   \n",
    "   注意1：\n",
    "      Series中若不指定索引参数index，则将会自动生成索引；反之也可以通过参数index指定索引\n",
    "      \n",
    "   2、Series类型可有以下类型创建\n",
    "   \n",
    "      Python列表、标量值(即单个值)、Python字典、ndarray、其他函数\n",
    "   \n",
    "   3、Series类型的基本操作（默认在axis = 0对应的轴进行操作）\n",
    "      \n",
    "      Series类型包括索引和值两部分，与Python字典类型类似，其操作也相似\n",
    "      Series类型操作类似ndarray类型\n",
    "'''"
   ]
  },
  {
   "cell_type": "code",
   "execution_count": null,
   "metadata": {
    "collapsed": true
   },
   "outputs": [],
   "source": [
    "'''\n",
    "一、创建Series类型\n",
    "'''"
   ]
  },
  {
   "cell_type": "code",
   "execution_count": 1,
   "metadata": {
    "collapsed": false
   },
   "outputs": [
    {
     "data": {
      "text/plain": [
       "0    9\n",
       "1    8\n",
       "2    7\n",
       "3    6\n",
       "dtype: int64"
      ]
     },
     "execution_count": 1,
     "metadata": {},
     "output_type": "execute_result"
    }
   ],
   "source": [
    "# 使用列表创建Series类型\n",
    "# 若不指定索引，则自动生成索引\n",
    "\n",
    "import pandas as pd \n",
    "\n",
    "df = pd.Series([9, 8, 7, 6]) \n",
    "df"
   ]
  },
  {
   "cell_type": "code",
   "execution_count": 2,
   "metadata": {
    "collapsed": false
   },
   "outputs": [
    {
     "data": {
      "text/plain": [
       "a    9\n",
       "b    8\n",
       "c    7\n",
       "d    6\n",
       "dtype: int64"
      ]
     },
     "execution_count": 2,
     "metadata": {},
     "output_type": "execute_result"
    }
   ],
   "source": [
    "# 手动添加指定索引值\n",
    "\n",
    "df1 = pd.Series([9, 8, 7, 6], index = ['a', 'b', 'c', 'd']) # 可省略index，仅适用于索引列表即可\n",
    "df1"
   ]
  },
  {
   "cell_type": "code",
   "execution_count": 3,
   "metadata": {
    "collapsed": false
   },
   "outputs": [
    {
     "data": {
      "text/plain": [
       "a    25\n",
       "b    25\n",
       "c    25\n",
       "dtype: int64"
      ]
     },
     "execution_count": 3,
     "metadata": {},
     "output_type": "execute_result"
    }
   ],
   "source": [
    "# 利用标量值创建Series类型\n",
    "\n",
    "df2 = pd.Series(25, index = ['a', 'b', 'c']) # 不可省略index，必须指定\n",
    "df2"
   ]
  },
  {
   "cell_type": "code",
   "execution_count": 4,
   "metadata": {
    "collapsed": false
   },
   "outputs": [
    {
     "data": {
      "text/plain": [
       "a    0\n",
       "b    1\n",
       "c    2\n",
       "dtype: int64"
      ]
     },
     "execution_count": 4,
     "metadata": {},
     "output_type": "execute_result"
    }
   ],
   "source": [
    "# 利用字典创建Series类型一\n",
    "\n",
    "# 未指定index索引参数，则字典中的键-值分别对应索引和数据\n",
    "df3 = pd.Series({'a': 0, 'b': 1, 'c': 2}) # Series中数据与索引一一对应，与字典中的键值对很类似\n",
    "df3"
   ]
  },
  {
   "cell_type": "code",
   "execution_count": 5,
   "metadata": {
    "collapsed": false
   },
   "outputs": [
    {
     "data": {
      "text/plain": [
       "c    2.0\n",
       "b    1.0\n",
       "a    0.0\n",
       "d    NaN\n",
       "dtype: float64"
      ]
     },
     "execution_count": 5,
     "metadata": {},
     "output_type": "execute_result"
    }
   ],
   "source": [
    "# 利用字典创建Series类型二\n",
    "\n",
    "# 若指定index索引参数，则索引按照指定值生成，而不是字典中的键，另外多余字典键的指定索引(如：\"d\")以NaN填充\n",
    "df4 = pd.Series({'a': 0, 'b': 1, 'c': 2}, index = ['c', 'b', 'a', 'd'])\n",
    "df4"
   ]
  },
  {
   "cell_type": "code",
   "execution_count": 9,
   "metadata": {
    "collapsed": false
   },
   "outputs": [
    {
     "data": {
      "text/plain": [
       "0    10\n",
       "1     9\n",
       "2     8\n",
       "3     7\n",
       "4     6\n",
       "5     5\n",
       "6     4\n",
       "7     3\n",
       "8     2\n",
       "9     1\n",
       "dtype: int32"
      ]
     },
     "execution_count": 9,
     "metadata": {},
     "output_type": "execute_result"
    }
   ],
   "source": [
    "# 利用ndarray创建Series类型\n",
    "import numpy as np\n",
    "\n",
    "df5 = pd.Series(np.arange(10, 0, -1)) # 也可以通过index参数指定索引值\n",
    "df5"
   ]
  },
  {
   "cell_type": "code",
   "execution_count": 9,
   "metadata": {
    "collapsed": false
   },
   "outputs": [
    {
     "data": {
      "text/plain": [
       "0    5\n",
       "1    4\n",
       "2    3\n",
       "3    2\n",
       "4    1\n",
       "dtype: int32"
      ]
     },
     "execution_count": 9,
     "metadata": {},
     "output_type": "execute_result"
    }
   ],
   "source": [
    "# 利用函数创建Series类型\n",
    "\n",
    "df6 = pd.Series(range(5, 0, -1))\n",
    "df6"
   ]
  },
  {
   "cell_type": "code",
   "execution_count": null,
   "metadata": {
    "collapsed": true
   },
   "outputs": [],
   "source": [
    "'''\n",
    "二、Series类型的基本操作\n",
    "'''"
   ]
  },
  {
   "cell_type": "code",
   "execution_count": 10,
   "metadata": {
    "collapsed": false
   },
   "outputs": [
    {
     "data": {
      "text/plain": [
       "a    9\n",
       "b    8\n",
       "c    7\n",
       "d    6\n",
       "dtype: int64"
      ]
     },
     "execution_count": 10,
     "metadata": {},
     "output_type": "execute_result"
    }
   ],
   "source": [
    "df7 = pd.Series([9, 8, 7, 6], index = ['a', 'b', 'c', 'd']) # 以列表类型生成Series类型\n",
    "df7"
   ]
  },
  {
   "cell_type": "code",
   "execution_count": 11,
   "metadata": {
    "collapsed": false
   },
   "outputs": [
    {
     "data": {
      "text/plain": [
       "Index(['a', 'b', 'c', 'd'], dtype='object')"
      ]
     },
     "execution_count": 11,
     "metadata": {},
     "output_type": "execute_result"
    }
   ],
   "source": [
    "# 查看索引\n",
    "\n",
    "df7.index"
   ]
  },
  {
   "cell_type": "code",
   "execution_count": 12,
   "metadata": {
    "collapsed": false
   },
   "outputs": [
    {
     "data": {
      "text/plain": [
       "array([9, 8, 7, 6], dtype=int64)"
      ]
     },
     "execution_count": 12,
     "metadata": {},
     "output_type": "execute_result"
    }
   ],
   "source": [
    "# 查看数据\n",
    "\n",
    "df7.values"
   ]
  },
  {
   "cell_type": "code",
   "execution_count": 13,
   "metadata": {
    "collapsed": false
   },
   "outputs": [
    {
     "data": {
      "text/plain": [
       "8"
      ]
     },
     "execution_count": 13,
     "metadata": {},
     "output_type": "execute_result"
    }
   ],
   "source": [
    "# 利用索引获取对应的值\n",
    "\n",
    "df7['b'] # 获取多个值df7[['b', 'c']]，以列表形式将多个索引包含起来"
   ]
  },
  {
   "cell_type": "code",
   "execution_count": 15,
   "metadata": {
    "collapsed": false
   },
   "outputs": [
    {
     "data": {
      "text/plain": [
       "9"
      ]
     },
     "execution_count": 15,
     "metadata": {},
     "output_type": "execute_result"
    }
   ],
   "source": [
    "# 通过自动生成的索引获取对应的值\n",
    "# 该处由于指定索引，故为显示自动索引\n",
    "\n",
    "df7[0] # 获取多个df7[[1,2]]或者df7[1:3]"
   ]
  },
  {
   "cell_type": "code",
   "execution_count": 16,
   "metadata": {
    "collapsed": false
   },
   "outputs": [
    {
     "data": {
      "text/plain": [
       "b    8.0\n",
       "c    7.0\n",
       "0    NaN\n",
       "dtype: float64"
      ]
     },
     "execution_count": 16,
     "metadata": {},
     "output_type": "execute_result"
    }
   ],
   "source": [
    "# 利用自动索引和自定义索引相结合获取对应值\n",
    "# 使用混合方式获取数据则无法获得自动索引(如：0)对应的值，返回NaN，故二者只能单独使用。\n",
    "\n",
    "df7[['b', 'c', 0]]"
   ]
  },
  {
   "cell_type": "code",
   "execution_count": 10,
   "metadata": {
    "collapsed": false
   },
   "outputs": [
    {
     "name": "stdout",
     "output_type": "stream",
     "text": [
      "6\n",
      "----------\n",
      "a    9\n",
      "b    8\n",
      "c    7\n",
      "dtype: int64\n",
      "----------\n",
      "a    9\n",
      "b    8\n",
      "dtype: int64\n",
      "----------\n",
      "a    8103.083928\n",
      "b    2980.957987\n",
      "c    1096.633158\n",
      "d     403.428793\n",
      "dtype: float64\n"
     ]
    }
   ],
   "source": [
    "# 与NumPy库的运算类似的操作：\n",
    "# 缩阴方法相同，均采用“[]”\n",
    "# NumPy运算和操作可用于Series\n",
    "# 可通过自定义索引的列表进行切片\n",
    "\n",
    "df8 = pd.Series([9, 8, 7, 6], ['a', 'b', 'c', 'd'])\n",
    "print(df8[3], df8[:3], df8[df8 > df8.median()], np.exp(df8), sep = '\\n----------\\n')"
   ]
  },
  {
   "cell_type": "code",
   "execution_count": 16,
   "metadata": {
    "collapsed": false
   },
   "outputs": [
    {
     "name": "stdout",
     "output_type": "stream",
     "text": [
      "8\n",
      "------------\n",
      "True\n",
      "------------\n",
      "False\n",
      "------------\n",
      "100\n"
     ]
    }
   ],
   "source": [
    "# 与Python字典类似的操作：\n",
    "# 通过自定义索引访问\n",
    "# 使用保留字“in”判断索引是否在Series的索引中（只能够判断自定义索引，而不会判断指定索引时未显示的自动索引）\n",
    "# 使用“.get()”方法从Series中提取指定索引对应的值，若该索引不存在，则返回指定的值（如：100）；若该索引存在，则返回对应的值则\n",
    "\n",
    "print(df8['b'], 'c' in df8, 0 in df8, df8.get('f', 100), sep = '\\n------------\\n')"
   ]
  },
  {
   "cell_type": "code",
   "execution_count": 24,
   "metadata": {
    "collapsed": false
   },
   "outputs": [
    {
     "data": {
      "text/plain": [
       "a    12.0\n",
       "b    10.0\n",
       "c     8.0\n",
       "d     NaN\n",
       "e     NaN\n",
       "dtype: float64"
      ]
     },
     "execution_count": 24,
     "metadata": {},
     "output_type": "execute_result"
    }
   ],
   "source": [
    "# Series的对齐操作 —— Series对象在运算中会自动对齐不同索引的数据\n",
    "\n",
    "# 两个Series对象相加，则索引相同的值相加，索引不同则返回NaN，返回值为两个Series对象索引的并集\n",
    "df9 = pd.Series([1, 2, 3, 4], ['c', 'b', 'a', 'e'])\n",
    "df8 + df9"
   ]
  },
  {
   "cell_type": "code",
   "execution_count": 29,
   "metadata": {
    "collapsed": false
   },
   "outputs": [
    {
     "data": {
      "text/plain": [
       "Series 索引\n",
       "a    9\n",
       "b    8\n",
       "c    7\n",
       "d    6\n",
       "Name: Series 对象, dtype: int64"
      ]
     },
     "execution_count": 29,
     "metadata": {},
     "output_type": "execute_result"
    }
   ],
   "source": [
    "# Series类型的name属性 —— Series对象和索引都可以有一个名字，存储在属性.name中\n",
    "\n",
    "df8.name = 'Series 对象' # 可将其看作Series对象的名字，也可以将其看作值的名字（因为Series对象仅包含一维数据） \n",
    "df8.index.name = 'Series 索引'\n",
    "df8"
   ]
  },
  {
   "cell_type": "code",
   "execution_count": 32,
   "metadata": {
    "collapsed": false
   },
   "outputs": [
    {
     "data": {
      "text/plain": [
       "Series 索引\n",
       "a    0\n",
       "b    0\n",
       "c    7\n",
       "d    6\n",
       "Name: Series, dtype: int64"
      ]
     },
     "execution_count": 32,
     "metadata": {},
     "output_type": "execute_result"
    }
   ],
   "source": [
    "# Series类型的修改 —— Series对象可随时修改并即时生效\n",
    "\n",
    "df8['a', 'b'] = 0 # 修改a、b索引对应的值\n",
    "df8.name = 'Series' # 修改Series对象的名字\n",
    "df8"
   ]
  },
  {
   "cell_type": "code",
   "execution_count": 30,
   "metadata": {
    "collapsed": false
   },
   "outputs": [
    {
     "data": {
      "text/plain": [
       "Series 索引\n",
       "a    9\n",
       "b    8\n",
       "c    7\n",
       "d    6\n",
       "Name: Series 对象, dtype: int64"
      ]
     },
     "execution_count": 30,
     "metadata": {},
     "output_type": "execute_result"
    }
   ],
   "source": [
    "df8"
   ]
  }
 ],
 "metadata": {
  "kernelspec": {
   "display_name": "Python 3",
   "language": "python",
   "name": "python3"
  },
  "language_info": {
   "codemirror_mode": {
    "name": "ipython",
    "version": 3
   },
   "file_extension": ".py",
   "mimetype": "text/x-python",
   "name": "python",
   "nbconvert_exporter": "python",
   "pygments_lexer": "ipython3",
   "version": "3.6.0"
  }
 },
 "nbformat": 4,
 "nbformat_minor": 2
}
