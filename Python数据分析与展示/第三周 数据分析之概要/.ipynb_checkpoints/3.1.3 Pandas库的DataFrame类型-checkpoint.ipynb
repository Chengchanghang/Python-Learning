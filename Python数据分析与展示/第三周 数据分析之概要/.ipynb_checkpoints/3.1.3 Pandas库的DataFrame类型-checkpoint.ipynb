{
 "cells": [
  {
   "cell_type": "code",
   "execution_count": null,
   "metadata": {
    "collapsed": true
   },
   "outputs": [],
   "source": [
    "'''\n",
    "DataFrame类型\n",
    "\n",
    "   DataFrame类型是由共用相同索引的多列数据组成。\n",
    "   \n",
    "   DataFrame类型是一个表格型数据类型，每列值类型可以不同。\n",
    "   \n",
    "   DataFrame类型既有行索引，又有列索引\n",
    "   \n",
    "   DataFrame类型常用于表达二维数据，但也可以表达多维数据。\n",
    "   \n",
    "   DataFrame对象中每一类为一个Series对象\n",
    "                                                columns(axis = 1)\n",
    "                                     \n",
    "                          index_0   \n",
    "                          index_1\n",
    "       index(axis = 0)    index_2\n",
    "                          index_3\n",
    "                          index_4\n",
    "   \n",
    "   DataFrame类型的创建：\n",
    "       \n",
    "       二维ndarray对象\n",
    "       由一维ndarray、列表、字典、元组或Series构成的字典\n",
    "       Series类型\n",
    "       其他DataFrame类型\n",
    "'''"
   ]
  },
  {
   "cell_type": "code",
   "execution_count": null,
   "metadata": {
    "collapsed": true
   },
   "outputs": [],
   "source": [
    "'''\n",
    "DataFrame类型的创建\n",
    "'''"
   ]
  },
  {
   "cell_type": "code",
   "execution_count": 1,
   "metadata": {
    "collapsed": true
   },
   "outputs": [],
   "source": [
    "import pandas as pd\n",
    "import numpy as np"
   ]
  },
  {
   "cell_type": "code",
   "execution_count": 4,
   "metadata": {
    "collapsed": false
   },
   "outputs": [
    {
     "data": {
      "text/html": [
       "<div>\n",
       "<table border=\"1\" class=\"dataframe\">\n",
       "  <thead>\n",
       "    <tr style=\"text-align: right;\">\n",
       "      <th></th>\n",
       "      <th>0</th>\n",
       "      <th>1</th>\n",
       "      <th>2</th>\n",
       "      <th>3</th>\n",
       "      <th>4</th>\n",
       "    </tr>\n",
       "  </thead>\n",
       "  <tbody>\n",
       "    <tr>\n",
       "      <th>0</th>\n",
       "      <td>0</td>\n",
       "      <td>1</td>\n",
       "      <td>2</td>\n",
       "      <td>3</td>\n",
       "      <td>4</td>\n",
       "    </tr>\n",
       "    <tr>\n",
       "      <th>1</th>\n",
       "      <td>5</td>\n",
       "      <td>6</td>\n",
       "      <td>7</td>\n",
       "      <td>8</td>\n",
       "      <td>9</td>\n",
       "    </tr>\n",
       "  </tbody>\n",
       "</table>\n",
       "</div>"
      ],
      "text/plain": [
       "   0  1  2  3  4\n",
       "0  0  1  2  3  4\n",
       "1  5  6  7  8  9"
      ]
     },
     "execution_count": 4,
     "metadata": {},
     "output_type": "execute_result"
    }
   ],
   "source": [
    "# 利用二维ndarray对象创建\n",
    "\n",
    "df = pd.DataFrame(np.arange(10).reshape(2,5)) # 生成2行5列的ndarray数组，然后转换为DataFrame类型\n",
    "df # 横向、纵向均自动生成索引"
   ]
  },
  {
   "cell_type": "code",
   "execution_count": 7,
   "metadata": {
    "collapsed": false
   },
   "outputs": [
    {
     "data": {
      "text/html": [
       "<div>\n",
       "<table border=\"1\" class=\"dataframe\">\n",
       "  <thead>\n",
       "    <tr style=\"text-align: right;\">\n",
       "      <th></th>\n",
       "      <th>one</th>\n",
       "      <th>two</th>\n",
       "    </tr>\n",
       "  </thead>\n",
       "  <tbody>\n",
       "    <tr>\n",
       "      <th>a</th>\n",
       "      <td>1.0</td>\n",
       "      <td>9</td>\n",
       "    </tr>\n",
       "    <tr>\n",
       "      <th>b</th>\n",
       "      <td>2.0</td>\n",
       "      <td>8</td>\n",
       "    </tr>\n",
       "    <tr>\n",
       "      <th>c</th>\n",
       "      <td>3.0</td>\n",
       "      <td>7</td>\n",
       "    </tr>\n",
       "    <tr>\n",
       "      <th>d</th>\n",
       "      <td>NaN</td>\n",
       "      <td>6</td>\n",
       "    </tr>\n",
       "  </tbody>\n",
       "</table>\n",
       "</div>"
      ],
      "text/plain": [
       "   one  two\n",
       "a  1.0    9\n",
       "b  2.0    8\n",
       "c  3.0    7\n",
       "d  NaN    6"
      ]
     },
     "execution_count": 7,
     "metadata": {},
     "output_type": "execute_result"
    }
   ],
   "source": [
    "# 利用一维ndarray对象字典创建\n",
    "# 字典中的键自动成为DataFrame类型的列索引，将最长的索引作为行索引，缺失值（如“one”中没有索引“d”）以NaN表示\n",
    "\n",
    "dt = {'one': pd.Series([1, 2, 3], index = ['a', 'b', 'c']),\n",
    "     'two': pd.Series([9, 8, 7, 6], index = ['a', 'b', 'c', 'd'])}\n",
    "\n",
    "df1 =pd.DataFrame(dt)\n",
    "df1"
   ]
  },
  {
   "cell_type": "code",
   "execution_count": 8,
   "metadata": {
    "collapsed": false
   },
   "outputs": [
    {
     "data": {
      "text/html": [
       "<div>\n",
       "<table border=\"1\" class=\"dataframe\">\n",
       "  <thead>\n",
       "    <tr style=\"text-align: right;\">\n",
       "      <th></th>\n",
       "      <th>two</th>\n",
       "      <th>three</th>\n",
       "    </tr>\n",
       "  </thead>\n",
       "  <tbody>\n",
       "    <tr>\n",
       "      <th>b</th>\n",
       "      <td>8</td>\n",
       "      <td>NaN</td>\n",
       "    </tr>\n",
       "    <tr>\n",
       "      <th>c</th>\n",
       "      <td>7</td>\n",
       "      <td>NaN</td>\n",
       "    </tr>\n",
       "    <tr>\n",
       "      <th>d</th>\n",
       "      <td>6</td>\n",
       "      <td>NaN</td>\n",
       "    </tr>\n",
       "  </tbody>\n",
       "</table>\n",
       "</div>"
      ],
      "text/plain": [
       "   two three\n",
       "b    8   NaN\n",
       "c    7   NaN\n",
       "d    6   NaN"
      ]
     },
     "execution_count": 8,
     "metadata": {},
     "output_type": "execute_result"
    }
   ],
   "source": [
    "# index和columns来指定DataFrame类型的行、列索引\n",
    "\n",
    "df2 = pd.DataFrame(dt, index = ['b', 'c', 'd'], columns = ['two', 'three'])\n",
    "df2"
   ]
  },
  {
   "cell_type": "code",
   "execution_count": 9,
   "metadata": {
    "collapsed": false
   },
   "outputs": [
    {
     "data": {
      "text/html": [
       "<div>\n",
       "<table border=\"1\" class=\"dataframe\">\n",
       "  <thead>\n",
       "    <tr style=\"text-align: right;\">\n",
       "      <th></th>\n",
       "      <th>one</th>\n",
       "      <th>two</th>\n",
       "    </tr>\n",
       "  </thead>\n",
       "  <tbody>\n",
       "    <tr>\n",
       "      <th>a</th>\n",
       "      <td>1</td>\n",
       "      <td>9</td>\n",
       "    </tr>\n",
       "    <tr>\n",
       "      <th>b</th>\n",
       "      <td>2</td>\n",
       "      <td>8</td>\n",
       "    </tr>\n",
       "    <tr>\n",
       "      <th>c</th>\n",
       "      <td>3</td>\n",
       "      <td>7</td>\n",
       "    </tr>\n",
       "    <tr>\n",
       "      <th>d</th>\n",
       "      <td>4</td>\n",
       "      <td>6</td>\n",
       "    </tr>\n",
       "  </tbody>\n",
       "</table>\n",
       "</div>"
      ],
      "text/plain": [
       "   one  two\n",
       "a    1    9\n",
       "b    2    8\n",
       "c    3    7\n",
       "d    4    6"
      ]
     },
     "execution_count": 9,
     "metadata": {},
     "output_type": "execute_result"
    }
   ],
   "source": [
    "# 利用列表类型的字典创建\n",
    "\n",
    "dl = {'one': [1, 2, 3, 4], 'two': [9, 8, 7, 6]}\n",
    "df3 = pd.DataFrame(dl, index = ['a', 'b', 'c', 'd'])\n",
    "df3"
   ]
  },
  {
   "cell_type": "code",
   "execution_count": 17,
   "metadata": {
    "collapsed": false
   },
   "outputs": [
    {
     "data": {
      "text/html": [
       "<div>\n",
       "<table border=\"1\" class=\"dataframe\">\n",
       "  <thead>\n",
       "    <tr style=\"text-align: right;\">\n",
       "      <th></th>\n",
       "      <th>同比</th>\n",
       "      <th>城市</th>\n",
       "      <th>定基</th>\n",
       "      <th>环比</th>\n",
       "    </tr>\n",
       "  </thead>\n",
       "  <tbody>\n",
       "    <tr>\n",
       "      <th>c1</th>\n",
       "      <td>120.7</td>\n",
       "      <td>北京</td>\n",
       "      <td>121.4</td>\n",
       "      <td>101.5</td>\n",
       "    </tr>\n",
       "    <tr>\n",
       "      <th>c2</th>\n",
       "      <td>127.3</td>\n",
       "      <td>上海</td>\n",
       "      <td>127.8</td>\n",
       "      <td>101.2</td>\n",
       "    </tr>\n",
       "    <tr>\n",
       "      <th>c3</th>\n",
       "      <td>119.4</td>\n",
       "      <td>广州</td>\n",
       "      <td>128.0</td>\n",
       "      <td>101.3</td>\n",
       "    </tr>\n",
       "    <tr>\n",
       "      <th>c4</th>\n",
       "      <td>140.9</td>\n",
       "      <td>深圳</td>\n",
       "      <td>145.5</td>\n",
       "      <td>102.0</td>\n",
       "    </tr>\n",
       "    <tr>\n",
       "      <th>c5</th>\n",
       "      <td>101.4</td>\n",
       "      <td>沈阳</td>\n",
       "      <td>101.6</td>\n",
       "      <td>100.1</td>\n",
       "    </tr>\n",
       "  </tbody>\n",
       "</table>\n",
       "</div>"
      ],
      "text/plain": [
       "       同比  城市     定基     环比\n",
       "c1  120.7  北京  121.4  101.5\n",
       "c2  127.3  上海  127.8  101.2\n",
       "c3  119.4  广州  128.0  101.3\n",
       "c4  140.9  深圳  145.5  102.0\n",
       "c5  101.4  沈阳  101.6  100.1"
      ]
     },
     "execution_count": 17,
     "metadata": {},
     "output_type": "execute_result"
    }
   ],
   "source": [
    "# 表单案例\n",
    "\n",
    "d = {'城市': ['北京', '上海', '广州', '深圳', '沈阳'],\n",
    "    '环比': ['101.5', '101.2', '101.3', '102.0', '100.1'],\n",
    "    '同比': ['120.7', '127.3', '119.4', '140.9', '101.4'],\n",
    "    '定基': ['121.4', '127.8', '128.0', '145.5', '101.6']}\n",
    "df4 = pd.DataFrame(d, index = ['c1', 'c2', 'c3', 'c4', 'c5'])\n",
    "df4"
   ]
  },
  {
   "cell_type": "code",
   "execution_count": 19,
   "metadata": {
    "collapsed": false
   },
   "outputs": [
    {
     "name": "stdout",
     "output_type": "stream",
     "text": [
      "Index(['c1', 'c2', 'c3', 'c4', 'c5'], dtype='object')\n",
      "---------------\n",
      "Index(['同比', '城市', '定基', '环比'], dtype='object')\n",
      "---------------\n",
      "[['120.7' '北京' '121.4' '101.5']\n",
      " ['127.3' '上海' '127.8' '101.2']\n",
      " ['119.4' '广州' '128.0' '101.3']\n",
      " ['140.9' '深圳' '145.5' '102.0']\n",
      " ['101.4' '沈阳' '101.6' '100.1']]\n"
     ]
    }
   ],
   "source": [
    "# 查看DataFrame类型的index、columns和values\n",
    "\n",
    "print(df4.index, df4.columns, df4.values, sep = '\\n---------------\\n')"
   ]
  },
  {
   "cell_type": "code",
   "execution_count": null,
   "metadata": {
    "collapsed": true
   },
   "outputs": [],
   "source": [
    "'''\n",
    "查找DataFrame对象中的值\n",
    "'''"
   ]
  },
  {
   "cell_type": "code",
   "execution_count": 23,
   "metadata": {
    "collapsed": false
   },
   "outputs": [
    {
     "name": "stdout",
     "output_type": "stream",
     "text": [
      "c1    120.7\n",
      "c2    127.3\n",
      "c3    119.4\n",
      "c4    140.9\n",
      "c5    101.4\n",
      "Name: 同比, dtype: object\n",
      "-------------\n",
      "同比    127.3\n",
      "城市       上海\n",
      "定基    127.8\n",
      "环比    101.2\n",
      "Name: c2, dtype: object\n",
      "-------------\n",
      "127.3\n"
     ]
    }
   ],
   "source": [
    "# 查找DataFrame对象中的值\n",
    "# 由于DataFrame对象列为Series对象，故可通过Series查找值的方式查找对应值\n",
    "# 查找某行元素，则可通过“.ix[]”来查找\n",
    "\n",
    "print(df4['同比'], df4.ix['c2'], df4['同比']['c2'], sep = '\\n-------------\\n')"
   ]
  }
 ],
 "metadata": {
  "kernelspec": {
   "display_name": "Python 3",
   "language": "python",
   "name": "python3"
  },
  "language_info": {
   "codemirror_mode": {
    "name": "ipython",
    "version": 3
   },
   "file_extension": ".py",
   "mimetype": "text/x-python",
   "name": "python",
   "nbconvert_exporter": "python",
   "pygments_lexer": "ipython3",
   "version": "3.6.0"
  }
 },
 "nbformat": 4,
 "nbformat_minor": 2
}
