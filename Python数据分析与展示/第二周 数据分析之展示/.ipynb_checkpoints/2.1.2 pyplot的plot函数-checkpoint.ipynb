{
 "cells": [
  {
   "cell_type": "code",
   "execution_count": null,
   "metadata": {
    "collapsed": true
   },
   "outputs": [],
   "source": [
    "'''\n",
    "1、pyplot中plot函数\n",
    "\n",
    "   plt.plot(x, y, format_string, **kwargs)\n",
    "   \n",
    "   参数意义：\n",
    "       \n",
    "       x：x轴数据，列表或者数组，可选\n",
    "       y：y轴数据，列表或数组\n",
    "       format_string：控制绘制曲线格式的字符串，可选。该字符串由颜色字符、风格字符和标记字符组成。\n",
    "                      若指定该参数，则图形中的线条按照指定颜色生成，否则系统自动分配区别于其他线条的不同颜色。\n",
    "                      使用时这三种字符在一个字符串中使用，如：'b*'表示线条为蓝色，且线条上的数据点用星形标记\n",
    "                      \n",
    "                      注意：使用foramt_string参数时，\n",
    "                            若未指定线条颜色，则系统自动为该线条匹配不同于其他线条的颜色\n",
    "                            若未指定线条风格，则不显示线条风格\n",
    "                      \n",
    "           颜色字符用于控制曲线色彩，还可以使用参数color来控制曲线色彩，如：color = 'green'\n",
    "           常用颜色字符         说明           |        常用颜色字符        说明\n",
    "           'b '                 蓝色           |        'm'                 洋红色magenta\n",
    "           'g'                  绿色           |        'y'                 黄色\n",
    "           'r'                  红色           |        'k'                 黑色\n",
    "           'c'                  青绿色cyan     |        'w'                 白色\n",
    "           '#008000'            RGB某颜色      |        '0.8 '              灰度值字符串\n",
    "           \n",
    "           风格字符用于控制曲线样式，还可以使用linestyle来控制线条风格，如：linestyle = 'dashed'\n",
    "           常用风格字符       说明\n",
    "           '-'                实线\n",
    "           '--'               破折线\n",
    "           '-.'               点划线\n",
    "           ':'                虚线\n",
    "           ''、' '            无线条\n",
    "           \n",
    "           标记字符用于控制曲线中数据点采用哪种方式标明\n",
    "           还可以使用marker来控制标记风格，如：marker = 'o'，\n",
    "           通过markerfacecolor来控制标记颜色，如：markerfacecolor = 'blue'\n",
    "           通过markersize来控制标记的尺寸，如：markersize = 20\n",
    "           常用标记字符       说明                       |   常用标记字符    说明            |    常用标记字符     说明\n",
    "           '.'                点标记                     |   '1'             下花三角标记    |    'h'              竖六边形标记  \n",
    "           ','                像素标记（表示为极小的点） |   '2'             上花三角标记    |    'H'              横六边形标记\n",
    "           'o'                实心圈标记                 |   '3'             左花三角标记    |    '+'              十字标记\n",
    "           'v'                倒三角标记                 |   '4'             右花三角标记    |    'x'              x标记\n",
    "           '^'                上三角标记                 |   's'             实心方形标记    |    'D'              菱形标记\n",
    "           '>'                右三角标记                 |   'p'             实心五角标记    |    'd'              瘦菱形标记\n",
    "           '<'                左三角标记                 |   '*'             星形标记        |    '|'              垂直线标记\n",
    "           \n",
    "       **kwargs：(x, y, format_string),可以为一组或多组，用于同时绘制多条曲线\n",
    "       \n",
    "   注意：\n",
    "       \n",
    "       绘制一条曲线时，若不指定参数x，即使用元素对应的索引值作为x轴数据\n",
    "       绘制多条曲线时，各条曲线的x参数不可省略    \n",
    "'''"
   ]
  },
  {
   "cell_type": "code",
   "execution_count": 1,
   "metadata": {
    "collapsed": false
   },
   "outputs": [
    {
     "data": {
      "image/png": "[encoded data removed]",
      "text/plain": [
       "<matplotlib.figure.Figure at 0x2106a064320>"
      ]
     },
     "metadata": {},
     "output_type": "display_data"
    }
   ],
   "source": [
    "# 绘制多条曲线\n",
    "\n",
    "import numpy as np\n",
    "import matplotlib.pyplot as plt\n",
    "\n",
    "a = np.arange(10)\n",
    "\n",
    "# 绘制四条曲线（a, a*1.5），...，（a, a*4.5）\n",
    "# 'go-'表示绿色、实心圈标记、实线\n",
    "# 'rx'表示红色、x标记（由于未指定线的风格，故未画出线条）\n",
    "# '*'表示星形标记（由于未指定颜色，故系统自动匹配与其他线条不同的颜色）\n",
    "# 'b-.'表示蓝色、点划线\n",
    "plt.plot(a, a * 1.5, 'go-', a, a * 2.5, 'rx', a, a * 3.5, '*', a, a * 4.5, 'b-.*')\n",
    "plt.show()"
   ]
  }
 ],
 "metadata": {
  "kernelspec": {
   "display_name": "Python 3",
   "language": "python",
   "name": "python3"
  },
  "language_info": {
   "codemirror_mode": {
    "name": "ipython",
    "version": 3
   },
   "file_extension": ".py",
   "mimetype": "text/x-python",
   "name": "python",
   "nbconvert_exporter": "python",
   "pygments_lexer": "ipython3",
   "version": "3.6.0"
  }
 },
 "nbformat": 4,
 "nbformat_minor": 2
}
