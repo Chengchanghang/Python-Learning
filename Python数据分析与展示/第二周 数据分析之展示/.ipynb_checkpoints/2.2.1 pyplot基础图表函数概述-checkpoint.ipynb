{
 "cells": [
  {
   "cell_type": "code",
   "execution_count": null,
   "metadata": {
    "collapsed": true
   },
   "outputs": [],
   "source": [
    "'''\n",
    "pyplot基础图表函数（此处介绍16种）\n",
    "\n",
    "            函数                                          说明\n",
    "    plt.plot(x, y, fmt, ...)                      绘制一个坐标图（可以是xy轴的坐标图，也可以是类似雷达图的极坐标系）\n",
    "    plt.boxplot(data, notch, position)            绘制一个箱形图\n",
    "    plt.bar(left, height, width, bottom)          绘制一个条形图\n",
    "    plt.barh(width, bottom, left, height)         绘制一个横向条形图\n",
    "    plt.polar(theta, r)                           绘制极坐标图\n",
    "    plt.pie(data, explode)                        绘制饼图\n",
    "    plt.psd(x, NFFF = 256, pad_to, Fs)            绘制功率谱密度图\n",
    "    plt.specgram(x, NFFF = 256, pad_to, F)        绘制谱图\n",
    "    plt.cohere(x, y, NFFF = 256, Fs)              绘制X-Y的相关性函数\n",
    "    plt.scatter(x, y)                             绘制散点图，其中，x、y长度相同\n",
    "    plt.step(x, y, where)                         绘制步阶图\n",
    "    plt.hist(x, bins, normed)                     绘制直方图\n",
    "    plt.contour(x, y, z, n)                       绘制等值图\n",
    "    plt.vlines()                                  绘制垂直图\n",
    "    plt.stem(x, y, linefmt, markerfmt)            绘制柴火图\n",
    "    plt.plot_date()                               绘制数据日期\n",
    "'''"
   ]
  }
 ],
 "metadata": {
  "kernelspec": {
   "display_name": "Python 3",
   "language": "python",
   "name": "python3"
  },
  "language_info": {
   "codemirror_mode": {
    "name": "ipython",
    "version": 3
   },
   "file_extension": ".py",
   "mimetype": "text/x-python",
   "name": "python",
   "nbconvert_exporter": "python",
   "pygments_lexer": "ipython3",
   "version": "3.6.0"
  }
 },
 "nbformat": 4,
 "nbformat_minor": 2
}
