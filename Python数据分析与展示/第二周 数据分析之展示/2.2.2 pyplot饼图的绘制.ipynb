{
 "cells": [
  {
   "cell_type": "code",
   "execution_count": null,
   "metadata": {
    "collapsed": true
   },
   "outputs": [],
   "source": [
    "'''\n",
    "pyplot饼图的绘制\n",
    "\n",
    "   饼图 — 是根据百分数绘制的图表，对于百分比表示的数据非常适用\n",
    "'''"
   ]
  },
  {
   "cell_type": "code",
   "execution_count": 26,
   "metadata": {
    "collapsed": false
   },
   "outputs": [
    {
     "data": {
      "image/png": "[encoded data removed]",
      "text/plain": [
       "<matplotlib.figure.Figure at 0x14f5df56cf8>"
      ]
     },
     "metadata": {},
     "output_type": "display_data"
    }
   ],
   "source": [
    "import matplotlib.pyplot as plt\n",
    "\n",
    "# 生成并图标签序列\n",
    "labels = 'Frogs', 'Hogs', 'Dogs', 'Logs'\n",
    "\n",
    "# 生成每个标签对应的百分比，自行计算百分数\n",
    "sizes = [15, 30, 45, 10]\n",
    "\n",
    "# 设置凸出子块，每个数字代表凸出的比例\n",
    "explode = (0, 0.1, 0, 0)\n",
    "\n",
    "# sizes表示每个标签对应的百分比\n",
    "# explode表示哪个子块凸出以及凸出的比例\n",
    "# labels表示每个子块对应的标签\n",
    "# autopct表示百分比显示的格式\n",
    "# shadow表示该饼图是否带有阴影\n",
    "# startangle表示饼图绘制起始角度（该图中即为Frogs与Logs中间的线呈90度）\n",
    "plt.pie(sizes, explode = explode, labels = labels, autopct = '%1.1f%%', shadow = False, startangle = 90)\n",
    "\n",
    "# axis表示绘制饼图时x、y轴尺寸相等，此时饼图为正圆形\n",
    "plt.axis('equal')\n",
    "plt.title('饼图实例', fontproperties = 'SimHei', fontsize = 30, color = 'red')\n",
    "plt.show()"
   ]
  },
  {
   "cell_type": "code",
   "execution_count": 3,
   "metadata": {
    "collapsed": false
   },
   "outputs": [
    {
     "data": {
      "text/plain": [
       "0.15"
      ]
     },
     "execution_count": 3,
     "metadata": {},
     "output_type": "execute_result"
    }
   ],
   "source": [
    "15 / (15+30+55)"
   ]
  },
  {
   "cell_type": "code",
   "execution_count": 7,
   "metadata": {
    "collapsed": false
   },
   "outputs": [
    {
     "name": "stdout",
     "output_type": "stream",
     "text": [
      "Help on function pie in module matplotlib.pyplot:\n",
      "\n",
      "pie(x, explode=None, labels=None, colors=None, autopct=None, pctdistance=0.6, shadow=False, labeldistance=1.1, startangle=None, radius=None, counterclock=True, wedgeprops=None, textprops=None, center=(0, 0), frame=False, hold=None, data=None)\n",
      "    Plot a pie chart.\n",
      "    \n",
      "    Make a pie chart of array *x*.  The fractional area of each\n",
      "    wedge is given by x/sum(x).  If sum(x) <= 1, then the values\n",
      "    of x give the fractional area directly and the array will not\n",
      "    be normalized.  The wedges are plotted counterclockwise,\n",
      "    by default starting from the x-axis.\n",
      "    \n",
      "    Keyword arguments:\n",
      "    \n",
      "      *explode*: [ *None* | len(x) sequence ]\n",
      "        If not *None*, is a ``len(x)`` array which specifies the\n",
      "        fraction of the radius with which to offset each wedge.\n",
      "    \n",
      "      *colors*: [ *None* | color sequence ]\n",
      "        A sequence of matplotlib color args through which the pie chart\n",
      "        will cycle.  If `None`, will use the colors in the currently\n",
      "        active cycle.\n",
      "    \n",
      "      *labels*: [ *None* | len(x) sequence of strings ]\n",
      "        A sequence of strings providing the labels for each wedge\n",
      "    \n",
      "      *autopct*: [ *None* | format string | format function ]\n",
      "        If not *None*, is a string or function used to label the wedges\n",
      "        with their numeric value.  The label will be placed inside the\n",
      "        wedge.  If it is a format string, the label will be ``fmt%pct``.\n",
      "        If it is a function, it will be called.\n",
      "    \n",
      "      *pctdistance*: scalar\n",
      "        The ratio between the center of each pie slice and the\n",
      "        start of the text generated by *autopct*.  Ignored if\n",
      "        *autopct* is *None*; default is 0.6.\n",
      "    \n",
      "      *labeldistance*: scalar\n",
      "        The radial distance at which the pie labels are drawn\n",
      "    \n",
      "      *shadow*: [ *False* | *True* ]\n",
      "        Draw a shadow beneath the pie.\n",
      "    \n",
      "      *startangle*: [ *None* | Offset angle ]\n",
      "        If not *None*, rotates the start of the pie chart by *angle*\n",
      "        degrees counterclockwise from the x-axis.\n",
      "    \n",
      "      *radius*: [ *None* | scalar ]\n",
      "      The radius of the pie, if *radius* is *None* it will be set to 1.\n",
      "    \n",
      "      *counterclock*: [ *False* | *True* ]\n",
      "        Specify fractions direction, clockwise or counterclockwise.\n",
      "    \n",
      "      *wedgeprops*: [ *None* | dict of key value pairs ]\n",
      "        Dict of arguments passed to the wedge objects making the pie.\n",
      "        For example, you can pass in wedgeprops = { 'linewidth' : 3 }\n",
      "        to set the width of the wedge border lines equal to 3.\n",
      "        For more details, look at the doc/arguments of the wedge object.\n",
      "        By default `clip_on=False`.\n",
      "    \n",
      "      *textprops*: [ *None* | dict of key value pairs ]\n",
      "        Dict of arguments to pass to the text objects.\n",
      "    \n",
      "      *center*: [ (0,0) | sequence of 2 scalars ]\n",
      "      Center position of the chart.\n",
      "    \n",
      "      *frame*: [ *False* | *True* ]\n",
      "        Plot axes frame with the chart.\n",
      "    \n",
      "    The pie chart will probably look best if the figure and axes are\n",
      "    square, or the Axes aspect is equal.  e.g.::\n",
      "    \n",
      "      figure(figsize=(8,8))\n",
      "      ax = axes([0.1, 0.1, 0.8, 0.8])\n",
      "    \n",
      "    or::\n",
      "    \n",
      "      axes(aspect=1)\n",
      "    \n",
      "    Return value:\n",
      "      If *autopct* is *None*, return the tuple (*patches*, *texts*):\n",
      "    \n",
      "        - *patches* is a sequence of\n",
      "          :class:`matplotlib.patches.Wedge` instances\n",
      "    \n",
      "        - *texts* is a list of the label\n",
      "          :class:`matplotlib.text.Text` instances.\n",
      "    \n",
      "      If *autopct* is not *None*, return the tuple (*patches*,\n",
      "      *texts*, *autotexts*), where *patches* and *texts* are as\n",
      "      above, and *autotexts* is a list of\n",
      "      :class:`~matplotlib.text.Text` instances for the numeric\n",
      "      labels.\n",
      "    \n",
      "    .. note::\n",
      "        In addition to the above described arguments, this function can take a\n",
      "        **data** keyword argument. If such a **data** argument is given, the\n",
      "        following arguments are replaced by **data[<arg>]**:\n",
      "    \n",
      "        * All arguments with the following names: 'colors', 'explode', 'labels', 'x'.\n",
      "\n"
     ]
    }
   ],
   "source": [
    "help(plt.pie)"
   ]
  },
  {
   "cell_type": "code",
   "execution_count": 18,
   "metadata": {
    "collapsed": false
   },
   "outputs": [
    {
     "name": "stdout",
     "output_type": "stream",
     "text": [
      "Help on function axis in module matplotlib.pyplot:\n",
      "\n",
      "axis(*v, **kwargs)\n",
      "    Convenience method to get or set axis properties.\n",
      "    \n",
      "    Calling with no arguments::\n",
      "    \n",
      "      >>> axis()\n",
      "    \n",
      "    returns the current axes limits ``[xmin, xmax, ymin, ymax]``.::\n",
      "    \n",
      "      >>> axis(v)\n",
      "    \n",
      "    sets the min and max of the x and y axes, with\n",
      "    ``v = [xmin, xmax, ymin, ymax]``.::\n",
      "    \n",
      "      >>> axis('off')\n",
      "    \n",
      "    turns off the axis lines and labels.::\n",
      "    \n",
      "      >>> axis('equal')\n",
      "    \n",
      "    changes limits of *x* or *y* axis so that equal increments of *x*\n",
      "    and *y* have the same length; a circle is circular.::\n",
      "    \n",
      "      >>> axis('scaled')\n",
      "    \n",
      "    achieves the same result by changing the dimensions of the plot box instead\n",
      "    of the axis data limits.::\n",
      "    \n",
      "      >>> axis('tight')\n",
      "    \n",
      "    changes *x* and *y* axis limits such that all data is shown. If\n",
      "    all data is already shown, it will move it to the center of the\n",
      "    figure without modifying (*xmax* - *xmin*) or (*ymax* -\n",
      "    *ymin*). Note this is slightly different than in MATLAB.::\n",
      "    \n",
      "      >>> axis('image')\n",
      "    \n",
      "    is 'scaled' with the axis limits equal to the data limits.::\n",
      "    \n",
      "      >>> axis('auto')\n",
      "    \n",
      "    and::\n",
      "    \n",
      "      >>> axis('normal')\n",
      "    \n",
      "    are deprecated. They restore default behavior; axis limits are automatically\n",
      "    scaled to make the data fit comfortably within the plot box.\n",
      "    \n",
      "    if ``len(*v)==0``, you can pass in *xmin*, *xmax*, *ymin*, *ymax*\n",
      "    as kwargs selectively to alter just those limits without changing\n",
      "    the others.\n",
      "    \n",
      "      >>> axis('square')\n",
      "    \n",
      "    changes the limit ranges (*xmax*-*xmin*) and (*ymax*-*ymin*) of\n",
      "    the *x* and *y* axes to be the same, and have the same scaling,\n",
      "    resulting in a square plot.\n",
      "    \n",
      "    The xmin, xmax, ymin, ymax tuple is returned\n",
      "    \n",
      "    .. seealso::\n",
      "    \n",
      "        :func:`xlim`, :func:`ylim`\n",
      "           For setting the x- and y-limits individually.\n",
      "\n"
     ]
    }
   ],
   "source": [
    "help(plt.axis)"
   ]
  },
  {
   "cell_type": "code",
   "execution_count": null,
   "metadata": {
    "collapsed": true
   },
   "outputs": [],
   "source": []
  }
 ],
 "metadata": {
  "kernelspec": {
   "display_name": "Python 3",
   "language": "python",
   "name": "python3"
  },
  "language_info": {
   "codemirror_mode": {
    "name": "ipython",
    "version": 3
   },
   "file_extension": ".py",
   "mimetype": "text/x-python",
   "name": "python",
   "nbconvert_exporter": "python",
   "pygments_lexer": "ipython3",
   "version": "3.6.0"
  }
 },
 "nbformat": 4,
 "nbformat_minor": 2
}
