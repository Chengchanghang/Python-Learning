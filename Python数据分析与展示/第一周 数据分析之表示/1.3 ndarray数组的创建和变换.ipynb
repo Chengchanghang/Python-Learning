{
 "cells": [
  {
   "cell_type": "code",
   "execution_count": null,
   "metadata": {
    "collapsed": true
   },
   "outputs": [],
   "source": [
    "# ndarray数组的创建方法"
   ]
  },
  {
   "cell_type": "code",
   "execution_count": null,
   "metadata": {
    "collapsed": true
   },
   "outputs": [],
   "source": [
    "'''\n",
    "1、从Python中的列表、元组等类型创建ndarray数组\n",
    " \n",
    "   x = np.array(list/tuple, dtype = np.float32)\n",
    "   \n",
    "       使用array函数利用列表或元组创建ndarray数组，其中dtype用于指定数据类型\n",
    "       \n",
    "       若dtype未指定数据类型，则NumPy将根据数据情况关联一个dtype类型。\n",
    "'''"
   ]
  },
  {
   "cell_type": "code",
   "execution_count": 7,
   "metadata": {
    "collapsed": false
   },
   "outputs": [
    {
     "name": "stdout",
     "output_type": "stream",
     "text": [
      "[1 2 3 4]\n",
      " ----------------------- \n",
      "[1 2 3 4]\n",
      " ----------------------- \n",
      "[[1 2]\n",
      " [2 3]\n",
      " [3 4]]\n"
     ]
    }
   ],
   "source": [
    "import numpy as np\n",
    "x1 = np.array([1,2,3,4]) # 以列表进行创建\n",
    "\n",
    "x2 = np.array((1,2,3,4)) # 以元组进行创建\n",
    "\n",
    "x3 = np.array([[1,2], [2,3], (3,4)]) # 以列表和元组共同创建，但需注意此处列表和元组中包含的数据个数最好相同\n",
    "\n",
    "print(x1, x2, x3, sep = '\\n ----------------------- \\n')"
   ]
  },
  {
   "cell_type": "code",
   "execution_count": null,
   "metadata": {
    "collapsed": true
   },
   "outputs": [],
   "source": [
    "'''\n",
    "2、使用NumPy中函数创建ndarray数组，如：arange,ones,zeros等\n",
    "\n",
    "   函数                          说明\n",
    "   np.arange(n)                  类似range()函数，返回ndarray类型，元素从0到n-1\n",
    "   np.ones(shape)                根据shape生成一个全为1的数组，shape为元组类型\n",
    "   np.zeros(shape)               根据shape生成一个全为0的数组，shape为元组类型\n",
    "   np.full(shape, val)           根据shape生成一个数组，每个元素都是val\n",
    "   np.eye(n)                     创建一个n * n单位方阵，对角线为1，其余为0\n",
    "   \n",
    "   （在进行大规模科学计算时特别重要）\n",
    "   np.ones_like(a)               根据数组a的形状生成一个全为1的数组\n",
    "   np.zeros_like(a)              根据数组a的形状生成一个全为0的数组\n",
    "   np.full_like(a, val)          根据数组a的形状生成一个一个数组，每个元素均为val\n",
    "   \n",
    "   np.linspace()                 根据起止数据等间距地填充数据，形成数组\n",
    "   np.concatenate()              将两个或多个数组合并成一个新的数组\n",
    "'''"
   ]
  },
  {
   "cell_type": "code",
   "execution_count": 2,
   "metadata": {
    "collapsed": false
   },
   "outputs": [
    {
     "data": {
      "text/plain": [
       "array([1, 3, 5, 7, 9])"
      ]
     },
     "execution_count": 2,
     "metadata": {},
     "output_type": "execute_result"
    }
   ],
   "source": [
    "import numpy as np\n",
    "x1 = np.arange(1,10, 2) # 生成一位数组,类似于range()函数\n",
    "x1"
   ]
  },
  {
   "cell_type": "code",
   "execution_count": 18,
   "metadata": {
    "collapsed": false
   },
   "outputs": [
    {
     "data": {
      "text/plain": [
       "array([[ 1.,  1.,  1.,  1.,  1.,  1.],\n",
       "       [ 1.,  1.,  1.,  1.,  1.,  1.],\n",
       "       [ 1.,  1.,  1.,  1.,  1.,  1.]])"
      ]
     },
     "execution_count": 18,
     "metadata": {},
     "output_type": "execute_result"
    }
   ],
   "source": [
    "x2 = np.ones((3, 6)) # 生成3行6列的二维数组\n",
    "x2"
   ]
  },
  {
   "cell_type": "code",
   "execution_count": 21,
   "metadata": {
    "collapsed": false
   },
   "outputs": [
    {
     "data": {
      "text/plain": [
       "array([[[ 1.,  1.,  1.,  1.],\n",
       "        [ 1.,  1.,  1.,  1.],\n",
       "        [ 1.,  1.,  1.,  1.]],\n",
       "\n",
       "       [[ 1.,  1.,  1.,  1.],\n",
       "        [ 1.,  1.,  1.,  1.],\n",
       "        [ 1.,  1.,  1.,  1.]]])"
      ]
     },
     "execution_count": 21,
     "metadata": {},
     "output_type": "execute_result"
    }
   ],
   "source": [
    "# 生成3行4列的二维数组(即最外层2表示有两个维度，次一层3表示有三个维度，最里层4表示包含4个元素\n",
    "x21 = np.ones((2,3,4)) \n",
    "x21"
   ]
  },
  {
   "cell_type": "code",
   "execution_count": 22,
   "metadata": {
    "collapsed": false
   },
   "outputs": [
    {
     "data": {
      "text/plain": [
       "array([[ 1.,  1.,  1.],\n",
       "       [ 1.,  1.,  1.],\n",
       "       [ 1.,  1.,  1.]])"
      ]
     },
     "execution_count": 22,
     "metadata": {},
     "output_type": "execute_result"
    }
   ],
   "source": [
    "# 根据np.ones((3,3)),即相当于模板，生成一个与此形状相同的全为1的数组\n",
    "x22 = np.ones_like(np.ones((3,3))) \n",
    "x22"
   ]
  },
  {
   "cell_type": "code",
   "execution_count": 23,
   "metadata": {
    "collapsed": false
   },
   "outputs": [
    {
     "data": {
      "text/plain": [
       "array([[0, 0, 0, 0, 0, 0],\n",
       "       [0, 0, 0, 0, 0, 0],\n",
       "       [0, 0, 0, 0, 0, 0]])"
      ]
     },
     "execution_count": 23,
     "metadata": {},
     "output_type": "execute_result"
    }
   ],
   "source": [
    "x3 = np.zeros((3, 6), dtype = np.int32)\n",
    "x3"
   ]
  },
  {
   "cell_type": "code",
   "execution_count": 24,
   "metadata": {
    "collapsed": false
   },
   "outputs": [
    {
     "data": {
      "text/plain": [
       "array([[ 5.,  5.,  5.],\n",
       "       [ 5.,  5.,  5.],\n",
       "       [ 5.,  5.,  5.]], dtype=float32)"
      ]
     },
     "execution_count": 24,
     "metadata": {},
     "output_type": "execute_result"
    }
   ],
   "source": [
    "x4 = np.full((3, 3), 5, dtype = np.float32) # 生成3行3列的数组且用5填充\n",
    "x4"
   ]
  },
  {
   "cell_type": "code",
   "execution_count": 25,
   "metadata": {
    "collapsed": false
   },
   "outputs": [
    {
     "data": {
      "text/plain": [
       "array([[ 1.,  0.,  0.,  0.,  0.],\n",
       "       [ 0.,  1.,  0.,  0.,  0.],\n",
       "       [ 0.,  0.,  1.,  0.,  0.],\n",
       "       [ 0.,  0.,  0.,  1.,  0.],\n",
       "       [ 0.,  0.,  0.,  0.,  1.]])"
      ]
     },
     "execution_count": 25,
     "metadata": {},
     "output_type": "execute_result"
    }
   ],
   "source": [
    "x5 = np.eye(5) # 生成5行5列的单位阵，对角线元素为1，其余为0\n",
    "x5"
   ]
  },
  {
   "cell_type": "code",
   "execution_count": 4,
   "metadata": {
    "collapsed": false
   },
   "outputs": [
    {
     "data": {
      "text/plain": [
       "array([ 2,  4,  6,  8, 10])"
      ]
     },
     "execution_count": 4,
     "metadata": {},
     "output_type": "execute_result"
    }
   ],
   "source": [
    "# linspace函数 1\n",
    "# 第一个参数2表示起始值，第二个参数10表示终止值，第三个参数表示在2-10之间生成5个数（包含2和10）\n",
    "x6 = np.linspace(2,10,5,dtype = np.int32) \n",
    "x6"
   ]
  },
  {
   "cell_type": "code",
   "execution_count": 2,
   "metadata": {
    "collapsed": false
   },
   "outputs": [
    {
     "data": {
      "text/plain": [
       "array([ 2. ,  3.6,  5.2,  6.8,  8.4])"
      ]
     },
     "execution_count": 2,
     "metadata": {},
     "output_type": "execute_result"
    }
   ],
   "source": [
    "# linspace函数 2\n",
    "# 参数endpoint表示不包含终止值10，该参数默认为True\n",
    "x7 = np.linspace(2,10,5,endpoint = False)\n",
    "x7"
   ]
  },
  {
   "cell_type": "code",
   "execution_count": 6,
   "metadata": {
    "collapsed": false
   },
   "outputs": [
    {
     "data": {
      "text/plain": [
       "array([  2. ,   4. ,   6. ,   8. ,  10. ,   2. ,   3.6,   5.2,   6.8,   8.4])"
      ]
     },
     "execution_count": 6,
     "metadata": {},
     "output_type": "execute_result"
    }
   ],
   "source": [
    "# concatenate函数连接两个数组，采用元组的形式将两个数组作为参数\n",
    "x8 = np.concatenate((x6, x7))\n",
    "x8"
   ]
  },
  {
   "cell_type": "code",
   "execution_count": null,
   "metadata": {
    "collapsed": true
   },
   "outputs": [],
   "source": [
    "'''\n",
    "3、从字节流（raw bytes）中创建ndarray数组\n",
    "\n",
    "4、从文件中读取特定格式，创建ndarray数组\n",
    "'''"
   ]
  },
  {
   "cell_type": "code",
   "execution_count": null,
   "metadata": {
    "collapsed": true
   },
   "outputs": [],
   "source": [
    "# ndarray数组的变换"
   ]
  },
  {
   "cell_type": "code",
   "execution_count": null,
   "metadata": {
    "collapsed": true
   },
   "outputs": [],
   "source": [
    "'''\n",
    "数组变换 —— 一般即对数组维度和元素类型进行变换\n",
    "\n",
    "    方法                        说明\n",
    "    （不改变元素，只改变维度）\n",
    "    .reshape(shape)             不改变数组元素个数，返回一个shape形状的数组，原数组不变\n",
    "    .resize(shape)              与.reshape()功能一致，但修改原数组\n",
    "    .swapaxes(a,ax1,ax2)        将数组n个维度中两个维度进行调换\n",
    "    .flatten()                  对数组进行降维，返回折叠后的一维数组，原数组不变\n",
    "    \n",
    "    （不改变维度，只改变元素类型）\n",
    "    .astype(new_type)           改变数组类型\n",
    "    \n",
    "    （将数组转换为列表）\n",
    "    .tolist()\n",
    "'''"
   ]
  },
  {
   "cell_type": "code",
   "execution_count": 9,
   "metadata": {
    "collapsed": false
   },
   "outputs": [
    {
     "name": "stdout",
     "output_type": "stream",
     "text": [
      "[[[1 1 1 1]\n",
      "  [1 1 1 1]\n",
      "  [1 1 1 1]]\n",
      "\n",
      " [[1 1 1 1]\n",
      "  [1 1 1 1]\n",
      "  [1 1 1 1]]]\n",
      " ---------------- \n",
      "[[1 1 1 1 1 1 1 1]\n",
      " [1 1 1 1 1 1 1 1]\n",
      " [1 1 1 1 1 1 1 1]]\n"
     ]
    }
   ],
   "source": [
    "# reshape函数并未改变元素个数，而且并未修改原数组，相当于新生成一个数组对象\n",
    "x9 = np.ones((2,3,4), dtype = np.int32)\n",
    "x10 = x9.reshape((3,8))\n",
    "print(x9, x10, sep = '\\n ---------------- \\n')"
   ]
  },
  {
   "cell_type": "code",
   "execution_count": 10,
   "metadata": {
    "collapsed": false
   },
   "outputs": [
    {
     "data": {
      "text/plain": [
       "array([[1, 1, 1, 1, 1, 1, 1, 1],\n",
       "       [1, 1, 1, 1, 1, 1, 1, 1],\n",
       "       [1, 1, 1, 1, 1, 1, 1, 1]])"
      ]
     },
     "execution_count": 10,
     "metadata": {},
     "output_type": "execute_result"
    }
   ],
   "source": [
    "# resize函数也并未改变数组元素个数，但却改变原数组维度\n",
    "x9.resize((3,8))\n",
    "x9"
   ]
  },
  {
   "cell_type": "code",
   "execution_count": 11,
   "metadata": {
    "collapsed": false
   },
   "outputs": [
    {
     "data": {
      "text/plain": [
       "array([1, 1, 1, 1, 1, 1, 1, 1, 1, 1, 1, 1, 1, 1, 1, 1, 1, 1, 1, 1, 1, 1, 1,\n",
       "       1])"
      ]
     },
     "execution_count": 11,
     "metadata": {},
     "output_type": "execute_result"
    }
   ],
   "source": [
    "# flatten函数对数组进行降维，将其转换为一维数组，但并不改变原数组\n",
    "x9.flatten()"
   ]
  },
  {
   "cell_type": "code",
   "execution_count": 34,
   "metadata": {
    "collapsed": false
   },
   "outputs": [
    {
     "data": {
      "text/plain": [
       "(3038952460496, 3038952393744)"
      ]
     },
     "execution_count": 34,
     "metadata": {},
     "output_type": "execute_result"
    }
   ],
   "source": [
    "# astype函数改变数组元素的类型，但并不改变原数组，而是新生成一个数组对象\n",
    "# 即使是对原数组进行复制，也是产生了一个新的数组对象，通过id()查看存储情况即可看出。\n",
    "x11 = x9.astype(np.int32)\n",
    "id(x11),id(x9)"
   ]
  },
  {
   "cell_type": "code",
   "execution_count": 6,
   "metadata": {
    "collapsed": false
   },
   "outputs": [
    {
     "data": {
      "text/plain": [
       "array([[1, 1, 1, 1],\n",
       "       [1, 1, 1, 1],\n",
       "       [1, 1, 1, 1]])"
      ]
     },
     "execution_count": 6,
     "metadata": {},
     "output_type": "execute_result"
    }
   ],
   "source": [
    "# swapaxes函数将两个维度进行调换,即行列调换\n",
    "x12 = np.ones((4,3), dtype = np.int32)\n",
    "np.swapaxes(x12,0,1)"
   ]
  },
  {
   "cell_type": "code",
   "execution_count": 66,
   "metadata": {
    "collapsed": false
   },
   "outputs": [
    {
     "data": {
      "text/plain": [
       "[[[25, 25, 25, 25], [25, 25, 25, 25], [25, 25, 25, 25]],\n",
       " [[25, 25, 25, 25], [25, 25, 25, 25], [25, 25, 25, 25]]]"
      ]
     },
     "execution_count": 66,
     "metadata": {},
     "output_type": "execute_result"
    }
   ],
   "source": [
    "# tolist函数将数组转换为列表形式,但并不改变原数组，而是新生成一个列表对象\n",
    "x13 = np.full((2,3,4), 25, dtype = np.int32)\n",
    "x13.tolist()"
   ]
  }
 ],
 "metadata": {
  "kernelspec": {
   "display_name": "Python 3",
   "language": "python",
   "name": "python3"
  },
  "language_info": {
   "codemirror_mode": {
    "name": "ipython",
    "version": 3
   },
   "file_extension": ".py",
   "mimetype": "text/x-python",
   "name": "python",
   "nbconvert_exporter": "python",
   "pygments_lexer": "ipython3",
   "version": "3.6.0"
  }
 },
 "nbformat": 4,
 "nbformat_minor": 2
}
