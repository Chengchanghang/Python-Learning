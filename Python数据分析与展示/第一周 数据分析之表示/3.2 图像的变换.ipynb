{
 "cells": [
  {
   "cell_type": "code",
   "execution_count": null,
   "metadata": {
    "collapsed": true
   },
   "outputs": [],
   "source": [
    "'''\n",
    "图像变换的基本流程\n",
    "\n",
    "    1、读入图像\n",
    "    2、获得像素的RGB值\n",
    "    3、修改后保存为新的文件\n",
    "    \n",
    "    注意：\n",
    "    \n",
    "    图像变换关键之处在于对像素数组的变换，通过对该数组的变换可以生成各种不同风格的图片\n",
    "'''"
   ]
  },
  {
   "cell_type": "code",
   "execution_count": 1,
   "metadata": {
    "collapsed": true
   },
   "outputs": [],
   "source": [
    "from PIL import Image \n",
    "import numpy as np\n",
    "import os"
   ]
  },
  {
   "cell_type": "code",
   "execution_count": 14,
   "metadata": {
    "collapsed": false
   },
   "outputs": [
    {
     "name": "stdout",
     "output_type": "stream",
     "text": [
      "(300, 300, 3) uint8\n"
     ]
    }
   ],
   "source": [
    "# 图像变换1\n",
    "# 读入图像，并将图像转换为数组\n",
    "image_array = np.array(Image.open(os.getcwd() + '/1.jpg'))\n",
    "print(image_array.shape, image_array.dtype)"
   ]
  },
  {
   "cell_type": "code",
   "execution_count": 15,
   "metadata": {
    "collapsed": false
   },
   "outputs": [],
   "source": [
    "# 更改图片的每一个像素RGB三个通道的值\n",
    "b = [255, 255, 255] - image_array"
   ]
  },
  {
   "cell_type": "code",
   "execution_count": 11,
   "metadata": {
    "collapsed": false
   },
   "outputs": [],
   "source": [
    "# 将数组b重新生成一个图像（通过转换数据类型，uint8即可）并保存\n",
    "image = Image.fromarray(b.astype('uint8'))\n",
    "image.save(os.getcwd() + '/b.jpg')"
   ]
  },
  {
   "cell_type": "code",
   "execution_count": 34,
   "metadata": {
    "collapsed": false
   },
   "outputs": [
    {
     "name": "stdout",
     "output_type": "stream",
     "text": [
      "(300, 300) uint8\n"
     ]
    }
   ],
   "source": [
    "# 图像变换2\n",
    "# convert('L')表示将一个彩色图片变为灰度值的图片，\n",
    "# 此时即生成一个二维数组，其中每一个元素并不对应RGB的值，而是对应一个灰度值\n",
    "image_array = np.array(Image.open(os.getcwd() + '/1.jpg').convert('L'))\n",
    "print(image_array.shape, image_array.dtype)"
   ]
  },
  {
   "cell_type": "code",
   "execution_count": 35,
   "metadata": {
    "collapsed": true
   },
   "outputs": [],
   "source": [
    "c = 255 - image_array"
   ]
  },
  {
   "cell_type": "code",
   "execution_count": 36,
   "metadata": {
    "collapsed": true
   },
   "outputs": [],
   "source": [
    "image1 = Image.fromarray(c.astype('uint8'))\n",
    "image.save(os.getcwd() + '/c.jpg')"
   ]
  },
  {
   "cell_type": "code",
   "execution_count": 28,
   "metadata": {
    "collapsed": true
   },
   "outputs": [],
   "source": [
    "# 图片变换3\n",
    "imame_array = np.array(Image.open(os.getcwd() + '/1.jpg').convert('L'))"
   ]
  },
  {
   "cell_type": "code",
   "execution_count": 29,
   "metadata": {
    "collapsed": true
   },
   "outputs": [],
   "source": [
    "d = (100/255)*image_array + 150 # 区间变换"
   ]
  },
  {
   "cell_type": "code",
   "execution_count": 30,
   "metadata": {
    "collapsed": true
   },
   "outputs": [],
   "source": [
    "image = Image.fromarray(d.astype('uint8'))\n",
    "image.save(os.getcwd() + '/d.jpg')"
   ]
  },
  {
   "cell_type": "code",
   "execution_count": 37,
   "metadata": {
    "collapsed": true
   },
   "outputs": [],
   "source": [
    "# 图像变换4\n",
    "image_array = np.array(Image.open(os.getcwd() + '/1.jpg').convert('L'))"
   ]
  },
  {
   "cell_type": "code",
   "execution_count": 38,
   "metadata": {
    "collapsed": true
   },
   "outputs": [],
   "source": [
    "e = 255 * (image_array / 255) ** 2 # 像素平方"
   ]
  },
  {
   "cell_type": "code",
   "execution_count": 39,
   "metadata": {
    "collapsed": true
   },
   "outputs": [],
   "source": [
    "image = Image.fromarray(e.astype('uint8'))\n",
    "image.save(os.getcwd() + '/e.jpg')"
   ]
  }
 ],
 "metadata": {
  "kernelspec": {
   "display_name": "Python 3",
   "language": "python",
   "name": "python3"
  },
  "language_info": {
   "codemirror_mode": {
    "name": "ipython",
    "version": 3
   },
   "file_extension": ".py",
   "mimetype": "text/x-python",
   "name": "python",
   "nbconvert_exporter": "python",
   "pygments_lexer": "ipython3",
   "version": "3.6.0"
  }
 },
 "nbformat": 4,
 "nbformat_minor": 2
}
