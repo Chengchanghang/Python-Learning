{
 "cells": [
  {
   "cell_type": "code",
   "execution_count": null,
   "metadata": {
    "collapsed": true
   },
   "outputs": [],
   "source": [
    "'''\n",
    "一、图像的RGB色彩模式\n",
    "\n",
    "    图像一般使用RGB色彩模式，即每个像素点的颜色由红（R）、绿（G）、蓝（B）组成。\n",
    "    \n",
    "    RGB这三种颜色形成三个颜色通道，通过这三个颜色通道的变换和叠加得到各种颜色，其中\n",
    "    \n",
    "        R红色，取值范围：0-255\n",
    "        G绿色，取值范围：0-255\n",
    "        B蓝色，取值范围：0-255\n",
    "        （三种颜色通道叠加形成256^3的颜色空间，其中包括了人类视力所能感知的所有颜色）\n",
    "\n",
    "二、PIL库（Python Image Library）\n",
    "\n",
    "    PIL库是一个具有强大的图像处理能力的第三方库。\n",
    "    \n",
    "    命令行安装：pip install pillow （但实际使用时则为PIL）\n",
    "    \n",
    "    from PIL import Image 其中Image时PIL库中代表一个图像的类\n",
    "    \n",
    "三、图像的数组表示\n",
    "\n",
    "    图像即一个由像素组成的二维矩阵，每个元素是一个RGB值(R,G,B)\n",
    "'''"
   ]
  },
  {
   "cell_type": "code",
   "execution_count": 5,
   "metadata": {
    "collapsed": true
   },
   "outputs": [],
   "source": [
    "from PIL import Image\n",
    "import numpy as np\n",
    "import os"
   ]
  },
  {
   "cell_type": "code",
   "execution_count": 9,
   "metadata": {
    "collapsed": false
   },
   "outputs": [],
   "source": [
    "# Image.open函数用于打开指定目录下的图片\n",
    "image = np.array(Image.open(os.getcwd() + '/1.jpg'))"
   ]
  },
  {
   "cell_type": "code",
   "execution_count": 10,
   "metadata": {
    "collapsed": false
   },
   "outputs": [
    {
     "name": "stdout",
     "output_type": "stream",
     "text": [
      "(300, 300, 3) uint8\n"
     ]
    }
   ],
   "source": [
    "# 返回值可得图像是一个三维数组，维度分别是高度、宽度和像素的RGB值\n",
    "print(image.shape, image.dtype)"
   ]
  }
 ],
 "metadata": {
  "kernelspec": {
   "display_name": "Python 3",
   "language": "python",
   "name": "python3"
  },
  "language_info": {
   "codemirror_mode": {
    "name": "ipython",
    "version": 3
   },
   "file_extension": ".py",
   "mimetype": "text/x-python",
   "name": "python",
   "nbconvert_exporter": "python",
   "pygments_lexer": "ipython3",
   "version": "3.6.0"
  }
 },
 "nbformat": 4,
 "nbformat_minor": 2
}
