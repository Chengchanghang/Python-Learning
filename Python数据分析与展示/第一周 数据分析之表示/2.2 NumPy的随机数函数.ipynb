{
 "cells": [
  {
   "cell_type": "code",
   "execution_count": null,
   "metadata": {
    "collapsed": true
   },
   "outputs": [],
   "source": [
    "'''\n",
    "一、random库与NumPy库中random子库区别\n",
    "\n",
    "    前者是针对标量而言，而后者则是针对数组而言\n",
    "\n",
    "二、NumPy库中的random子库\n",
    "\n",
    "    函数                           说明\n",
    "    （基本随机数函数，此处d0-dn表示维度值）\n",
    "    rand(d0,d1,...,dn)             根据d0-dn创建随机数数组，且均为服从均匀分布的[0,1)的浮点数\n",
    "    randn(d0,d1,...,dn)            根据d0-dn创建随机数数组，标准正态分布\n",
    "    randint(low,high,shape,dtype) 根据shape创建随机整数或整数数组，范围是[low, high]\n",
    "    seed(s)                        随机数种子，s是给定的种子值\n",
    "    \n",
    "    （高级随机数函数）\n",
    "    shuffle(a)                     根据数组a的第一轴(即最外层维度)进行随机排列，改变数组a\n",
    "    permutation(a)                 根据数组a的第一轴产生一个新的乱序数组，不改变数组a\n",
    "    choice(a,size,replace,p)       从一维数组a中以概率p抽取元素，形成size形状的数组，replace表示是否为有放回的抽取，默认为True\n",
    "\n",
    "    （带有分布的产生随机数组的函数）\n",
    "    uniform(low,high,size)         产生具有均匀分布的数组，low为起始值，high为终止值，size为形状         \n",
    "    normal(loc,scale,size)         产生具有正态分布的数组，loc为均值，scale为标准差，size为形状\n",
    "    poisson(lam,size)              产生具有破松分布的数组，lam为随机事件发生概率，size为形状\n",
    "'''"
   ]
  },
  {
   "cell_type": "code",
   "execution_count": 5,
   "metadata": {
    "collapsed": false
   },
   "outputs": [],
   "source": [
    "import numpy as np"
   ]
  },
  {
   "cell_type": "code",
   "execution_count": 6,
   "metadata": {
    "collapsed": false
   },
   "outputs": [
    {
     "data": {
      "text/plain": [
       "array([[[  3.89577213e-01,   3.23436359e-01,   3.08839035e-01,\n",
       "           1.92759752e-01,   4.42805664e-01],\n",
       "        [  1.41058059e-01,   4.62101624e-01,   7.85180688e-01,\n",
       "           3.73550433e-01,   3.25648199e-01],\n",
       "        [  1.11272542e-01,   3.52121193e-01,   5.72698782e-01,\n",
       "           9.20335697e-01,   3.22998798e-01],\n",
       "        [  4.16187892e-01,   7.11225445e-01,   6.26744187e-01,\n",
       "           4.73083112e-01,   9.88161953e-01]],\n",
       "\n",
       "       [[  4.33949637e-01,   7.21306673e-01,   4.17307111e-01,\n",
       "           3.43399150e-01,   7.34167241e-02],\n",
       "        [  9.55955369e-02,   2.26911829e-01,   4.42106603e-01,\n",
       "           4.56501576e-02,   9.68182898e-01],\n",
       "        [  7.53394312e-01,   3.37066128e-01,   5.38538262e-01,\n",
       "           6.55635703e-01,   1.19455515e-01],\n",
       "        [  8.15514214e-01,   2.55629375e-01,   6.47013465e-01,\n",
       "           7.38994054e-01,   6.18177345e-01]],\n",
       "\n",
       "       [[  2.00633990e-01,   6.13325918e-01,   4.00672461e-01,\n",
       "           6.05841260e-01,   3.71898788e-01],\n",
       "        [  2.24237843e-01,   8.90255287e-01,   7.85714550e-01,\n",
       "           2.21781819e-01,   6.31607100e-02],\n",
       "        [  7.57430243e-04,   9.35447312e-01,   9.24069333e-01,\n",
       "           6.02972760e-01,   2.56864695e-01],\n",
       "        [  1.47778758e-01,   1.70319583e-01,   5.01634794e-01,\n",
       "           3.28628602e-01,   5.94282476e-01]]])"
      ]
     },
     "execution_count": 6,
     "metadata": {},
     "output_type": "execute_result"
    }
   ],
   "source": [
    "# 生成维度为3、4、5的数组，其中的元素按照[0,1)均匀分布的形式随机产生\n",
    "x1 = np.random.rand(3,4,5) # 维度分别为3、4、5（由外到内）\n",
    "x1"
   ]
  },
  {
   "cell_type": "code",
   "execution_count": 4,
   "metadata": {
    "collapsed": false
   },
   "outputs": [
    {
     "data": {
      "text/plain": [
       "array([[[-0.72238149, -1.29224968,  0.71242007, -0.72322496, -0.71072949],\n",
       "        [-0.75075415, -1.08625524, -0.14281786, -0.11943365, -0.62983834],\n",
       "        [-1.05338851, -0.25990635, -0.20059845, -0.25973436,  0.72716097],\n",
       "        [ 0.66447316,  0.70998861, -1.36422952,  0.21112839,  1.79968296]],\n",
       "\n",
       "       [[-0.84285868, -0.39825382, -0.1044398 ,  0.96871142,  0.8153642 ],\n",
       "        [-0.721385  , -1.24707528,  0.5975124 ,  0.66400886,  0.05871123],\n",
       "        [ 0.0108366 ,  1.63566973,  0.50656241,  0.52870774,  0.48720667],\n",
       "        [-0.21863478, -0.56052341, -0.01293271,  0.5112991 , -1.55709735]],\n",
       "\n",
       "       [[-0.02518404,  0.11816852, -0.96449717,  0.77447841, -1.39215933],\n",
       "        [ 0.60402137,  1.44474501,  0.08405228, -1.50307491,  1.34897606],\n",
       "        [ 1.26145489,  0.26688278,  0.12169485,  0.46600171,  0.16308419],\n",
       "        [ 1.54308233,  1.09476388, -0.38140042,  1.72704234,  1.40137664]]])"
      ]
     },
     "execution_count": 4,
     "metadata": {},
     "output_type": "execute_result"
    }
   ],
   "source": [
    "# 生成维度为3、4、5的数组，其中的元素按照标准正态分布随机产生\n",
    "x2 = np.random.randn(3,4,5)\n",
    "x2"
   ]
  },
  {
   "cell_type": "code",
   "execution_count": 7,
   "metadata": {
    "collapsed": false
   },
   "outputs": [
    {
     "data": {
      "text/plain": [
       "array([[179, 132, 162, 169],\n",
       "       [176, 159, 160, 126],\n",
       "       [174, 165, 191, 138]])"
      ]
     },
     "execution_count": 7,
     "metadata": {},
     "output_type": "execute_result"
    }
   ],
   "source": [
    "# 生成100-200之间维度度3、4的随机整数数组\n",
    "# 默认情况下元素按照均匀分布随机生成\n",
    "x3 = np.random.randint(100, 200, (3,4))\n",
    "x3"
   ]
  },
  {
   "cell_type": "code",
   "execution_count": 10,
   "metadata": {
    "collapsed": false
   },
   "outputs": [
    {
     "data": {
      "text/plain": [
       "array([[109, 115, 164, 128],\n",
       "       [189, 193, 129, 108],\n",
       "       [173, 100, 140, 136]])"
      ]
     },
     "execution_count": 10,
     "metadata": {},
     "output_type": "execute_result"
    }
   ],
   "source": [
    "np.random.seed(10)\n",
    "x4 = np.random.randint(100, 200, (3,4))\n",
    "x4"
   ]
  },
  {
   "cell_type": "code",
   "execution_count": 16,
   "metadata": {
    "collapsed": false
   },
   "outputs": [
    {
     "data": {
      "text/plain": [
       "array([[109, 115, 164, 128],\n",
       "       [189, 193, 129, 108],\n",
       "       [173, 100, 140, 136]])"
      ]
     },
     "execution_count": 16,
     "metadata": {},
     "output_type": "execute_result"
    }
   ],
   "source": [
    "# 随机种子作用即保证在同样种子情况下随机产生的数值不发生变化\n",
    "np.random.seed(10)\n",
    "x4 = np.random.randint(100, 200, (3,4))\n",
    "x4"
   ]
  },
  {
   "cell_type": "code",
   "execution_count": 19,
   "metadata": {
    "collapsed": false
   },
   "outputs": [
    {
     "data": {
      "text/plain": [
       "array([[[184, 196, 188, 144],\n",
       "        [105, 104, 171, 188],\n",
       "        [188, 150, 154, 134]],\n",
       "\n",
       "       [[115, 177, 188, 115],\n",
       "        [106, 185, 122, 111],\n",
       "        [112, 192, 196, 162]]])"
      ]
     },
     "execution_count": 19,
     "metadata": {},
     "output_type": "execute_result"
    }
   ],
   "source": [
    "x5 = np.random.randint(100,200,(2,3,4))\n",
    "x5"
   ]
  },
  {
   "cell_type": "code",
   "execution_count": 26,
   "metadata": {
    "collapsed": false
   },
   "outputs": [
    {
     "data": {
      "text/plain": [
       "array([[[115, 177, 188, 115],\n",
       "        [106, 185, 122, 111],\n",
       "        [112, 192, 196, 162]],\n",
       "\n",
       "       [[184, 196, 188, 144],\n",
       "        [105, 104, 171, 188],\n",
       "        [188, 150, 154, 134]]])"
      ]
     },
     "execution_count": 26,
     "metadata": {},
     "output_type": "execute_result"
    }
   ],
   "source": [
    "# 根据最外层维度进行随机排列，并改变了原数组\n",
    "np.random.shuffle(x5)\n",
    "x5"
   ]
  },
  {
   "cell_type": "code",
   "execution_count": 27,
   "metadata": {
    "collapsed": false
   },
   "outputs": [
    {
     "data": {
      "text/plain": [
       "array([[[184, 196, 188, 144],\n",
       "        [105, 104, 171, 188],\n",
       "        [188, 150, 154, 134]],\n",
       "\n",
       "       [[115, 177, 188, 115],\n",
       "        [106, 185, 122, 111],\n",
       "        [112, 192, 196, 162]]])"
      ]
     },
     "execution_count": 27,
     "metadata": {},
     "output_type": "execute_result"
    }
   ],
   "source": [
    "# 根据最外层维度形成一个新的随机数组，不改变原数组\n",
    "np.random.permutation(x5)"
   ]
  },
  {
   "cell_type": "code",
   "execution_count": 42,
   "metadata": {
    "collapsed": false,
    "scrolled": true
   },
   "outputs": [
    {
     "data": {
      "text/plain": [
       "array([143, 188, 196, 173, 140, 143, 190, 171])"
      ]
     },
     "execution_count": 42,
     "metadata": {},
     "output_type": "execute_result"
    }
   ],
   "source": [
    "# 8表示生成8个元素\n",
    "x6 = np.random.randint(100,200,8)\n",
    "x6"
   ]
  },
  {
   "cell_type": "code",
   "execution_count": 43,
   "metadata": {
    "collapsed": false,
    "scrolled": true
   },
   "outputs": [
    {
     "data": {
      "text/plain": [
       "array([[143, 143, 143, 140],\n",
       "       [171, 143, 190, 173]])"
      ]
     },
     "execution_count": 43,
     "metadata": {},
     "output_type": "execute_result"
    }
   ],
   "source": [
    "# 默认为有放回的选取数值\n",
    "np.random.choice(x6, (2,4))"
   ]
  },
  {
   "cell_type": "code",
   "execution_count": 58,
   "metadata": {
    "collapsed": false,
    "scrolled": true
   },
   "outputs": [
    {
     "data": {
      "text/plain": [
       "array([[196, 143, 190, 143],\n",
       "       [173, 171, 140, 188]])"
      ]
     },
     "execution_count": 58,
     "metadata": {},
     "output_type": "execute_result"
    }
   ],
   "source": [
    "np.random.choice(x6, (2,4), replace = False, p = x6 / sum(x6))"
   ]
  },
  {
   "cell_type": "code",
   "execution_count": 59,
   "metadata": {
    "collapsed": false
   },
   "outputs": [
    {
     "data": {
      "text/plain": [
       "array([[ 16.75863648,  14.99127137,  10.64441725,  13.24220569,\n",
       "          5.05054474],\n",
       "       [ 18.01847003,  19.35297878,   7.02302968,  17.44549975,\n",
       "          6.89539043],\n",
       "       [  1.48001496,   1.934708  ,   4.50790992,   2.31163349,\n",
       "          5.89203304],\n",
       "       [ 18.3580529 ,   9.69914073,   3.474024  ,  16.38794164,\n",
       "          8.66592697]])"
      ]
     },
     "execution_count": 59,
     "metadata": {},
     "output_type": "execute_result"
    }
   ],
   "source": [
    "# 最小值为1，最大值为20\n",
    "np.random.uniform(1,20,(4,5))"
   ]
  },
  {
   "cell_type": "code",
   "execution_count": 60,
   "metadata": {
    "collapsed": false
   },
   "outputs": [
    {
     "data": {
      "text/plain": [
       "array([[ 6.78850431, -1.08924277,  7.66867347,  0.71209275,  3.53254999],\n",
       "       [ 7.8109755 , -1.09901187,  3.64159665, -1.52190115, -4.76519872],\n",
       "       [ 6.94639127,  3.11290947, -0.28947039, -3.34620704,  1.39410872],\n",
       "       [ 8.36871714,  4.60987637,  1.50895433,  0.31190625,  3.42324833]])"
      ]
     },
     "execution_count": 60,
     "metadata": {},
     "output_type": "execute_result"
    }
   ],
   "source": [
    "# 均值为3，标准差为4\n",
    "np.random.normal(3,4,(4,5))"
   ]
  },
  {
   "cell_type": "code",
   "execution_count": 62,
   "metadata": {
    "collapsed": false
   },
   "outputs": [
    {
     "data": {
      "text/plain": [
       "array([[1, 1, 1, 1],\n",
       "       [0, 0, 2, 0],\n",
       "       [0, 2, 0, 4]])"
      ]
     },
     "execution_count": 62,
     "metadata": {},
     "output_type": "execute_result"
    }
   ],
   "source": [
    "# 0.5表示随机事件发生的概率\n",
    "np.random.poisson(0.5, (3,4))"
   ]
  }
 ],
 "metadata": {
  "kernelspec": {
   "display_name": "Python 3",
   "language": "python",
   "name": "python3"
  },
  "language_info": {
   "codemirror_mode": {
    "name": "ipython",
    "version": 3
   },
   "file_extension": ".py",
   "mimetype": "text/x-python",
   "name": "python",
   "nbconvert_exporter": "python",
   "pygments_lexer": "ipython3",
   "version": "3.6.0"
  }
 },
 "nbformat": 4,
 "nbformat_minor": 2
}
