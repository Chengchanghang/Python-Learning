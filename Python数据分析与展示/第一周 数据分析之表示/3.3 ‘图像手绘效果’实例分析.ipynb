{
 "cells": [
  {
   "cell_type": "code",
   "execution_count": 1,
   "metadata": {
    "collapsed": true
   },
   "outputs": [],
   "source": [
    "'''\n",
    "图像的手绘效果特征\n",
    "\n",
    "    1、黑白灰色\n",
    "    2、边界线条较重\n",
    "    3、相同或相近的色彩趋于白色\n",
    "    4、略有光源效果\n",
    "'''"
   ]
  },
  {
   "cell_type": "code",
   "execution_count": 9,
   "metadata": {
    "collapsed": false
   },
   "outputs": [
    {
     "data": {
      "text/plain": [
       "matrix([[ 1.,  1.,  1.],\n",
       "        [ 1.,  1.,  1.],\n",
       "        [ 1.,  1.,  1.]])"
      ]
     },
     "execution_count": 9,
     "metadata": {},
     "output_type": "execute_result"
    }
   ],
   "source": [
    "# array与asarray的区别\n",
    "import numpy as np\n",
    "a = np.matrix(np.ones((3,3)))\n",
    "np.array(a)[2] = 2\n",
    "a"
   ]
  },
  {
   "cell_type": "code",
   "execution_count": 10,
   "metadata": {
    "collapsed": false
   },
   "outputs": [
    {
     "data": {
      "text/plain": [
       "matrix([[ 1.,  1.,  1.],\n",
       "        [ 1.,  1.,  1.],\n",
       "        [ 2.,  2.,  2.]])"
      ]
     },
     "execution_count": 10,
     "metadata": {},
     "output_type": "execute_result"
    }
   ],
   "source": [
    "np.asarray(a)[2] = 2\n",
    "a"
   ]
  },
  {
   "cell_type": "code",
   "execution_count": 3,
   "metadata": {
    "collapsed": false
   },
   "outputs": [],
   "source": [
    "from PIL import Image\n",
    "import numpy as np\n",
    "import os\n",
    "\n",
    "a = np.asarray(Image.open(os.getcwd() + '/1.jpg').convert('L')).astype('float')\n",
    "\n",
    "depth = 10.                            # 0-100\n",
    "grad = np.gradient(a)                  # 取图像灰度的梯度值\n",
    "grad_x, grad_y = grad                  # 分别取横纵图像梯度值\n",
    "grad_x = grad_x * depth / 100.\n",
    "grad_y = grad_y * depth / 100.\n",
    "\n",
    "A = np.sqrt(grad_x ** 2 + grad_y ** 2 + 1.)\n",
    "uni_x = grad_x / A\n",
    "uni_y = grad_y / A\n",
    "uni_z = 1. / A\n",
    "\n",
    "vec_e1 = np.pi / 2.2                  # 光源的俯视角度，弧度值\n",
    "vec_e2 = np.pi / 4.                   # 光源的方位角度，弧度值\n",
    "dx = np.cos(vec_e1) * np.cos(vec_e2)  # 光源对x轴的影响\n",
    "dy = np.cos(vec_e1) * np.sin(vec_e2)  # 光源对y轴的影响\n",
    "dz = np.sin(vec_e1)                   # 光源对z轴的影响\n",
    "\n",
    "b = 255 * (dx * uni_x + dy * uni_y + dz * uni_z) # 光源归一化\n",
    "b = b.clip(0,255)\n",
    "\n",
    "image = Image.fromarray(b.astype('uint8')) # 重构图像\n",
    "image.save(os.getcwd() + '/手绘效果图.jpg')"
   ]
  },
  {
   "cell_type": "code",
   "execution_count": null,
   "metadata": {
    "collapsed": true
   },
   "outputs": [],
   "source": []
  }
 ],
 "metadata": {
  "kernelspec": {
   "display_name": "Python 3",
   "language": "python",
   "name": "python3"
  },
  "language_info": {
   "codemirror_mode": {
    "name": "ipython",
    "version": 3
   },
   "file_extension": ".py",
   "mimetype": "text/x-python",
   "name": "python",
   "nbconvert_exporter": "python",
   "pygments_lexer": "ipython3",
   "version": "3.6.0"
  }
 },
 "nbformat": 4,
 "nbformat_minor": 2
}
