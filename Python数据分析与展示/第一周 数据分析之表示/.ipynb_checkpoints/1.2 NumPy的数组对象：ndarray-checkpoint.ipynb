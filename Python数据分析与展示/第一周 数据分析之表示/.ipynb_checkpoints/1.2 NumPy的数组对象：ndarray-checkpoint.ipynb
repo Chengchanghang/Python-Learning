{
 "cells": [
  {
   "cell_type": "code",
   "execution_count": null,
   "metadata": {
    "collapsed": true
   },
   "outputs": [],
   "source": [
    "'''\n",
    "NumPy — 开源Python科学计算基础库，底层实现是由C完成\n",
    "\n",
    "一、特征：\n",
    "\n",
    "1、具有强大的N维数组对象ndarray\n",
    "\n",
    "2、广播功能函数 — 用于在数组之间进行计算\n",
    "\n",
    "3、整合C/C++/Fortran代码的工具\n",
    "\n",
    "4、提供线性代数、傅里叶变换、随机数生成等功能\n",
    "\n",
    "二、N维数组对象ndarray\n",
    "\n",
    "1、数组对象可以去掉元素间运算所需的循环，使一维向量更像单个数据\n",
    "\n",
    "2、设置专门的数组对象，经过优化可提升运算速度。\n",
    "\n",
    "3、数组对象采用相同数据类型，可节省运算和存储空间。\n",
    "\n",
    "4、ndarray是一个多维数组对象，由两部分构成：\n",
    "\n",
    "      实际的数据\n",
    "   \n",
    "      描述这些数据的元数据（数据维度、数据类型等）\n",
    "   \n",
    "   ndarray数组一般要求所有元素数据类型相同（一般情况而言，但也存在特殊情况可以不相同，此时无法发挥NumPy的优势，避免使用），数组下标从0开始。\n",
    "   \n",
    "   ndarray数组包含两个基本概念：\n",
    "       \n",
    "      轴（axis）：表示数据维度\n",
    "      \n",
    "      秩（rank）：轴的数量，即数组类型有几个维度\n",
    "      \n",
    "   ndarray对象属性：\n",
    "   \n",
    "      属性                       说明\n",
    "      .ndim                      秩，即轴的数量或维度的数量\n",
    "      .shape                     ndarray对象的尺度，对于矩阵而言，则表示n行m列；对于向量而言，则表示n行/列\n",
    "      .size                      ndarray对象元素个数，对于矩阵而言，则表示n * m的值\n",
    "      .dtype                     ndarray对象的元素类型\n",
    "      .itemsize                  ndarray对象中每个元素的大小，以字节为单位\n",
    "   \n",
    "   ndarray的元素类型\n",
    "   \n",
    "   （定义如此多类型的原因：科学计算涉及数据较多，多存储和性能有较高要求 ）\n",
    "   （                      精确定义有助于NumPy合理使用存储空间并优化性能）\n",
    "   （                      精细定义有助于程序员对程序规模合理评估       ）\n",
    "   \n",
    "     数据类型                    说明\n",
    "     bool                        布尔类型，True或False\n",
    "     intc                        与C语言中的int类型一致，一般是int32或int64\n",
    "     intp                        用于索引的整数，与C语言中的ssize_t一致，int32或int64\n",
    "     \n",
    "     （此处整数包含正负值）\n",
    "     int8                        8位（字节）长度的整数，取值：[-128, 127]\n",
    "     int16                       16位长度的整数，取值：[-32768, 32767]\n",
    "     int32                       32位长度的整数，取值：[-2^31, 2^31 - 1]\n",
    "     int64                       64位长度的整数，取值：[-2^63, 2^63 - 1]\n",
    "     \n",
    "     （此处整数不包含负值）\n",
    "     uint8                       8位无符号整数，取值：[0, 255]\n",
    "     uint16                      16位无符号整数，取值：[0, 65535]\n",
    "     uint32                      32位无符号整数，取值：[0, 2^32 - 1]\n",
    "     uint64                      64位无符号整数，取值：[0, 2^64 - 1]\n",
    "     float16                     16位半精度浮点数：1位符号位，5位指数，10位尾数\n",
    "     float32                     32位半精度浮点数：1位符号位，8位指数，23位尾数\n",
    "     float64                     64位半精度浮点数：1位符号位，11位指数，52位尾数\n",
    "     complex64                   复数类型，实部和虚部都是32位浮点数\n",
    "     complex128                  复数类型，实部和虚部都是64位浮点数\n",
    "'''"
   ]
  },
  {
   "cell_type": "code",
   "execution_count": 8,
   "metadata": {
    "collapsed": false
   },
   "outputs": [
    {
     "name": "stdout",
     "output_type": "stream",
     "text": [
      "2\n",
      "---------------\n",
      "(2, 5)\n",
      "---------------\n",
      "10\n",
      "---------------\n",
      "int32\n",
      "---------------\n",
      "4\n"
     ]
    }
   ],
   "source": [
    "# 实例演示\n",
    "import numpy as np\n",
    "a = np.array([[0,1,2,3,4],\n",
    "            [9,8,7,6,5]])\n",
    "a # print(a)结果则去掉了array,只显示列表\n",
    "\n",
    "# ndarray对象属性：维度，尺度，元素个数，元素类型，每个元素大小\n",
    "print(a.ndim, a.shape, a.size, a.dtype, a.itemsize, sep = '\\n---------------\\n')"
   ]
  },
  {
   "cell_type": "code",
   "execution_count": 3,
   "metadata": {
    "collapsed": false
   },
   "outputs": [
    {
     "data": {
      "text/plain": [
       "[9, 68, 225, 528, 1025]"
      ]
     },
     "execution_count": 3,
     "metadata": {},
     "output_type": "execute_result"
    }
   ],
   "source": [
    "# 计算 A平方 加 B三次方 —— 使用列表进行循环遍历计算\n",
    "def sum():\n",
    "    a = [1,2,3,4,5]\n",
    "    b = [2,4,6,8,10]\n",
    "    c = []\n",
    "    \n",
    "    for i in range(len(a)):\n",
    "        c.append(a[i]**2 + b[i]**3)\n",
    "    return c\n",
    "\n",
    "sum()"
   ]
  },
  {
   "cell_type": "code",
   "execution_count": 5,
   "metadata": {
    "collapsed": false
   },
   "outputs": [
    {
     "data": {
      "text/plain": [
       "array([   9,   68,  225,  528, 1025])"
      ]
     },
     "execution_count": 5,
     "metadata": {},
     "output_type": "execute_result"
    }
   ],
   "source": [
    "# 计算 A平方 加 B三次方 —— 使用数组进行计算\n",
    "import numpy as np\n",
    "def add():\n",
    "    a = np.array([1,2,3,4,5]) # 利用array构建数组\n",
    "    b = np.array([2,4,6,8,10])\n",
    "       \n",
    "    c = a**2 + b**3 # 无需循环遍历，numpy中数组对象会在维度相同时直接运算\n",
    "    return c\n",
    "\n",
    "add()"
   ]
  }
 ],
 "metadata": {
  "kernelspec": {
   "display_name": "Python 3",
   "language": "python",
   "name": "python3"
  },
  "language_info": {
   "codemirror_mode": {
    "name": "ipython",
    "version": 3
   },
   "file_extension": ".py",
   "mimetype": "text/x-python",
   "name": "python",
   "nbconvert_exporter": "python",
   "pygments_lexer": "ipython3",
   "version": "3.6.0"
  }
 },
 "nbformat": 4,
 "nbformat_minor": 2
}
