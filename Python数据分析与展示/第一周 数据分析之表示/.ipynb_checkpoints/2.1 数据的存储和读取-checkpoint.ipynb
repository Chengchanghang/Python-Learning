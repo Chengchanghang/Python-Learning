{
 "cells": [
  {
   "cell_type": "code",
   "execution_count": null,
   "metadata": {
    "collapsed": true
   },
   "outputs": [],
   "source": [
    "'''\n",
    "一、一维和二维数据的存储和读取\n",
    "\n",
    "CSV (Comma-Separated Value，逗号分隔值) — 用于存储批量数据\n",
    "\n",
    "1、NumPy库存储数据的函数\n",
    "\n",
    "   np.savetxt(frame, array, fmt = '%.18e', delimiter = None)\n",
    "   \n",
    "   该函数除可保存为CSV文件外，还可以保存为任意带有分隔字符串的文件\n",
    "   \n",
    "   参数意义：\n",
    "   \n",
    "     frame    ：文件、字符串或产生器的名称，也可以是.gz或.bz2的压缩文件的名称\n",
    "     array    ：存入CSV文件的数组\n",
    "     fmt      ：写入文件的格式，例如：%d%.2f%.18e，默认为%.18e，即使用科学计数法保留18位小数的浮点数形式存储\n",
    "     delimiter：分隔字符串，默认为空格，在CSV文件则将其修改为逗号\n",
    "     \n",
    "2、NumPy库读取CSV数据的函数\n",
    "\n",
    "   np.loadtxt(frame, dtype = np.float, delimiter = None, unpack = False)\n",
    "   \n",
    "   参数意义：\n",
    "   \n",
    "   frame    ：文件、字符串或产生器名称，也可以是.gz或.bz2的压缩文件名称（使用压缩文件对于处理大规模数据可节省存储）\n",
    "   dtype    ：数据类型，用于将字符串转换为特定格式，默认值为np.float,可选。\n",
    "   delimiter：分隔字符串，默认为空格\n",
    "   unpack   ：表示读入的数据写入一个数组，默认为False；若为True，则读入属性将分别写入不同变量\n",
    "\n",
    "CSV文件的局限性\n",
    "\n",
    "   CSV文件只能存储一维和二维数据\n",
    "   即上述两个函数只适用于一维和二维数据的存储和读取\n",
    "'''"
   ]
  },
  {
   "cell_type": "code",
   "execution_count": 4,
   "metadata": {
    "collapsed": false
   },
   "outputs": [
    {
     "data": {
      "text/plain": [
       "'X:\\\\Users\\\\w\\\\Python学习笔记\\\\Python数据分析与展示\\\\第一周 数据分析之展示'"
      ]
     },
     "execution_count": 4,
     "metadata": {},
     "output_type": "execute_result"
    }
   ],
   "source": [
    "import os \n",
    "os.getcwd() # 查看当前的工作目录"
   ]
  },
  {
   "cell_type": "code",
   "execution_count": 15,
   "metadata": {
    "collapsed": false
   },
   "outputs": [],
   "source": [
    "import numpy as np\n",
    "x1 = np.arange(100).reshape((5,20))\n",
    "\n",
    "# 若未修改工作目录，则将生成的数组以x1为名称保存在默认目录下,\n",
    "# 也可以更改扩展名和分隔符保存为其他文件\n",
    "# fmt与字符串输入的格式一致\n",
    "np.savetxt('x1.csv', x1, fmt = '%d', delimiter = ',')"
   ]
  },
  {
   "cell_type": "code",
   "execution_count": 17,
   "metadata": {
    "collapsed": false
   },
   "outputs": [
    {
     "data": {
      "text/plain": [
       "array([[ 0, 20, 40, 60, 80],\n",
       "       [ 1, 21, 41, 61, 81],\n",
       "       [ 2, 22, 42, 62, 82],\n",
       "       [ 3, 23, 43, 63, 83],\n",
       "       [ 4, 24, 44, 64, 84],\n",
       "       [ 5, 25, 45, 65, 85],\n",
       "       [ 6, 26, 46, 66, 86],\n",
       "       [ 7, 27, 47, 67, 87],\n",
       "       [ 8, 28, 48, 68, 88],\n",
       "       [ 9, 29, 49, 69, 89],\n",
       "       [10, 30, 50, 70, 90],\n",
       "       [11, 31, 51, 71, 91],\n",
       "       [12, 32, 52, 72, 92],\n",
       "       [13, 33, 53, 73, 93],\n",
       "       [14, 34, 54, 74, 94],\n",
       "       [15, 35, 55, 75, 95],\n",
       "       [16, 36, 56, 76, 96],\n",
       "       [17, 37, 57, 77, 97],\n",
       "       [18, 38, 58, 78, 98],\n",
       "       [19, 39, 59, 79, 99]])"
      ]
     },
     "execution_count": 17,
     "metadata": {},
     "output_type": "execute_result"
    }
   ],
   "source": [
    "# dtype可指定读取的数据时整形还是浮点型等数据类型\n",
    "# unpack可将读入数据写入不同变量，即将每个维度相同索引值放在一起\n",
    "np.loadtxt('x1.csv', dtype = np.int, delimiter = ',', unpack = True)"
   ]
  },
  {
   "cell_type": "code",
   "execution_count": null,
   "metadata": {
    "collapsed": true
   },
   "outputs": [],
   "source": [
    "'''\n",
    "二、多维数据的存储和读取\n",
    "\n",
    "1、NumPy中ndarray数组可使用tofile函数写入数据\n",
    "\n",
    "   <数组>.tofile(frame, sep = '', format = '%s')\n",
    "   \n",
    "   该函数写入的数据并不包含任何维度信息，而是按照指定分隔符号将数据逐个列出\n",
    "   \n",
    "   参数意义：\n",
    "   \n",
    "   frame ：文件或字符串名称\n",
    "   sep   ：数据分隔字符串，如果为空串，即该参数不指定，写入文件为二进制\n",
    "   format：数据写入的格式\n",
    "   \n",
    "2、NumPy中ndarray数组可使用fromfile函数读取数据\n",
    "\n",
    "   np.fromfile(frame, dtype = np.float, count = -1, sep = ',')\n",
    "   \n",
    "   参数意义：\n",
    "   \n",
    "   frame：文件或字符串名称\n",
    "   dtype：指定读入数据的格式，默认为浮点数\n",
    "   count：读入元素的个数，默认为-1，表示读入整个文件，若只想读入部分数据，则需指定具体数值\n",
    "   sep  ：字符串分隔符号，若不指定，则写入文件为二进制\n",
    "   \n",
    "   注意：\n",
    "   \n",
    "   使用该方法读取数据时需要知道存入文件时数组的维度和元素类型\n",
    "'''"
   ]
  },
  {
   "cell_type": "code",
   "execution_count": 18,
   "metadata": {
    "collapsed": false,
    "scrolled": false
   },
   "outputs": [
    {
     "data": {
      "text/plain": [
       "array([[[ 0,  1],\n",
       "        [ 2,  3],\n",
       "        [ 4,  5],\n",
       "        [ 6,  7],\n",
       "        [ 8,  9],\n",
       "        [10, 11],\n",
       "        [12, 13],\n",
       "        [14, 15],\n",
       "        [16, 17],\n",
       "        [18, 19]],\n",
       "\n",
       "       [[20, 21],\n",
       "        [22, 23],\n",
       "        [24, 25],\n",
       "        [26, 27],\n",
       "        [28, 29],\n",
       "        [30, 31],\n",
       "        [32, 33],\n",
       "        [34, 35],\n",
       "        [36, 37],\n",
       "        [38, 39]],\n",
       "\n",
       "       [[40, 41],\n",
       "        [42, 43],\n",
       "        [44, 45],\n",
       "        [46, 47],\n",
       "        [48, 49],\n",
       "        [50, 51],\n",
       "        [52, 53],\n",
       "        [54, 55],\n",
       "        [56, 57],\n",
       "        [58, 59]],\n",
       "\n",
       "       [[60, 61],\n",
       "        [62, 63],\n",
       "        [64, 65],\n",
       "        [66, 67],\n",
       "        [68, 69],\n",
       "        [70, 71],\n",
       "        [72, 73],\n",
       "        [74, 75],\n",
       "        [76, 77],\n",
       "        [78, 79]],\n",
       "\n",
       "       [[80, 81],\n",
       "        [82, 83],\n",
       "        [84, 85],\n",
       "        [86, 87],\n",
       "        [88, 89],\n",
       "        [90, 91],\n",
       "        [92, 93],\n",
       "        [94, 95],\n",
       "        [96, 97],\n",
       "        [98, 99]]])"
      ]
     },
     "execution_count": 18,
     "metadata": {},
     "output_type": "execute_result"
    }
   ],
   "source": [
    "# 5表示最外层维度为5，,1表示最外层每个维度中有10个维度，2表示最内层每个维度间间隔为2\n",
    "x2 = np.arange(100).reshape(5,10,2) \n",
    "x2"
   ]
  },
  {
   "cell_type": "code",
   "execution_count": 20,
   "metadata": {
    "collapsed": true
   },
   "outputs": [],
   "source": [
    "# 若不指定sep，则写入的数据为二进制形式\n",
    "x2.tofile('x2.csv', sep = ',', format = '%d')"
   ]
  },
  {
   "cell_type": "code",
   "execution_count": 25,
   "metadata": {
    "collapsed": false
   },
   "outputs": [
    {
     "data": {
      "text/plain": [
       "array([ 0,  1,  2,  3,  4,  5,  6,  7,  8,  9, 10, 11, 12, 13, 14, 15, 16,\n",
       "       17, 18, 19, 20, 21, 22, 23, 24, 25, 26, 27, 28, 29, 30, 31, 32, 33,\n",
       "       34, 35, 36, 37, 38, 39, 40, 41, 42, 43, 44, 45, 46, 47, 48, 49, 50,\n",
       "       51, 52, 53, 54, 55, 56, 57, 58, 59, 60, 61, 62, 63, 64, 65, 66, 67,\n",
       "       68, 69, 70, 71, 72, 73, 74, 75, 76, 77, 78, 79, 80, 81, 82, 83, 84,\n",
       "       85, 86, 87, 88, 89, 90, 91, 92, 93, 94, 95, 96, 97, 98, 99])"
      ]
     },
     "execution_count": 25,
     "metadata": {},
     "output_type": "execute_result"
    }
   ],
   "source": [
    "x3 = np.fromfile('x2.csv', sep = ',', count = -1, dtype = np.int)\n",
    "x3 # 此时读入的数据并没有任何的维度信息"
   ]
  },
  {
   "cell_type": "code",
   "execution_count": 26,
   "metadata": {
    "collapsed": false
   },
   "outputs": [
    {
     "data": {
      "text/plain": [
       "array([[[ 0,  1],\n",
       "        [ 2,  3],\n",
       "        [ 4,  5],\n",
       "        [ 6,  7],\n",
       "        [ 8,  9],\n",
       "        [10, 11],\n",
       "        [12, 13],\n",
       "        [14, 15],\n",
       "        [16, 17],\n",
       "        [18, 19]],\n",
       "\n",
       "       [[20, 21],\n",
       "        [22, 23],\n",
       "        [24, 25],\n",
       "        [26, 27],\n",
       "        [28, 29],\n",
       "        [30, 31],\n",
       "        [32, 33],\n",
       "        [34, 35],\n",
       "        [36, 37],\n",
       "        [38, 39]],\n",
       "\n",
       "       [[40, 41],\n",
       "        [42, 43],\n",
       "        [44, 45],\n",
       "        [46, 47],\n",
       "        [48, 49],\n",
       "        [50, 51],\n",
       "        [52, 53],\n",
       "        [54, 55],\n",
       "        [56, 57],\n",
       "        [58, 59]],\n",
       "\n",
       "       [[60, 61],\n",
       "        [62, 63],\n",
       "        [64, 65],\n",
       "        [66, 67],\n",
       "        [68, 69],\n",
       "        [70, 71],\n",
       "        [72, 73],\n",
       "        [74, 75],\n",
       "        [76, 77],\n",
       "        [78, 79]],\n",
       "\n",
       "       [[80, 81],\n",
       "        [82, 83],\n",
       "        [84, 85],\n",
       "        [86, 87],\n",
       "        [88, 89],\n",
       "        [90, 91],\n",
       "        [92, 93],\n",
       "        [94, 95],\n",
       "        [96, 97],\n",
       "        [98, 99]]])"
      ]
     },
     "execution_count": 26,
     "metadata": {},
     "output_type": "execute_result"
    }
   ],
   "source": [
    "x3.reshape(5,10,2)"
   ]
  },
  {
   "cell_type": "code",
   "execution_count": null,
   "metadata": {
    "collapsed": true
   },
   "outputs": [],
   "source": [
    "'''\n",
    "三、NumPy的便捷数据存储和读取\n",
    "\n",
    "1、NumPy便捷数据存储\n",
    "\n",
    "   np.save(frame, array) # 以文件形式存储\n",
    "    \n",
    "   np.savez(frame, array) # 以文件压缩的格式存储\n",
    "   \n",
    "   该函数只能按照NumPy指定的格式存储数据\n",
    "   \n",
    "   参数意义：\n",
    "   \n",
    "   fname：文件名称，扩展名为.npy，压缩文件的扩展名为.npz\n",
    "   array：数组变量\n",
    "    \n",
    "2、NumPy便捷数据读取\n",
    "\n",
    "   np.load(fname)\n",
    "'''"
   ]
  },
  {
   "cell_type": "code",
   "execution_count": 32,
   "metadata": {
    "collapsed": true
   },
   "outputs": [],
   "source": [
    "np.save('x21.npy', x2)"
   ]
  },
  {
   "cell_type": "code",
   "execution_count": 33,
   "metadata": {
    "collapsed": false
   },
   "outputs": [
    {
     "data": {
      "text/plain": [
       "array([[[ 0,  1],\n",
       "        [ 2,  3],\n",
       "        [ 4,  5],\n",
       "        [ 6,  7],\n",
       "        [ 8,  9],\n",
       "        [10, 11],\n",
       "        [12, 13],\n",
       "        [14, 15],\n",
       "        [16, 17],\n",
       "        [18, 19]],\n",
       "\n",
       "       [[20, 21],\n",
       "        [22, 23],\n",
       "        [24, 25],\n",
       "        [26, 27],\n",
       "        [28, 29],\n",
       "        [30, 31],\n",
       "        [32, 33],\n",
       "        [34, 35],\n",
       "        [36, 37],\n",
       "        [38, 39]],\n",
       "\n",
       "       [[40, 41],\n",
       "        [42, 43],\n",
       "        [44, 45],\n",
       "        [46, 47],\n",
       "        [48, 49],\n",
       "        [50, 51],\n",
       "        [52, 53],\n",
       "        [54, 55],\n",
       "        [56, 57],\n",
       "        [58, 59]],\n",
       "\n",
       "       [[60, 61],\n",
       "        [62, 63],\n",
       "        [64, 65],\n",
       "        [66, 67],\n",
       "        [68, 69],\n",
       "        [70, 71],\n",
       "        [72, 73],\n",
       "        [74, 75],\n",
       "        [76, 77],\n",
       "        [78, 79]],\n",
       "\n",
       "       [[80, 81],\n",
       "        [82, 83],\n",
       "        [84, 85],\n",
       "        [86, 87],\n",
       "        [88, 89],\n",
       "        [90, 91],\n",
       "        [92, 93],\n",
       "        [94, 95],\n",
       "        [96, 97],\n",
       "        [98, 99]]])"
      ]
     },
     "execution_count": 33,
     "metadata": {},
     "output_type": "execute_result"
    }
   ],
   "source": [
    "np.load('x21.npy')"
   ]
  }
 ],
 "metadata": {
  "kernelspec": {
   "display_name": "Python 3",
   "language": "python",
   "name": "python3"
  },
  "language_info": {
   "codemirror_mode": {
    "name": "ipython",
    "version": 3
   },
   "file_extension": ".py",
   "mimetype": "text/x-python",
   "name": "python",
   "nbconvert_exporter": "python",
   "pygments_lexer": "ipython3",
   "version": "3.6.0"
  }
 },
 "nbformat": 4,
 "nbformat_minor": 2
}
