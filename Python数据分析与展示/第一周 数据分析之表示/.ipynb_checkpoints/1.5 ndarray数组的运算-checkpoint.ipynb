{
 "cells": [
  {
   "cell_type": "code",
   "execution_count": null,
   "metadata": {
    "collapsed": true
   },
   "outputs": [],
   "source": [
    "'''\n",
    "ndarray数组的运算\n",
    "\n",
    "1、针对数组中元素运算的函数\n",
    "\n",
    "   函数                               说明\n",
    "   \n",
    "   （数组中的一元函数 — 一个数组内部的计算）\n",
    "   np.abs(x) np.fabs(x)               计算数组中各元素的绝对值\n",
    "   np.sqrt(x)                         计算数组中各元素的平方根\n",
    "   np.square(x)                       计算数组中各元素的平方\n",
    "   np.log(x) np.log10(x) np.log2(x)   计算数组中各元素的自然对数、10底对数和2底对数\n",
    "   np.ceil(x) np.floor(x)             计算数组中各元素的ceiling值（不小于元素的最小整数值）\n",
    "                                                          floor值（不大于元素的最大整数值）\n",
    "   np.rint(x)                         计算数组元素的四舍五入值\n",
    "   np.modf(x)                         将数组各元素的小数和整数部分以两个独立数组形式返回\n",
    "   np.cos(x) np.cosh(x)               计算数组各元素的普通型和双曲型三角函数\n",
    "   np.sin(x) np.sinh(x)\n",
    "   np.tan(x) np.tanh(x)\n",
    "   np.exp(x)                          计算数组各元素的指数值\n",
    "   np.sign(x)                         计算数组各元素的符号值，1(+)、0、-1(-)\n",
    "   \n",
    "   （数组中的二元函数 — 即两个数组之间的计算）\n",
    "   +、-、*、/、**                     两个数组各元素进行对应的数学运算\n",
    "   np.maximum(x,y)、np.fmax()         元素级的最大值、最小值计算  \n",
    "   np.minimun(x,y)、np.fmin()          \n",
    "   np.mod(x,y)                        元素级的模运算\n",
    "   np.copysign(x,y)                   将数组y中各元素值的符号赋值给数组x对应元素\n",
    "   >、<、>=、<=、==、!=               算术比较，产生布尔型数组\n",
    "'''"
   ]
  },
  {
   "cell_type": "code",
   "execution_count": null,
   "metadata": {
    "collapsed": true
   },
   "outputs": [],
   "source": [
    "'''\n",
    "1、与标量（即只有一个数据）之间的运算\n",
    "\n",
    "   即数组中每一个数与该标量进行运算\n",
    "'''"
   ]
  },
  {
   "cell_type": "code",
   "execution_count": 3,
   "metadata": {
    "collapsed": false
   },
   "outputs": [
    {
     "data": {
      "text/plain": [
       "array([[[ 0,  1,  2,  3],\n",
       "        [ 4,  5,  6,  7],\n",
       "        [ 8,  9, 10, 11]],\n",
       "\n",
       "       [[12, 13, 14, 15],\n",
       "        [16, 17, 18, 19],\n",
       "        [20, 21, 22, 23]]])"
      ]
     },
     "execution_count": 3,
     "metadata": {},
     "output_type": "execute_result"
    }
   ],
   "source": [
    "import numpy as np\n",
    "x1 = np.arange(24).reshape((2,3,4))\n",
    "x1"
   ]
  },
  {
   "cell_type": "code",
   "execution_count": 4,
   "metadata": {
    "collapsed": false
   },
   "outputs": [
    {
     "data": {
      "text/plain": [
       "11.5"
      ]
     },
     "execution_count": 4,
     "metadata": {},
     "output_type": "execute_result"
    }
   ],
   "source": [
    "x1.mean() # 数组中所有元素的均值"
   ]
  },
  {
   "cell_type": "code",
   "execution_count": 9,
   "metadata": {
    "collapsed": false
   },
   "outputs": [
    {
     "data": {
      "text/plain": [
       "array([[[ 0.        ,  0.08695652,  0.17391304,  0.26086957],\n",
       "        [ 0.34782609,  0.43478261,  0.52173913,  0.60869565],\n",
       "        [ 0.69565217,  0.7826087 ,  0.86956522,  0.95652174]],\n",
       "\n",
       "       [[ 1.04347826,  1.13043478,  1.2173913 ,  1.30434783],\n",
       "        [ 1.39130435,  1.47826087,  1.56521739,  1.65217391],\n",
       "        [ 1.73913043,  1.82608696,  1.91304348,  2.        ]]])"
      ]
     },
     "execution_count": 9,
     "metadata": {},
     "output_type": "execute_result"
    }
   ],
   "source": [
    "x1 / x1.mean()"
   ]
  },
  {
   "cell_type": "code",
   "execution_count": 10,
   "metadata": {
    "collapsed": false
   },
   "outputs": [
    {
     "data": {
      "text/plain": [
       "array([[[ 0.,  1.,  1.,  1.],\n",
       "        [ 1.,  1.,  1.,  1.],\n",
       "        [ 1.,  1.,  1.,  1.]],\n",
       "\n",
       "       [[ 2.,  2.,  2.,  2.],\n",
       "        [ 2.,  2.,  2.,  2.],\n",
       "        [ 2.,  2.,  2.,  2.]]])"
      ]
     },
     "execution_count": 10,
     "metadata": {},
     "output_type": "execute_result"
    }
   ],
   "source": [
    "np.ceil(x1 / x1.mean())"
   ]
  },
  {
   "cell_type": "code",
   "execution_count": 8,
   "metadata": {
    "collapsed": false
   },
   "outputs": [
    {
     "data": {
      "text/plain": [
       "array([[[ 0.,  0.,  0.,  0.],\n",
       "        [ 0.,  0.,  0.,  0.],\n",
       "        [ 0.,  0.,  0.,  0.]],\n",
       "\n",
       "       [[ 1.,  1.,  1.,  1.],\n",
       "        [ 1.,  1.,  1.,  1.],\n",
       "        [ 1.,  1.,  1.,  2.]]])"
      ]
     },
     "execution_count": 8,
     "metadata": {},
     "output_type": "execute_result"
    }
   ],
   "source": [
    "np.floor(x1 / x1.mean()) # 数组中每一个元素与均值进行计算"
   ]
  },
  {
   "cell_type": "code",
   "execution_count": 11,
   "metadata": {
    "collapsed": false
   },
   "outputs": [
    {
     "data": {
      "text/plain": [
       "array([[[  0,   1,   4,   9],\n",
       "        [ 16,  25,  36,  49],\n",
       "        [ 64,  81, 100, 121]],\n",
       "\n",
       "       [[144, 169, 196, 225],\n",
       "        [256, 289, 324, 361],\n",
       "        [400, 441, 484, 529]]], dtype=int32)"
      ]
     },
     "execution_count": 11,
     "metadata": {},
     "output_type": "execute_result"
    }
   ],
   "source": [
    "np.square(x1)"
   ]
  },
  {
   "cell_type": "code",
   "execution_count": 16,
   "metadata": {
    "collapsed": false
   },
   "outputs": [
    {
     "data": {
      "text/plain": [
       "array([[[ 0.        ,  1.        ,  1.41421356,  1.73205081],\n",
       "        [ 2.        ,  2.23606798,  2.44948974,  2.64575131],\n",
       "        [ 2.82842712,  3.        ,  3.16227766,  3.31662479]],\n",
       "\n",
       "       [[ 3.46410162,  3.60555128,  3.74165739,  3.87298335],\n",
       "        [ 4.        ,  4.12310563,  4.24264069,  4.35889894],\n",
       "        [ 4.47213595,  4.58257569,  4.69041576,  4.79583152]]])"
      ]
     },
     "execution_count": 16,
     "metadata": {},
     "output_type": "execute_result"
    }
   ],
   "source": [
    "x2 = np.sqrt(x1) # 并未对原数组进行改变，而是生成一个新的数组对象\n",
    "x2"
   ]
  },
  {
   "cell_type": "code",
   "execution_count": 13,
   "metadata": {
    "collapsed": false
   },
   "outputs": [
    {
     "name": "stderr",
     "output_type": "stream",
     "text": [
      "D:\\Anaconda\\1\\lib\\site-packages\\ipykernel\\__main__.py:1: RuntimeWarning: divide by zero encountered in log\n",
      "  if __name__ == '__main__':\n"
     ]
    },
    {
     "data": {
      "text/plain": [
       "array([[[       -inf,  0.        ,  0.69314718,  1.09861229],\n",
       "        [ 1.38629436,  1.60943791,  1.79175947,  1.94591015],\n",
       "        [ 2.07944154,  2.19722458,  2.30258509,  2.39789527]],\n",
       "\n",
       "       [[ 2.48490665,  2.56494936,  2.63905733,  2.7080502 ],\n",
       "        [ 2.77258872,  2.83321334,  2.89037176,  2.94443898],\n",
       "        [ 2.99573227,  3.04452244,  3.09104245,  3.13549422]]])"
      ]
     },
     "execution_count": 13,
     "metadata": {},
     "output_type": "execute_result"
    }
   ],
   "source": [
    "np.log(x1) # 由于x1数组中含有零，故取对数时零处对数趋于负无穷"
   ]
  },
  {
   "cell_type": "code",
   "execution_count": 17,
   "metadata": {
    "collapsed": false
   },
   "outputs": [
    {
     "data": {
      "text/plain": [
       "(array([[[ 0.        ,  0.        ,  0.41421356,  0.73205081],\n",
       "         [ 0.        ,  0.23606798,  0.44948974,  0.64575131],\n",
       "         [ 0.82842712,  0.        ,  0.16227766,  0.31662479]],\n",
       " \n",
       "        [[ 0.46410162,  0.60555128,  0.74165739,  0.87298335],\n",
       "         [ 0.        ,  0.12310563,  0.24264069,  0.35889894],\n",
       "         [ 0.47213595,  0.58257569,  0.69041576,  0.79583152]]]),\n",
       " array([[[ 0.,  1.,  1.,  1.],\n",
       "         [ 2.,  2.,  2.,  2.],\n",
       "         [ 2.,  3.,  3.,  3.]],\n",
       " \n",
       "        [[ 3.,  3.,  3.,  3.],\n",
       "         [ 4.,  4.,  4.,  4.],\n",
       "         [ 4.,  4.,  4.,  4.]]]))"
      ]
     },
     "execution_count": 17,
     "metadata": {},
     "output_type": "execute_result"
    }
   ],
   "source": [
    "np.modf(x2) # 将原数组的整数和小数部分分别形成两个新的数组"
   ]
  },
  {
   "cell_type": "code",
   "execution_count": 18,
   "metadata": {
    "collapsed": false
   },
   "outputs": [
    {
     "data": {
      "text/plain": [
       "array([[[ 1.        ,  0.54030231, -0.41614684, -0.9899925 ],\n",
       "        [-0.65364362,  0.28366219,  0.96017029,  0.75390225],\n",
       "        [-0.14550003, -0.91113026, -0.83907153,  0.0044257 ]],\n",
       "\n",
       "       [[ 0.84385396,  0.90744678,  0.13673722, -0.75968791],\n",
       "        [-0.95765948, -0.27516334,  0.66031671,  0.98870462],\n",
       "        [ 0.40808206, -0.54772926, -0.99996083, -0.53283302]]])"
      ]
     },
     "execution_count": 18,
     "metadata": {},
     "output_type": "execute_result"
    }
   ],
   "source": [
    "np.cos(x1)"
   ]
  },
  {
   "cell_type": "code",
   "execution_count": 50,
   "metadata": {
    "collapsed": false
   },
   "outputs": [
    {
     "name": "stdout",
     "output_type": "stream",
     "text": [
      "[[[0 1]\n",
      "  [2 3]]\n",
      "\n",
      " [[4 5]\n",
      "  [6 7]]]\n",
      " ---- \n",
      "[[[1 2]\n",
      "  [3 4]]\n",
      "\n",
      " [[5 6]\n",
      "  [7 8]]]\n"
     ]
    }
   ],
   "source": [
    "x3 = np.arange(8).reshape((2,2,2))\n",
    "x4 = np.arange(1,9).reshape((2,2,2))\n",
    "print(x3,x4,sep = '\\n ---- \\n')"
   ]
  },
  {
   "cell_type": "code",
   "execution_count": 51,
   "metadata": {
    "collapsed": false
   },
   "outputs": [
    {
     "data": {
      "text/plain": [
       "array([[[      0,       1],\n",
       "        [      8,      81]],\n",
       "\n",
       "       [[   1024,   15625],\n",
       "        [ 279936, 5764801]]], dtype=int32)"
      ]
     },
     "execution_count": 51,
     "metadata": {},
     "output_type": "execute_result"
    }
   ],
   "source": [
    "x3 ** x4"
   ]
  },
  {
   "cell_type": "code",
   "execution_count": 54,
   "metadata": {
    "collapsed": false
   },
   "outputs": [
    {
     "data": {
      "text/plain": [
       "array([[[1, 2],\n",
       "        [3, 4]],\n",
       "\n",
       "       [[5, 6],\n",
       "        [7, 8]]])"
      ]
     },
     "execution_count": 54,
     "metadata": {},
     "output_type": "execute_result"
    }
   ],
   "source": [
    "np.fmax(x3,x4)"
   ]
  },
  {
   "cell_type": "code",
   "execution_count": 56,
   "metadata": {
    "collapsed": false
   },
   "outputs": [
    {
     "data": {
      "text/plain": [
       "array([[[0, 1],\n",
       "        [2, 3]],\n",
       "\n",
       "       [[4, 5],\n",
       "        [6, 7]]], dtype=int32)"
      ]
     },
     "execution_count": 56,
     "metadata": {},
     "output_type": "execute_result"
    }
   ],
   "source": [
    "np.mod(x3,x4) # 求模，即余数"
   ]
  },
  {
   "cell_type": "code",
   "execution_count": 57,
   "metadata": {
    "collapsed": false
   },
   "outputs": [
    {
     "data": {
      "text/plain": [
       "array([[[False, False],\n",
       "        [False, False]],\n",
       "\n",
       "       [[False, False],\n",
       "        [False, False]]], dtype=bool)"
      ]
     },
     "execution_count": 57,
     "metadata": {},
     "output_type": "execute_result"
    }
   ],
   "source": [
    "x3 == x4"
   ]
  }
 ],
 "metadata": {
  "kernelspec": {
   "display_name": "Python 3",
   "language": "python",
   "name": "python3"
  },
  "language_info": {
   "codemirror_mode": {
    "name": "ipython",
    "version": 3
   },
   "file_extension": ".py",
   "mimetype": "text/x-python",
   "name": "python",
   "nbconvert_exporter": "python",
   "pygments_lexer": "ipython3",
   "version": "3.6.0"
  }
 },
 "nbformat": 4,
 "nbformat_minor": 2
}
