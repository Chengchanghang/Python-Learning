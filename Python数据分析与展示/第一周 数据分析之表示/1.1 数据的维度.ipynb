{
 "cells": [
  {
   "cell_type": "markdown",
   "metadata": {
    "collapsed": true
   },
   "source": [
    "一、数据的维度\n",
    "\n",
    "　1、维度：一组数据的组织形式\n",
    "\n",
    "　2、一维数据：由对等关系的有序或无序数据构成，采用线性方式组织。\n",
    "\n",
    "　　可使用列表（有序，可重复）、集合（无序，不可重复）\n",
    "\n",
    "　3、二维数据：由多个一维数据构成，是一维数据的组合形式。\n",
    "\n",
    "　　使用列表进行表示，其列表中的元素也是列表\n",
    "\n",
    "　4、多维数据：由一维或二维数据在新维度上扩展形成。\n",
    "\n",
    "　　使用列表进行表示，其列表中的元素也是列表\n",
    "\n",
    "　5、高维数据：仅使用最基本的二元关系展示数据间的复杂结构。即由键值对形式将数据组织起来。\n",
    "\n",
    "　　使用字典类型（键值对）、数据表示格式（JSON、XML、YAML）进行表示\n",
    "\n",
    "二、列表与数组的比较\n",
    "\n",
    "　1、均表示一组数据的有序结构\n",
    "\n",
    "　2、列表中数据类型可以不同；数组中数据类型必须相同"
   ]
  }
 ],
 "metadata": {
  "kernelspec": {
   "display_name": "Python 3",
   "language": "python",
   "name": "python3"
  },
  "language_info": {
   "codemirror_mode": {
    "name": "ipython",
    "version": 3
   },
   "file_extension": ".py",
   "mimetype": "text/x-python",
   "name": "python",
   "nbconvert_exporter": "python",
   "pygments_lexer": "ipython3",
   "version": "3.6.0"
  }
 },
 "nbformat": 4,
 "nbformat_minor": 2
}
