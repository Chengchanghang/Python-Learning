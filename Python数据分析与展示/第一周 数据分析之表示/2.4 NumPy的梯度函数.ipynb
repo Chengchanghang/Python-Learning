{
 "cells": [
  {
   "cell_type": "code",
   "execution_count": null,
   "metadata": {
    "collapsed": true
   },
   "outputs": [],
   "source": [
    "'''\n",
    "NumPy的梯度函数\n",
    "\n",
    "   np.gradient(f)  计算数组f中元素的梯度，当f为多维时，返回每个维度上每个元素对应的梯度\n",
    "\n",
    "   梯度：连续值之间的变化率，即斜率。\n",
    "   \n",
    "       反映元素的变化率，尤其是在进行图像、声音等批量数据处理时，梯度可发现变化不是很平缓的位置\n",
    "   \n",
    "       第i个值的梯度为[Y(i+1) - Y(i-1)] / [X(i+1) - X(i-1)]，即i+1、i-1对应的Y值差与距离（X值差）比值\n",
    "       \n",
    "       例：XY坐标轴连续三个X坐标对应的Y轴值：a、b、c，则b的梯度为：（c-a）/2      \n",
    "'''"
   ]
  },
  {
   "cell_type": "code",
   "execution_count": 1,
   "metadata": {
    "collapsed": true
   },
   "outputs": [],
   "source": [
    "import numpy as np"
   ]
  },
  {
   "cell_type": "code",
   "execution_count": 3,
   "metadata": {
    "collapsed": false
   },
   "outputs": [
    {
     "data": {
      "text/plain": [
       "array([ 3, 19, 17, 17,  2])"
      ]
     },
     "execution_count": 3,
     "metadata": {},
     "output_type": "execute_result"
    }
   ],
   "source": [
    "# 随机生成0-20之间的5个数\n",
    "x1 = np.random.randint(0, 20, 5)\n",
    "x1"
   ]
  },
  {
   "cell_type": "code",
   "execution_count": 6,
   "metadata": {
    "collapsed": false
   },
   "outputs": [
    {
     "data": {
      "text/plain": [
       "array([ 16. ,   7. ,  -1. ,  -7.5, -15. ])"
      ]
     },
     "execution_count": 6,
     "metadata": {},
     "output_type": "execute_result"
    }
   ],
   "source": [
    "# 16 = (19-3)/1，7 = (17-3)/2\n",
    "np.gradient(x1)"
   ]
  },
  {
   "cell_type": "code",
   "execution_count": 7,
   "metadata": {
    "collapsed": false
   },
   "outputs": [
    {
     "data": {
      "text/plain": [
       "array([[43, 23, 28,  9,  3],\n",
       "       [ 5, 27, 17, 22,  1],\n",
       "       [20, 49,  7, 16, 15]])"
      ]
     },
     "execution_count": 7,
     "metadata": {},
     "output_type": "execute_result"
    }
   ],
   "source": [
    "x2 = np.random.randint(0,50,(3,5))\n",
    "x2"
   ]
  },
  {
   "cell_type": "code",
   "execution_count": 8,
   "metadata": {
    "collapsed": false
   },
   "outputs": [
    {
     "data": {
      "text/plain": [
       "[array([[-38. ,   4. , -11. ,  13. ,  -2. ],\n",
       "        [-11.5,  13. , -10.5,   3.5,   6. ],\n",
       "        [ 15. ,  22. , -10. ,  -6. ,  14. ]]),\n",
       " array([[-20. ,  -7.5,  -7. , -12.5,  -6. ],\n",
       "        [ 22. ,   6. ,  -2.5,  -8. , -21. ],\n",
       "        [ 29. ,  -6.5, -16.5,   4. ,  -1. ]])]"
      ]
     },
     "execution_count": 8,
     "metadata": {},
     "output_type": "execute_result"
    }
   ],
   "source": [
    "# 对于多维数组，由于每个元素均有两个维度值（横、纵），故梯度值也有两个\n",
    "# 以下返回的结果，上边的是按照纵轴（即最外层维度）计算的梯度值，下边的是按照横轴（第二层）计算的梯度值\n",
    "np.gradient(x2)"
   ]
  }
 ],
 "metadata": {
  "kernelspec": {
   "display_name": "Python 3",
   "language": "python",
   "name": "python3"
  },
  "language_info": {
   "codemirror_mode": {
    "name": "ipython",
    "version": 3
   },
   "file_extension": ".py",
   "mimetype": "text/x-python",
   "name": "python",
   "nbconvert_exporter": "python",
   "pygments_lexer": "ipython3",
   "version": "3.6.0"
  }
 },
 "nbformat": 4,
 "nbformat_minor": 2
}
